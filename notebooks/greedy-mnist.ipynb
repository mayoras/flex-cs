{
  "nbformat": 4,
  "nbformat_minor": 0,
  "metadata": {
    "colab": {
      "provenance": []
    },
    "kernelspec": {
      "name": "python3",
      "display_name": "Python 3"
    },
    "language_info": {
      "name": "python"
    }
  },
  "cells": [
    {
      "cell_type": "markdown",
      "source": [
        "# Selección de clientes con Active Federated Learning - MNIST\n",
        "\n",
        "En este notebook vamos a utilizar nuestro modelo de entrenamiento en Aprendizaje Federado utilizando AFL como algoritmo de selección de clientes [1] sobre el dataset de MNIST, que es un conjunto de imágenes de dígitos manuscritos del 0 al 9 [2]. Se trata de un problema de visión por computador al que usaremos para comparar el rendimiento del método de selección AFL frente al convencional.\n",
        "\n",
        "> [1] https://arxiv.org/abs/1909.12641.\n",
        ">\n",
        "> [2] http://yann.lecun.com/exdb/mnist."
      ],
      "metadata": {
        "id": "QzFVvanFrrwe"
      }
    },
    {
      "cell_type": "code",
      "execution_count": null,
      "metadata": {
        "colab": {
          "base_uri": "https://localhost:8080/"
        },
        "id": "O4BfI6bDrg3o",
        "outputId": "0f6eeef3-59ba-4c9b-9e1c-7733a1a152e7"
      },
      "outputs": [
        {
          "output_type": "stream",
          "name": "stdout",
          "text": [
            "FLEXible is not installed.\n",
            "Installing dependency flexible-fl...\n",
            "Collecting flexible-fl\n",
            "  Downloading flexible_fl-0.6.1-py3-none-any.whl (85 kB)\n",
            "\u001b[2K     \u001b[90m━━━━━━━━━━━━━━━━━━━━━━━━━━━━━━━━━━━━━━━━\u001b[0m \u001b[32m85.8/85.8 kB\u001b[0m \u001b[31m1.9 MB/s\u001b[0m eta \u001b[36m0:00:00\u001b[0m\n",
            "\u001b[?25hRequirement already satisfied: numpy in /usr/local/lib/python3.10/dist-packages (from flexible-fl) (1.25.2)\n",
            "Collecting multiprocess (from flexible-fl)\n",
            "  Downloading multiprocess-0.70.16-py310-none-any.whl (134 kB)\n",
            "\u001b[2K     \u001b[90m━━━━━━━━━━━━━━━━━━━━━━━━━━━━━━━━━━━━━━━━\u001b[0m \u001b[32m134.8/134.8 kB\u001b[0m \u001b[31m6.7 MB/s\u001b[0m eta \u001b[36m0:00:00\u001b[0m\n",
            "\u001b[?25hRequirement already satisfied: scikit-learn in /usr/local/lib/python3.10/dist-packages (from flexible-fl) (1.2.2)\n",
            "Collecting cardinality (from flexible-fl)\n",
            "  Downloading cardinality-0.1.1.tar.gz (2.3 kB)\n",
            "  Preparing metadata (setup.py) ... \u001b[?25l\u001b[?25hdone\n",
            "Collecting sultan (from flexible-fl)\n",
            "  Downloading sultan-0.9.1-py3-none-any.whl (16 kB)\n",
            "Requirement already satisfied: tqdm in /usr/local/lib/python3.10/dist-packages (from flexible-fl) (4.66.4)\n",
            "Requirement already satisfied: scipy in /usr/local/lib/python3.10/dist-packages (from flexible-fl) (1.11.4)\n",
            "Requirement already satisfied: gdown in /usr/local/lib/python3.10/dist-packages (from flexible-fl) (5.1.0)\n",
            "Collecting tensorly (from flexible-fl)\n",
            "  Downloading tensorly-0.8.1-py3-none-any.whl (229 kB)\n",
            "\u001b[2K     \u001b[90m━━━━━━━━━━━━━━━━━━━━━━━━━━━━━━━━━━━━━━━━\u001b[0m \u001b[32m229.7/229.7 kB\u001b[0m \u001b[31m15.4 MB/s\u001b[0m eta \u001b[36m0:00:00\u001b[0m\n",
            "\u001b[?25hRequirement already satisfied: beautifulsoup4 in /usr/local/lib/python3.10/dist-packages (from gdown->flexible-fl) (4.12.3)\n",
            "Requirement already satisfied: filelock in /usr/local/lib/python3.10/dist-packages (from gdown->flexible-fl) (3.15.3)\n",
            "Requirement already satisfied: requests[socks] in /usr/local/lib/python3.10/dist-packages (from gdown->flexible-fl) (2.31.0)\n",
            "Collecting dill>=0.3.8 (from multiprocess->flexible-fl)\n",
            "  Downloading dill-0.3.8-py3-none-any.whl (116 kB)\n",
            "\u001b[2K     \u001b[90m━━━━━━━━━━━━━━━━━━━━━━━━━━━━━━━━━━━━━━━━\u001b[0m \u001b[32m116.3/116.3 kB\u001b[0m \u001b[31m6.5 MB/s\u001b[0m eta \u001b[36m0:00:00\u001b[0m\n",
            "\u001b[?25hRequirement already satisfied: joblib>=1.1.1 in /usr/local/lib/python3.10/dist-packages (from scikit-learn->flexible-fl) (1.4.2)\n",
            "Requirement already satisfied: threadpoolctl>=2.0.0 in /usr/local/lib/python3.10/dist-packages (from scikit-learn->flexible-fl) (3.5.0)\n",
            "Requirement already satisfied: soupsieve>1.2 in /usr/local/lib/python3.10/dist-packages (from beautifulsoup4->gdown->flexible-fl) (2.5)\n",
            "Requirement already satisfied: charset-normalizer<4,>=2 in /usr/local/lib/python3.10/dist-packages (from requests[socks]->gdown->flexible-fl) (3.3.2)\n",
            "Requirement already satisfied: idna<4,>=2.5 in /usr/local/lib/python3.10/dist-packages (from requests[socks]->gdown->flexible-fl) (3.7)\n",
            "Requirement already satisfied: urllib3<3,>=1.21.1 in /usr/local/lib/python3.10/dist-packages (from requests[socks]->gdown->flexible-fl) (2.0.7)\n",
            "Requirement already satisfied: certifi>=2017.4.17 in /usr/local/lib/python3.10/dist-packages (from requests[socks]->gdown->flexible-fl) (2024.6.2)\n",
            "Requirement already satisfied: PySocks!=1.5.7,>=1.5.6 in /usr/local/lib/python3.10/dist-packages (from requests[socks]->gdown->flexible-fl) (1.7.1)\n",
            "Building wheels for collected packages: cardinality\n",
            "  Building wheel for cardinality (setup.py) ... \u001b[?25l\u001b[?25hdone\n",
            "  Created wheel for cardinality: filename=cardinality-0.1.1-py3-none-any.whl size=2587 sha256=d97208023c7a8dba4a122fc17ae779f38b7a52859e00af522e6e4f7981cb9116\n",
            "  Stored in directory: /root/.cache/pip/wheels/b8/19/d1/2665c004b583a7d1880fa59055a3e462d6e35841a01b57010b\n",
            "Successfully built cardinality\n",
            "Installing collected packages: sultan, cardinality, dill, tensorly, multiprocess, flexible-fl\n",
            "Successfully installed cardinality-0.1.1 dill-0.3.8 flexible-fl-0.6.1 multiprocess-0.70.16 sultan-0.9.1 tensorly-0.8.1\n"
          ]
        }
      ],
      "source": [
        "# install FLEXible framework if not installed\n",
        "try:\n",
        "    import flex\n",
        "    print(\"FLEXible is installed.\")\n",
        "except:\n",
        "    print(\"FLEXible is not installed.\\nInstalling dependency flexible-fl...\")\n",
        "    !pip install flexible-fl"
      ]
    },
    {
      "cell_type": "code",
      "source": [
        "import matplotlib.pyplot as plt\n",
        "\n",
        "def plot_loss_accuracy(loss, accuracy):\n",
        "    # Example data\n",
        "    epochs = range(1, len(loss) + 1)\n",
        "\n",
        "    # Plot loss\n",
        "    plt.figure(figsize=(12, 5))\n",
        "\n",
        "    plt.subplot(1, 2, 1)\n",
        "    plt.plot(epochs, loss, 'b', label='Loss')\n",
        "    plt.title('Loss over Epochs')\n",
        "    plt.xlabel('Epochs')\n",
        "    plt.ylabel('Loss')\n",
        "    plt.legend()\n",
        "\n",
        "    # Plot accuracy\n",
        "    plt.subplot(1, 2, 2)\n",
        "    plt.plot(epochs, accuracy, 'g', label='Accuracy')\n",
        "    plt.title('Accuracy over Epochs')\n",
        "    plt.xlabel('Epochs')\n",
        "    plt.ylabel('Accuracy')\n",
        "    plt.legend()\n",
        "\n",
        "    # Show the plots\n",
        "    plt.tight_layout()\n",
        "    plt.show()"
      ],
      "metadata": {
        "id": "-31n0URu8tVs"
      },
      "execution_count": null,
      "outputs": []
    },
    {
      "cell_type": "code",
      "source": [
        "import torch\n",
        "\n",
        "# select device\n",
        "device = (\n",
        "    \"cuda\"\n",
        "    if torch.cuda.is_available()\n",
        "    else \"mps\" if torch.backends.mps.is_available() else \"cpu\"\n",
        ")\n",
        "device"
      ],
      "metadata": {
        "colab": {
          "base_uri": "https://localhost:8080/",
          "height": 35
        },
        "id": "5jdIu00Ftc1u",
        "outputId": "5df8da6e-5d43-4b26-c3be-9315346e282d"
      },
      "execution_count": null,
      "outputs": [
        {
          "output_type": "execute_result",
          "data": {
            "text/plain": [
              "'cpu'"
            ],
            "application/vnd.google.colaboratory.intrinsic+json": {
              "type": "string"
            }
          },
          "metadata": {},
          "execution_count": 3
        }
      ]
    },
    {
      "cell_type": "code",
      "source": [
        "from flex.datasets import load\n",
        "from torchvision import transforms\n",
        "\n",
        "flex_dataset, test_data = load(\"federated_emnist\", return_test=True, split=\"digits\")\n",
        "\n",
        "# Assign test data to server_id\n",
        "server_id = \"server\"\n",
        "flex_dataset[server_id] = test_data\n",
        "\n",
        "mnist_transforms = transforms.Compose(\n",
        "    [transforms.ToTensor(), transforms.Normalize((0.5,), (0.5,))]\n",
        ")"
      ],
      "metadata": {
        "colab": {
          "base_uri": "https://localhost:8080/"
        },
        "collapsed": true,
        "id": "CYOy-Bmsu0_J",
        "outputId": "55650f6f-087d-4218-bb37-a4661241c76c"
      },
      "execution_count": null,
      "outputs": [
        {
          "output_type": "stream",
          "name": "stderr",
          "text": [
            "Downloading...\n",
            "From (original): https://drive.google.com/uc?id=1fl9fRPPxTUxnC56ACzZ8JiLiew0SMFwt\n",
            "From (redirected): https://drive.google.com/uc?id=1fl9fRPPxTUxnC56ACzZ8JiLiew0SMFwt&confirm=t&uuid=b7ecfe48-54cc-45ee-a2f5-f3e96734fe67\n",
            "To: /content/emnist-digits.mat\n",
            "100%|██████████| 90.7M/90.7M [00:04<00:00, 19.7MB/s]\n",
            "\u001b[36m[sultan]: md5 -q ./emnist-digits.mat;\u001b[0m\n",
            "DEBUG:sultan:md5 -q ./emnist-digits.mat;\n",
            "\u001b[01;31m[sultan]: Unable to run 'md5 -q ./emnist-digits.mat;'\u001b[0m\n",
            "CRITICAL:sultan:Unable to run 'md5 -q ./emnist-digits.mat;'\n",
            "\u001b[01;31m[sultan]: --{ TRACEBACK }----------------------------------------------------------------------------------------------------\u001b[0m\n",
            "CRITICAL:sultan:--{ TRACEBACK }----------------------------------------------------------------------------------------------------\n",
            "\u001b[01;31m[sultan]: | NoneType: None\u001b[0m\n",
            "CRITICAL:sultan:| NoneType: None\n",
            "\u001b[01;31m[sultan]: | \u001b[0m\n",
            "CRITICAL:sultan:| \n",
            "\u001b[01;31m[sultan]: -------------------------------------------------------------------------------------------------------------------\u001b[0m\n",
            "CRITICAL:sultan:-------------------------------------------------------------------------------------------------------------------\n",
            "\u001b[01;31m[sultan]: --{ STDERR }-------------------------------------------------------------------------------------------------------\u001b[0m\n",
            "CRITICAL:sultan:--{ STDERR }-------------------------------------------------------------------------------------------------------\n",
            "\u001b[01;31m[sultan]: | /bin/sh: 1: md5: not found\u001b[0m\n",
            "CRITICAL:sultan:| /bin/sh: 1: md5: not found\n",
            "\u001b[01;31m[sultan]: -------------------------------------------------------------------------------------------------------------------\u001b[0m\n",
            "CRITICAL:sultan:-------------------------------------------------------------------------------------------------------------------\n",
            "\u001b[33m[sultan]: The following are additional information that can be used to debug this exception.\u001b[0m\n",
            "WARNING:sultan:The following are additional information that can be used to debug this exception.\n",
            "\u001b[33m[sultan]: The following is the context used to run:\u001b[0m\n",
            "WARNING:sultan:The following is the context used to run:\n",
            "\u001b[33m[sultan]: \t - cwd: None\u001b[0m\n",
            "WARNING:sultan:\t - cwd: None\n",
            "\u001b[33m[sultan]: \t - sudo: False\u001b[0m\n",
            "WARNING:sultan:\t - sudo: False\n",
            "\u001b[33m[sultan]: \t - user: root\u001b[0m\n",
            "WARNING:sultan:\t - user: root\n",
            "\u001b[33m[sultan]: \t - hostname: None\u001b[0m\n",
            "WARNING:sultan:\t - hostname: None\n",
            "\u001b[33m[sultan]: \t - env: None\u001b[0m\n",
            "WARNING:sultan:\t - env: None\n",
            "\u001b[33m[sultan]: \t - logging: True\u001b[0m\n",
            "WARNING:sultan:\t - logging: True\n",
            "\u001b[33m[sultan]: \t - executable: None\u001b[0m\n",
            "WARNING:sultan:\t - executable: None\n",
            "\u001b[33m[sultan]: \t - ssh_config: \u001b[0m\n",
            "WARNING:sultan:\t - ssh_config: \n",
            "\u001b[33m[sultan]: \t - src: None\u001b[0m\n",
            "WARNING:sultan:\t - src: None\n",
            "\u001b[01;31m[sultan]: Unable to run 'md5 -q ./emnist-digits.mat;'\u001b[0m\n",
            "CRITICAL:sultan:Unable to run 'md5 -q ./emnist-digits.mat;'\n",
            "\u001b[01;31m[sultan]: --{ TRACEBACK }----------------------------------------------------------------------------------------------------\u001b[0m\n",
            "CRITICAL:sultan:--{ TRACEBACK }----------------------------------------------------------------------------------------------------\n",
            "\u001b[01;31m[sultan]: | Traceback (most recent call last):\u001b[0m\n",
            "CRITICAL:sultan:| Traceback (most recent call last):\n",
            "\u001b[01;31m[sultan]: |   File \"/usr/local/lib/python3.10/dist-packages/sultan/api.py\", line 212, in run\u001b[0m\n",
            "CRITICAL:sultan:|   File \"/usr/local/lib/python3.10/dist-packages/sultan/api.py\", line 212, in run\n",
            "\u001b[01;31m[sultan]: |     result = Result(process, commands, self._context, streaming, halt_on_nonzero=halt_on_nonzero)\u001b[0m\n",
            "CRITICAL:sultan:|     result = Result(process, commands, self._context, streaming, halt_on_nonzero=halt_on_nonzero)\n",
            "\u001b[01;31m[sultan]: |   File \"/usr/local/lib/python3.10/dist-packages/sultan/result.py\", line 59, in __init__\u001b[0m\n",
            "CRITICAL:sultan:|   File \"/usr/local/lib/python3.10/dist-packages/sultan/result.py\", line 59, in __init__\n",
            "\u001b[01;31m[sultan]: |     self.dump_exception()\u001b[0m\n",
            "CRITICAL:sultan:|     self.dump_exception()\n",
            "\u001b[01;31m[sultan]: |   File \"/usr/local/lib/python3.10/dist-packages/sultan/result.py\", line 114, in dump_exception\u001b[0m\n",
            "CRITICAL:sultan:|   File \"/usr/local/lib/python3.10/dist-packages/sultan/result.py\", line 114, in dump_exception\n",
            "\u001b[01;31m[sultan]: |     raise self._exception\u001b[0m\n",
            "CRITICAL:sultan:|     raise self._exception\n",
            "\u001b[01;31m[sultan]: |   File \"/usr/local/lib/python3.10/dist-packages/sultan/result.py\", line 95, in dump_exception\u001b[0m\n",
            "CRITICAL:sultan:|   File \"/usr/local/lib/python3.10/dist-packages/sultan/result.py\", line 95, in dump_exception\n",
            "\u001b[01;31m[sultan]: |     raise subprocess.CalledProcessError(self.rc, ''.join(self._commands), self.stderr)\u001b[0m\n",
            "CRITICAL:sultan:|     raise subprocess.CalledProcessError(self.rc, ''.join(self._commands), self.stderr)\n",
            "\u001b[01;31m[sultan]: | subprocess.CalledProcessError: Command 'md5 -q ./emnist-digits.mat;' returned non-zero exit status 127.\u001b[0m\n",
            "CRITICAL:sultan:| subprocess.CalledProcessError: Command 'md5 -q ./emnist-digits.mat;' returned non-zero exit status 127.\n",
            "\u001b[01;31m[sultan]: | \u001b[0m\n",
            "CRITICAL:sultan:| \n",
            "\u001b[01;31m[sultan]: -------------------------------------------------------------------------------------------------------------------\u001b[0m\n",
            "CRITICAL:sultan:-------------------------------------------------------------------------------------------------------------------\n",
            "\u001b[33m[sultan]: The following are additional information that can be used to debug this exception.\u001b[0m\n",
            "WARNING:sultan:The following are additional information that can be used to debug this exception.\n",
            "\u001b[33m[sultan]: The following is the context used to run:\u001b[0m\n",
            "WARNING:sultan:The following is the context used to run:\n",
            "\u001b[33m[sultan]: \t - cwd: None\u001b[0m\n",
            "WARNING:sultan:\t - cwd: None\n",
            "\u001b[33m[sultan]: \t - sudo: False\u001b[0m\n",
            "WARNING:sultan:\t - sudo: False\n",
            "\u001b[33m[sultan]: \t - user: root\u001b[0m\n",
            "WARNING:sultan:\t - user: root\n",
            "\u001b[33m[sultan]: \t - hostname: None\u001b[0m\n",
            "WARNING:sultan:\t - hostname: None\n",
            "\u001b[33m[sultan]: \t - env: None\u001b[0m\n",
            "WARNING:sultan:\t - env: None\n",
            "\u001b[33m[sultan]: \t - logging: True\u001b[0m\n",
            "WARNING:sultan:\t - logging: True\n",
            "\u001b[33m[sultan]: \t - executable: None\u001b[0m\n",
            "WARNING:sultan:\t - executable: None\n",
            "\u001b[33m[sultan]: \t - ssh_config: \u001b[0m\n",
            "WARNING:sultan:\t - ssh_config: \n",
            "\u001b[33m[sultan]: \t - src: None\u001b[0m\n",
            "WARNING:sultan:\t - src: None\n",
            "\u001b[36m[sultan]: md5sum ./emnist-digits.mat | cut -f 1 -d \" \";\u001b[0m\n",
            "DEBUG:sultan:md5sum ./emnist-digits.mat | cut -f 1 -d \" \";\n",
            "\u001b[36m[sultan]: md5 -q ./emnist-digits.mat;\u001b[0m\n",
            "DEBUG:sultan:md5 -q ./emnist-digits.mat;\n",
            "\u001b[01;31m[sultan]: Unable to run 'md5 -q ./emnist-digits.mat;'\u001b[0m\n",
            "CRITICAL:sultan:Unable to run 'md5 -q ./emnist-digits.mat;'\n",
            "\u001b[01;31m[sultan]: --{ TRACEBACK }----------------------------------------------------------------------------------------------------\u001b[0m\n",
            "CRITICAL:sultan:--{ TRACEBACK }----------------------------------------------------------------------------------------------------\n",
            "\u001b[01;31m[sultan]: | NoneType: None\u001b[0m\n",
            "CRITICAL:sultan:| NoneType: None\n",
            "\u001b[01;31m[sultan]: | \u001b[0m\n",
            "CRITICAL:sultan:| \n",
            "\u001b[01;31m[sultan]: -------------------------------------------------------------------------------------------------------------------\u001b[0m\n",
            "CRITICAL:sultan:-------------------------------------------------------------------------------------------------------------------\n",
            "\u001b[01;31m[sultan]: --{ STDERR }-------------------------------------------------------------------------------------------------------\u001b[0m\n",
            "CRITICAL:sultan:--{ STDERR }-------------------------------------------------------------------------------------------------------\n",
            "\u001b[01;31m[sultan]: | /bin/sh: 1: md5: not found\u001b[0m\n",
            "CRITICAL:sultan:| /bin/sh: 1: md5: not found\n",
            "\u001b[01;31m[sultan]: -------------------------------------------------------------------------------------------------------------------\u001b[0m\n",
            "CRITICAL:sultan:-------------------------------------------------------------------------------------------------------------------\n",
            "\u001b[33m[sultan]: The following are additional information that can be used to debug this exception.\u001b[0m\n",
            "WARNING:sultan:The following are additional information that can be used to debug this exception.\n",
            "\u001b[33m[sultan]: The following is the context used to run:\u001b[0m\n",
            "WARNING:sultan:The following is the context used to run:\n",
            "\u001b[33m[sultan]: \t - cwd: None\u001b[0m\n",
            "WARNING:sultan:\t - cwd: None\n",
            "\u001b[33m[sultan]: \t - sudo: False\u001b[0m\n",
            "WARNING:sultan:\t - sudo: False\n",
            "\u001b[33m[sultan]: \t - user: root\u001b[0m\n",
            "WARNING:sultan:\t - user: root\n",
            "\u001b[33m[sultan]: \t - hostname: None\u001b[0m\n",
            "WARNING:sultan:\t - hostname: None\n",
            "\u001b[33m[sultan]: \t - env: None\u001b[0m\n",
            "WARNING:sultan:\t - env: None\n",
            "\u001b[33m[sultan]: \t - logging: True\u001b[0m\n",
            "WARNING:sultan:\t - logging: True\n",
            "\u001b[33m[sultan]: \t - executable: None\u001b[0m\n",
            "WARNING:sultan:\t - executable: None\n",
            "\u001b[33m[sultan]: \t - ssh_config: \u001b[0m\n",
            "WARNING:sultan:\t - ssh_config: \n",
            "\u001b[33m[sultan]: \t - src: None\u001b[0m\n",
            "WARNING:sultan:\t - src: None\n",
            "\u001b[01;31m[sultan]: Unable to run 'md5 -q ./emnist-digits.mat;'\u001b[0m\n",
            "CRITICAL:sultan:Unable to run 'md5 -q ./emnist-digits.mat;'\n",
            "\u001b[01;31m[sultan]: --{ TRACEBACK }----------------------------------------------------------------------------------------------------\u001b[0m\n",
            "CRITICAL:sultan:--{ TRACEBACK }----------------------------------------------------------------------------------------------------\n",
            "\u001b[01;31m[sultan]: | Traceback (most recent call last):\u001b[0m\n",
            "CRITICAL:sultan:| Traceback (most recent call last):\n",
            "\u001b[01;31m[sultan]: |   File \"/usr/local/lib/python3.10/dist-packages/sultan/api.py\", line 212, in run\u001b[0m\n",
            "CRITICAL:sultan:|   File \"/usr/local/lib/python3.10/dist-packages/sultan/api.py\", line 212, in run\n",
            "\u001b[01;31m[sultan]: |     result = Result(process, commands, self._context, streaming, halt_on_nonzero=halt_on_nonzero)\u001b[0m\n",
            "CRITICAL:sultan:|     result = Result(process, commands, self._context, streaming, halt_on_nonzero=halt_on_nonzero)\n",
            "\u001b[01;31m[sultan]: |   File \"/usr/local/lib/python3.10/dist-packages/sultan/result.py\", line 59, in __init__\u001b[0m\n",
            "CRITICAL:sultan:|   File \"/usr/local/lib/python3.10/dist-packages/sultan/result.py\", line 59, in __init__\n",
            "\u001b[01;31m[sultan]: |     self.dump_exception()\u001b[0m\n",
            "CRITICAL:sultan:|     self.dump_exception()\n",
            "\u001b[01;31m[sultan]: |   File \"/usr/local/lib/python3.10/dist-packages/sultan/result.py\", line 114, in dump_exception\u001b[0m\n",
            "CRITICAL:sultan:|   File \"/usr/local/lib/python3.10/dist-packages/sultan/result.py\", line 114, in dump_exception\n",
            "\u001b[01;31m[sultan]: |     raise self._exception\u001b[0m\n",
            "CRITICAL:sultan:|     raise self._exception\n",
            "\u001b[01;31m[sultan]: |   File \"/usr/local/lib/python3.10/dist-packages/sultan/result.py\", line 95, in dump_exception\u001b[0m\n",
            "CRITICAL:sultan:|   File \"/usr/local/lib/python3.10/dist-packages/sultan/result.py\", line 95, in dump_exception\n",
            "\u001b[01;31m[sultan]: |     raise subprocess.CalledProcessError(self.rc, ''.join(self._commands), self.stderr)\u001b[0m\n",
            "CRITICAL:sultan:|     raise subprocess.CalledProcessError(self.rc, ''.join(self._commands), self.stderr)\n",
            "\u001b[01;31m[sultan]: | subprocess.CalledProcessError: Command 'md5 -q ./emnist-digits.mat;' returned non-zero exit status 127.\u001b[0m\n",
            "CRITICAL:sultan:| subprocess.CalledProcessError: Command 'md5 -q ./emnist-digits.mat;' returned non-zero exit status 127.\n",
            "\u001b[01;31m[sultan]: | \u001b[0m\n",
            "CRITICAL:sultan:| \n",
            "\u001b[01;31m[sultan]: -------------------------------------------------------------------------------------------------------------------\u001b[0m\n",
            "CRITICAL:sultan:-------------------------------------------------------------------------------------------------------------------\n",
            "\u001b[33m[sultan]: The following are additional information that can be used to debug this exception.\u001b[0m\n",
            "WARNING:sultan:The following are additional information that can be used to debug this exception.\n",
            "\u001b[33m[sultan]: The following is the context used to run:\u001b[0m\n",
            "WARNING:sultan:The following is the context used to run:\n",
            "\u001b[33m[sultan]: \t - cwd: None\u001b[0m\n",
            "WARNING:sultan:\t - cwd: None\n",
            "\u001b[33m[sultan]: \t - sudo: False\u001b[0m\n",
            "WARNING:sultan:\t - sudo: False\n",
            "\u001b[33m[sultan]: \t - user: root\u001b[0m\n",
            "WARNING:sultan:\t - user: root\n",
            "\u001b[33m[sultan]: \t - hostname: None\u001b[0m\n",
            "WARNING:sultan:\t - hostname: None\n",
            "\u001b[33m[sultan]: \t - env: None\u001b[0m\n",
            "WARNING:sultan:\t - env: None\n",
            "\u001b[33m[sultan]: \t - logging: True\u001b[0m\n",
            "WARNING:sultan:\t - logging: True\n",
            "\u001b[33m[sultan]: \t - executable: None\u001b[0m\n",
            "WARNING:sultan:\t - executable: None\n",
            "\u001b[33m[sultan]: \t - ssh_config: \u001b[0m\n",
            "WARNING:sultan:\t - ssh_config: \n",
            "\u001b[33m[sultan]: \t - src: None\u001b[0m\n",
            "WARNING:sultan:\t - src: None\n",
            "\u001b[36m[sultan]: md5sum ./emnist-digits.mat | cut -f 1 -d \" \";\u001b[0m\n",
            "DEBUG:sultan:md5sum ./emnist-digits.mat | cut -f 1 -d \" \";\n"
          ]
        }
      ]
    },
    {
      "cell_type": "markdown",
      "source": [
        "Usamos el decorador `@init_model_server` para inicializar el modelo en el servidor. Aprovechamos esta fase para simplemente definir nuestra arquitectura de red así como el optimizador y la función de pérdida."
      ],
      "metadata": {
        "id": "WB9yluACv2rm"
      }
    },
    {
      "cell_type": "code",
      "source": [
        "import torch.nn as nn\n",
        "import torch.nn.functional as F\n",
        "\n",
        "from flex.pool import init_server_model\n",
        "from flex.pool import FlexPool\n",
        "from flex.model import FlexModel\n",
        "\n",
        "\n",
        "# Simple two Fully-Connected layer net\n",
        "class SimpleNet(nn.Module):\n",
        "    def __init__(self, num_classes=10):\n",
        "        super().__init__()\n",
        "        self.flatten = nn.Flatten()\n",
        "        self.fc1 = nn.Linear(28 * 28, 128)\n",
        "        self.fc2 = nn.Linear(128, num_classes)\n",
        "\n",
        "    def forward(self, x):\n",
        "        x = self.flatten(x)\n",
        "        x = self.fc1(x)\n",
        "        x = F.relu(x)\n",
        "        x = self.fc2(x)\n",
        "\n",
        "        # return logits\n",
        "        return x\n",
        "\n",
        "\n",
        "@init_server_model\n",
        "def build_server_model():\n",
        "    server_flex_model = FlexModel()\n",
        "\n",
        "    server_flex_model[\"model\"] = SimpleNet()\n",
        "    # Required to store this for later stages of the FL training process\n",
        "    server_flex_model[\"criterion\"] = torch.nn.CrossEntropyLoss()\n",
        "    server_flex_model[\"optimizer_func\"] = torch.optim.Adam\n",
        "    server_flex_model[\"optimizer_kwargs\"] = {}\n",
        "    return server_flex_model\n",
        "\n",
        "\n",
        "flex_pool = FlexPool.client_server_pool(\n",
        "    flex_dataset, server_id=server_id, init_func=build_server_model\n",
        ")\n",
        "\n",
        "clients = flex_pool.clients\n",
        "servers = flex_pool.servers\n",
        "aggregators = flex_pool.aggregators\n",
        "\n",
        "print(\n",
        "    f\"Number of nodes in the pool {len(flex_pool)}: {len(servers)} server plus {len(clients)} clients. The server is also an aggregator\"\n",
        ")"
      ],
      "metadata": {
        "colab": {
          "base_uri": "https://localhost:8080/"
        },
        "id": "3zAxWjwavQJ0",
        "outputId": "db39a5d5-bdff-4a9e-a91f-a9757be90a25"
      },
      "execution_count": null,
      "outputs": [
        {
          "output_type": "stream",
          "name": "stdout",
          "text": [
            "Number of nodes in the pool 3580: 1 server plus 3579 clients. The server is also an aggregator\n"
          ]
        }
      ]
    },
    {
      "cell_type": "markdown",
      "source": [
        "Para comparar nuestro modelo con selección AFL, vamos a primero construir un método de selección de clientes aleatorio uniforme, por ejemplo, de $20$ clientes por ronda. Más adelante, implementaremos la selección con AFL con $m=20$ clientes por ronda."
      ],
      "metadata": {
        "id": "C3LoDmezyvud"
      }
    },
    {
      "cell_type": "code",
      "source": [
        "# Select clients\n",
        "clients_per_round = 20\n",
        "selected_clients_pool = clients.select(clients_per_round)\n",
        "selected_clients = selected_clients_pool.clients\n",
        "\n",
        "print(f'Server node is indentified by key \"{servers.actor_ids[0]}\"')\n",
        "print(\n",
        "    f\"Selected {len(selected_clients.actor_ids)} client nodes of a total of {len(clients.actor_ids)}\"\n",
        ")"
      ],
      "metadata": {
        "colab": {
          "base_uri": "https://localhost:8080/"
        },
        "id": "gFaDpYaWxbWm",
        "outputId": "2ccf35bb-101e-4b29-b6b1-1de467c1ab6c"
      },
      "execution_count": null,
      "outputs": [
        {
          "output_type": "stream",
          "name": "stdout",
          "text": [
            "Server node is indentified by key \"server\"\n",
            "Selected 20 client nodes of a total of 3579\n"
          ]
        }
      ]
    },
    {
      "cell_type": "markdown",
      "source": [
        "Utilizamos el decorador `@deploy_server_model` para distribuir el modelo del servidor a los clientes. Usamos `map` sobre los clientes seleccionados: `selected_clients`."
      ],
      "metadata": {
        "id": "R5LzYqxUzIaU"
      }
    },
    {
      "cell_type": "code",
      "source": [
        "from flex.pool import deploy_server_model\n",
        "import copy\n",
        "\n",
        "\n",
        "@deploy_server_model\n",
        "def copy_server_model_to_clients(server_flex_model: FlexModel):\n",
        "    return copy.deepcopy(server_flex_model)\n",
        "\n",
        "\n",
        "servers.map(copy_server_model_to_clients, selected_clients)"
      ],
      "metadata": {
        "id": "UwxXBCoCytZh"
      },
      "execution_count": null,
      "outputs": []
    },
    {
      "cell_type": "markdown",
      "source": [
        "Implementamos la función de training para el que cada cliente avanza un número $n$ de pasos del optimizador (En este caso SGD-Adam [1]) sobre un _batch_ de $b$ imágenes. En nuestro caso, utilizaremos los mismo parámetros que en el ejemplo de FLEX [2]: $n=5, b=20$.\n",
        "\n",
        "> [1] https://arxiv.org/abs/1412.6980.\n",
        ">\n",
        "> [2] [Federated MNIST PT Example](https://github.com/FLEXible-FL/FLEXible/blob/main/notebooks/Federated%20MNIST%20PT%20example%20with%20flexible%20decorators.ipynb)"
      ],
      "metadata": {
        "id": "U1S01aEFzevA"
      }
    },
    {
      "cell_type": "code",
      "source": [
        "from flex.data import Dataset\n",
        "from torch.utils.data import DataLoader\n",
        "\n",
        "\n",
        "def train(client_flex_model: FlexModel, client_data: Dataset):\n",
        "    train_dataset = client_data.to_torchvision_dataset(transform=mnist_transforms)\n",
        "    client_dataloader = DataLoader(train_dataset, batch_size=20)\n",
        "    model = client_flex_model[\"model\"]\n",
        "    optimizer = client_flex_model[\"optimizer_func\"](\n",
        "        model.parameters(), **client_flex_model[\"optimizer_kwargs\"]\n",
        "    )\n",
        "    model = model.train()\n",
        "    model = model.to(device)\n",
        "    criterion = client_flex_model[\"criterion\"]\n",
        "    for _ in range(5):\n",
        "        for imgs, labels in client_dataloader:\n",
        "            imgs, labels = imgs.to(device), labels.to(device)\n",
        "            optimizer.zero_grad()\n",
        "            pred = model(imgs)\n",
        "            loss = criterion(pred, labels)\n",
        "            loss.backward()\n",
        "            optimizer.step()\n",
        "\n",
        "\n",
        "selected_clients.map(train)"
      ],
      "metadata": {
        "id": "UvjgKEJ7zdzd"
      },
      "execution_count": null,
      "outputs": []
    },
    {
      "cell_type": "markdown",
      "source": [
        "Con el decorador `@collect_clients_weights` recuperamos los pesos de PyTorch de cada cliente seleccionado para esa ronda. En el caso de PyTorch, el modelo devuelve los pesos en forma de un diccionario con `state_dict` para el que cada nombre representa una capa de la red y sus parámetros, lo que hacemos será devolver una lista con los valores de ese diccionario correspondientes a los pesos de la red entera."
      ],
      "metadata": {
        "id": "dMSabAvG0u2J"
      }
    },
    {
      "cell_type": "code",
      "source": [
        "from flex.pool import collect_clients_weights\n",
        "\n",
        "\n",
        "@collect_clients_weights\n",
        "def get_clients_weights(client_flex_model: FlexModel):\n",
        "    weight_dict = client_flex_model[\"model\"].state_dict()\n",
        "    return [weight_dict[name] for name in weight_dict]\n",
        "\n",
        "\n",
        "aggregators.map(get_clients_weights, selected_clients)"
      ],
      "metadata": {
        "id": "ggbUniMr0oGy"
      },
      "execution_count": null,
      "outputs": []
    },
    {
      "cell_type": "markdown",
      "source": [
        "Utilizamos el decorador `@aggregate_weights` para poder agregar los pesos que hemos recuperado de los clientes en la fase anterior computando la media de los pesos, conocido como agregador FedAvg, donde realizamos la media por columnas para cada capa de pesos."
      ],
      "metadata": {
        "id": "1DT76cJ41uFY"
      }
    },
    {
      "cell_type": "code",
      "source": [
        "from flex.pool import aggregate_weights\n",
        "import tensorly as tl\n",
        "\n",
        "tl.set_backend(\"pytorch\")\n",
        "\n",
        "\n",
        "@aggregate_weights\n",
        "def aggregate_with_fedavg(list_of_weights: list):\n",
        "    agg_weights = []\n",
        "    for layer_index in range(len(list_of_weights[0])):\n",
        "        weights_per_layer = [weights[layer_index] for weights in list_of_weights]\n",
        "        weights_per_layer = tl.stack(weights_per_layer)\n",
        "        agg_layer = tl.mean(weights_per_layer, axis=0)\n",
        "        agg_weights.append(agg_layer)\n",
        "    return agg_weights\n",
        "\n",
        "\n",
        "# Aggregate weights\n",
        "aggregators.map(aggregate_with_fedavg)"
      ],
      "metadata": {
        "id": "YR27tyd51cfq"
      },
      "execution_count": null,
      "outputs": []
    },
    {
      "cell_type": "markdown",
      "source": [
        "Finalmente, agregamos los pesos al modelo de nuestro servidor/agregador. Sencillamente, para cada capa de nuestro modelo, realizamo una copia del nuevo que hemos agregado en la fase anterior."
      ],
      "metadata": {
        "id": "YQtCzF0K2i92"
      }
    },
    {
      "cell_type": "code",
      "source": [
        "from flex.pool import set_aggregated_weights\n",
        "\n",
        "\n",
        "@set_aggregated_weights\n",
        "def set_agreggated_weights_to_server(server_flex_model: FlexModel, aggregated_weights):\n",
        "    with torch.no_grad():\n",
        "        weight_dict = server_flex_model[\"model\"].state_dict()\n",
        "        for layer_key, new in zip(weight_dict, aggregated_weights):\n",
        "            weight_dict[layer_key].copy_(new)\n",
        "\n",
        "\n",
        "aggregators.map(set_agreggated_weights_to_server, servers)"
      ],
      "metadata": {
        "id": "6Fk-VxE52ZNH"
      },
      "execution_count": null,
      "outputs": []
    },
    {
      "cell_type": "markdown",
      "source": [
        "Podemos evaluar el modelo del servidor sobre el dataset de test que hemos definido anteriormente que residía en el mismo servidor. Para ello, definimos una función `evaluate_global_model` que obtenga las predicciones del modelo con el dataset de test y devuelva las metricas resultantes, que en este caso son simplemente la pérdida y la _accuracy_."
      ],
      "metadata": {
        "id": "NB5N8y2a27JU"
      }
    },
    {
      "cell_type": "code",
      "source": [
        "def evaluate_global_model(server_flex_model: FlexModel, test_data: Dataset):\n",
        "    model = server_flex_model[\"model\"]\n",
        "    model.eval()\n",
        "    test_loss = 0\n",
        "    test_acc = 0\n",
        "    total_count = 0\n",
        "    model = model.to(device)\n",
        "    criterion = server_flex_model[\"criterion\"]\n",
        "    # get test data as a torchvision object\n",
        "    test_dataset = test_data.to_torchvision_dataset(transform=mnist_transforms)\n",
        "    test_dataloader = DataLoader(\n",
        "        test_dataset, batch_size=256, shuffle=True, pin_memory=False\n",
        "    )\n",
        "    losses = []\n",
        "    with torch.no_grad():\n",
        "        for data, target in test_dataloader:\n",
        "            total_count += target.size(0)\n",
        "            data, target = data.to(device), target.to(device)\n",
        "            output = model(data)\n",
        "            losses.append(criterion(output, target).item())\n",
        "            pred = output.data.max(1, keepdim=True)[1]\n",
        "            test_acc += pred.eq(target.data.view_as(pred)).long().cpu().sum().item()\n",
        "\n",
        "    test_loss = sum(losses) / len(losses)\n",
        "    test_acc /= total_count\n",
        "    return test_loss, test_acc\n",
        "\n",
        "\n",
        "metrics = servers.map(evaluate_global_model)\n",
        "print(\"Loss (test):\", metrics[0][0])\n",
        "print(\"Accuracy (test):\", metrics[0][1])"
      ],
      "metadata": {
        "colab": {
          "base_uri": "https://localhost:8080/"
        },
        "id": "AFZA3_Sn20tn",
        "outputId": "05f7808d-8e5b-44b4-a975-70064e90715d"
      },
      "execution_count": null,
      "outputs": [
        {
          "output_type": "stream",
          "name": "stdout",
          "text": [
            "Loss (test): 1.5645130637345042\n",
            "Accuracy (test): 0.559\n"
          ]
        }
      ]
    },
    {
      "cell_type": "markdown",
      "source": [
        "Para poder repetir esto en diferentes rondas, definimos la función `train_n_rounds` que aplica las funciones vistas de forma iterativa."
      ],
      "metadata": {
        "id": "4p233PYL9Lum"
      }
    },
    {
      "cell_type": "code",
      "source": [
        "def train_n_rounds(n_rounds, clients_per_round=20):\n",
        "    pool = FlexPool.client_server_pool(\n",
        "        fed_dataset=flex_dataset, server_id=server_id, init_func=build_server_model\n",
        "    )\n",
        "    losses = []\n",
        "    accuracies = []\n",
        "    for i in range(n_rounds):\n",
        "        print(f\"\\nRunning round: {i+1} of {n_rounds}\")\n",
        "        selected_clients_pool = pool.clients.select(clients_per_round)\n",
        "        selected_clients = selected_clients_pool.clients\n",
        "        print(f\"Selected clients for this round: {len(selected_clients)}\")\n",
        "        # Deploy the server model to the selected clients\n",
        "        pool.servers.map(copy_server_model_to_clients, selected_clients)\n",
        "        # Each selected client trains her model\n",
        "        selected_clients.map(train)\n",
        "        # The aggregador collects weights from the selected clients and aggregates them\n",
        "        pool.aggregators.map(get_clients_weights, selected_clients)\n",
        "        pool.aggregators.map(aggregate_with_fedavg)\n",
        "        # The aggregator send its aggregated weights to the server\n",
        "        pool.aggregators.map(set_agreggated_weights_to_server, pool.servers)\n",
        "        metrics = pool.servers.map(evaluate_global_model)\n",
        "        loss, acc = metrics[0]\n",
        "        losses.append(loss)\n",
        "        accuracies.append(acc)\n",
        "        print(f\"Server: Test acc: {acc:.4f}, test loss: {loss:.4f}\")\n",
        "\n",
        "    return losses, accuracies"
      ],
      "metadata": {
        "id": "OK5TLa219FLP"
      },
      "execution_count": null,
      "outputs": []
    },
    {
      "cell_type": "code",
      "source": [
        "losses, accuracies = train_n_rounds(15)\n",
        "plot_loss_accuracy(losses, accuracies)"
      ],
      "metadata": {
        "colab": {
          "base_uri": "https://localhost:8080/",
          "height": 1000
        },
        "id": "AzJNwpca9rbm",
        "outputId": "768a8ae4-599e-4921-bddc-9e874e9fc4fe"
      },
      "execution_count": null,
      "outputs": [
        {
          "output_type": "stream",
          "name": "stdout",
          "text": [
            "\n",
            "Running round: 1 of 15\n",
            "Selected clients for this round: 20\n",
            "Server: Test acc: 0.6404, test loss: 1.5846\n",
            "\n",
            "Running round: 2 of 15\n",
            "Selected clients for this round: 20\n",
            "Server: Test acc: 0.7919, test loss: 0.9024\n",
            "\n",
            "Running round: 3 of 15\n",
            "Selected clients for this round: 20\n",
            "Server: Test acc: 0.8154, test loss: 0.6758\n",
            "\n",
            "Running round: 4 of 15\n",
            "Selected clients for this round: 20\n",
            "Server: Test acc: 0.8366, test loss: 0.5520\n",
            "\n",
            "Running round: 5 of 15\n",
            "Selected clients for this round: 20\n",
            "Server: Test acc: 0.8534, test loss: 0.4851\n",
            "\n",
            "Running round: 6 of 15\n",
            "Selected clients for this round: 20\n",
            "Server: Test acc: 0.8637, test loss: 0.4398\n",
            "\n",
            "Running round: 7 of 15\n",
            "Selected clients for this round: 20\n",
            "Server: Test acc: 0.8734, test loss: 0.4079\n",
            "\n",
            "Running round: 8 of 15\n",
            "Selected clients for this round: 20\n",
            "Server: Test acc: 0.8691, test loss: 0.4078\n",
            "\n",
            "Running round: 9 of 15\n",
            "Selected clients for this round: 20\n",
            "Server: Test acc: 0.8756, test loss: 0.3911\n",
            "\n",
            "Running round: 10 of 15\n",
            "Selected clients for this round: 20\n",
            "Server: Test acc: 0.8735, test loss: 0.4004\n",
            "\n",
            "Running round: 11 of 15\n",
            "Selected clients for this round: 20\n",
            "Server: Test acc: 0.8794, test loss: 0.3819\n",
            "\n",
            "Running round: 12 of 15\n",
            "Selected clients for this round: 20\n",
            "Server: Test acc: 0.8875, test loss: 0.3602\n",
            "\n",
            "Running round: 13 of 15\n",
            "Selected clients for this round: 20\n",
            "Server: Test acc: 0.8881, test loss: 0.3649\n",
            "\n",
            "Running round: 14 of 15\n",
            "Selected clients for this round: 20\n",
            "Server: Test acc: 0.8933, test loss: 0.3540\n",
            "\n",
            "Running round: 15 of 15\n",
            "Selected clients for this round: 20\n",
            "Server: Test acc: 0.8917, test loss: 0.3574\n"
          ]
        },
        {
          "output_type": "display_data",
          "data": {
            "text/plain": [
              "<Figure size 1200x500 with 2 Axes>"
            ],
            "image/png": "[encoded data removed]"
          },
          "metadata": {}
        }
      ]
    },
    {
      "cell_type": "markdown",
      "source": [
        "# Federar MNIST manualmente"
      ],
      "metadata": {
        "id": "ORA_sx5p9_cA"
      }
    },
    {
      "cell_type": "markdown",
      "source": [
        "Federamos manualmente, usando las primitivas de FLEX, el dataset de MNIST traído desde la librería PyTorch.\n",
        "\n",
        "Dado que el algoritmo de aproximación de valores de Shapley GTG-Shapley necesita de un conjunto de validación $\\mathcal D_{\\text{val}}$, separaremos el dataset de entrenamiento en dos subconjuntos de datos: uno de entrenamieto y otro de validación, siendo el tamaño del de validación un $20\\%$ de los datos totales de entrenamiento.\n",
        "\n",
        "$$\n",
        "\\mathcal D_\\text{T} = \\mathcal D_\\text{train} \\cup \\mathcal D_\\text{val}\\\\\n",
        "\\begin{cases}\n",
        "N &= |\\mathcal D_\\text{T}|,\\\\\n",
        "N_\\text{val} &= \\lfloor 0.2 \\times N\\rfloor,\\\\\n",
        "N_\\text{train} &= N-N_\\text{val}\n",
        "\\end{cases}\n",
        "$$\n",
        "\n",
        "Para la distribución de los datos en un escenario de FL, establecemos un número de $K=300$ nodos sin contar el servidor central."
      ],
      "metadata": {
        "id": "O3bTDP1lYLv0"
      }
    },
    {
      "cell_type": "code",
      "source": [
        "import math\n",
        "\n",
        "from torchvision import datasets, transforms\n",
        "from torch.utils.data import random_split\n",
        "\n",
        "from flex.data import Dataset, FedDatasetConfig, FedDataDistribution\n",
        "\n",
        "mnist_transforms = transforms.Compose(\n",
        "    [transforms.ToTensor(), transforms.Normalize((0.5,), (0.5,))]\n",
        ")\n",
        "\n",
        "train_data = datasets.MNIST(\n",
        "    root='.',\n",
        "    train=True,\n",
        "    download=True,\n",
        "    transform=None  # we apply them later in training process\n",
        ")\n",
        "\n",
        "test_data = datasets.MNIST(\n",
        "    root='.',\n",
        "    train=False,\n",
        "    download=True,\n",
        "    transform=None  # we apply them later in training process\n",
        ")\n",
        "\n",
        "# split train data into training and validation datasets (val data ~ 20% of train data)\n",
        "val_len = math.floor(0.2 * len(train_data))\n",
        "train_len = len(train_data) - val_len\n",
        "\n",
        "train_data, val_data = random_split(train_data, [train_len, val_len])\n",
        "\n",
        "config = FedDatasetConfig(seed=33)\n",
        "config.replacement = False\n",
        "config.n_nodes = 300\n",
        "\n",
        "flex_dataset = FedDataDistribution.from_config(\n",
        "    centralized_data=Dataset.from_torchvision_dataset(train_data), config=config\n",
        ")\n",
        "\n",
        "# assign test data to server_id\n",
        "server_id = \"server\"\n",
        "flex_dataset[server_id] = Dataset.from_torchvision_dataset(test_data)"
      ],
      "metadata": {
        "colab": {
          "base_uri": "https://localhost:8080/"
        },
        "id": "t6q6w8DyUMJz",
        "outputId": "549571a9-1f14-4ca5-dc54-2edc456f0093"
      },
      "execution_count": null,
      "outputs": [
        {
          "output_type": "stream",
          "name": "stdout",
          "text": [
            "Downloading http://yann.lecun.com/exdb/mnist/train-images-idx3-ubyte.gz\n",
            "Failed to download (trying next):\n",
            "HTTP Error 403: Forbidden\n",
            "\n",
            "Downloading https://ossci-datasets.s3.amazonaws.com/mnist/train-images-idx3-ubyte.gz\n",
            "Downloading https://ossci-datasets.s3.amazonaws.com/mnist/train-images-idx3-ubyte.gz to ./MNIST/raw/train-images-idx3-ubyte.gz\n"
          ]
        },
        {
          "output_type": "stream",
          "name": "stderr",
          "text": [
            "100%|██████████| 9912422/9912422 [00:01<00:00, 6046422.83it/s]\n"
          ]
        },
        {
          "output_type": "stream",
          "name": "stdout",
          "text": [
            "Extracting ./MNIST/raw/train-images-idx3-ubyte.gz to ./MNIST/raw\n",
            "\n",
            "Downloading http://yann.lecun.com/exdb/mnist/train-labels-idx1-ubyte.gz\n",
            "Failed to download (trying next):\n",
            "HTTP Error 403: Forbidden\n",
            "\n",
            "Downloading https://ossci-datasets.s3.amazonaws.com/mnist/train-labels-idx1-ubyte.gz\n",
            "Downloading https://ossci-datasets.s3.amazonaws.com/mnist/train-labels-idx1-ubyte.gz to ./MNIST/raw/train-labels-idx1-ubyte.gz\n"
          ]
        },
        {
          "output_type": "stream",
          "name": "stderr",
          "text": [
            "100%|██████████| 28881/28881 [00:00<00:00, 160470.77it/s]\n"
          ]
        },
        {
          "output_type": "stream",
          "name": "stdout",
          "text": [
            "Extracting ./MNIST/raw/train-labels-idx1-ubyte.gz to ./MNIST/raw\n",
            "\n",
            "Downloading http://yann.lecun.com/exdb/mnist/t10k-images-idx3-ubyte.gz\n",
            "Failed to download (trying next):\n",
            "HTTP Error 403: Forbidden\n",
            "\n",
            "Downloading https://ossci-datasets.s3.amazonaws.com/mnist/t10k-images-idx3-ubyte.gz\n",
            "Downloading https://ossci-datasets.s3.amazonaws.com/mnist/t10k-images-idx3-ubyte.gz to ./MNIST/raw/t10k-images-idx3-ubyte.gz\n"
          ]
        },
        {
          "output_type": "stream",
          "name": "stderr",
          "text": [
            "100%|██████████| 1648877/1648877 [00:01<00:00, 1509301.88it/s]\n"
          ]
        },
        {
          "output_type": "stream",
          "name": "stdout",
          "text": [
            "Extracting ./MNIST/raw/t10k-images-idx3-ubyte.gz to ./MNIST/raw\n",
            "\n",
            "Downloading http://yann.lecun.com/exdb/mnist/t10k-labels-idx1-ubyte.gz\n",
            "Failed to download (trying next):\n",
            "HTTP Error 403: Forbidden\n",
            "\n",
            "Downloading https://ossci-datasets.s3.amazonaws.com/mnist/t10k-labels-idx1-ubyte.gz\n",
            "Downloading https://ossci-datasets.s3.amazonaws.com/mnist/t10k-labels-idx1-ubyte.gz to ./MNIST/raw/t10k-labels-idx1-ubyte.gz\n"
          ]
        },
        {
          "output_type": "stream",
          "name": "stderr",
          "text": [
            "100%|██████████| 4542/4542 [00:00<00:00, 3591728.65it/s]\n",
            "/usr/local/lib/python3.10/dist-packages/flex/data/dataset.py:130: RuntimeWarning: The input dataset and arguments are not explicitly supported, therefore they might not work as expected.\n",
            "  warnings.warn(\n"
          ]
        },
        {
          "output_type": "stream",
          "name": "stdout",
          "text": [
            "Extracting ./MNIST/raw/t10k-labels-idx1-ubyte.gz to ./MNIST/raw\n",
            "\n"
          ]
        }
      ]
    },
    {
      "cell_type": "markdown",
      "source": [
        "Inicializamos el modelo central en el servidor. El modelo de aprendizaje será un MLP (_Multi-Layer Perceptron_) de dos capas ocultas y con una función de activación ReLU para la primera capa y LogSoftmax en la capa de salida (aplicada por la función de pérdida o _criterion_ Cross-Entropy Loss)."
      ],
      "metadata": {
        "id": "DrhjfE-RdQRF"
      }
    },
    {
      "cell_type": "code",
      "source": [
        "import torch.nn as nn\n",
        "import torch.nn.functional as F\n",
        "\n",
        "from flex.pool import init_server_model\n",
        "from flex.pool import FlexPool\n",
        "from flex.model import FlexModel\n",
        "\n",
        "# Simple Multi-Layer Perceptron\n",
        "class SimpleNet(nn.Module):\n",
        "    def __init__(self, num_classes=10):\n",
        "        super().__init__()\n",
        "        self.flatten = nn.Flatten()\n",
        "        self.fc1 = nn.Linear(28 * 28, 128)\n",
        "        self.fc2 = nn.Linear(128, num_classes)\n",
        "\n",
        "    def forward(self, x):\n",
        "        x = self.flatten(x)\n",
        "        x = self.fc1(x)\n",
        "        x = F.relu(x)\n",
        "        x = self.fc2(x)\n",
        "\n",
        "        # return logits\n",
        "        return x\n",
        "\n",
        "\n",
        "@init_server_model\n",
        "def build_server_model():\n",
        "    server_flex_model = FlexModel()\n",
        "\n",
        "    server_flex_model[\"model\"] = SimpleNet()\n",
        "    # Required to store this for later stages of the FL training process\n",
        "    server_flex_model[\"criterion\"] = torch.nn.CrossEntropyLoss()\n",
        "    server_flex_model[\"optimizer_func\"] = torch.optim.Adam\n",
        "    server_flex_model[\"optimizer_kwargs\"] = {}\n",
        "    return server_flex_model\n",
        "\n",
        "\n",
        "flex_pool = FlexPool.client_server_pool(\n",
        "    flex_dataset, server_id=server_id, init_func=build_server_model\n",
        ")\n",
        "\n",
        "clients = flex_pool.clients\n",
        "servers = flex_pool.servers\n",
        "aggregators = flex_pool.aggregators\n",
        "\n",
        "print(\n",
        "    f\"Number of nodes in the pool {len(flex_pool)}: {len(servers)} server plus {len(clients)} clients. The server is also an aggregator\"\n",
        ")"
      ],
      "metadata": {
        "colab": {
          "base_uri": "https://localhost:8080/"
        },
        "id": "WXSKTWcJb9-Q",
        "outputId": "51cd26ed-8bd4-4079-94ef-3c80018a11a6"
      },
      "execution_count": null,
      "outputs": [
        {
          "output_type": "stream",
          "name": "stdout",
          "text": [
            "Number of nodes in the pool 301: 1 server plus 300 clients. The server is also an aggregator\n"
          ]
        }
      ]
    },
    {
      "cell_type": "markdown",
      "source": [
        "# Asignar $\\mathcal D_\\text{val}$ a los agregadores"
      ],
      "metadata": {
        "id": "2ANAFdnMD_lp"
      }
    },
    {
      "cell_type": "markdown",
      "source": [
        "Creamos una función `save_validation_data` que guardará el conjunto de validación que hemos creado en los modelos de los agregadores."
      ],
      "metadata": {
        "id": "_rOW9A3EiPWZ"
      }
    },
    {
      "cell_type": "code",
      "source": [
        "from copy import deepcopy\n",
        "\n",
        "def save_validation_data(agg_flex_model: FlexModel, _test_data: Dataset, **kwargs):\n",
        "    agg_flex_model[\"val_data\"] = deepcopy(kwargs[\"val_data\"])\n",
        "\n",
        "# aggregators.map(save_validation_data, val_data=val_data)"
      ],
      "metadata": {
        "id": "whpLXVA4D9zz"
      },
      "execution_count": null,
      "outputs": []
    },
    {
      "cell_type": "markdown",
      "source": [
        "# Agregar modelos locales usando FedAvg con pesos proporcionales a $n_k$"
      ],
      "metadata": {
        "id": "lXZDGVa3mV6W"
      }
    },
    {
      "cell_type": "markdown",
      "source": [
        "Cuando agregamos los modelos locales de los clientes existen dos opciones de agregación: agregar de forma uniforme todos los clientes $k\\in S_t$ (como se realiza en FedAvg [1]) o asignando un peso a cada cliente $k \\in S_t$ proporcional al tamaño de su conjunto de datos $n_k$.\n",
        "\n",
        "Para lograr este último redefinimos los pasos de __recolección de los pesos de los clientes__ y de __agregación__ para que:\n",
        "1. Por un lado, además de los pesos del modelo local $w_k^{(t)}$, se recupere su peso proporcional a $n_k$.\n",
        "2. Y por otro lado, agregar los modelos como una suma ponderada con los pesos proporcionales a $n_k$.\n",
        "\n",
        "> [1] https://arxiv.org/abs/1602.05629."
      ],
      "metadata": {
        "id": "2oyu8IH0lUmE"
      }
    },
    {
      "cell_type": "code",
      "source": [
        "from flex.pool import collect_clients_weights\n",
        "\n",
        "@collect_clients_weights\n",
        "def get_clients_weights_with_len_weights(client_flex_model: FlexModel):\n",
        "    weight_dict = client_flex_model[\"model\"].state_dict()\n",
        "    return [weight_dict[name] for name in weight_dict], client_flex_model[\"weight\"]"
      ],
      "metadata": {
        "id": "BulGLqJ6si-j"
      },
      "execution_count": null,
      "outputs": []
    },
    {
      "cell_type": "code",
      "source": [
        "def aggregate(client_model_weights: list, client_weights: list):\n",
        "    # normalize client weights\n",
        "    total_weights = sum(client_weights)\n",
        "    norm_client_weights = torch.Tensor([w / total_weights for w in client_weights]).to(device)\n",
        "\n",
        "    agg_weights = []\n",
        "    for layer_index in range(len(client_model_weights[0])):\n",
        "        weighted_sum = torch.zeros(client_model_weights[0][layer_index].shape).to(device)\n",
        "\n",
        "        # weighted average for each client in layer\n",
        "        for client_idx in range(len(client_model_weights)):\n",
        "            weighted_sum += norm_client_weights[client_idx] * client_model_weights[client_idx][layer_index].to(device)\n",
        "\n",
        "        agg_weights.append(weighted_sum)\n",
        "\n",
        "    return agg_weights"
      ],
      "metadata": {
        "id": "QPC2uqXaR8ta"
      },
      "execution_count": null,
      "outputs": []
    },
    {
      "cell_type": "code",
      "source": [
        "from flex.pool import aggregate_weights\n",
        "import tensorly as tl\n",
        "import numpy as np\n",
        "\n",
        "tl.set_backend(\"pytorch\")\n",
        "\n",
        "@aggregate_weights\n",
        "def model_average_aggregate(weights: list):\n",
        "    # separate client weights from model weights\n",
        "    client_model_weights = list(map(lambda w: w[0], weights))\n",
        "    client_weights = list(map(lambda w: w[1], weights))\n",
        "\n",
        "    return aggregate(client_model_weights, client_weights)"
      ],
      "metadata": {
        "id": "9XBymTrNmY-Q"
      },
      "execution_count": null,
      "outputs": []
    },
    {
      "cell_type": "markdown",
      "source": [
        "Definimos un paso inicial (no contenido en el _training loop_) en el que inicializamos los pesos de agregación de cada cliente para que sean $n_k$."
      ],
      "metadata": {
        "id": "3JLmRoOjnIG4"
      }
    },
    {
      "cell_type": "code",
      "source": [
        "def init_client_weights(client_flex_model: FlexModel, client_data: Dataset):\n",
        "    \"\"\"\n",
        "    Save client weights as their dataset length.\n",
        "    \"\"\"\n",
        "    client_flex_model[\"weight\"] = float(len(client_data))"
      ],
      "metadata": {
        "id": "dKL-CMaUoVdd"
      },
      "execution_count": null,
      "outputs": []
    },
    {
      "cell_type": "markdown",
      "source": [
        "# Función de utilidad $\\mathcal U(w)$\n",
        "\n",
        "El algoritmo de aproximación de valores Shapley GTG-Shapley define una función $\\mathcal U(w) := -\\mathcal L(w;\\mathcal D_\\text{val})$ que estima la utilidad de un modelo $w$ sobre el conjunto de validación $\\mathcal D_\\text{val}$ negando el valor de pérdida sobre este último. De esta manera, se puede dar una función valuación a un modelo agregado que es creciente cuanto mejor predice el conjunto de validación."
      ],
      "metadata": {
        "id": "4nYtYRqRTLUX"
      }
    },
    {
      "cell_type": "code",
      "source": [
        "import torch.nn as nn\n",
        "from typing import Callable\n",
        "\n",
        "def utility(model: nn.Module, test_data: Dataset, criterion: Callable):\n",
        "    model.eval()\n",
        "    test_loss = 0\n",
        "    test_acc = 0\n",
        "    total_count = 0\n",
        "    model = model.to(device)\n",
        "    # get test data as a torchvision object\n",
        "    test_dataset = test_data.to_torchvision_dataset(transform=mnist_transforms)\n",
        "    test_dataloader = DataLoader(\n",
        "        test_dataset, batch_size=256, shuffle=True, pin_memory=False\n",
        "    )\n",
        "    losses = []\n",
        "    with torch.no_grad():\n",
        "        for data, target in test_dataloader:\n",
        "            total_count += target.size(0)\n",
        "            data, target = data.to(device), target.to(device)\n",
        "            output = model(data)\n",
        "            losses.append(criterion(output, target).item())\n",
        "\n",
        "    test_loss = sum(losses) / len(losses)\n",
        "    return 1 - test_loss"
      ],
      "metadata": {
        "id": "yTKpUhsOTKwX"
      },
      "execution_count": null,
      "outputs": []
    },
    {
      "cell_type": "markdown",
      "source": [
        "# Test de convergencia\n",
        "\n",
        "En el algoritmo GTG-Shapley, se computan los valores de Shapley (contribución marginal media) para cada cliente $k \\in S_t$ sobre un número de determinado de iteraciones o hasta que los valores converjan computando el cambio medio en un número de iteraciones determinado. Definimos por tanto una función para comprobar si los valores de Shapley de un cliente han convergido en un número de mínimo $20$ iteraciones y para un umbral inferior de $1\\%$."
      ],
      "metadata": {
        "id": "FgmmVtrkmEws"
      }
    },
    {
      "cell_type": "code",
      "source": [
        "def convergenceTest(values):\n",
        "    \"\"\"\n",
        "    Compute average change in last 20 iterations and if it less that 1% it has converged\n",
        "    \"\"\"\n",
        "    if len(values) < 20:\n",
        "        return False\n",
        "    else:\n",
        "        last_vals = torch.Tensor(values[-20:]).to(device)\n",
        "        last_val = torch.Tensor([values[-1]]).to(device)\n",
        "\n",
        "        # avoid division by zero\n",
        "        if last_val < 1e-6:\n",
        "            return False\n",
        "\n",
        "        return (\n",
        "            torch.mean(\n",
        "                torch.abs(last_vals - last_val)\n",
        "            )\n",
        "            / torch.abs(last_val)\n",
        "        ) < 0.01"
      ],
      "metadata": {
        "id": "EIhbuHWUFv5o"
      },
      "execution_count": null,
      "outputs": []
    },
    {
      "cell_type": "markdown",
      "source": [
        "# GTG-SHAPLEY VALUES"
      ],
      "metadata": {
        "id": "ZSQzxhOjmK0s"
      }
    },
    {
      "cell_type": "markdown",
      "source": [
        "Implementamos el algoritmo de aproximación de valores de Shapley GTG-Shapley [1]. Este algoritmo depende de la función de agregación $F$ del servidor, para lo que definimos además una función que obtenga el modelo agregado dado una lista de modelos de los clientes y sus ponderaciones.\n",
        "\n",
        "Los hiperparámetros de este algoritmo son por un lado el máximo de iteraciones $T$ para cada cliente y el umbral de error $ϵ$ para considerar la contribución al modelo agregado (si la contribución es menor que $\\epsilon$ los valores de Shapley $SV_k$ son directamente $0$). En nuestro caso, daremos $T=20 \\times M$ iteraciones ($20$ por cliente seleccionado) y un umbral $\\epsilon=10^{-4}$.\n",
        "\n",
        "> [1] https://arxiv.org/abs/2109.02053."
      ],
      "metadata": {
        "id": "MgirhEGbqWxs"
      }
    },
    {
      "cell_type": "code",
      "source": [
        "import torch.nn as nn\n",
        "from copy import deepcopy\n",
        "from typing import List\n",
        "\n",
        "def get_aggregated_model(server_model: nn.Module, client_models: List[nn.Module], client_weights: List[float]):\n",
        "    client_model_weights =  []\n",
        "    for k in client_models:\n",
        "        weight_dict = k.state_dict()\n",
        "        client_model_weights.append([weight_dict[name] for name in weight_dict])\n",
        "\n",
        "    # get aggregated weights\n",
        "    aggregated_weights = aggregate(client_model_weights, client_weights)\n",
        "\n",
        "    # copy original model\n",
        "    agg_model = deepcopy(server_model)\n",
        "\n",
        "    # set aggregated weights\n",
        "    with torch.no_grad():\n",
        "        weight_dict = agg_model.state_dict()\n",
        "        for layer_key, new in zip(weight_dict, aggregated_weights):\n",
        "            weight_dict[layer_key].copy_(new)\n",
        "\n",
        "    return agg_model"
      ],
      "metadata": {
        "id": "Z6YpgTi1WWth"
      },
      "execution_count": null,
      "outputs": []
    },
    {
      "cell_type": "code",
      "source": [
        "from typing import List\n",
        "\n",
        "MAX_ITERATIONS = 30\n",
        "EPSILON = 1e-4\n",
        "\n",
        "def shapley_values_gtg(agg_model: FlexModel, client_flex_models: List[FlexModel], **kwargs):\n",
        "    \"\"\"\n",
        "    client_states - list of client states\n",
        "    weights - weights for averaging (uniform by default)\n",
        "\n",
        "    computes shapley values for the client updates on validation dataset\n",
        "    \"\"\"\n",
        "    # get arguments\n",
        "    criterion = agg_model[\"criterion\"]\n",
        "    d_val = agg_model[\"val_data\"]\n",
        "    current_model = agg_model[\"model\"]\n",
        "    uniform_weights = kwargs[\"uniform\"] if \"uniform\" in kwargs.keys() else True\n",
        "\n",
        "    num_clients = len(client_flex_models)\n",
        "\n",
        "    # parse weights for averaging model\n",
        "    weights = [client_flex_models[k][\"weight\"] for k in client_flex_models]\n",
        "    if uniform_weights:\n",
        "        # uniform weights\n",
        "        weights = [1 / num_clients] * num_clients\n",
        "    weights = np.array(weights)\n",
        "    wtsum = np.sum(weights)\n",
        "    # normalize weights\n",
        "    weights /= wtsum\n",
        "\n",
        "    shapley_values = [[0] for i in range(num_clients)]\n",
        "    converged = False\n",
        "\n",
        "    T = MAX_ITERATIONS * num_clients\n",
        "    t = 0\n",
        "    threshold = EPSILON\n",
        "\n",
        "    # initial server model t loss\n",
        "    v_init = utility(current_model, d_val, criterion)\n",
        "\n",
        "    # final model t+1 loss\n",
        "    model_final = get_aggregated_model(\n",
        "        current_model,\n",
        "        [client_flex_models[k][\"model\"] for k in client_flex_models],\n",
        "        weights,\n",
        "    )\n",
        "    v_final = utility(model_final, d_val, criterion)\n",
        "\n",
        "    # if difference in loss on aggregated model is lower than threshold, SVs are 0 (contribution is negligible)\n",
        "    if np.abs(v_final - v_init) < threshold:\n",
        "        epsilon = 1e-9\n",
        "        return [epsilon for i in range(num_clients)]\n",
        "\n",
        "    # id-independent list of client models\n",
        "    client_models = list(client_flex_models.values())\n",
        "\n",
        "    while not converged and t < T:\n",
        "        for k in range(num_clients):\n",
        "            t += 1\n",
        "\n",
        "            # get all possible combinations of selected clients having k in idx=0\n",
        "            client_permutation = np.concatenate(\n",
        "                (\n",
        "                    np.array([k]),\n",
        "                    np.random.permutation(\n",
        "                        [i for i in range(num_clients) if i != k]\n",
        "                    )\n",
        "                )\n",
        "            ).astype(int)\n",
        "\n",
        "            v_j = v_init\n",
        "\n",
        "            for j in range(num_clients):\n",
        "                if np.abs(v_final - v_j) < threshold:\n",
        "                    v_jp1 = v_j\n",
        "                else:\n",
        "                    subset = client_permutation[: (j + 1)]\n",
        "                    client_models_subset = [client_models[i][\"model\"] for i in subset]\n",
        "                    weights_subset = [weights[i] for i in subset]\n",
        "                    # aggregate the subset-clients\n",
        "                    model_subset = get_aggregated_model(current_model, client_models_subset, weights_subset)\n",
        "                    v_jp1 = utility(model_subset, d_val, criterion)\n",
        "\n",
        "                phi_old = shapley_values[client_permutation[j]][-1]\n",
        "                phi_new = ((t - 1) * phi_old + (v_jp1 - v_j)) / t\n",
        "                shapley_values[client_permutation[j]].append(phi_new)\n",
        "                v_j = v_jp1\n",
        "\n",
        "        flag = True\n",
        "        shapley_avg = np.mean(shapley_values, axis=0)\n",
        "        if not convergenceTest(shapley_avg):\n",
        "            flag = False\n",
        "\n",
        "        if flag:\n",
        "            converged = True\n",
        "\n",
        "    if not converged:\n",
        "        print(\"not converged in SV GTG\")\n",
        "\n",
        "    final_shapley_values = [shapley_values[i][-1] for i in range(num_clients)]\n",
        "    return final_shapley_values"
      ],
      "metadata": {
        "id": "zLebmYBrJenY"
      },
      "execution_count": null,
      "outputs": []
    },
    {
      "cell_type": "code",
      "source": [
        "from torch import topk\n",
        "\n",
        "from flex.data import Dataset\n",
        "\n",
        "def train_n_rounds_greedy(n_rounds, clients_per_round=20):\n",
        "    pool = FlexPool.client_server_pool(\n",
        "        fed_dataset=flex_dataset, server_id=server_id, init_func=build_server_model\n",
        "    )\n",
        "\n",
        "    num_clients = len(pool.clients)\n",
        "\n",
        "    # initialize client length weights\n",
        "    pool.clients.map(init_client_weights)\n",
        "\n",
        "    # assign validation dataset to server\n",
        "    flex_val_data = Dataset.from_torchvision_dataset(val_data)\n",
        "    pool.servers.map(save_validation_data, val_data=flex_val_data)\n",
        "\n",
        "    UCB = [0 for i in range(num_clients)]\n",
        "    SV = [0 for i in range(num_clients)]\n",
        "    SV_curr = [0 for i in range(num_clients)]\n",
        "    N_t = [0 for i in range(num_clients)]\n",
        "\n",
        "    losses = []\n",
        "    accuracies = []\n",
        "    for i in range(n_rounds):\n",
        "        print(f\"\\nRunning round: {i+1} of {n_rounds}\")\n",
        "\n",
        "        # select clients to transmit weights to\n",
        "        # initially sample every client atleast once (RR)\n",
        "        selected = [False for _ in range(num_clients)]\n",
        "        if i < np.floor(num_clients / clients_per_round):\n",
        "            print(\"RR round\")\n",
        "            for idx in range(i * clients_per_round, (i + 1) * clients_per_round):\n",
        "                selected[idx] = True\n",
        "                N_t[idx] += 1\n",
        "        elif i == np.floor(num_clients / clients_per_round):\n",
        "            print(\"Last RR round\")\n",
        "            for idx in range(i * clients_per_round, num_clients):\n",
        "                selected[idx] = True\n",
        "                N_t[idx] += 1\n",
        "\n",
        "            remaining_selections = clients_per_round * (i + 1) - num_clients\n",
        "            if remaining_selections > 0:\n",
        "                unselected_indices = list(range(0, i * clients_per_round))\n",
        "                selected_indices_subset = np.random.choice(\n",
        "                    unselected_indices, size=remaining_selections, replace=False\n",
        "                )\n",
        "\n",
        "                for idx in selected_indices_subset:\n",
        "                    selected[idx] = True\n",
        "                    N_t[idx] += 1\n",
        "        else:\n",
        "            # UCB Greedy Selection (select clients with highest SV)\n",
        "            _, selected_indices = topk(torch.Tensor(UCB), clients_per_round)\n",
        "            print(\"Best selected: \", selected_indices)\n",
        "            for idx in selected_indices.tolist():\n",
        "                selected[idx] = True\n",
        "                N_t[idx] += 1\n",
        "\n",
        "        # take selected clients\n",
        "        selected_indices = [index for index, value in enumerate(selected) if value]\n",
        "        selected_clients_pool = pool.clients.select(lambda actor_id, actor_roles: actor_id in selected_indices)\n",
        "        selected_clients = selected_clients_pool.clients\n",
        "\n",
        "        print(f\"Selected clients for this round: {len(selected_clients)}\")\n",
        "\n",
        "        # Deploy the server model to the selected clients\n",
        "        pool.servers.map(copy_server_model_to_clients, selected_clients)\n",
        "\n",
        "        # Each selected client trains its model\n",
        "        selected_clients.map(train)\n",
        "\n",
        "        # The aggregador collects weights from the selected clients and aggregates them\n",
        "        pool.aggregators.map(get_clients_weights_with_len_weights, selected_clients)\n",
        "        pool.aggregators.map(model_average_aggregate)\n",
        "\n",
        "        # compute SV values for each selected client in the server\n",
        "        shapley_values = pool.aggregators.map(shapley_values_gtg, selected_clients)[0]\n",
        "\n",
        "        print(\"GTG-Shapley values: \", shapley_values)\n",
        "\n",
        "        # The aggregator send its aggregated weights to the server\n",
        "        pool.aggregators.map(set_agreggated_weights_to_server, pool.servers)\n",
        "\n",
        "        # compute the cumulative SV of each client\n",
        "        counter = 0\n",
        "        for k in range(num_clients):\n",
        "            if selected[k]:\n",
        "                SV_curr[k] = shapley_values[counter]\n",
        "\n",
        "                # previous num selections weight/penalty\n",
        "                prev_wt = (N_t[k] - 1) / N_t[k]\n",
        "                # current num selections weight/penalty\n",
        "                curr_wt = 1 - prev_wt   # 1 / N_t[k]\n",
        "\n",
        "                # previous cumulative SV\n",
        "                prev_sv = SV[k]\n",
        "\n",
        "                # t-round SV\n",
        "                curr_sv = SV_curr[k]\n",
        "\n",
        "                # compute new cumulative SV\n",
        "                SV[k] = prev_wt * prev_sv + curr_wt * curr_sv\n",
        "\n",
        "                counter += 1\n",
        "            else:\n",
        "                SV_curr[k] = 0\n",
        "\n",
        "            UCB[k] = SV[k]\n",
        "\n",
        "        metrics = pool.servers.map(evaluate_global_model)\n",
        "        loss, acc = metrics[0]\n",
        "\n",
        "        losses.append(loss)\n",
        "        accuracies.append(acc)\n",
        "        print(f\"Server: Test acc: {acc:.4f}, test loss: {loss:.4f}\")\n",
        "\n",
        "    return losses, accuracies"
      ],
      "metadata": {
        "id": "pPUTKW4d3gEd"
      },
      "execution_count": null,
      "outputs": []
    },
    {
      "cell_type": "code",
      "source": [
        "losses, accuracies = train_n_rounds_greedy(150, clients_per_round=3)\n",
        "plot_loss_accuracy(losses, accuracies)"
      ],
      "metadata": {
        "colab": {
          "base_uri": "https://localhost:8080/"
        },
        "id": "M_wG2VpRB9Wb",
        "outputId": "3f491a64-550d-476e-cb1e-4e67f5d57885"
      },
      "execution_count": null,
      "outputs": [
        {
          "output_type": "stream",
          "name": "stdout",
          "text": [
            "\n",
            "Running round: 1 of 150\n",
            "RR round\n",
            "Selected clients for this round: 3\n",
            "GTG-Shapley values:  [0.28082140926894444, 0.4222117865943136, 0.3694769236454486]\n",
            "Server: Test acc: 0.6944, test loss: 1.2053\n",
            "\n",
            "Running round: 2 of 150\n",
            "RR round\n",
            "Selected clients for this round: 3\n",
            "GTG-Shapley values:  [0.18638246955601034, 0.20640359430931496, 0.18927515332097333]\n",
            "Server: Test acc: 0.8440, test loss: 0.6269\n",
            "\n",
            "Running round: 3 of 150\n",
            "RR round\n",
            "Selected clients for this round: 3\n",
            "GTG-Shapley values:  [0.03533198635387324, 0.04641286239194051, 0.047825965233969966]\n",
            "Server: Test acc: 0.8573, test loss: 0.4869\n",
            "\n",
            "Running round: 4 of 150\n",
            "RR round\n",
            "Selected clients for this round: 3\n",
            "GTG-Shapley values:  [0.026316463826516718, 0.014057185542378151, 0.01609528946417563]\n",
            "Server: Test acc: 0.8738, test loss: 0.4360\n",
            "\n",
            "Running round: 5 of 150\n",
            "RR round\n",
            "Selected clients for this round: 3\n",
            "GTG-Shapley values:  [0.005235784956024783, 0.018159265878111182, 0.011159723924648438]\n",
            "Server: Test acc: 0.8849, test loss: 0.3970\n",
            "\n",
            "Running round: 6 of 150\n",
            "RR round\n",
            "Selected clients for this round: 3\n",
            "GTG-Shapley values:  [0.014513243325696283, -0.010877036275351542, 0.014406934365433891]\n",
            "Server: Test acc: 0.8881, test loss: 0.3796\n",
            "\n",
            "Running round: 7 of 150\n",
            "RR round\n",
            "Selected clients for this round: 3\n",
            "GTG-Shapley values:  [0.0191411454958998, -0.008160788690427875, 0.0056747966412957025]\n",
            "Server: Test acc: 0.8900, test loss: 0.3635\n",
            "\n",
            "Running round: 8 of 150\n",
            "RR round\n",
            "Selected clients for this round: 3\n",
            "GTG-Shapley values:  [0.006736962613484554, 0.01313405303546844, -0.009784795849639719]\n",
            "Server: Test acc: 0.8946, test loss: 0.3613\n",
            "\n",
            "Running round: 9 of 150\n",
            "RR round\n",
            "Selected clients for this round: 3\n",
            "GTG-Shapley values:  [0.011352350269165918, -0.00362082810085475, -0.0034649515828342192]\n",
            "Server: Test acc: 0.8954, test loss: 0.3554\n",
            "\n",
            "Running round: 10 of 150\n",
            "RR round\n",
            "Selected clients for this round: 3\n",
            "GTG-Shapley values:  [0.01420162873306777, -0.0013815862067202316, -0.007414825071921351]\n",
            "Server: Test acc: 0.8964, test loss: 0.3457\n",
            "\n",
            "Running round: 11 of 150\n",
            "RR round\n",
            "Selected clients for this round: 3\n",
            "GTG-Shapley values:  [-0.0022392058825755827, 0.003693049223146826, -0.001075318795052716]\n",
            "Server: Test acc: 0.8970, test loss: 0.3486\n",
            "\n",
            "Running round: 12 of 150\n",
            "RR round\n",
            "Selected clients for this round: 3\n",
            "GTG-Shapley values:  [0.012858793728257389, -0.006376061637592401, 0.009773968955786907]\n",
            "Server: Test acc: 0.9041, test loss: 0.3308\n",
            "\n",
            "Running round: 13 of 150\n",
            "RR round\n",
            "Selected clients for this round: 3\n",
            "GTG-Shapley values:  [0.0020536306902026614, -0.008893440248403012, 0.007651887106492265]\n",
            "Server: Test acc: 0.9007, test loss: 0.3266\n",
            "\n",
            "Running round: 14 of 150\n",
            "RR round\n",
            "Selected clients for this round: 3\n",
            "GTG-Shapley values:  [0.0010185992796249406, 0.005458976933779798, 0.002152331920742606]\n",
            "Server: Test acc: 0.9040, test loss: 0.3225\n",
            "\n",
            "Running round: 15 of 150\n",
            "RR round\n",
            "Selected clients for this round: 3\n",
            "GTG-Shapley values:  [-0.013238477247947387, 0.02215478598709165, 0.001644422776672496]\n",
            "Server: Test acc: 0.9069, test loss: 0.3205\n",
            "\n",
            "Running round: 16 of 150\n",
            "RR round\n",
            "Selected clients for this round: 3\n",
            "not converged in SV GTG\n",
            "GTG-Shapley values:  [0.0031653718076135482, -0.020020573151167977, 0.006322079527039895]\n",
            "Server: Test acc: 0.9029, test loss: 0.3337\n",
            "\n",
            "Running round: 17 of 150\n",
            "RR round\n",
            "Selected clients for this round: 3\n",
            "GTG-Shapley values:  [0.01913288718782055, -0.012393580487313136, 0.00919166396031387]\n",
            "Server: Test acc: 0.9042, test loss: 0.3097\n",
            "\n",
            "Running round: 18 of 150\n",
            "RR round\n",
            "Selected clients for this round: 3\n",
            "GTG-Shapley values:  [-0.00030738636171923604, -0.007936001518456262, 0.015007141332133586]\n",
            "Server: Test acc: 0.9081, test loss: 0.3044\n",
            "\n",
            "Running round: 19 of 150\n",
            "RR round\n",
            "Selected clients for this round: 3\n",
            "not converged in SV GTG\n",
            "GTG-Shapley values:  [0.0024396381127355354, -0.01188743250448933, -0.0010762917481133621]\n",
            "Server: Test acc: 0.9073, test loss: 0.3248\n",
            "\n",
            "Running round: 20 of 150\n",
            "RR round\n",
            "Selected clients for this round: 3\n",
            "GTG-Shapley values:  [0.0069720915687603935, -0.013212397362444284, 0.014338795250430802]\n",
            "Server: Test acc: 0.9099, test loss: 0.3142\n",
            "\n",
            "Running round: 21 of 150\n",
            "RR round\n",
            "Selected clients for this round: 3\n",
            "GTG-Shapley values:  [0.015489116535647501, -0.015440003556721198, 0.007879499445094687]\n",
            "Server: Test acc: 0.9151, test loss: 0.2882\n",
            "\n",
            "Running round: 22 of 150\n",
            "RR round\n",
            "Selected clients for this round: 3\n",
            "GTG-Shapley values:  [-0.0047517769989815035, -0.010037883389609087, 0.017171260801718626]\n",
            "Server: Test acc: 0.9150, test loss: 0.3256\n",
            "\n",
            "Running round: 23 of 150\n",
            "RR round\n",
            "Selected clients for this round: 3\n",
            "not converged in SV GTG\n",
            "GTG-Shapley values:  [-0.010599707008887686, -0.0163538649907208, 0.014319787347077183]\n",
            "Server: Test acc: 0.9112, test loss: 0.3014\n",
            "\n",
            "Running round: 24 of 150\n",
            "RR round\n",
            "Selected clients for this round: 3\n",
            "not converged in SV GTG\n",
            "GTG-Shapley values:  [0.014383536165064924, -0.024477951232141373, -0.0004879316645311444]\n",
            "Server: Test acc: 0.9121, test loss: 0.3172\n",
            "\n",
            "Running round: 25 of 150\n",
            "RR round\n",
            "Selected clients for this round: 3\n",
            "GTG-Shapley values:  [-0.004168303874005156, -0.00733220998458222, 0.030680150654178274]\n",
            "Server: Test acc: 0.9114, test loss: 0.2945\n",
            "\n",
            "Running round: 26 of 150\n",
            "RR round\n",
            "Selected clients for this round: 3\n",
            "GTG-Shapley values:  [0.009046437590559437, 0.009285881330297825, -0.005059612180807442]\n",
            "Server: Test acc: 0.9162, test loss: 0.2928\n",
            "\n",
            "Running round: 27 of 150\n",
            "RR round\n",
            "Selected clients for this round: 3\n",
            "GTG-Shapley values:  [0.00565684483346001, 0.00536185884970902, 0.0057312811610667185]\n",
            "Server: Test acc: 0.9192, test loss: 0.2772\n",
            "\n",
            "Running round: 28 of 150\n",
            "RR round\n",
            "Selected clients for this round: 3\n",
            "not converged in SV GTG\n",
            "GTG-Shapley values:  [-0.017442347010681234, -0.0009480315496171698, -0.0005409139162259701]\n",
            "Server: Test acc: 0.9156, test loss: 0.2925\n",
            "\n",
            "Running round: 29 of 150\n",
            "RR round\n",
            "Selected clients for this round: 3\n",
            "GTG-Shapley values:  [0.027385149939927394, -0.013392862932720705, -0.007018539718641954]\n",
            "Server: Test acc: 0.9201, test loss: 0.2918\n",
            "\n",
            "Running round: 30 of 150\n",
            "RR round\n",
            "Selected clients for this round: 3\n",
            "GTG-Shapley values:  [-0.00015962733806932202, 0.0005603062013483083, 0.013501504770165842]\n",
            "Server: Test acc: 0.9240, test loss: 0.2696\n",
            "\n",
            "Running round: 31 of 150\n",
            "RR round\n",
            "Selected clients for this round: 3\n",
            "GTG-Shapley values:  [-0.0001387407638985479, 0.001867500912273538, 0.001998279806086853]\n",
            "Server: Test acc: 0.9228, test loss: 0.2715\n",
            "\n",
            "Running round: 32 of 150\n",
            "RR round\n",
            "Selected clients for this round: 3\n",
            "not converged in SV GTG\n",
            "GTG-Shapley values:  [0.0016479743094168183, -0.010276822832106982, 0.0036946414826750464]\n",
            "Server: Test acc: 0.9193, test loss: 0.2853\n",
            "\n",
            "Running round: 33 of 150\n",
            "RR round\n",
            "Selected clients for this round: 3\n",
            "GTG-Shapley values:  [-0.008067762779247452, 0.006994833239366474, 0.007301719989457775]\n",
            "Server: Test acc: 0.9217, test loss: 0.2776\n",
            "\n",
            "Running round: 34 of 150\n",
            "RR round\n",
            "Selected clients for this round: 3\n",
            "GTG-Shapley values:  [0.0019240672902978574, 0.0068919612915682585, 0.005837994287018843]\n",
            "Server: Test acc: 0.9249, test loss: 0.2613\n",
            "\n",
            "Running round: 35 of 150\n",
            "RR round\n",
            "Selected clients for this round: 3\n",
            "not converged in SV GTG\n",
            "GTG-Shapley values:  [-0.0005370018752753891, 0.01847913659422113, -0.02647719972416861]\n",
            "Server: Test acc: 0.9219, test loss: 0.2748\n",
            "\n",
            "Running round: 36 of 150\n",
            "RR round\n",
            "Selected clients for this round: 3\n",
            "GTG-Shapley values:  [0.028858294579615373, -0.019689479868001587, -0.007991208574181596]\n",
            "Server: Test acc: 0.9235, test loss: 0.2722\n",
            "\n",
            "Running round: 37 of 150\n",
            "RR round\n",
            "Selected clients for this round: 3\n",
            "GTG-Shapley values:  [0.0016754276695705437, 0.009763513171805656, -0.0029894299314497837]\n",
            "Server: Test acc: 0.9262, test loss: 0.2585\n",
            "\n",
            "Running round: 38 of 150\n",
            "RR round\n",
            "Selected clients for this round: 3\n",
            "not converged in SV GTG\n",
            "GTG-Shapley values:  [0.015367701802904721, -0.02220784406536578, -0.0067344265820427724]\n",
            "Server: Test acc: 0.9238, test loss: 0.2584\n",
            "\n",
            "Running round: 39 of 150\n",
            "RR round\n",
            "Selected clients for this round: 3\n",
            "GTG-Shapley values:  [-0.005491964828521169, 0.021399365551203565, 0.003348812000427787]\n",
            "Server: Test acc: 0.9286, test loss: 0.2461\n",
            "\n",
            "Running round: 40 of 150\n",
            "RR round\n",
            "Selected clients for this round: 3\n",
            "not converged in SV GTG\n",
            "GTG-Shapley values:  [0.025865314666613345, -0.015144062227179783, -0.03136049068530679]\n",
            "Server: Test acc: 0.9300, test loss: 0.2527\n",
            "\n",
            "Running round: 41 of 150\n",
            "RR round\n",
            "Selected clients for this round: 3\n",
            "GTG-Shapley values:  [0.01170905372231686, 0.003057231543455428, -0.0071723328293758675]\n",
            "Server: Test acc: 0.9309, test loss: 0.2730\n",
            "\n",
            "Running round: 42 of 150\n",
            "RR round\n",
            "Selected clients for this round: 3\n",
            "GTG-Shapley values:  [0.029848327714923448, 0.014659078823819607, -0.021038585483061617]\n",
            "Server: Test acc: 0.9338, test loss: 0.2544\n",
            "\n",
            "Running round: 43 of 150\n",
            "RR round\n",
            "Selected clients for this round: 3\n",
            "not converged in SV GTG\n",
            "GTG-Shapley values:  [-0.010608992810156329, -0.0034179024468781443, -0.00010347031497222911]\n",
            "Server: Test acc: 0.9314, test loss: 0.2473\n",
            "\n",
            "Running round: 44 of 150\n",
            "RR round\n",
            "Selected clients for this round: 3\n",
            "GTG-Shapley values:  [0.0022379103085552678, -0.0021070012673660076, 0.003076527898012086]\n",
            "Server: Test acc: 0.9305, test loss: 0.2399\n",
            "\n",
            "Running round: 45 of 150\n",
            "RR round\n",
            "Selected clients for this round: 3\n",
            "GTG-Shapley values:  [0.009152541474911978, -0.0020286773219175824, 0.003080060069563443]\n",
            "Server: Test acc: 0.9336, test loss: 0.2384\n",
            "\n",
            "Running round: 46 of 150\n",
            "RR round\n",
            "Selected clients for this round: 3\n",
            "not converged in SV GTG\n",
            "GTG-Shapley values:  [0.009877095986201713, -0.0018170667543619709, -0.009760308535175097]\n",
            "Server: Test acc: 0.9331, test loss: 0.2376\n",
            "\n",
            "Running round: 47 of 150\n",
            "RR round\n",
            "Selected clients for this round: 3\n",
            "GTG-Shapley values:  [0.009308213279360832, 0.032869482980975015, -0.0291699896573175]\n",
            "Server: Test acc: 0.9345, test loss: 0.2244\n",
            "\n",
            "Running round: 48 of 150\n",
            "RR round\n",
            "Selected clients for this round: 3\n",
            "not converged in SV GTG\n",
            "GTG-Shapley values:  [0.012826384591647646, -0.012662691128028473, -0.015841609100430296]\n",
            "Server: Test acc: 0.9300, test loss: 0.2484\n",
            "\n",
            "Running round: 49 of 150\n",
            "RR round\n",
            "Selected clients for this round: 3\n",
            "not converged in SV GTG\n",
            "GTG-Shapley values:  [0.013254527663085472, -0.0059887723490842345, -0.007763705828863388]\n",
            "Server: Test acc: 0.9289, test loss: 0.2513\n",
            "\n",
            "Running round: 50 of 150\n",
            "RR round\n",
            "Selected clients for this round: 3\n",
            "GTG-Shapley values:  [-0.0012098159773129822, 0.022966947281976624, -0.011973853335312909]\n",
            "Server: Test acc: 0.9337, test loss: 0.2433\n",
            "\n",
            "Running round: 51 of 150\n",
            "RR round\n",
            "Selected clients for this round: 3\n",
            "GTG-Shapley values:  [0.009582772775503182, 0.00033623556084668875, 0.003802264677294609]\n",
            "Server: Test acc: 0.9377, test loss: 0.2231\n",
            "\n",
            "Running round: 52 of 150\n",
            "RR round\n",
            "Selected clients for this round: 3\n",
            "not converged in SV GTG\n",
            "GTG-Shapley values:  [-0.006596982900062085, -0.0026548552192553945, -0.005953810853667872]\n",
            "Server: Test acc: 0.9359, test loss: 0.2257\n",
            "\n",
            "Running round: 53 of 150\n",
            "RR round\n",
            "Selected clients for this round: 3\n",
            "GTG-Shapley values:  [0.0018721937212296562, 0.008132432875239506, -0.0025652869554517784]\n",
            "Server: Test acc: 0.9365, test loss: 0.2202\n",
            "\n",
            "Running round: 54 of 150\n",
            "RR round\n",
            "Selected clients for this round: 3\n",
            "not converged in SV GTG\n",
            "GTG-Shapley values:  [0.0016308494105970572, -0.009232477678192965, 0.007196817909924436]\n",
            "Server: Test acc: 0.9388, test loss: 0.2272\n",
            "\n",
            "Running round: 55 of 150\n",
            "RR round\n",
            "Selected clients for this round: 3\n",
            "not converged in SV GTG\n",
            "GTG-Shapley values:  [-0.006123487720041408, -0.007288834362799392, 0.011700656777578035]\n",
            "Server: Test acc: 0.9341, test loss: 0.2282\n",
            "\n",
            "Running round: 56 of 150\n",
            "RR round\n",
            "Selected clients for this round: 3\n"
          ]
        }
      ]
    },
    {
      "cell_type": "code",
      "source": [
        "losses, accuracies = train_n_rounds(15, 200)\n",
        "plot_loss_accuracy(losses, accuracies)"
      ],
      "metadata": {
        "id": "8NO0jhXgf-gw"
      },
      "execution_count": null,
      "outputs": []
    },
    {
      "cell_type": "code",
      "source": [
        "losses, accuracies = train_n_rounds_afl(15, 200)\n",
        "plot_loss_accuracy(losses, accuracies)"
      ],
      "metadata": {
        "id": "fNHZXcLripPo"
      },
      "execution_count": null,
      "outputs": []
    },
    {
      "cell_type": "code",
      "source": [
        "ALPHA3 = 0.4\n",
        "losses, accuracies = train_n_rounds_afl(15, 200)\n",
        "plot_loss_accuracy(losses, accuracies)"
      ],
      "metadata": {
        "id": "l3r0nbCmpF4w"
      },
      "execution_count": null,
      "outputs": []
    },
    {
      "cell_type": "code",
      "source": [],
      "metadata": {
        "id": "Ga_F2xKqpMY7"
      },
      "execution_count": null,
      "outputs": []
    }
  ]
}