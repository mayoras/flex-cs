{
  "cells": [
    {
      "cell_type": "markdown",
      "metadata": {
        "id": "QzFVvanFrrwe"
      },
      "source": [
        "# Selección de clientes DynHybridFL - Método basado en recursos\n",
        "\n",
        "En este notebook vamos a entrenar un modelo de ML utilizando el paradigma de Aprendizaje Federado [1] para los problemas de clasificación de dígitos manuscritos MNIST [2] y clasificación de imágenes a color CIFAR-10 [3]. Usaremos estos dos problemas de visión por computador para la implementación y análisis de rendimiento del método de selección de clientes basado en recursos Dyn-HybridFL que implementa una mejora de rendimiento frente a su algoritmo base HybridFL para la gestión dinámica del $T_\\text{round}$.\n",
        "> [1] https://arxiv.org/abs/1602.05629\n",
        ">\n",
        "> [2] http://yann.lecun.com/exdb/mnist\n",
        ">\n",
        "> [3] https://www.cs.toronto.edu/~kriz/cifar.html\n",
        ">\n",
        "> [4] https://arxiv.org/abs/1905.07210"
      ]
    },
    {
      "cell_type": "code",
      "execution_count": null,
      "metadata": {
        "colab": {
          "base_uri": "https://localhost:8080/"
        },
        "execution": {
          "iopub.execute_input": "2024-09-03T00:59:35.524253Z",
          "iopub.status.busy": "2024-09-03T00:59:35.523664Z",
          "iopub.status.idle": "2024-09-03T00:59:53.000738Z",
          "shell.execute_reply": "2024-09-03T00:59:52.999774Z",
          "shell.execute_reply.started": "2024-09-03T00:59:35.524212Z"
        },
        "id": "O4BfI6bDrg3o",
        "outputId": "572cf8a0-0029-4683-dcae-466a247ce52b",
        "trusted": true
      },
      "outputs": [
        {
          "name": "stdout",
          "output_type": "stream",
          "text": [
            "FLEXible is not installed.\n",
            "Installing dependency flexible-fl...\n",
            "Collecting flexible-fl\n",
            "  Downloading flexible_fl-0.6.1-py3-none-any.whl.metadata (8.9 kB)\n",
            "Requirement already satisfied: numpy in /opt/conda/lib/python3.10/site-packages (from flexible-fl) (1.26.4)\n",
            "Requirement already satisfied: multiprocess in /opt/conda/lib/python3.10/site-packages (from flexible-fl) (0.70.16)\n",
            "Requirement already satisfied: scikit-learn in /opt/conda/lib/python3.10/site-packages (from flexible-fl) (1.2.2)\n",
            "Collecting cardinality (from flexible-fl)\n",
            "  Downloading cardinality-0.1.1.tar.gz (2.3 kB)\n",
            "  Preparing metadata (setup.py) ... \u001b[?25ldone\n",
            "\u001b[?25hCollecting sultan (from flexible-fl)\n",
            "  Downloading sultan-0.9.1-py3-none-any.whl.metadata (4.4 kB)\n",
            "Requirement already satisfied: tqdm in /opt/conda/lib/python3.10/site-packages (from flexible-fl) (4.66.4)\n",
            "Requirement already satisfied: scipy in /opt/conda/lib/python3.10/site-packages (from flexible-fl) (1.14.0)\n",
            "Collecting gdown (from flexible-fl)\n",
            "  Downloading gdown-5.2.0-py3-none-any.whl.metadata (5.8 kB)\n",
            "Collecting tensorly (from flexible-fl)\n",
            "  Downloading tensorly-0.8.1-py3-none-any.whl.metadata (8.6 kB)\n",
            "Requirement already satisfied: beautifulsoup4 in /opt/conda/lib/python3.10/site-packages (from gdown->flexible-fl) (4.12.3)\n",
            "Requirement already satisfied: filelock in /opt/conda/lib/python3.10/site-packages (from gdown->flexible-fl) (3.15.1)\n",
            "Requirement already satisfied: requests[socks] in /opt/conda/lib/python3.10/site-packages (from gdown->flexible-fl) (2.32.3)\n",
            "Requirement already satisfied: dill>=0.3.8 in /opt/conda/lib/python3.10/site-packages (from multiprocess->flexible-fl) (0.3.8)\n",
            "Requirement already satisfied: joblib>=1.1.1 in /opt/conda/lib/python3.10/site-packages (from scikit-learn->flexible-fl) (1.4.2)\n",
            "Requirement already satisfied: threadpoolctl>=2.0.0 in /opt/conda/lib/python3.10/site-packages (from scikit-learn->flexible-fl) (3.5.0)\n",
            "Requirement already satisfied: soupsieve>1.2 in /opt/conda/lib/python3.10/site-packages (from beautifulsoup4->gdown->flexible-fl) (2.5)\n",
            "Requirement already satisfied: charset-normalizer<4,>=2 in /opt/conda/lib/python3.10/site-packages (from requests[socks]->gdown->flexible-fl) (3.3.2)\n",
            "Requirement already satisfied: idna<4,>=2.5 in /opt/conda/lib/python3.10/site-packages (from requests[socks]->gdown->flexible-fl) (3.7)\n",
            "Requirement already satisfied: urllib3<3,>=1.21.1 in /opt/conda/lib/python3.10/site-packages (from requests[socks]->gdown->flexible-fl) (1.26.18)\n",
            "Requirement already satisfied: certifi>=2017.4.17 in /opt/conda/lib/python3.10/site-packages (from requests[socks]->gdown->flexible-fl) (2024.7.4)\n",
            "Requirement already satisfied: PySocks!=1.5.7,>=1.5.6 in /opt/conda/lib/python3.10/site-packages (from requests[socks]->gdown->flexible-fl) (1.7.1)\n",
            "Downloading flexible_fl-0.6.1-py3-none-any.whl (85 kB)\n",
            "\u001b[2K   \u001b[90m━━━━━━━━━━━━━━━━━━━━━━━━━━━━━━━━━━━━━━━━\u001b[0m \u001b[32m85.8/85.8 kB\u001b[0m \u001b[31m1.4 MB/s\u001b[0m eta \u001b[36m0:00:00\u001b[0meta \u001b[36m0:00:01\u001b[0m\n",
            "\u001b[?25hDownloading gdown-5.2.0-py3-none-any.whl (18 kB)\n",
            "Downloading sultan-0.9.1-py3-none-any.whl (16 kB)\n",
            "Downloading tensorly-0.8.1-py3-none-any.whl (229 kB)\n",
            "\u001b[2K   \u001b[90m━━━━━━━━━━━━━━━━━━━━━━━━━━━━━━━━━━━━━━━━\u001b[0m \u001b[32m229.7/229.7 kB\u001b[0m \u001b[31m4.2 MB/s\u001b[0m eta \u001b[36m0:00:00\u001b[0ma \u001b[36m0:00:01\u001b[0m\n",
            "\u001b[?25hBuilding wheels for collected packages: cardinality\n",
            "  Building wheel for cardinality (setup.py) ... \u001b[?25ldone\n",
            "\u001b[?25h  Created wheel for cardinality: filename=cardinality-0.1.1-py3-none-any.whl size=2587 sha256=daa874944b53bf74856bbb9aeddc3c7748697930cd8bd1f8cdb29c11059e14bd\n",
            "  Stored in directory: /root/.cache/pip/wheels/b8/19/d1/2665c004b583a7d1880fa59055a3e462d6e35841a01b57010b\n",
            "Successfully built cardinality\n",
            "Installing collected packages: sultan, cardinality, tensorly, gdown, flexible-fl\n",
            "Successfully installed cardinality-0.1.1 flexible-fl-0.6.1 gdown-5.2.0 sultan-0.9.1 tensorly-0.8.1\n"
          ]
        }
      ],
      "source": [
        "# install FLEXible framework if not installed\n",
        "try:\n",
        "    import flex\n",
        "    print(\"FLEXible is installed.\")\n",
        "except:\n",
        "    print(\"FLEXible is not installed.\\nInstalling dependency flexible-fl...\")\n",
        "    !pip install flexible-fl"
      ]
    },
    {
      "cell_type": "code",
      "execution_count": null,
      "metadata": {
        "execution": {
          "iopub.execute_input": "2024-09-03T00:59:53.002944Z",
          "iopub.status.busy": "2024-09-03T00:59:53.002606Z",
          "iopub.status.idle": "2024-09-03T01:00:06.138876Z",
          "shell.execute_reply": "2024-09-03T01:00:06.137715Z",
          "shell.execute_reply.started": "2024-09-03T00:59:53.002897Z"
        },
        "id": "P0KxZx3NUQBU",
        "outputId": "2b3a37e8-a985-443e-fd7b-43e281780420",
        "trusted": true
      },
      "outputs": [
        {
          "name": "stdout",
          "output_type": "stream",
          "text": [
            "torchsummary is not installed.\n",
            "Installing dependency torchsummary...\n",
            "Collecting torchsummary\n",
            "  Downloading torchsummary-1.5.1-py3-none-any.whl.metadata (296 bytes)\n",
            "Downloading torchsummary-1.5.1-py3-none-any.whl (2.8 kB)\n",
            "Installing collected packages: torchsummary\n",
            "Successfully installed torchsummary-1.5.1\n"
          ]
        }
      ],
      "source": [
        "# install Torchsummary if not installed\n",
        "try:\n",
        "    import torchsummary\n",
        "    print(\"torchsummary is installed.\")\n",
        "except:\n",
        "    print(\"torchsummary is not installed.\\nInstalling dependency torchsummary...\")\n",
        "    !pip install torchsummary"
      ]
    },
    {
      "cell_type": "code",
      "execution_count": null,
      "metadata": {
        "execution": {
          "iopub.execute_input": "2024-09-03T01:00:06.141038Z",
          "iopub.status.busy": "2024-09-03T01:00:06.140599Z",
          "iopub.status.idle": "2024-09-03T01:00:06.150157Z",
          "shell.execute_reply": "2024-09-03T01:00:06.149111Z",
          "shell.execute_reply.started": "2024-09-03T01:00:06.140991Z"
        },
        "id": "-31n0URu8tVs",
        "trusted": true
      },
      "outputs": [],
      "source": [
        "import matplotlib.pyplot as plt\n",
        "\n",
        "def plot_loss_accuracy(loss, accuracy, title=\"Learning Curves\"):\n",
        "    # Example data\n",
        "    epochs = range(1, len(loss) + 1)\n",
        "\n",
        "    # Plot loss\n",
        "    plt.figure(figsize=(12, 5))\n",
        "\n",
        "    plt.subplot(1, 2, 1)\n",
        "    plt.plot(epochs, loss, 'b', label='Loss')\n",
        "    plt.title('Loss over Epochs')\n",
        "    plt.xlabel('Epochs')\n",
        "    plt.ylabel('Loss')\n",
        "    plt.legend()\n",
        "\n",
        "    # Plot accuracy\n",
        "    plt.subplot(1, 2, 2)\n",
        "    plt.plot(epochs, accuracy, 'g', label='Accuracy')\n",
        "    plt.title(\"Accuracy over Epochs\")\n",
        "    plt.xlabel('Epochs')\n",
        "    plt.ylabel('Accuracy')\n",
        "    plt.legend()\n",
        "\n",
        "    plt.suptitle(title)\n",
        "\n",
        "    # Show the plots\n",
        "    plt.tight_layout()\n",
        "    plt.show()"
      ]
    },
    {
      "cell_type": "code",
      "execution_count": null,
      "metadata": {
        "colab": {
          "base_uri": "https://localhost:8080/",
          "height": 35
        },
        "execution": {
          "iopub.execute_input": "2024-09-03T01:00:06.152833Z",
          "iopub.status.busy": "2024-09-03T01:00:06.152499Z",
          "iopub.status.idle": "2024-09-03T01:00:09.354840Z",
          "shell.execute_reply": "2024-09-03T01:00:09.353859Z",
          "shell.execute_reply.started": "2024-09-03T01:00:06.152789Z"
        },
        "id": "5jdIu00Ftc1u",
        "outputId": "6a1eb568-f51e-4bbe-e6eb-263b1bdbd10a",
        "trusted": true
      },
      "outputs": [
        {
          "data": {
            "text/plain": [
              "'cuda'"
            ]
          },
          "execution_count": 4,
          "metadata": {},
          "output_type": "execute_result"
        }
      ],
      "source": [
        "import torch\n",
        "\n",
        "# select device\n",
        "device = (\n",
        "    \"cuda\"\n",
        "    if torch.cuda.is_available()\n",
        "    else \"mps\" if torch.backends.mps.is_available() else \"cpu\"\n",
        ")\n",
        "device"
      ]
    },
    {
      "cell_type": "markdown",
      "metadata": {
        "id": "9UZfbqtUDaFs"
      },
      "source": [
        "# Cargar datasets - MNIST, CIFAR-10\n"
      ]
    },
    {
      "cell_type": "markdown",
      "metadata": {
        "id": "ifH3o8d56GnN"
      },
      "source": [
        "## Distribución de los datos\n",
        "\n",
        "Para la distribución de los datos preparamos una federación para ambos datasets en el que simulamos clientes __heterogéneos__ en cuestión tanto de clases como del tamaño de sus conjuntos de datos. Nos basamos en la federación que realizan en [1].\n",
        "\n",
        "Para poder crear un escenario de clientes heterogéneos, suponemos un dataset de $10$ clases que puede ser cualquiera de los que estamos utilizando (MNIST o CIFAR-10). Luego realizamos una federación con la siguiente descripción de [1]: _\"muestrear dos/diez clases para cada cliente para CIFAR-10/CIFAR-100 $^1$; Luego, para cada cliente $i$ y una clase seleccionada $c$, muestreamos $\\alpha_{i,c} \\sim U(.4, .6)$, y lo asignamos con $\\frac{\\alpha_{i,c}}{\\sum_j{\\alpha_{j,c}}}$ de los ejemplos para esta clase. Repetimos lo anterior para $10, 50$ y $100$ clientes.\"_ De esta forma, creamos una distribución de datos en el que cada cliente tendrán un número de clases diferente al resto y con diferentes tamaños, formando una distribución no-IID de datos.\n",
        "\n",
        "> $^1$ En nuestro caso solo será para CIFAR-10 y MNIST, es decir, suponemos siempre $10$ clases.\n",
        ">\n",
        "> [1] https://arxiv.org/abs/2103.04628."
      ]
    },
    {
      "cell_type": "markdown",
      "metadata": {
        "id": "mpYlmmd6qt00"
      },
      "source": [
        "## MNIST\n",
        "El primero será MNIST (Modified National Institute of Standards and Technology database), que consiste en imágenes de $28$ pixeles de ancho y alto en escala de grises de dígitos manuscritos del $0$ al $9$. Formalmente, definimos el problema de ML como un problema de clasificación multiclase, donde definimos una imagen de entrada $X_n \\in \\mathcal X$ se define como una matriz $X_{28\\times 28}, x_i \\in \\{1, ..., 255\\}$, donde $x_i$ es un pixel de la imagen $X$. Cada imágen de entrada $X_n\\in \\mathcal X$ es etiquetada con una clase $y_n \\in \\mathcal Y, y = \\{0, 1, ..., 9\\}$ que representa el dígito al que corresponde la imagen. El conjunto de entrenamiento consta de $N=240,000$ imágenes.\n",
        "\n",
        "El dataset descargado será el de _Extended MNIST_ [1], que comprende una versión extendida del concepto original de MNIST para proporcionar dígitos y letras manuscritas, una cantidad más grande de datos, diferentes formas de separar los datos (solo dígitos, letras, por clase, ...), etc. Nosotros solo utilizaremos los dígitos para entrenar el clásico MNIST, del cual su versión extendida consta de $N = 280,000$ imágenes de dígitos manuscritos.\n",
        "\n",
        "Para poder federar EMNIST, debemos de crear una configuración con `FedDatasetConfig` para poder especificar como queremos distribuir los datos y a cuántos nodos queremos federarlo y luego utilizar la clase `FedDataDistribution` para poder crear el dataset federado. Definimos también las transformaciones a realizar a los datos que son simplemente normalizar cada pixel a valores de $[0,1]$ (función `ToTensor()`) y normalizar los valores de cada pixel con una media y desviación estándar de $0.5$.\n",
        "\n",
        "> [1] https://www.nist.gov/itl/products-and-services/emnist-dataset"
      ]
    },
    {
      "cell_type": "code",
      "execution_count": null,
      "metadata": {
        "execution": {
          "iopub.execute_input": "2024-09-03T01:00:09.356315Z",
          "iopub.status.busy": "2024-09-03T01:00:09.355929Z",
          "iopub.status.idle": "2024-09-03T01:00:24.031897Z",
          "shell.execute_reply": "2024-09-03T01:00:24.031046Z",
          "shell.execute_reply.started": "2024-09-03T01:00:09.356282Z"
        },
        "id": "MgXRNHJlq5OB",
        "outputId": "2af33c5e-570c-4b5e-97c3-90e59c8b59db",
        "trusted": true
      },
      "outputs": [
        {
          "name": "stdout",
          "output_type": "stream",
          "text": [
            "Downloading http://yann.lecun.com/exdb/mnist/train-images-idx3-ubyte.gz\n",
            "Failed to download (trying next):\n",
            "HTTP Error 403: Forbidden\n",
            "\n",
            "Downloading https://ossci-datasets.s3.amazonaws.com/mnist/train-images-idx3-ubyte.gz\n",
            "Downloading https://ossci-datasets.s3.amazonaws.com/mnist/train-images-idx3-ubyte.gz to ./MNIST/raw/train-images-idx3-ubyte.gz\n"
          ]
        },
        {
          "name": "stderr",
          "output_type": "stream",
          "text": [
            "100%|██████████| 9912422/9912422 [00:00<00:00, 33131251.10it/s]\n"
          ]
        },
        {
          "name": "stdout",
          "output_type": "stream",
          "text": [
            "Extracting ./MNIST/raw/train-images-idx3-ubyte.gz to ./MNIST/raw\n",
            "\n",
            "Downloading http://yann.lecun.com/exdb/mnist/train-labels-idx1-ubyte.gz\n",
            "Failed to download (trying next):\n",
            "HTTP Error 403: Forbidden\n",
            "\n",
            "Downloading https://ossci-datasets.s3.amazonaws.com/mnist/train-labels-idx1-ubyte.gz\n",
            "Downloading https://ossci-datasets.s3.amazonaws.com/mnist/train-labels-idx1-ubyte.gz to ./MNIST/raw/train-labels-idx1-ubyte.gz\n"
          ]
        },
        {
          "name": "stderr",
          "output_type": "stream",
          "text": [
            "100%|██████████| 28881/28881 [00:00<00:00, 1045363.65it/s]\n"
          ]
        },
        {
          "name": "stdout",
          "output_type": "stream",
          "text": [
            "Extracting ./MNIST/raw/train-labels-idx1-ubyte.gz to ./MNIST/raw\n",
            "\n",
            "Downloading http://yann.lecun.com/exdb/mnist/t10k-images-idx3-ubyte.gz\n",
            "Failed to download (trying next):\n",
            "HTTP Error 403: Forbidden\n",
            "\n",
            "Downloading https://ossci-datasets.s3.amazonaws.com/mnist/t10k-images-idx3-ubyte.gz\n",
            "Downloading https://ossci-datasets.s3.amazonaws.com/mnist/t10k-images-idx3-ubyte.gz to ./MNIST/raw/t10k-images-idx3-ubyte.gz\n"
          ]
        },
        {
          "name": "stderr",
          "output_type": "stream",
          "text": [
            "100%|██████████| 1648877/1648877 [00:00<00:00, 8208646.51it/s]\n"
          ]
        },
        {
          "name": "stdout",
          "output_type": "stream",
          "text": [
            "Extracting ./MNIST/raw/t10k-images-idx3-ubyte.gz to ./MNIST/raw\n",
            "\n",
            "Downloading http://yann.lecun.com/exdb/mnist/t10k-labels-idx1-ubyte.gz\n",
            "Failed to download (trying next):\n",
            "HTTP Error 403: Forbidden\n",
            "\n",
            "Downloading https://ossci-datasets.s3.amazonaws.com/mnist/t10k-labels-idx1-ubyte.gz\n",
            "Downloading https://ossci-datasets.s3.amazonaws.com/mnist/t10k-labels-idx1-ubyte.gz to ./MNIST/raw/t10k-labels-idx1-ubyte.gz\n"
          ]
        },
        {
          "name": "stderr",
          "output_type": "stream",
          "text": [
            "100%|██████████| 4542/4542 [00:00<00:00, 4565187.82it/s]\n"
          ]
        },
        {
          "name": "stdout",
          "output_type": "stream",
          "text": [
            "Extracting ./MNIST/raw/t10k-labels-idx1-ubyte.gz to ./MNIST/raw\n",
            "\n"
          ]
        }
      ],
      "source": [
        "import math\n",
        "import numpy as np\n",
        "\n",
        "from copy import deepcopy\n",
        "from torchvision import datasets, transforms\n",
        "from flex.data import Dataset, FedDatasetConfig, FedDataDistribution\n",
        "\n",
        "K_mnist = 1000\n",
        "\n",
        "train_data = datasets.MNIST(\n",
        "    root='.',\n",
        "    train=True,\n",
        "    download=True,\n",
        "    transform=None  # we apply them later in training process\n",
        ")\n",
        "\n",
        "test_data = datasets.MNIST(\n",
        "    root='.',\n",
        "    train=False,\n",
        "    download=True,\n",
        "    transform=None  # we apply them later in training process\n",
        ")\n",
        "\n",
        "config = FedDatasetConfig(seed=33)\n",
        "config.replacement = False\n",
        "config.n_nodes = K_mnist\n",
        "\n",
        "# assign a sample proportion for each node-class pair (https://arxiv.org/abs/2404.06127)\n",
        "num_classes = 10\n",
        "alphas = np.random.uniform(low=0.4, high=0.6, size=(config.n_nodes, num_classes))\n",
        "alphas = alphas / np.sum(alphas, axis=0)\n",
        "config.weights_per_label = alphas\n",
        "\n",
        "# create Federated data distribution of MNIST\n",
        "flex_dataset_mnist = FedDataDistribution.from_config(\n",
        "    centralized_data=Dataset.from_torchvision_dataset(train_data), config=config\n",
        ")\n",
        "\n",
        "# assign test data to server_id\n",
        "server_id = \"server\"\n",
        "flex_dataset_mnist[server_id] = Dataset.from_torchvision_dataset(test_data)\n",
        "\n",
        "# apply transforms\n",
        "mnist_transforms = transforms.Compose(\n",
        "    [transforms.ToTensor(), transforms.Normalize((0.5,), (0.5,))]\n",
        ")"
      ]
    },
    {
      "cell_type": "markdown",
      "metadata": {
        "id": "WHe9Mj56q8WT"
      },
      "source": [
        "## CIFAR-10\n",
        "\n",
        "El segundo dataset es CIFAR-10 (_Canadian Institute for Advanced Research_)[1], el cual es otro de los datasets junto con MNIST, más utilizados en el campo del Deep Learning y Visión por Computador. CIFAR-10 consiste en una colección de imágenes de $32$ pixeles de altura y de ancho a color ($3$ canales RGB) representando $10$ objetos reales:\n",
        "- Avión (airplane)\n",
        "- Automóvil (automobile)\n",
        "- Pájaro (bird)\n",
        "- Gato (cat)\n",
        "- Ciervo (deer)\n",
        "- Perro (dog)\n",
        "- Rana (frog)\n",
        "- Caballo (horse)\n",
        "- Barco (ship)\n",
        "- Camión (truck)\n",
        "\n",
        "Formalmente, definimos el problema de ML como un problema de clasificación multiclase, donde definimos una imagen de entrada $X_n \\in \\mathcal X$ se define como una matriz $X_{32\\times 32 \\times 3}, x_i \\in \\{1, ..., 255\\}$, donde $x_i^c$ es un pixel de la imagen $X$ en el canal $c$. Cada imágen de entrada $X_n\\in \\mathcal X$ es etiquetada con una clase $y_n \\in \\mathcal Y, y = \\{0, 1, ..., 9\\}$ tal que indexa la lista de clases $C=(c_0=\\text{plane}, c_1=\\text{automobile}, ..., c_9=\\text{truck})$. El conjunto de entrenamiento consta de $N=50,000$ datos de entrada.\n",
        "\n",
        "Realizamos la misma serie de operaciones que con EMNIST, para el mismo número de clientes, $K = 1000$ (sin contar el servidor). Definimos también las transformaciones para escalar los valores a $[0,1]$ y normalizar con medias y desviaciones estándar específicas de CIFAR-10 [2].\n",
        "\n",
        "> [1] https://www.cs.toronto.edu/~kriz/cifar.html\n",
        ">\n",
        "> [2] https://github.com/kuangliu/pytorch-cifar/issues/19"
      ]
    },
    {
      "cell_type": "code",
      "execution_count": null,
      "metadata": {
        "colab": {
          "base_uri": "https://localhost:8080/"
        },
        "execution": {
          "iopub.execute_input": "2024-09-03T01:00:24.033671Z",
          "iopub.status.busy": "2024-09-03T01:00:24.033162Z",
          "iopub.status.idle": "2024-09-03T01:00:38.547219Z",
          "shell.execute_reply": "2024-09-03T01:00:38.546421Z",
          "shell.execute_reply.started": "2024-09-03T01:00:24.033633Z"
        },
        "id": "XelUmbiKq-_S",
        "outputId": "5ad8c083-adbb-43da-92a6-9393dd9e8751",
        "trusted": true
      },
      "outputs": [
        {
          "name": "stdout",
          "output_type": "stream",
          "text": [
            "Downloading https://www.cs.toronto.edu/~kriz/cifar-10-python.tar.gz to ./cifar-10-python.tar.gz\n"
          ]
        },
        {
          "name": "stderr",
          "output_type": "stream",
          "text": [
            "100%|██████████| 170498071/170498071 [00:02<00:00, 72263674.14it/s]\n"
          ]
        },
        {
          "name": "stdout",
          "output_type": "stream",
          "text": [
            "Extracting ./cifar-10-python.tar.gz to .\n",
            "Files already downloaded and verified\n"
          ]
        }
      ],
      "source": [
        "import torch\n",
        "from torchvision import datasets, transforms\n",
        "from torch.utils.data import DataLoader\n",
        "\n",
        "from flex.data import FedDataDistribution, FedDatasetConfig, Dataset\n",
        "\n",
        "K_cifar = 1000\n",
        "\n",
        "train_data = datasets.CIFAR10(\n",
        "    root=\".\",\n",
        "    train=True,\n",
        "    download=True,\n",
        "    transform=None,  # we apply them later in training process\n",
        ")\n",
        "\n",
        "test_data = datasets.CIFAR10(\n",
        "    root=\".\",\n",
        "    train=False,\n",
        "    download=True,\n",
        "    transform=None,  # we apply them later in training process\n",
        ")\n",
        "\n",
        "config = FedDatasetConfig(seed=33)\n",
        "config.replacement = False\n",
        "config.n_nodes = K_cifar\n",
        "\n",
        "num_classes = 10\n",
        "\n",
        "# assign a sample proportion for each node-class pair\n",
        "alphas = np.random.uniform(low=0.4, high=0.6, size=(config.n_nodes, num_classes))\n",
        "alphas = alphas / np.sum(alphas, axis=0)\n",
        "config.weights_per_label = alphas\n",
        "\n",
        "# create Federated data distribution of CIFAR-10\n",
        "flex_dataset_cifar = FedDataDistribution.from_config(\n",
        "    centralized_data=Dataset.from_torchvision_dataset(train_data),\n",
        "    config=config\n",
        ")\n",
        "\n",
        "# assign test data to server_id\n",
        "server_id = \"server\"\n",
        "flex_dataset_cifar[server_id] = Dataset.from_torchvision_dataset(test_data)\n",
        "\n",
        "# apply transforms\n",
        "cifar_transforms = transforms.Compose([\n",
        "    transforms.ToTensor(),\n",
        "    transforms.Normalize((0.4914, 0.4822, 0.4465), (0.247, 0.243, 0.261))  # Normalizar con las medias y desviaciones estándar específicas de CIFAR-10\n",
        "])"
      ]
    },
    {
      "cell_type": "markdown",
      "metadata": {
        "id": "RJLc-rB4gfzS"
      },
      "source": [
        "# Modelos de aprendizaje\n",
        "\n",
        "Definimos dos modelos de Machine Learning, uno para cada uno de los dos datasets que hemos definido anteriormente. Para ambos problemas, usaremos como función de pérdida o _criterion_ la función de entropía cruzada o _Cross Entropy Loss_ cuya definición [1] la define como (para una muestra $n$):\n",
        "\n",
        "$$l_n = -w_{y_n} \\cdot \\log \\frac{\\exp (x_n, y_n)}{\\sum_{c=0}^C \\exp (x_n, c)} =-w_{y_n}\\cdot \\log (\\text{Softmax} (x_n, y_n))$$\n",
        "\n",
        "En ambos problemas utilizaremos Adam [2] como optimizador o algoritmo de aprendizaje. Utilizaremos los mismos parámetros que en [2] al haber hecho los experimentos sobre modelos similares y con los mismos datasets que estamos usando y que han demostrando buenos resultados: $\\eta = 0.01$ y $\\beta_1 = 0.9,\\beta_2 = 0.999$. Estos parámetros están definidos por defecto en la librería de PyTorch [3].\n",
        "\n",
        "> [1] https://pytorch.org/docs/stable/generated/torch.nn.CrossEntropyLoss.html\n",
        ">\n",
        "> [2] https://arxiv.org/abs/1412.6980\n",
        ">\n",
        "> [3] https://pytorch.org/docs/stable/generated/torch.optim.Adam.html\n",
        "\n",
        "---\n",
        "\n",
        "\n"
      ]
    },
    {
      "cell_type": "markdown",
      "metadata": {
        "id": "vYPizwuhm28X"
      },
      "source": [
        "## Perceptrón Multicapa (MNIST)\n",
        "\n",
        "El primero, que lo usaremos para ajustar MNIST, será un Perceptrón Multicapa (MLP) de dos capas ocultas de $128$ unidades la primera y $10$ la segunda (correspondiente al número de clases), y usando ReLU [1] como función de activación.\n",
        "\n",
        "El modelo inicialmente lo tendrá el servidor y será copiado a cada uno de los clientes. En FLEX usamos el decorador `@init_model_server` para inicializar el modelo en el servidor, donde también podemos además de nuestra arquitectura del modelo, el optimizador y la función de pérdida a usar.\n",
        "\n",
        "> [1] https://en.wikipedia.org/wiki/Rectifier_(neural_networks)"
      ]
    },
    {
      "cell_type": "code",
      "execution_count": null,
      "metadata": {
        "execution": {
          "iopub.execute_input": "2024-09-03T01:00:38.548686Z",
          "iopub.status.busy": "2024-09-03T01:00:38.548368Z",
          "iopub.status.idle": "2024-09-03T01:00:38.556164Z",
          "shell.execute_reply": "2024-09-03T01:00:38.555118Z",
          "shell.execute_reply.started": "2024-09-03T01:00:38.548652Z"
        },
        "id": "wro1kxtkw1w0",
        "trusted": true
      },
      "outputs": [],
      "source": [
        "from typing import Tuple\n",
        "\n",
        "import torch.nn as nn\n",
        "import torch.nn.functional as F\n",
        "\n",
        "\n",
        "class MLP(nn.Module):\n",
        "    \"\"\"\n",
        "    Multi-layer Perceptron classifier with two hidden layers.\n",
        "    \"\"\"\n",
        "    def __init__(self, in_features: Tuple[int, int], hidden_features: int, num_classes: int = 10):\n",
        "        super().__init__()\n",
        "\n",
        "        width, height = in_features\n",
        "\n",
        "        self.flatten = nn.Flatten()\n",
        "        self.fc1 = nn.Linear(width * height, hidden_features)\n",
        "        self.fc2 = nn.Linear(hidden_features, num_classes)\n",
        "\n",
        "    def forward(self, x):\n",
        "        x = self.flatten(x)\n",
        "        x = self.fc1(x)\n",
        "        x = F.relu(x)\n",
        "        x = self.fc2(x)\n",
        "\n",
        "        return x"
      ]
    },
    {
      "cell_type": "code",
      "execution_count": null,
      "metadata": {
        "colab": {
          "base_uri": "https://localhost:8080/"
        },
        "execution": {
          "iopub.execute_input": "2024-09-03T01:00:38.558309Z",
          "iopub.status.busy": "2024-09-03T01:00:38.557433Z",
          "iopub.status.idle": "2024-09-03T01:00:38.902568Z",
          "shell.execute_reply": "2024-09-03T01:00:38.901668Z",
          "shell.execute_reply.started": "2024-09-03T01:00:38.558264Z"
        },
        "id": "x7ZM-36OLxUe",
        "outputId": "bdcf840a-ecf0-405b-8b8b-7a7c77647128",
        "trusted": true
      },
      "outputs": [
        {
          "name": "stdout",
          "output_type": "stream",
          "text": [
            "----------------------------------------------------------------\n",
            "        Layer (type)               Output Shape         Param #\n",
            "================================================================\n",
            "           Flatten-1                  [-1, 784]               0\n",
            "            Linear-2                  [-1, 128]         100,480\n",
            "            Linear-3                   [-1, 10]           1,290\n",
            "================================================================\n",
            "Total params: 101,770\n",
            "Trainable params: 101,770\n",
            "Non-trainable params: 0\n",
            "----------------------------------------------------------------\n",
            "Input size (MB): 0.00\n",
            "Forward/backward pass size (MB): 0.01\n",
            "Params size (MB): 0.39\n",
            "Estimated Total Size (MB): 0.40\n",
            "----------------------------------------------------------------\n"
          ]
        }
      ],
      "source": [
        "import torchsummary\n",
        "\n",
        "torchsummary.summary(MLP((28, 28), 128).to(device), (1, 28, 28), device=str(device))"
      ]
    },
    {
      "cell_type": "markdown",
      "metadata": {
        "id": "4yopVMZI6lNJ"
      },
      "source": [
        "## Red Neuronal Convolucional (CNN) - CIFAR-10\n",
        "\n",
        "Para nuestro segundo problema, que consta de ajustar un modelo para clasificar CIFAR-10, utilizaremos un red neuronal convolucional o CNN. A diferencia de MNIST, CIFAR-10 tiene unos datos de entrada con una dimensionalidad más compleja, por lo que utilizar una CNN reduciría la cantidad de parámetros necesarios a entrenar.\n",
        "\n",
        "Usaremos la red neuronal convolucional usada en la configuración experimental de HybridFL, que consiste en una CNN estándar que consiste en _\"seis capas de convolución de 3 × 3 (con 32, 32, 64, 64, 128 y 128 canales, cada una de las cuales se activaba utilizando ReLU y se normalizaba por lotes, y cada dos de las cuales estaban seguidas de un max pooling de 2 × 2), seguidas de tres capas completamente conectadas (con 512 y 192 unidades activadas utilizando ReLU [2] y otras 10 unidades activadas utilizando soft-max).\"_ [1].\n",
        "\n",
        "> [1] https://arxiv.org/abs/1905.0721\n",
        ">\n",
        "> [2] https://en.wikipedia.org/wiki/Rectifier_(neural_networks)"
      ]
    },
    {
      "cell_type": "code",
      "execution_count": null,
      "metadata": {
        "execution": {
          "iopub.execute_input": "2024-09-03T01:00:38.904169Z",
          "iopub.status.busy": "2024-09-03T01:00:38.903840Z",
          "iopub.status.idle": "2024-09-03T01:00:38.925455Z",
          "shell.execute_reply": "2024-09-03T01:00:38.924577Z",
          "shell.execute_reply.started": "2024-09-03T01:00:38.904136Z"
        },
        "id": "tQoV9QXozrXI",
        "trusted": true
      },
      "outputs": [],
      "source": [
        "import numpy as np\n",
        "import torch.nn as nn\n",
        "import torch.nn.functional as F\n",
        "\n",
        "class CNN(nn.Module):\n",
        "    \"\"\"\n",
        "    Convolucional Neural Net classifier for CIFAR-10 image recognition (32x32 images).\n",
        "\n",
        "    Model architecture taken from HybridFL experimental setting:\n",
        "    - https://arxiv.org/abs/1905.07210\n",
        "    \"\"\"\n",
        "    def __init__(self, in_channels: int, in_width: int = 32, in_height: int = 32, output_dim: int = 10):\n",
        "        super(CNN, self).__init__()\n",
        "\n",
        "        self.in_channels = in_channels\n",
        "        self.input_w = in_width\n",
        "        self.input_h = in_height\n",
        "        self.num_classes = output_dim\n",
        "\n",
        "        # Pooling Layer (applied every two layers)\n",
        "        self.pool = nn.MaxPool2d(kernel_size=2, stride=2)\n",
        "\n",
        "        # First layer\n",
        "        self.conv1 = nn.Conv2d(in_channels=self.in_channels, out_channels=32, kernel_size=3, padding=1)\n",
        "        self.bn1 = nn.BatchNorm2d(32)\n",
        "\n",
        "        output_w_1, output_h_1 = self.__conv_output_dims(\n",
        "            self.input_w, self.input_h, 3, 1\n",
        "        )\n",
        "\n",
        "        # Second layer\n",
        "        self.conv2 = nn.Conv2d(in_channels=32, out_channels=32, kernel_size=3, padding=1)\n",
        "        self.bn2 = nn.BatchNorm2d(32)\n",
        "\n",
        "        output_w_2, output_h_2 = self.__conv_output_dims(\n",
        "            output_w_1, output_h_1, 3, 1\n",
        "        )\n",
        "\n",
        "        # after pooling\n",
        "        output_w_2, output_h_2 = self.__pool_output_dims(\n",
        "            output_w_2, output_h_2, 2, 2\n",
        "        )\n",
        "\n",
        "        # Third layer\n",
        "        self.conv3 = nn.Conv2d(in_channels=32, out_channels=64, kernel_size=3, padding=1)\n",
        "        self.bn3 = nn.BatchNorm2d(64)\n",
        "\n",
        "        output_w_3, output_h_3 = self.__conv_output_dims(\n",
        "            output_w_2, output_h_2, 3, 1\n",
        "        )\n",
        "\n",
        "        # Fourth layer\n",
        "        self.conv4 = nn.Conv2d(in_channels=64, out_channels=64, kernel_size=3, padding=1)\n",
        "        self.bn4 = nn.BatchNorm2d(64)\n",
        "\n",
        "        output_w_4, output_h_4 = self.__conv_output_dims(\n",
        "            output_w_3, output_h_3, 3, 1\n",
        "        )\n",
        "\n",
        "        # after pooling\n",
        "        output_w_4, output_h_4 = self.__pool_output_dims(\n",
        "            output_w_4, output_h_4, 2, 2\n",
        "        )\n",
        "\n",
        "        # Fifth layer\n",
        "        self.conv5 = nn.Conv2d(in_channels=64, out_channels=128, kernel_size=3, padding=1)\n",
        "        self.bn5 = nn.BatchNorm2d(128)\n",
        "\n",
        "        output_w_5, output_h_5 = self.__conv_output_dims(\n",
        "            output_w_4, output_h_4, 3, 1\n",
        "        )\n",
        "\n",
        "        # Sixth layer\n",
        "        self.conv6 = nn.Conv2d(in_channels=128, out_channels=128, kernel_size=3, padding=1)\n",
        "        self.bn6 = nn.BatchNorm2d(128)\n",
        "\n",
        "        output_w_6, output_h_6 = self.__conv_output_dims(\n",
        "            output_w_5, output_h_5, 3, 1\n",
        "        )\n",
        "\n",
        "        # after pooling\n",
        "        output_w_6, output_h_6 = self.__pool_output_dims(\n",
        "            output_w_6, output_h_6, 2, 2\n",
        "        )\n",
        "\n",
        "        # Fully-Connected layer\n",
        "        self.flatten = nn.Flatten()\n",
        "        self.fc1 = nn.Linear(in_features=int(output_w_6 * output_h_6 * 128), out_features=512)\n",
        "        self.fc2 = nn.Linear(in_features=512, out_features=self.num_classes)\n",
        "\n",
        "    def forward(self, x):\n",
        "        x = F.relu(self.bn1(self.conv1(x)))\n",
        "        x = self.pool(F.relu(self.bn2(self.conv2(x))))\n",
        "        x = F.relu(self.bn3(self.conv3(x)))\n",
        "        x = self.pool(F.relu(self.bn4(self.conv4(x))))\n",
        "        x = F.relu(self.bn5(self.conv5(x)))\n",
        "        x = self.pool(F.relu(self.bn6(self.conv6(x))))\n",
        "        x = self.flatten(x)\n",
        "        x = F.relu(self.fc1(x))\n",
        "        x = self.fc2(x)\n",
        "\n",
        "        # softmax applied on loss function\n",
        "        return x\n",
        "\n",
        "    def __conv_output_dims(self, width: int, height: int, kernel_size: int, padding: int = 1):\n",
        "        output_w = width - kernel_size + 2 * padding + 1\n",
        "        output_h = height - kernel_size + 2 * padding + 1\n",
        "        return output_w, output_h\n",
        "\n",
        "    def __pool_output_dims(self, width: int, height: int, kernel_size: int, stride: int = 1):\n",
        "        output_w = np.floor((width - kernel_size) / stride) + 1\n",
        "        output_h = np.floor((height - kernel_size) / stride) + 1\n",
        "\n",
        "        return output_w, output_h"
      ]
    },
    {
      "cell_type": "code",
      "execution_count": null,
      "metadata": {
        "colab": {
          "base_uri": "https://localhost:8080/"
        },
        "execution": {
          "iopub.execute_input": "2024-09-03T01:00:38.930241Z",
          "iopub.status.busy": "2024-09-03T01:00:38.929894Z",
          "iopub.status.idle": "2024-09-03T01:00:39.434591Z",
          "shell.execute_reply": "2024-09-03T01:00:39.433717Z",
          "shell.execute_reply.started": "2024-09-03T01:00:38.930202Z"
        },
        "id": "0530YooSL1VR",
        "outputId": "8ca641da-9b97-4e66-9d03-537d91b7ae66",
        "trusted": true
      },
      "outputs": [
        {
          "name": "stdout",
          "output_type": "stream",
          "text": [
            "----------------------------------------------------------------\n",
            "        Layer (type)               Output Shape         Param #\n",
            "================================================================\n",
            "            Conv2d-1           [-1, 32, 32, 32]             896\n",
            "       BatchNorm2d-2           [-1, 32, 32, 32]              64\n",
            "            Conv2d-3           [-1, 32, 32, 32]           9,248\n",
            "       BatchNorm2d-4           [-1, 32, 32, 32]              64\n",
            "         MaxPool2d-5           [-1, 32, 16, 16]               0\n",
            "            Conv2d-6           [-1, 64, 16, 16]          18,496\n",
            "       BatchNorm2d-7           [-1, 64, 16, 16]             128\n",
            "            Conv2d-8           [-1, 64, 16, 16]          36,928\n",
            "       BatchNorm2d-9           [-1, 64, 16, 16]             128\n",
            "        MaxPool2d-10             [-1, 64, 8, 8]               0\n",
            "           Conv2d-11            [-1, 128, 8, 8]          73,856\n",
            "      BatchNorm2d-12            [-1, 128, 8, 8]             256\n",
            "           Conv2d-13            [-1, 128, 8, 8]         147,584\n",
            "      BatchNorm2d-14            [-1, 128, 8, 8]             256\n",
            "        MaxPool2d-15            [-1, 128, 4, 4]               0\n",
            "          Flatten-16                 [-1, 2048]               0\n",
            "           Linear-17                  [-1, 512]       1,049,088\n",
            "           Linear-18                   [-1, 10]           5,130\n",
            "================================================================\n",
            "Total params: 1,342,122\n",
            "Trainable params: 1,342,122\n",
            "Non-trainable params: 0\n",
            "----------------------------------------------------------------\n",
            "Input size (MB): 0.01\n",
            "Forward/backward pass size (MB): 1.88\n",
            "Params size (MB): 5.12\n",
            "Estimated Total Size (MB): 7.01\n",
            "----------------------------------------------------------------\n"
          ]
        }
      ],
      "source": [
        "torchsummary.summary(CNN(in_channels=3, output_dim=10).to(device), (3, 32, 32), device=str(device))"
      ]
    },
    {
      "cell_type": "markdown",
      "metadata": {
        "id": "C3LoDmezyvud"
      },
      "source": [
        "# Configuración básica de escenario de FL\n",
        "\n",
        "Configuraremos un escenario de aprendizaje federado centralizado (CFL) usando la librería FLEXible. FLEXible [1], o simplemente FLEX, es una librería de Python que proporciona un framework para la construcción de entornos de aprendizaje federado para fines de investigación y simulación. FLEX pretende dar flexibilidad en cuanto la gran variedad de escenarios y necesidades que se pueden llegar a plantear para experimentar en entornos federados.\n",
        "\n",
        "Uno de nuestros objetivos es _integrar_ un método o técnica de selección de clientes en un escenario inicial de FL. La flexibilidad de FLEX nos permitirá conseguir este objetivo gracias a su flujo de mensajes entre entidades separadas por roles, y por la arquitectura modular de estas que nos permiten almacenar información de manera conveniente [1].\n",
        "\n",
        "> [1] https://arxiv.org/abs/2404.06127\n",
        "---"
      ]
    },
    {
      "cell_type": "markdown",
      "metadata": {
        "id": "wOLo8WYFBnwR"
      },
      "source": [
        "## Inicialización del modelo del servidor\n",
        "\n",
        "El primer paso de nuestro bucle de entrenamiento en aprendizaje federado es inicializar el modelo FLEX del servidor (que posteriormente se distribuirá a los clientes).\n",
        "\n",
        "Con FLEX podemos hacer uso del decorador `init_server_model` para facilitarnos esta tarea. Esta función entonces debe de instanciar y devolver un modelo de FLEX en donde además definimos el modelo de aprendizaje $^1$, la función de pérdida, el optimizador y cualquier otra información que se usará en las demás fases de la ronda de entrenamiento.\n",
        "\n",
        "Definimos dos funciones que realizan esta tarea, dos para cada una de nuestras arquitecturas, el Perceptrón Multicapa y la Red Neuronal Convolucional. Como habíamos especificado en el planteamiento del problema de ML a resolver, utilizaremos el optimizador SGD-Adam con sus parámetros por defecto, y la Cross-Entropy como función de pérdida.\n",
        "\n",
        "> $^1$ No se debe confundir el modelo de tipo `FlexModel` con un modelo de ML. El primero implementa el bloque fundamental que define una entidad en el escenario de FL (donde almacenamos información, sus datos locales, su modelo de aprendizaje, ...). El segundo es un modelo aprendizaje como lo puede ser un módulo de PyTorch o Tensorflow que realiza el aprendizaje automático y la predicción sobre los datos. Se dejará claro la diferencia entre los dos tipos de modelos.\n"
      ]
    },
    {
      "cell_type": "code",
      "execution_count": null,
      "metadata": {
        "execution": {
          "iopub.execute_input": "2024-09-03T01:00:39.436676Z",
          "iopub.status.busy": "2024-09-03T01:00:39.435991Z",
          "iopub.status.idle": "2024-09-03T01:00:39.446877Z",
          "shell.execute_reply": "2024-09-03T01:00:39.445922Z",
          "shell.execute_reply.started": "2024-09-03T01:00:39.436629Z"
        },
        "id": "3zAxWjwavQJ0",
        "trusted": true
      },
      "outputs": [],
      "source": [
        "import torch.nn as nn\n",
        "import torch.nn.functional as F\n",
        "\n",
        "from flex.pool import init_server_model\n",
        "from flex.pool import FlexPool\n",
        "from flex.model import FlexModel\n",
        "\n",
        "mnist_in_features = (28, 28)\n",
        "mnist_hidden_features = 128\n",
        "\n",
        "@init_server_model\n",
        "def build_server_model_mlp():\n",
        "    server_flex_model = FlexModel()\n",
        "\n",
        "    server_flex_model[\"model\"] = MLP(mnist_in_features, mnist_hidden_features)\n",
        "\n",
        "    # Required to store this for later stages of the FL training process\n",
        "    server_flex_model[\"criterion\"] = torch.nn.CrossEntropyLoss()\n",
        "    server_flex_model[\"optimizer_func\"] = torch.optim.Adam\n",
        "    server_flex_model[\"optimizer_kwargs\"] = {}\n",
        "    return server_flex_model\n",
        "\n",
        "cifar_in_channels = 3\n",
        "cifar_num_classes = 10\n",
        "\n",
        "@init_server_model\n",
        "def build_server_model_cnn():\n",
        "    server_flex_model = FlexModel()\n",
        "\n",
        "    server_flex_model[\"model\"] = CNN(in_channels=cifar_in_channels, output_dim=cifar_num_classes)\n",
        "\n",
        "    # Required to store this for later stages of the FL training process\n",
        "    server_flex_model[\"criterion\"] = torch.nn.CrossEntropyLoss()\n",
        "    server_flex_model[\"optimizer_func\"] = torch.optim.Adam\n",
        "    server_flex_model[\"optimizer_kwargs\"] = {}\n",
        "    return server_flex_model"
      ]
    },
    {
      "cell_type": "markdown",
      "metadata": {
        "id": "R5LzYqxUzIaU"
      },
      "source": [
        "---\n",
        "## Distribuir modelo del servidor\n",
        "\n",
        "El siguiente paso a realizar en un flujo de entrenamiento de aprendizaje federado es la distribución del modelo del servidor a los cientes. Con FLEX, podemos utilizar el decorador `@deploy_server_model` para distribuir el modelo del servidor a los clientes, definiendo una función que devuelva el modelo a almacenar en cada cliente.\n",
        "\n",
        "En este caso, realizamos una copia profunda del modelo del servidor que será asignado a cada cliente.\n"
      ]
    },
    {
      "cell_type": "code",
      "execution_count": null,
      "metadata": {
        "execution": {
          "iopub.execute_input": "2024-09-03T01:00:39.448849Z",
          "iopub.status.busy": "2024-09-03T01:00:39.448275Z",
          "iopub.status.idle": "2024-09-03T01:00:39.455528Z",
          "shell.execute_reply": "2024-09-03T01:00:39.454757Z",
          "shell.execute_reply.started": "2024-09-03T01:00:39.448806Z"
        },
        "id": "UwxXBCoCytZh",
        "trusted": true
      },
      "outputs": [],
      "source": [
        "from flex.pool import deploy_server_model\n",
        "import copy\n",
        "\n",
        "\n",
        "@deploy_server_model\n",
        "def copy_server_model_to_clients(server_flex_model: FlexModel):\n",
        "    print(server_flex_model.keys())\n",
        "    return copy.deepcopy(server_flex_model)"
      ]
    },
    {
      "cell_type": "markdown",
      "metadata": {
        "id": "U1S01aEFzevA"
      },
      "source": [
        "## Actualización del modelo del lado del cliente\n",
        "\n",
        "Definimos la función encargada de realizar el entrenamiento del modelo sobre los datos locales del cliente. A esta función, es conveniente pasarle como parámetros los hiperparámetros de entrenamiento de un modelo de ML convencional como el número de épocas $E$ y el tamaño de _batch_ $B$"
      ]
    },
    {
      "cell_type": "code",
      "execution_count": null,
      "metadata": {
        "execution": {
          "iopub.execute_input": "2024-09-03T01:00:39.457051Z",
          "iopub.status.busy": "2024-09-03T01:00:39.456739Z",
          "iopub.status.idle": "2024-09-03T01:00:39.465830Z",
          "shell.execute_reply": "2024-09-03T01:00:39.464850Z",
          "shell.execute_reply.started": "2024-09-03T01:00:39.456999Z"
        },
        "id": "UvjgKEJ7zdzd",
        "trusted": true
      },
      "outputs": [],
      "source": [
        "from flex.data import Dataset\n",
        "from torch.utils.data import DataLoader\n",
        "\n",
        "\n",
        "def train(client_flex_model: FlexModel, client_data: Dataset, **kwargs):\n",
        "    # parse kwargs\n",
        "    epochs = kwargs[\"epochs\"] if \"epochs\" in kwargs else 5\n",
        "    batch_size = kwargs[\"batch_size\"] if \"batch_size\" in kwargs else 20\n",
        "    transforms = kwargs[\"transforms\"] if \"transforms\" in kwargs else None\n",
        "\n",
        "    # get client data as a torchvision object\n",
        "    train_dataset = client_data.to_torchvision_dataset(transform=transforms)\n",
        "    client_dataloader = DataLoader(train_dataset, batch_size=batch_size)\n",
        "\n",
        "    # get model\n",
        "    model = client_flex_model[\"model\"]\n",
        "    optimizer = client_flex_model[\"optimizer_func\"](\n",
        "        model.parameters(), **client_flex_model[\"optimizer_kwargs\"]\n",
        "    )\n",
        "    model = model.train()\n",
        "    model = model.to(device)\n",
        "    criterion = client_flex_model[\"criterion\"]\n",
        "\n",
        "    # train model\n",
        "    for _ in range(epochs):\n",
        "        for imgs, labels in client_dataloader:\n",
        "            imgs, labels = imgs.to(device), labels.to(device)\n",
        "            optimizer.zero_grad()\n",
        "            pred = model(imgs)\n",
        "            loss = criterion(pred, labels)\n",
        "            loss.backward()\n",
        "            optimizer.step()\n"
      ]
    },
    {
      "cell_type": "markdown",
      "metadata": {
        "id": "dMSabAvG0u2J"
      },
      "source": [
        "## Obtener los parámetros de los clientes\n",
        "\n",
        "Ahora implementamos la función que hace que el servidor (con rol de agregador) recupere los nuevos parámetros actualizados de los clientes. Con el decorador `@collect_clients_weights` recuperamos los pesos de PyTorch de cada cliente seleccionado para esa ronda. En el caso de PyTorch, el modelo devuelve los pesos en forma de un diccionario con `state_dict` para el que cada nombre representa una capa de la red y sus parámetros, lo que hacemos será devolver una lista con los valores de ese diccionario correspondientes a los pesos de la red entera."
      ]
    },
    {
      "cell_type": "code",
      "execution_count": null,
      "metadata": {
        "execution": {
          "iopub.execute_input": "2024-09-03T01:00:39.467294Z",
          "iopub.status.busy": "2024-09-03T01:00:39.466939Z",
          "iopub.status.idle": "2024-09-03T01:00:39.476711Z",
          "shell.execute_reply": "2024-09-03T01:00:39.475769Z",
          "shell.execute_reply.started": "2024-09-03T01:00:39.467257Z"
        },
        "id": "ggbUniMr0oGy",
        "trusted": true
      },
      "outputs": [],
      "source": [
        "from flex.pool import collect_clients_weights\n",
        "\n",
        "\n",
        "@collect_clients_weights\n",
        "def get_clients_weights(client_flex_model: FlexModel):\n",
        "    weight_dict = client_flex_model[\"model\"].state_dict()\n",
        "    return [weight_dict[name] for name in weight_dict]"
      ]
    },
    {
      "cell_type": "markdown",
      "metadata": {
        "id": "1DT76cJ41uFY"
      },
      "source": [
        "## Agregación de los parámetros\n",
        "\n",
        "El servidor/agregador agrega entonces estos nuevos parámetros para conseguir el nuevo modelo global. Utilizamos el decorador `@aggregate_weights` para poder agregar los pesos que hemos recuperado de los clientes en la fase anterior computando la media de los pesos de manera uniforme, conocido como agregador FedAvg [1], donde realizamos la media por columnas para cada capa de pesos.\n",
        "\n",
        "> [1] https://arxiv.org/abs/1602.05629"
      ]
    },
    {
      "cell_type": "code",
      "execution_count": null,
      "metadata": {
        "execution": {
          "iopub.execute_input": "2024-09-03T01:00:39.478028Z",
          "iopub.status.busy": "2024-09-03T01:00:39.477741Z",
          "iopub.status.idle": "2024-09-03T01:00:39.485673Z",
          "shell.execute_reply": "2024-09-03T01:00:39.484795Z",
          "shell.execute_reply.started": "2024-09-03T01:00:39.477998Z"
        },
        "id": "r_uT500dUowo",
        "trusted": true
      },
      "outputs": [],
      "source": [
        "from flex.pool import aggregate_weights\n",
        "import tensorly as tl\n",
        "\n",
        "tl.set_backend(\"pytorch\")\n",
        "\n",
        "\n",
        "@aggregate_weights\n",
        "def aggregate_with_fedavg(list_of_weights: list):\n",
        "    agg_weights = []\n",
        "    for layer_index in range(len(list_of_weights[0])):\n",
        "        weights_per_layer = [weights[layer_index] for weights in list_of_weights]\n",
        "        weights_per_layer = tl.stack(weights_per_layer)\n",
        "        weights_per_layer = weights_per_layer.clone().detach().float().requires_grad_(True)   # ensure is floating-point type\n",
        "        agg_layer = tl.mean(weights_per_layer, axis=0)\n",
        "        agg_weights.append(agg_layer)\n",
        "    return agg_weights"
      ]
    },
    {
      "cell_type": "markdown",
      "metadata": {
        "id": "YQtCzF0K2i92"
      },
      "source": [
        "Finalmente, agregamos los pesos al modelo de nuestro servidor/agregador. Sencillamente, para cada capa de nuestro modelo, realizamo una copia del nuevo que hemos agregado en la fase anterior."
      ]
    },
    {
      "cell_type": "code",
      "execution_count": null,
      "metadata": {
        "execution": {
          "iopub.execute_input": "2024-09-03T01:00:39.487464Z",
          "iopub.status.busy": "2024-09-03T01:00:39.487123Z",
          "iopub.status.idle": "2024-09-03T01:00:39.498015Z",
          "shell.execute_reply": "2024-09-03T01:00:39.497096Z",
          "shell.execute_reply.started": "2024-09-03T01:00:39.487425Z"
        },
        "id": "6Fk-VxE52ZNH",
        "trusted": true
      },
      "outputs": [],
      "source": [
        "from flex.pool import set_aggregated_weights\n",
        "\n",
        "\n",
        "@set_aggregated_weights\n",
        "def set_agreggated_weights_to_server(server_flex_model: FlexModel, aggregated_weights):\n",
        "    with torch.no_grad():\n",
        "        weight_dict = server_flex_model[\"model\"].state_dict()\n",
        "        for layer_key, new in zip(weight_dict, aggregated_weights):\n",
        "            weight_dict[layer_key].copy_(new)"
      ]
    },
    {
      "cell_type": "markdown",
      "metadata": {
        "id": "NB5N8y2a27JU"
      },
      "source": [
        "## Evaluación del modelo global\n",
        "\n",
        "Podemos evaluar el modelo del servidor sobre el dataset de test que hemos definido anteriormente que residía en el mismo servidor. Para ello, definimos una función `evaluate_global_model` que obtenga las predicciones del modelo con el dataset de test y devuelva las metricas resultantes, que en este caso son simplemente la pérdida y la _accuracy_."
      ]
    },
    {
      "cell_type": "code",
      "execution_count": null,
      "metadata": {
        "execution": {
          "iopub.execute_input": "2024-09-03T01:00:39.499824Z",
          "iopub.status.busy": "2024-09-03T01:00:39.499487Z",
          "iopub.status.idle": "2024-09-03T01:00:39.510023Z",
          "shell.execute_reply": "2024-09-03T01:00:39.508980Z",
          "shell.execute_reply.started": "2024-09-03T01:00:39.499784Z"
        },
        "id": "AFZA3_Sn20tn",
        "trusted": true
      },
      "outputs": [],
      "source": [
        "def evaluate_global_model(server_flex_model: FlexModel, test_data: Dataset):\n",
        "    model = server_flex_model[\"model\"]\n",
        "    model.eval()\n",
        "    test_loss = 0\n",
        "    test_acc = 0\n",
        "    total_count = 0\n",
        "    model = model.to(device)\n",
        "    criterion = server_flex_model[\"criterion\"]\n",
        "    # get test data as a torchvision object\n",
        "    test_dataset = test_data.to_torchvision_dataset(transform=mnist_transforms)\n",
        "    test_dataloader = DataLoader(\n",
        "        test_dataset, batch_size=256, shuffle=True, pin_memory=False\n",
        "    )\n",
        "    losses = []\n",
        "    with torch.no_grad():\n",
        "        for data, target in test_dataloader:\n",
        "            total_count += target.size(0)\n",
        "            data, target = data.to(device), target.to(device)\n",
        "            output = model(data)\n",
        "            losses.append(criterion(output, target).item())\n",
        "            pred = output.data.max(1, keepdim=True)[1]\n",
        "            test_acc += pred.eq(target.data.view_as(pred)).long().cpu().sum().item()\n",
        "\n",
        "    test_loss = sum(losses) / len(losses)\n",
        "    test_acc /= total_count\n",
        "    return test_loss, test_acc"
      ]
    },
    {
      "cell_type": "markdown",
      "metadata": {
        "id": "4p233PYL9Lum"
      },
      "source": [
        "## Training loop\n",
        "\n",
        "A continuación se muestra el bucle de entrenamiento aplicando todas las fases que hemos implementado anteriormente. En esta versión básica se implementa una selección aleatoria (RandomSampling), similar a la propuesta en [1] donde se selecciona de manera aleatoria y uniforme $M$ clientes para la ronda actual. Este proceso se repite de forma iterativa un número determinado de rondas."
      ]
    },
    {
      "cell_type": "code",
      "execution_count": null,
      "metadata": {
        "execution": {
          "iopub.execute_input": "2024-09-03T01:00:39.511973Z",
          "iopub.status.busy": "2024-09-03T01:00:39.511611Z",
          "iopub.status.idle": "2024-09-03T01:00:39.524954Z",
          "shell.execute_reply": "2024-09-03T01:00:39.523872Z",
          "shell.execute_reply.started": "2024-09-03T01:00:39.511932Z"
        },
        "id": "OK5TLa219FLP",
        "trusted": true
      },
      "outputs": [],
      "source": [
        "from typing import Literal\n",
        "\n",
        "Problem = Literal[\"mnist\", \"cifar\"]\n",
        "\n",
        "def train_n_rounds(pool: FlexPool, n_rounds: int, clients_per_round=20, problem: Problem = \"mnist\"):\n",
        "    \"\"\"\n",
        "    FL training loop for a certain number of rounds and clients selected.\n",
        "    \"\"\"\n",
        "    # select transformations depending on problem to solve\n",
        "    transforms = mnist_transforms if problem == \"mnist\" else cifar_transforms\n",
        "\n",
        "    losses = []\n",
        "    accuracies = []\n",
        "    for i in range(n_rounds):\n",
        "        print(f\"\\nRunning round: {i+1} of {n_rounds}\")\n",
        "        selected_clients_pool = pool.clients.select(clients_per_round)\n",
        "        selected_clients = selected_clients_pool.clients\n",
        "        print(f\"Selected clients for this round: {len(selected_clients)}\")\n",
        "        # Deploy the server model to the selected clients\n",
        "        pool.servers.map(copy_server_model_to_clients, selected_clients)\n",
        "        # Each selected client trains her model\n",
        "        selected_clients.map(train, transforms=transforms)\n",
        "        # The aggregador collects weights from the selected clients and aggregates them\n",
        "        pool.aggregators.map(get_clients_weights, selected_clients)\n",
        "        pool.aggregators.map(aggregate_with_fedavg)\n",
        "        # The aggregator send its aggregated weights to the server\n",
        "        pool.aggregators.map(set_agreggated_weights_to_server, pool.servers)\n",
        "        metrics = pool.servers.map(evaluate_global_model)\n",
        "        loss, acc = metrics[0]\n",
        "        losses.append(loss)\n",
        "        accuracies.append(acc)\n",
        "        print(f\"Server: Test acc: {acc:.4f}, test loss: {loss:.4f}\")\n",
        "\n",
        "    return losses, accuracies"
      ]
    },
    {
      "cell_type": "markdown",
      "metadata": {
        "id": "WcHHP4AZVcNt"
      },
      "source": [
        "# Selección de clientes con HybridFL\n",
        "\n",
        "Ahora vamos a adaptar nuestro entorno de aprendizaje federado para utilizar el método de selección de clientes HybridFL [1].\n",
        "\n",
        "HybridFL, así como otros algoritmos basados en recursos como FedCS [2] (del cual éste y muchos otros se basan), necesitan ser testeados bajo un entorno experimental que simule de forma realista y adecuada los requisitos de tiempo de reloj de cada una de las fases en aprendizaje federado. Tanto HybridFL como FedCS simulan cada uno de estos tiempos en un entorno dedicado de _Mobile Edge Computing_ (MEC) en el que hay un servidor central, denominado _Parameter Server_ o PS, una estación base o BS (que sirve de servidor en el eje o _edge server_), y una red de dispositivos móviles. En nuestro caso, podemos simular este entorno simplemente haciendo que las fases de entrenamiento como de subida de datos sean \"agendadas\" (_scheduled_), de manera que cumplan un cierto tiempo de reloj determinado antes de completarse. De esta manera, se verá reflejado el impacto que tendrá la estrategia de selección mediante la estimación de estos recursos.\n",
        "\n",
        "---\n"
      ]
    },
    {
      "cell_type": "markdown",
      "metadata": {
        "id": "GS_QNYeT7tuM"
      },
      "source": [
        "## Inicialización de los recursos de los clientes\n",
        "\n",
        "El siguiente paso para construir este entorno de simulación es determinar los recursos iniciales que tendrán los clientes. Los clientes son en esencia dispositivos (e.g. móviles, coches inteligentes, SmartTVs, ...) que tienen ciertas especificaciones que definen los recursos que posee. HybridFL así como FedCS, consideran dos tipos de recursos en los dispositivos:\n",
        "\n",
        "- Recursos de comunicación inalámbrica: que influye directamente en la comunicación entre el servidor y los clientes (e.g ancho de banda en red, congestión de la red, _Resource Blocks_ $^1$). Podemos determinar la capacidad de comunicación de los clientes con el servidor en __cuánta cantidad de información es capaz de enviar en un segundo__, a lo que también se le conoce como _throughput_, y utilizamos como unidades estándar Mbit/s.\n",
        "\n",
        "- Recursos computacionales: que influye en las actualizaciones del modelo en los clientes. HybridFL implementa el concepto de entrenamiento centralizado en el servidor; por tanto, como una suposición estándar en FL, suponemos que el servidor central tiene suficiente potencia computacional como para sobrepasar a los clientes en velocidad por la existencia de _stragglers_ [4]. Por lo que el tiempo de actualización de reloj del servidor la suponemos __nula o despreciable__. Podemos determinar la capacidad computacional de los clientes como __el número de ejemplos que puede procesar en un segundo__ actualizar el modelo [1].\n",
        "\n",
        "- Permiso de subida de datos: este tipo de recurso, propio de HybridFL, es básicamente el permiso del cliente de subir sus datos al servidor, cuyo número de clientes se asume muy pequeño (menos del $\\%1$ como mínimo [1]).\n",
        "\n",
        "Por tanto, para poder muestrear en cada ronda de FL los recursos de los clientes, inicializamos primero las capacidades computacionales y de comunicación medias de cada cliente, de manera que en cada ronda se puedan samplear con una distribución Gaussiana truncada [5] como lo hacen los autores en [1]. Concretamente, el _throughput_ medio de los clientes se ha extraído de los experimentos hechos en un entorno simulado de comunicaciones inalámbricas de [1], en el que concluyeron que los clientes presentaban un _throughput_ de $\\theta^{\\text{avg}}_{k} = 1.4$ Mbit/s de media y un máximo de hasta $8.6$ Mbit/s, que resultan valores realistas en una red LTE. En cuanto a la capacidad computacional, se muestrea el número de datos procesados por segundo en entrenamiento de una distribución uniforme $\\gamma^{\\text{avg}}_{k} \\sim U(10, 100)$. Finalmente, se elige de forma aleatoria y uniforme si el cliente $k$ permite su subida de datos en un ratio de $r_{\\text{UL}} = 0.01$.\n",
        "\n",
        "> $^1$ Aunque el número de bloques de recursos o RBs (la unidad mínima de ancho de banda en LTE [3]) puede influir significativamente en el tiempo de comunicación entre el servidor y los clientes, seguiremos la suposición de [2] por el que los RBs asignados a cada cliente son los mismos para todos, de esta manera solo nos preocupan factores más fluctuantes en casos reales como el ancho de banda.\n",
        ">\n",
        "> [1] https://arxiv.org/abs/1905.07210\n",
        ">\n",
        "> [2] https://arxiv.org/abs/1804.08333\n",
        ">\n",
        "> [3] _S. Sesia, M. Baker, and I. Toufik, LTE-the UMTS Long Term Evolution: From Theory to Practice. John Wiley & Sons, 2011_\n",
        ">\n",
        "> [4] G. Wang, C. Zhao, Q. Qi, R. Han, L. Bai and J. Choi, \"Efficient Federated Learning via Joint Communication and Computation Optimization,\" in IEEE Transactions on Vehicular Technology, doi: 10.1109/TVT.2024.3379742.\n",
        ">\n",
        "> [5] https://en.wikipedia.org/wiki/Truncated_normal_distribution"
      ]
    },
    {
      "cell_type": "code",
      "execution_count": null,
      "metadata": {
        "execution": {
          "iopub.execute_input": "2024-09-03T01:00:39.526983Z",
          "iopub.status.busy": "2024-09-03T01:00:39.526391Z",
          "iopub.status.idle": "2024-09-03T01:00:39.536381Z",
          "shell.execute_reply": "2024-09-03T01:00:39.535376Z",
          "shell.execute_reply.started": "2024-09-03T01:00:39.526928Z"
        },
        "id": "3pk-955syZgo",
        "trusted": true
      },
      "outputs": [],
      "source": [
        "from copy import deepcopy\n",
        "\n",
        "# ratio of clients that permit their data to be uploaded\n",
        "DEFAULT_R_UPLOAD = 0.01\n",
        "\n",
        "# realistic client average throughput in Mbit/s\n",
        "AVG_THROUGHPUT = 1.4\n",
        "\n",
        "def init_client_resources(client_flex_model: FlexModel, client_data: Dataset, **kwargs):\n",
        "    # parse arguments\n",
        "    r_upload = kwargs[\"r_upload\"] if \"r_upload\" in kwargs else DEFAULT_R_UPLOAD\n",
        "\n",
        "    ## Computation capability - data samples per second\n",
        "    avg_comp = np.random.uniform(10, 100)\n",
        "\n",
        "    ## Communication capability - Mbit per second\n",
        "    avg_thr = AVG_THROUGHPUT\n",
        "\n",
        "    # client permits data upload\n",
        "    data_upload = np.random.rand() < r_upload\n",
        "\n",
        "    client_flex_model[\"avg_thr\"] = avg_thr\n",
        "    client_flex_model[\"avg_comp\"] = avg_comp\n",
        "    client_flex_model[\"data_upload\"] = data_upload\n",
        "\n",
        "    # save Nk\n",
        "    client_flex_model[\"n_samples\"] = len(client_data)\n",
        "\n",
        "    # save amount of data for each class\n",
        "    labels = client_data.to_numpy()[1]\n",
        "    unique, counts = np.unique(labels, return_counts=True)\n",
        "    client_flex_model[\"n_samples_per_class\"] = dict(zip(unique, counts))\n",
        "\n",
        "    # if client permit data to be uploaded, make their dataset public\n",
        "    if data_upload:\n",
        "        client_flex_model[\"public_data\"] = client_data"
      ]
    },
    {
      "cell_type": "markdown",
      "metadata": {
        "id": "sJR_M4pHppB7"
      },
      "source": [
        "## Petición de recursos\n",
        "\n",
        "A continuación, implementamos la función `resource_request` en la que el servidor/agregador comunica a $\\lceil K \\times C \\rceil$ clientes (siendo $K$ el total de clientes y $C$ la fracción de clientes a seleccionar por ronda) seleccionados aleatoriamente, a notificarle de los recursos que poseen para la ronda actual, así como notificarle si permiten su subida de datos al servidor. Esta tarea se realizará de la siguiente manera:\n",
        "\n",
        "1. El servidor inicializará en su modelo de FLEX, un diccionario para cada recurso e información adicional, en el que las claves de los mismos será el identificador del cliente en cuestión.\n",
        "2. Para cada cliente, se recuperará los valores medios de las capacidades computacionales (el número de ejemplos procesados por unidad de tiempo) y de comunicación (_throughput_), así como también si permiten su subida de los datos.\n",
        "    - Con esta información, para el cliente en cuestión, se muestrea la capacidad computacional y de comunicación para la ronda actual de una distribución normal truncada (usamos la librería de `scipy` [1] para muestrear aleatoriamente de esta distribución) con los valores medios recuperados de los clientes $^1$. Para el muestreo de la distribución normal truncada se usa una variancia para ambos tipos de recursos de $r_{\\text{var}} = 0.2$.\n",
        "    - Finalmente, con los recursos muestreados para la ronda actual, se pueden calcular los tiempos estimados de actualización y subida: $t^{\\text{UL}}_k$ y $t^{\\text{UD}}_k$ respectivamente. Que se usarán tanto para la selección de clientes y de datos como para el entrenamiento y subida de modelos agendados.\n",
        "\n",
        "Definimos además una función `get_model_size` que calcula el tamaño en bytes de un modelo de aprendizaje. Esto nos servirá para estimar el tiempo que tarda un cliente con cierto _throughput_ en subir un modelo mediante la siguiente formula:\n",
        "$$t_{k}^{\\text{UL}} = D_m / \\theta_k^{(t)}$$\n",
        "\n",
        "siendo $D_m$ el tamaño en Mbit del modelo, y $\\theta_k^{(t)}$ el _throughput_ del cliente $k$ en la ronda $t$.\n",
        "\n",
        "El tiempo estimado en actualizar un modelo en un cliente $k$ (i.e. entrenar un modelo) se calcula con la siguiente formula:\n",
        "$$t_k^{\\text{UD}} = \\frac{E \\times N_k}{\\gamma_k^{(t)}}$$\n",
        "\n",
        "siendo $E$ el número de épocas de entrenamiento, $N_k$ el número de ejemplos que posee el cliente $k$ y $\\gamma_k^{(t)}$ el número de ejemplo procesados por unidad de tiempo para entrenar el modelo en el cliente $k$ en la ronda $t$.\n",
        "\n",
        "> $^1$ Nótese que conceptualmente, este muestreo de la capacidad de comunicación y computacional del cliente es lo que este último realmente notifica al servidor y no sus valores medios.\n",
        ">\n",
        "> [1] https://docs.scipy.org/doc/scipy/reference/generated/scipy.stats.truncnorm.html"
      ]
    },
    {
      "cell_type": "code",
      "execution_count": null,
      "metadata": {
        "execution": {
          "iopub.execute_input": "2024-09-03T01:00:39.538643Z",
          "iopub.status.busy": "2024-09-03T01:00:39.538158Z",
          "iopub.status.idle": "2024-09-03T01:00:39.548081Z",
          "shell.execute_reply": "2024-09-03T01:00:39.546808Z",
          "shell.execute_reply.started": "2024-09-03T01:00:39.538603Z"
        },
        "id": "wYbQEh9QUzVq",
        "trusted": true
      },
      "outputs": [],
      "source": [
        "import sys\n",
        "import torch.nn as nn\n",
        "\n",
        "def get_model_size(model: nn.Module) -> int:\n",
        "    \"\"\"\n",
        "    Get the size in bytes of a PyTorch learning model.\n",
        "    \"\"\"\n",
        "    total_size = 0\n",
        "    for param in model.parameters():\n",
        "        total_size += param.numel() * param.element_size()\n",
        "\n",
        "    return int(total_size)"
      ]
    },
    {
      "cell_type": "code",
      "execution_count": null,
      "metadata": {
        "execution": {
          "iopub.execute_input": "2024-09-03T01:00:39.550270Z",
          "iopub.status.busy": "2024-09-03T01:00:39.549841Z",
          "iopub.status.idle": "2024-09-03T01:00:39.843201Z",
          "shell.execute_reply": "2024-09-03T01:00:39.842314Z",
          "shell.execute_reply.started": "2024-09-03T01:00:39.550227Z"
        },
        "id": "9Yr27vPgrsiJ",
        "trusted": true
      },
      "outputs": [],
      "source": [
        "from typing import List\n",
        "from scipy.stats import truncnorm\n",
        "\n",
        "# loose for simulated capabilities\n",
        "r_var = 0.2\n",
        "\n",
        "def resource_request(agg_model: FlexModel, client_flex_models: List[FlexModel], **kwargs):\n",
        "    \"\"\"\n",
        "    Requests resource capabilities and whether or not they permit their data to\n",
        "    be uploaded for M selected clients randomly.\n",
        "    \"\"\"\n",
        "    # parse arguments\n",
        "    epochs = kwargs[\"epochs\"] if \"epochs\" in kwargs else 5\n",
        "\n",
        "    # get model size in bytes\n",
        "    if \"model_size\" in agg_model.keys():\n",
        "        model_size = agg_model[\"model_size\"]\n",
        "    else:\n",
        "        model_size = get_model_size(agg_model[\"model\"])\n",
        "\n",
        "        # store model size in server model\n",
        "        agg_model[\"model_size\"] = model_size\n",
        "\n",
        "\n",
        "    # indexed resources for each selected client saved in the aggregator\n",
        "    agg_model[\"comp_resources\"] = {}\n",
        "    agg_model[\"comm_resources\"] = {}\n",
        "    agg_model[\"client_t_update\"] = {}\n",
        "    agg_model[\"client_t_upload\"] = {}\n",
        "    agg_model[\"permit_data_upload\"] = {}\n",
        "    agg_model[\"client_data\"] = {}\n",
        "    agg_model[\"client_n_samples_per_class\"] = {}\n",
        "\n",
        "    for k in client_flex_models:\n",
        "        # get client average computational and communications capabilities\n",
        "        avg_comp_cap = client_flex_models[k][\"avg_comp\"]\n",
        "        avg_thr = client_flex_models[k][\"avg_thr\"]\n",
        "        permit_data_upload = client_flex_models[k][\"data_upload\"]\n",
        "\n",
        "        ## Computational capability - data samples processed per second to train\n",
        "        std_dev_comp = 0.1 * avg_comp_cap\n",
        "\n",
        "        # compute lower and upper bounds\n",
        "        a, b = (1 - r_var) * avg_comp_cap, (1 + r_var) * avg_comp_cap\n",
        "        a = (a - avg_comp_cap) / std_dev_comp\n",
        "        b = (b - avg_comp_cap) / std_dev_comp\n",
        "\n",
        "        comp_cap = truncnorm.rvs(a, b, loc=avg_comp_cap, scale=std_dev_comp, size=1)[0]\n",
        "\n",
        "        # compute estimated update time\n",
        "        n_samples = client_flex_models[k][\"n_samples\"]\n",
        "        t_update = (epochs * n_samples) / comp_cap\n",
        "\n",
        "        ## Communication capability - Mbit per second\n",
        "        std_dev_thr = 0.1 * avg_thr\n",
        "\n",
        "        # compute lower and upper bounds\n",
        "        a, b = (1 - r_var) * avg_thr, (1 + r_var) * avg_thr\n",
        "        a = (a - avg_thr) / std_dev_thr\n",
        "        b = (b - avg_thr) / std_dev_thr\n",
        "\n",
        "        comm_cap = truncnorm.rvs(a, b, loc=avg_thr, scale=std_dev_thr, size=1)[0]\n",
        "\n",
        "        # compute estimated upload time in seconds\n",
        "        t_upload = (model_size * 8) / (comm_cap * 1_000_000)\n",
        "\n",
        "        # save resource capabilities for client k in current round\n",
        "        agg_model[\"comp_resources\"][k] = comp_cap\n",
        "        agg_model[\"comm_resources\"][k] = comm_cap\n",
        "\n",
        "        # save estimated update and upload times\n",
        "        agg_model[\"client_t_update\"][k] = t_update\n",
        "        agg_model[\"client_t_upload\"][k] = t_upload\n",
        "\n",
        "        # also save estimated times in clients to simulate scheduled training\n",
        "        client_flex_models[k][\"t_update\"] = t_update\n",
        "        client_flex_models[k][\"t_upload\"] = t_upload\n",
        "\n",
        "        ## Client Data\n",
        "        if permit_data_upload:\n",
        "            agg_model[\"client_data\"][k] = client_flex_models[k][\"public_data\"]\n",
        "\n",
        "        # set data upload permit\n",
        "        agg_model[\"permit_data_upload\"][k] = permit_data_upload\n",
        "\n",
        "        ## Amount of data for each class\n",
        "        agg_model[\"client_n_samples_per_class\"][k] = client_flex_models[k][\"n_samples_per_class\"]"
      ]
    },
    {
      "cell_type": "markdown",
      "metadata": {
        "id": "OyVAxgGCzlgK"
      },
      "source": [
        "## Selección de clientes\n",
        "\n",
        "La selección de los clientes es un algoritmo de tipo _greedy_ en el que se busca maximizar el número de clientes seleccionados $𝕊$ sujeto a un cierto _deadline_ de tiempo por ronda $T_\\text{round}$:\n",
        "$$\n",
        "\\max |𝕊| \\\\\n",
        "\\text{s.t.} \\ T_\\text{round} \\ge T_\\text{cs} + T_{𝕊}^{\\text d} + \\Theta_{|𝕊|} + T_\\text{agg}\n",
        "$$\n",
        "siendo $T_\\text{cs}$ el tiempo de selección de clientes, $T_{𝕊}^{\\text d}$ el tiempo de distribución del modelo global a los clientes seleccionados, $\\Theta_{|𝕊|}$ el tiempo transcurrido desde el inicio de la actualización de los modelos hasta que el $k_i$-ésimo cliente haya actualizado y subido sus parámetros al servidor (más información en como se calcula este tiempo en [1]) y $T_\\text{agg}$ el tiempo que toma al servidor agregar los parámetros de los clientes.\n",
        "\n",
        "Como en [1] y [2], nosotros suponemos que el servidor tiene vastos recursos y que por tanto los tiempos de selección y agregación son despreciables: $T_\\text{cs} = T_\\text{agg} = 0$.\n",
        "\n",
        "El algoritmo de selección en HybridFL [2] varía del de FedCS [1] en cuanto a que en el primero se elige el cliente con tiempo estimado mínimo mientras que en [1] se elige el que tenga la inversa del tiempo máximo. Como podemos darnos cuenta las dos formas son equivalentes. En nuestro caso optamos por la minimización de la función (i.e. elegir el cliente con menor tiempo estimado agregado). En HybridFL [2], esta función de tiempo transcurrido si se incluye el cliente $k$ al conjunto de seleccionados se le denomina $T_{\\text{inc}}(𝕊, k)$.\n",
        "\n",
        "En [2] además, se elige el cliente con $T_{\\text{inc}}$ menor multiplicado por un coeficiente de variación $CV(N_r)$ que penaliza la función a minimizar si los datos de los clientes tienen un alto nivel de desbalance entre clases, de manera que se pueda sanitizar el problema de datos No-IID en los clientes en esa ronda de selección. Mas información sobre como calcular este coeficiente en [2].\n",
        "\n",
        "> [1] https://arxiv.org/abs/1905.07210\n",
        ">\n",
        "> [2] https://arxiv.org/abs/1804.08333"
      ]
    },
    {
      "cell_type": "markdown",
      "metadata": {
        "id": "NVzOaUan3XGk"
      },
      "source": [
        "---\n",
        "\n",
        "Para poder implementar la selección de los clientes, tenemos primero que definir:\n",
        "1. Por un lado, una función que calcule el tiempo de distribución del modelo a cada cliente.\n",
        "2. Una función para calcular el tiempo estimado transcurrido si incluimos un cliente $k$ al conjunto de clientes seleccionados $𝕊$, $T_{\\text{inc}}(𝕊, k)$.\n",
        "3. Y por último, una función para calcular el coeficiente de variación $CV(N_r)$.\n",
        "\n",
        "En el caso de $T_\\text{round}$ esta será calculada por cada llamada a `client_selection` que dependerá de los recursos de los clientes actuales y los de la ronda anterior. Esta característica es el factor diferencial con HybridFL convencional, dando lugar a Dyn-HybridFL.\n",
        "\n",
        "Para el _deadline_ de ronda inicial $T_\\text{round}^{(0)}$, utilizamos el $T_\\text{round}$ usado en el algoritmo HybridFL de $3$ minutos como punto inicial."
      ]
    },
    {
      "cell_type": "code",
      "execution_count": null,
      "metadata": {
        "execution": {
          "iopub.execute_input": "2024-09-03T01:00:39.845049Z",
          "iopub.status.busy": "2024-09-03T01:00:39.844446Z",
          "iopub.status.idle": "2024-09-03T01:00:39.850151Z",
          "shell.execute_reply": "2024-09-03T01:00:39.849247Z",
          "shell.execute_reply.started": "2024-09-03T01:00:39.845010Z"
        },
        "id": "wLr_waY8dtm-",
        "trusted": true
      },
      "outputs": [],
      "source": [
        "def T_model_dist(model_size: int, throughputs: list):\n",
        "    \"\"\"\n",
        "    Computes the estimated time it takes to distribute the model to all clients synchronically.\n",
        "\n",
        "    If throughputs is empty, then time is 0 (no clients to distribute to).\n",
        "    \"\"\"\n",
        "    if not throughputs:\n",
        "        return 0\n",
        "\n",
        "    res = (model_size * 8) / (min(throughputs) * 1_000_000)\n",
        "    return res"
      ]
    },
    {
      "cell_type": "code",
      "execution_count": null,
      "metadata": {
        "execution": {
          "iopub.execute_input": "2024-09-03T01:00:39.851549Z",
          "iopub.status.busy": "2024-09-03T01:00:39.851263Z",
          "iopub.status.idle": "2024-09-03T01:00:39.859968Z",
          "shell.execute_reply": "2024-09-03T01:00:39.859115Z",
          "shell.execute_reply.started": "2024-09-03T01:00:39.851519Z"
        },
        "id": "pt_uHGutH0FF",
        "trusted": true
      },
      "outputs": [],
      "source": [
        "def T_inc(agg_model: FlexModel, S: set, k: int, elapsed_time: int):\n",
        "    \"\"\"\n",
        "    Computes estimate elapsed time when client k is included to selected set of clients S.\n",
        "    \"\"\"\n",
        "    t_upload = agg_model[\"client_t_upload\"][k]\n",
        "    t_update = agg_model[\"client_t_update\"][k]\n",
        "\n",
        "    # get model size to estimate dist time\n",
        "    model_size = agg_model[\"model_size\"]\n",
        "\n",
        "    # throughputs of clients in S\n",
        "    S_thr = [agg_model[\"comm_resources\"][client] for client in agg_model[\"comm_resources\"] if client in S]\n",
        "\n",
        "    # throughputs of clients in S + {k}\n",
        "    S_plus_k_thr = [agg_model[\"comm_resources\"][client] for client in agg_model[\"comm_resources\"] if client in S or client == k]\n",
        "\n",
        "    return T_model_dist(model_size, S_plus_k_thr) - T_model_dist(model_size, S_thr) + t_upload + max(0, t_update - elapsed_time)"
      ]
    },
    {
      "cell_type": "code",
      "execution_count": null,
      "metadata": {
        "execution": {
          "iopub.execute_input": "2024-09-03T01:00:39.861616Z",
          "iopub.status.busy": "2024-09-03T01:00:39.861195Z",
          "iopub.status.idle": "2024-09-03T01:00:39.871769Z",
          "shell.execute_reply": "2024-09-03T01:00:39.870933Z",
          "shell.execute_reply.started": "2024-09-03T01:00:39.861558Z"
        },
        "id": "CjbRsXxgjhr3",
        "trusted": true
      },
      "outputs": [],
      "source": [
        "def CV(agg_model: FlexModel, S: set, classes: list):\n",
        "    \"\"\"\n",
        "    Computes the coefficient of variation of data samples per class in clients in set S.\n",
        "    \"\"\"\n",
        "    # get total number of data samples per class\n",
        "    Nr = {}\n",
        "    for k in agg_model[\"client_n_samples_per_class\"]:\n",
        "        if k not in S:\n",
        "            continue\n",
        "\n",
        "        k_counts = agg_model[\"client_n_samples_per_class\"][k]\n",
        "        Nr = {key: Nr.get(key, 0) + k_counts.get(key, 0) for key in set(Nr) | set(k_counts)}\n",
        "\n",
        "    # fill up for all classes\n",
        "    Nr = {key: Nr.get(key, 0) for key in classes}\n",
        "\n",
        "    L = len(classes)\n",
        "    n_mean = sum(Nr.values()) / L\n",
        "\n",
        "    # compute the variance of the amount of data per class\n",
        "    variance = sum((n_l - n_mean)**2 for n_l in Nr.values()) / L\n",
        "\n",
        "    # return the coefficient of variance with respect to the mean\n",
        "    return variance / n_mean"
      ]
    },
    {
      "cell_type": "code",
      "execution_count": null,
      "metadata": {
        "execution": {
          "iopub.execute_input": "2024-09-03T01:00:39.873552Z",
          "iopub.status.busy": "2024-09-03T01:00:39.873290Z",
          "iopub.status.idle": "2024-09-03T01:00:39.889179Z",
          "shell.execute_reply": "2024-09-03T01:00:39.888361Z",
          "shell.execute_reply.started": "2024-09-03T01:00:39.873523Z"
        },
        "id": "chBafb6YDncA",
        "trusted": true
      },
      "outputs": [],
      "source": [
        "from flex.data import Dataset\n",
        "from statistics import mean\n",
        "\n",
        "DEFAULT_T_ROUND = 3 * 60\n",
        "\n",
        "def client_selection(agg_model: FlexModel, agg_data: Dataset):\n",
        "    ## compute T_round\n",
        "    # compute current phi\n",
        "    mean_t_update = mean(list(agg_model[\"client_t_update\"].values()))\n",
        "    mean_t_upload = mean(list(agg_model[\"client_t_upload\"].values()))\n",
        "\n",
        "    phi = mean_t_update + mean_t_upload\n",
        "\n",
        "    # retrieve previous phi or same current phi if it's first round\n",
        "    prev_phi = agg_model[\"current_phi\"] if \"current_phi\" in agg_model.keys() else phi\n",
        "\n",
        "    # update current phi\n",
        "    agg_model[\"current_phi\"] = phi\n",
        "\n",
        "    # retrieve previous t_round\n",
        "    prev_t_round = agg_model[\"current_t_round\"] if \"current_t_round\" in agg_model.keys() else DEFAULT_T_ROUND\n",
        "\n",
        "    # change t_round dynamically by speed up on the previous phi\n",
        "    speed_up = phi / prev_phi\n",
        "    t_round = prev_t_round * speed_up\n",
        "\n",
        "    # update current t_round\n",
        "    agg_model[\"current_t_round\"] = t_round\n",
        "\n",
        "    print(\"Previous T round:\", prev_t_round)\n",
        "    print(\"Current T round:\", t_round)\n",
        "\n",
        "    # stats for t_round\n",
        "    agg_model[\"max_tround\"] = max(agg_model[\"max_tround\"] if \"max_tround\" in agg_model.keys() else 0, t_round)\n",
        "    agg_model[\"min_tround\"] = min(agg_model[\"min_tround\"] if \"min_tround\" in agg_model.keys() else 1_000_000, t_round)\n",
        "    print(\"Max T round:\", agg_model[\"max_tround\"])\n",
        "    print(\"Min T round:\", agg_model[\"min_tround\"])\n",
        "\n",
        "    ## Client selection\n",
        "    # get classes of the ML task\n",
        "    classes = agg_model[\"classes\"]\n",
        "\n",
        "    # get client indices\n",
        "    Kp = set(agg_model[\"comp_resources\"].keys())\n",
        "\n",
        "    # initialize set of selected clients to train locally\n",
        "    S = set()\n",
        "\n",
        "    # initialize time budget\n",
        "    t = 0\n",
        "\n",
        "    # function to minimize\n",
        "    def f(x):\n",
        "        return T_inc(agg_model, S, x, t)\n",
        "\n",
        "    while len(Kp) > 0:\n",
        "        x = min(Kp, key=lambda k: f(k) * CV(agg_model, S | {k}, classes))\n",
        "\n",
        "        # remove selected from Kp\n",
        "        Kp.remove(x)\n",
        "\n",
        "        # check time deadline\n",
        "        tp = t + T_inc(agg_model, S, x, t)\n",
        "        if tp < t_round:\n",
        "            # add client if time deadline is met\n",
        "            t = tp\n",
        "            S.add(x)\n",
        "\n",
        "    return S"
      ]
    },
    {
      "cell_type": "markdown",
      "metadata": {
        "id": "Rv2kD9k6AD6S"
      },
      "source": [
        "## Selección de datos\n",
        "\n",
        "En esta fase, el servidor recupera todos los datos de los clientes que permitieron la subida de sus datos $D_u$, y el servidor entonces selecciona los ejemplos según un criterio de selección que depende del _deadline_ $t^\\text{UD}$, que es el tiempo decidido para el que cuentan los clientes en subir sus datos antes de que el primer cliente en actualizar el modelo suba sus parámetros. En HybridFL [1], se proponen dos formas de seleccionar los datos que conforman el conjunto de datos final $D^\\text{UL}$ para el que el servidor actualiza el modelo global:\n",
        "1. El primero es seleccionar de manera _greedy_ los ejemplos del cliente con mayor _throughput_ en orden.\n",
        "2. En el segundo, el servidor intenta construir un conjunto de datos IID de la misma forma que en el primero solo que en vez de hacerlo en orden, lo hace por clase, de manera que se distribuyan los datos de manera idéntica. El dataset $D^\\text{UL}$ ya cuenta con la propiedad de ser uniformemente distribuído por haber seleccionado los clientes de forma aleatoria en la fase de __Petición de Recursos__.\n",
        "\n",
        "> [1] https://arxiv.org/abs/1905.07210"
      ]
    },
    {
      "cell_type": "code",
      "execution_count": null,
      "metadata": {
        "execution": {
          "iopub.execute_input": "2024-09-03T01:00:39.890973Z",
          "iopub.status.busy": "2024-09-03T01:00:39.890640Z",
          "iopub.status.idle": "2024-09-03T01:00:39.907792Z",
          "shell.execute_reply": "2024-09-03T01:00:39.906643Z",
          "shell.execute_reply.started": "2024-09-03T01:00:39.890920Z"
        },
        "id": "kLj7YqUTqz8q",
        "trusted": true
      },
      "outputs": [],
      "source": [
        "import gc\n",
        "from flex.data import Dataset\n",
        "\n",
        "def data_selection(agg_model: FlexModel, agg_data: Dataset, **kwargs):\n",
        "    S = kwargs[\"S\"]\n",
        "\n",
        "    # get clients that permit their data to be uploaded and they are not selected to train\n",
        "    U = [u for u in agg_model[\"permit_data_upload\"] if agg_model[\"permit_data_upload\"][u] and u not in S]\n",
        "\n",
        "    print(f\"Number of clients in U: {len(U)}\")\n",
        "\n",
        "    t_upload_deadline = min(agg_model[\"client_t_update\"].values())\n",
        "\n",
        "    classes = agg_model[\"classes\"]\n",
        "\n",
        "    # masks to skip samples indices from client data\n",
        "    removal_masks = {u: [] for u in agg_model[\"client_data\"]}\n",
        "\n",
        "    def client_has_class(k: int, label: int):\n",
        "        labels = agg_model[\"client_data\"][k].to_numpy()[1]\n",
        "\n",
        "        # remove already taken samples\n",
        "        removal_mask = removal_masks[k]\n",
        "        filtered_classes = np.delete(labels, removal_mask, axis=0)\n",
        "\n",
        "        res = filtered_classes[filtered_classes == label].size > 0\n",
        "\n",
        "        return res\n",
        "\n",
        "    def empty_client_data():\n",
        "        samples = []\n",
        "        for u in U:\n",
        "            d_x, d_y = agg_model[\"client_data\"][u].to_numpy()\n",
        "            filtered_d_x = np.delete(d_x, removal_masks[u], axis=0)\n",
        "            filtered_d_y = np.delete(d_y, removal_masks[u], axis=0)\n",
        "            samples.append(filtered_d_x.size)\n",
        "\n",
        "        return sum(samples) == 0\n",
        "\n",
        "    D_ul_X = []\n",
        "    D_ul_y = []\n",
        "    flag = True\n",
        "    t_data_upload = 0\n",
        "\n",
        "    while flag:\n",
        "        print(\"Time upload:\", t_data_upload)\n",
        "\n",
        "        for l in classes:\n",
        "            # get client with maximum throughput with class l samples\n",
        "            x = max([u for u in U if client_has_class(u, l)], key=lambda k: agg_model[\"comm_resources\"][k], default=None)\n",
        "\n",
        "            # if there's no client with l class, just continue with the other class\n",
        "            if not x:\n",
        "                # check if there's data before continuing to avoid infinite loop\n",
        "                flag = not empty_client_data()\n",
        "                continue\n",
        "\n",
        "            d_x, d_y = agg_model[\"client_data\"][x].to_numpy()\n",
        "\n",
        "            # filter data with label l\n",
        "            mask = np.where(d_y == l)[0].tolist()\n",
        "\n",
        "            # filter already taken samples\n",
        "            mask = [i for i in mask if i not in removal_masks[x]]\n",
        "\n",
        "            # take next first sample of class l\n",
        "            d = d_x[mask][0]\n",
        "\n",
        "            # compute data upload time\n",
        "            u_thr = agg_model[\"comm_resources\"][x]\n",
        "            D_sample = d.nbytes + np.array(l).nbytes   # size of sample\n",
        "\n",
        "            t_u = (D_sample * 8) / (u_thr * 1_000_000)\n",
        "\n",
        "            if (t_data_upload + t_u) <= t_upload_deadline:\n",
        "                # add d to D_ul\n",
        "                D_ul_X.append(d)\n",
        "                D_ul_y.append(l)\n",
        "\n",
        "                # remove d from D_ul\n",
        "                removal_masks[x].append(mask[0])\n",
        "\n",
        "            # check deadline\n",
        "            if (t_data_upload + t_u) >= t_upload_deadline:\n",
        "                flag = False\n",
        "\n",
        "            # finish if clients data are empty\n",
        "            if empty_client_data():\n",
        "                flag = False\n",
        "                break\n",
        "\n",
        "            # update data upload time\n",
        "            t_data_upload += t_u\n",
        "\n",
        "        # security check when not found any more data and didn't check deadline\n",
        "        if t_data_upload >= t_upload_deadline:\n",
        "            flag = False\n",
        "\n",
        "    return np.array(D_ul_X), np.array(D_ul_y)"
      ]
    },
    {
      "cell_type": "markdown",
      "metadata": {
        "id": "1viI2fAYJNVs"
      },
      "source": [
        "## Distribución del modelo global\n",
        "\n",
        "Redefinimos la subrutina de `copy_server_model_to_clients` visto en la configuración básica, para copiar solo la información que deben de compartir los clientes con el servidor, es decir, no debemos distribuir la información almacenada propia del servidor a los clientes y solo la que nos interesa. Esto viene a darse porque FLEX por defecto copia el modelo del servidor entero, y por tanto se copiaría los datos de los clientes $D_u$, información de los recursos de todos los clientes, etc.\n",
        "\n",
        "Para solo distribuir la información que nos interesa a los clientes, distribuimos toda la información del servidor para las claves que estén en la lista de claves de distribución (_white list_)."
      ]
    },
    {
      "cell_type": "code",
      "execution_count": null,
      "metadata": {
        "execution": {
          "iopub.execute_input": "2024-09-03T01:00:39.909332Z",
          "iopub.status.busy": "2024-09-03T01:00:39.909015Z",
          "iopub.status.idle": "2024-09-03T01:00:39.917313Z",
          "shell.execute_reply": "2024-09-03T01:00:39.916531Z",
          "shell.execute_reply.started": "2024-09-03T01:00:39.909300Z"
        },
        "id": "tntdkpO2JNVs",
        "trusted": true
      },
      "outputs": [],
      "source": [
        "from flex.pool import deploy_server_model\n",
        "import copy\n",
        "\n",
        "white_list = [\n",
        "    \"model\",\n",
        "    \"criterion\",\n",
        "    \"optimizer_func\",\n",
        "    \"optimizer_kwargs\"\n",
        "]\n",
        "\n",
        "@deploy_server_model\n",
        "def copy_server_model_to_clients(server_flex_model: FlexModel):\n",
        "    white_listed = {key: value for key, value in server_flex_model.items() if key in white_list}\n",
        "    return copy.deepcopy(white_listed)"
      ]
    },
    {
      "cell_type": "markdown",
      "metadata": {
        "id": "CuZ7jMvAVfnb"
      },
      "source": [
        "Creamos una subrutina del servidor para poder simular el tiempo de distribución de los modelos a los clientes. Esta función pretende ser ejecutada _luego_ o _antes_ de copiar el servidor del modelo a los clientes."
      ]
    },
    {
      "cell_type": "code",
      "execution_count": null,
      "metadata": {
        "execution": {
          "iopub.execute_input": "2024-09-03T01:00:39.923575Z",
          "iopub.status.busy": "2024-09-03T01:00:39.923305Z",
          "iopub.status.idle": "2024-09-03T01:00:39.930787Z",
          "shell.execute_reply": "2024-09-03T01:00:39.929818Z",
          "shell.execute_reply.started": "2024-09-03T01:00:39.923546Z"
        },
        "id": "MaCZVPJxVgv2",
        "trusted": true
      },
      "outputs": [],
      "source": [
        "import time\n",
        "from tqdm import tqdm\n",
        "from flex.pool import FlexPool\n",
        "from flex.data import Dataset\n",
        "\n",
        "def scheduled_model_distribution(agg_model: FlexModel, _: Dataset, **kwargs):\n",
        "    # get model size\n",
        "    model_size = agg_model[\"model_size\"]\n",
        "\n",
        "    # get selected clients\n",
        "    S: set = kwargs[\"S\"]\n",
        "\n",
        "    # get client throughputs\n",
        "    thr = [agg_model[\"comm_resources\"][client] for client in agg_model[\"comm_resources\"] if client in S]\n",
        "\n",
        "    # compute Time of Distribution\n",
        "    t_dist = T_model_dist(model_size, thr)\n",
        "\n",
        "    # simulate Time of Distribution of the model by sleeping\n",
        "    with tqdm(total=t_dist, desc=\"Distributing model...\") as pbar:\n",
        "        interval = 0.1\n",
        "        for _ in range(int(t_dist / interval)):\n",
        "            time.sleep(interval)\n",
        "            pbar.update(interval)"
      ]
    },
    {
      "cell_type": "markdown",
      "metadata": {
        "id": "dK0fuEjrCf4J"
      },
      "source": [
        "## Actualización y subida del modelo agendado\n",
        "\n",
        "Como hemos explicado anteriormente, para simular el tiempo que se estima en la actualización del modelo en los clientes, definimos la función de entrenamiento `scheduled_train` el cual entrena de la manera convencional que hemos visto en la configuración básica del entorno FL, pero esta vez, el tiempo transcurrido de esta función está sujeto a cumplir el tiempo de actualización para ese cliente como mínimo. De manera que se refleje el impacto de la selección de tal cliente en la duración total del entrenamiento del modelo global.\n",
        "\n",
        "Los clientes cuando terminan de entrenar su modelo, inmediatamente lo suben al servidor, por lo que también simularemos la subida agendada del modelo actualizado por el cliente en esta función simplemente _durmiendo_ el hilo de ejecución sobre su tiempo de subida $t^{UL}_k$."
      ]
    },
    {
      "cell_type": "code",
      "execution_count": null,
      "metadata": {
        "execution": {
          "iopub.execute_input": "2024-09-03T01:00:39.932794Z",
          "iopub.status.busy": "2024-09-03T01:00:39.932199Z",
          "iopub.status.idle": "2024-09-03T01:00:39.942260Z",
          "shell.execute_reply": "2024-09-03T01:00:39.941423Z",
          "shell.execute_reply.started": "2024-09-03T01:00:39.932743Z"
        },
        "id": "BsQTotGPVse6",
        "trusted": true
      },
      "outputs": [],
      "source": [
        "import time\n",
        "\n",
        "def scheduled_train(client_flex_model: FlexModel, client_data: Dataset, **kwargs):\n",
        "    # parse arguments\n",
        "    epochs = kwargs[\"epochs\"] if \"epochs\" in kwargs else 5\n",
        "    batch_size = kwargs[\"batch_size\"] if \"batch_size\" in kwargs else 20\n",
        "    transforms = kwargs[\"transforms\"] if \"transforms\" in kwargs else None\n",
        "\n",
        "    # get scheduled update and upload time\n",
        "    t_update = client_flex_model[\"t_update\"]\n",
        "    t_upload = client_flex_model[\"t_upload\"]\n",
        "\n",
        "    # start timer\n",
        "    start = time.time()\n",
        "\n",
        "    train_dataset = client_data.to_torchvision_dataset(transform=transforms)\n",
        "    client_dataloader = DataLoader(train_dataset, batch_size=batch_size)\n",
        "    model = client_flex_model[\"model\"]\n",
        "    optimizer = client_flex_model[\"optimizer_func\"](\n",
        "        model.parameters(), **client_flex_model[\"optimizer_kwargs\"]\n",
        "    )\n",
        "    model = model.train()\n",
        "    model = model.to(device)\n",
        "    criterion = client_flex_model[\"criterion\"]\n",
        "    for _ in range(epochs):\n",
        "        for imgs, labels in client_dataloader:\n",
        "            imgs, labels = imgs.to(device), labels.to(device)\n",
        "            optimizer.zero_grad()\n",
        "            pred = model(imgs)\n",
        "            loss = criterion(pred, labels)\n",
        "            loss.backward()\n",
        "            optimizer.step()\n",
        "\n",
        "    # stop timer and get effective training time\n",
        "    end = time.time()\n",
        "    training_time = end - start\n",
        "\n",
        "    # simulate scheduled updating and uploading time by sleeping\n",
        "    time.sleep(max(0, t_update - training_time) + t_upload)"
      ]
    },
    {
      "cell_type": "markdown",
      "metadata": {
        "id": "9gdQFIIQExY4"
      },
      "source": [
        "En cuanto a la actualización del modelo de forma centralizada en el servidor con la función `centralized_train`, donde realizamos el mismo bucle de entrenamiento pero en este caso _sin agendar_, debido a que hemos supuesto que el tiempo de entrenamiento del servidor era despreciable comparado con los cliente, y que por tanto no tendría ningún impacto en el tiempo transcurrido de entrenamiento federado. También, ante la posibilidad de que no se haya podido recuperar datos del cliente (e.g. $U = 0$), indicamos con un campo booleano si el servidor ha podido actualizar el modelo o no; para de esta manera saber _a posteriori_ si agregamos los pesos del servidor si y solo si son nuevos parámetros. En cuanto a su tiempo de subida, es evidente que $t^{UL}_\\text{server} = 0$ puesto que los parámetros están ya en el servidor."
      ]
    },
    {
      "cell_type": "code",
      "execution_count": null,
      "metadata": {
        "execution": {
          "iopub.execute_input": "2024-09-03T01:00:39.944066Z",
          "iopub.status.busy": "2024-09-03T01:00:39.943637Z",
          "iopub.status.idle": "2024-09-03T01:00:39.953658Z",
          "shell.execute_reply": "2024-09-03T01:00:39.952839Z",
          "shell.execute_reply.started": "2024-09-03T01:00:39.944012Z"
        },
        "id": "3OC4fi-JHQF-",
        "trusted": true
      },
      "outputs": [],
      "source": [
        "def centralized_train(server_model: FlexModel, _test_data: Dataset, **kwargs):\n",
        "    # parse arguments\n",
        "    epochs = kwargs[\"epochs\"] if \"epochs\" in kwargs else 5\n",
        "    batch_size = kwargs[\"batch_size\"] if \"batch_size\" in kwargs else 20\n",
        "    transforms = kwargs[\"transforms\"] if \"transforms\" in kwargs else None\n",
        "\n",
        "    # get client data\n",
        "    X, y = kwargs[\"client_data\"]\n",
        "\n",
        "    if y.size == 0:\n",
        "        # model has not been updated by server\n",
        "        server_model[\"trained\"] = False\n",
        "        return\n",
        "\n",
        "    client_data = Dataset.from_array(X, y)\n",
        "\n",
        "    train_dataset = client_data.to_torchvision_dataset(transform=transforms)\n",
        "    client_dataloader = DataLoader(train_dataset, batch_size=batch_size)\n",
        "    model = server_model[\"model\"]\n",
        "    optimizer = server_model[\"optimizer_func\"](\n",
        "        model.parameters(), **server_model[\"optimizer_kwargs\"]\n",
        "    )\n",
        "    model = model.train()\n",
        "    model = model.to(device)\n",
        "    criterion = server_model[\"criterion\"]\n",
        "    for _ in range(epochs):\n",
        "        for imgs, labels in client_dataloader:\n",
        "            imgs, labels = imgs.to(device), labels.to(device)\n",
        "            optimizer.zero_grad()\n",
        "            pred = model(imgs)\n",
        "            loss = criterion(pred, labels)\n",
        "            loss.backward()\n",
        "            optimizer.step()\n",
        "\n",
        "    # server has updated the model\n",
        "    server_model[\"trained\"] = True"
      ]
    },
    {
      "cell_type": "markdown",
      "metadata": {
        "id": "4Pii0biJV20o"
      },
      "source": [
        "El hilo de ejecución de los clientes se realiza en manera paralela y no secuencial tanto para la actualización de los modelos como su subida. Sin embargo, FedCS (y por tanto HybridFL) establece que las subidas de los modelos se realizan de manera síncrona y secuencial; por tanto, para simular el tiempo que debería durar la actualización y subida de los modelos vamos a definir una función en la que el servidor _duerme_ su hilo de ejecución por el tiempo necesario para simular la actualización paralela y la subida secuencial de los modelos, es decir, el tiempo transcurrido $\\Theta_{S_t}$ [1]. En caso de que la ejecución en paralelo haya tomado más tiempo que $\\Theta_{S_t}$, simplemente no dormimimos el hilo de ejecución.\n",
        "\n",
        "> [1] Detalles en cómo calcular $\\Theta_{S_t}$ en https://arxiv.org/abs/1804.08333."
      ]
    },
    {
      "cell_type": "code",
      "execution_count": null,
      "metadata": {
        "execution": {
          "iopub.execute_input": "2024-09-03T01:00:39.955117Z",
          "iopub.status.busy": "2024-09-03T01:00:39.954788Z",
          "iopub.status.idle": "2024-09-03T01:00:39.964593Z",
          "shell.execute_reply": "2024-09-03T01:00:39.963668Z",
          "shell.execute_reply.started": "2024-09-03T01:00:39.955075Z"
        },
        "id": "bi6xEigVV3N4",
        "trusted": true
      },
      "outputs": [],
      "source": [
        "import time\n",
        "from flex.pool import FlexPool\n",
        "from flex.data import Dataset\n",
        "\n",
        "def simulate_model_update_upload(server_model: FlexModel, _: Dataset, **kwargs):\n",
        "\n",
        "    # function to compute the time elapsed of clients parallel training and sequential upload\n",
        "    def compute_simulation_time(S: list, elapsed_time=0):\n",
        "        k = S[0]\n",
        "        theta = elapsed_time + server_model[\"client_t_upload\"][k] + max(0, server_model[\"client_t_update\"][k] - elapsed_time)\n",
        "\n",
        "        if len(S) == 1:\n",
        "            return theta\n",
        "\n",
        "        return compute_simulation_time(S[1:], elapsed_time=theta)\n",
        "\n",
        "    # get clients indices\n",
        "    S = list(kwargs[\"S\"])\n",
        "\n",
        "    # get total upload time\n",
        "    elapsed_training_time = kwargs[\"training_time\"]\n",
        "\n",
        "    # compute the time of sequential model uploads and parallel updates\n",
        "    sim_time = compute_simulation_time(S)\n",
        "\n",
        "    # sleep for the difference between the parallel and sequential total times\n",
        "    time_to_sleep = sim_time - elapsed_training_time\n",
        "\n",
        "    if time_to_sleep > 0:\n",
        "        time.sleep(time_to_sleep)"
      ]
    },
    {
      "cell_type": "markdown",
      "metadata": {
        "id": "SWt4c9utGAtr"
      },
      "source": [
        "## Recolección de las actualizaciones de los modelos\n",
        "\n",
        "Por último cambiamos la función de obtención y agrupación de los pesos de los clientes para también incluir también los del servidor."
      ]
    },
    {
      "cell_type": "code",
      "execution_count": null,
      "metadata": {
        "execution": {
          "iopub.execute_input": "2024-09-03T01:00:39.965965Z",
          "iopub.status.busy": "2024-09-03T01:00:39.965697Z",
          "iopub.status.idle": "2024-09-03T01:00:39.975650Z",
          "shell.execute_reply": "2024-09-03T01:00:39.974784Z",
          "shell.execute_reply.started": "2024-09-03T01:00:39.965935Z"
        },
        "id": "LOF7zYjIWFVq",
        "trusted": true
      },
      "outputs": [],
      "source": [
        "import time\n",
        "import torch\n",
        "import numpy as np\n",
        "\n",
        "def collect_server_and_clients_weights(aggregator_flex_model: FlexModel, clients_flex_models: List[FlexModel], **kwargs):\n",
        "\n",
        "    def get_model_weights(client_flex_model: FlexModel):\n",
        "        \"\"\"\n",
        "        Returns the weights of a Flex model per layer.\n",
        "        \"\"\"\n",
        "        weight_dict = client_flex_model[\"model\"].state_dict()\n",
        "        return [weight_dict[name] for name in weight_dict]\n",
        "\n",
        "    if \"weights\" not in aggregator_flex_model:\n",
        "        aggregator_flex_model[\"weights\"] = []\n",
        "\n",
        "    # collect clients weights\n",
        "    for k in clients_flex_models:\n",
        "        client_weights = get_model_weights(clients_flex_models[k])\n",
        "        aggregator_flex_model[\"weights\"].append(client_weights)\n",
        "\n",
        "    # finally collect server weights if server has trained with client data\n",
        "    if aggregator_flex_model[\"trained\"]:\n",
        "        server_weights = get_model_weights(aggregator_flex_model)\n",
        "        aggregator_flex_model[\"weights\"].append(server_weights)"
      ]
    },
    {
      "cell_type": "markdown",
      "metadata": {
        "id": "RuNyjTdSE0qx"
      },
      "source": [
        "## Entrenamiento paralelo de los modelos\n",
        "\n",
        "Cuando no tenemos restricciones de tiempo ni fases agendadas, es viable realizar las actualizaciones locales de los clientes de forma _iterativa_, i.e. una actualización tras de otra. Sin embargo, para poder simular de la manera más cercana a la realidad el entrenamiento en cada ronda y que los resultados sean acordes a partir de los datos y recursos de los clientes, necesitamos hacer que _al menos_ las actualizaciones de los modelos locales en los clientes se realicen de forma paralela. Esto no solo se necesita para obtener resultados coherentes con la configuración establecida, sino que también es necesario para que el entrenamiento sea viable computacionalmente; esto debido a que algunos clientes pueden tomar hasta $> 30$ segundos en actualizar un modelo, algo que puede retrasar el entrenamiento de otro en el caso de hacerse de forma iterativa y síncrona.\n",
        "\n",
        "Solo necesitaremos de paralelizar las actualizaciones en los clientes. Las demás fases como la subida de los parámetros locales, la distribución del modelo, la agregación de las actualizaciones, etc. Si se han de realizar de forma síncrona. En [1] muestran resultados del estado del arte en aprendizaje distribuído utilizando una aproximación síncrona.\n",
        "\n",
        "Para entonces poder paralelizar este entrenamiento, creamos una clase `FlexParallelPool` que hereda de la clase de FLEX `FlexPool`. Con esto, definimos un método `parallel_map` que realice la misma tarea que `map` (que es aplicar una función a un conjunto de actores destino), pero en este caso de forma paralela, creando para cada actor destino un hilo de ejecución. De esta manera lograremos paralelizar la función `scheduled_train` de los clientes y así poder simular el entrenamiento en paralelo de una forma más realista.\n",
        "\n",
        "> [1] https://arxiv.org/abs/1604.00981"
      ]
    },
    {
      "cell_type": "code",
      "execution_count": null,
      "metadata": {
        "execution": {
          "iopub.execute_input": "2024-09-03T01:00:39.977133Z",
          "iopub.status.busy": "2024-09-03T01:00:39.976762Z",
          "iopub.status.idle": "2024-09-03T01:00:39.986606Z",
          "shell.execute_reply": "2024-09-03T01:00:39.985648Z",
          "shell.execute_reply.started": "2024-09-03T01:00:39.977089Z"
        },
        "id": "_EmPboRGUXLq",
        "trusted": true
      },
      "outputs": [],
      "source": [
        "import threading\n",
        "from typing import Callable\n",
        "\n",
        "\n",
        "class FlexParallelPool(FlexPool):\n",
        "    def __init__(self, *args, **kwargs):\n",
        "        super().__init__(*args, **kwargs)\n",
        "\n",
        "    def parallel_map(self, func: Callable, dst_pool: FlexPool = None, **kwargs):\n",
        "        if dst_pool is None:\n",
        "            threads = []\n",
        "            for i in self._actors:\n",
        "                t = threading.Thread(target=func, args=(self._models.get(i), self._data.get(i)), kwargs=kwargs)\n",
        "                threads.append(t)\n",
        "                t.start()\n",
        "\n",
        "            for t in threads:\n",
        "                t.join()\n",
        "\n",
        "            return None\n",
        "        elif FlexPool.check_compatibility(self, dst_pool):\n",
        "            threads = []\n",
        "            for i in self._actors:\n",
        "                t = threading.Thread(target=func, args=(self._models.get(i), dst_pool._models), kwargs=kwargs)\n",
        "                threads.append(t)\n",
        "                t.start()\n",
        "\n",
        "            for t in threads:\n",
        "                t.join()\n",
        "\n",
        "            return None\n",
        "        else:\n",
        "            raise ValueError(\n",
        "                \"Source and destination pools are not allowed to comunicate, ensure that their actors can communicate.\"\n",
        "            )"
      ]
    },
    {
      "cell_type": "markdown",
      "metadata": {
        "id": "OAekDaR1JLSu"
      },
      "source": [
        "## Training Loop final\n",
        "\n",
        "Finalmente, implementamos la función de entrenamiento en aprendizaje federado en el que aplicamos todas las funciones que realizan la selección de clientes con HybridFL. Este bucle de entrenamiento recibe un límite de tiempo $T_\\text{final}$ para el cual el bucle termina cuando haya transcurrido esta cantidad de tiempo en segundos."
      ]
    },
    {
      "cell_type": "code",
      "execution_count": null,
      "metadata": {
        "execution": {
          "iopub.execute_input": "2024-09-03T01:00:39.988029Z",
          "iopub.status.busy": "2024-09-03T01:00:39.987745Z",
          "iopub.status.idle": "2024-09-03T01:00:40.008027Z",
          "shell.execute_reply": "2024-09-03T01:00:40.007083Z",
          "shell.execute_reply.started": "2024-09-03T01:00:39.987992Z"
        },
        "id": "NVPmE4zGxd-X",
        "trusted": true
      },
      "outputs": [],
      "source": [
        "import time\n",
        "import gc\n",
        "\n",
        "from flex.pool import FlexPool\n",
        "\n",
        "MNIST_LABELS = list(set(train_data.targets))\n",
        "CIFAR_LABELS = list(set(train_data.targets))\n",
        "\n",
        "def train_n_rounds_hybrid(pool: FlexParallelPool, T_final: int, clients_per_round: int = 100, problem: Problem = \"mnist\"):\n",
        "    \"\"\"\n",
        "    FL training loop for a certain deadline time in seconds.\n",
        "    \"\"\"\n",
        "    # collect garbage\n",
        "    gc.collect()\n",
        "\n",
        "    # save list of classes to server model to use them in client and data selection\n",
        "    def set_classes_to_server(flex_model: FlexModel, _):\n",
        "        flex_model[\"classes\"] = MNIST_LABELS if problem == \"mnist\" else CIFAR_LABELS\n",
        "\n",
        "    pool.servers.map(set_classes_to_server)\n",
        "\n",
        "    # select transformations depending on problem to solve and assign to server\n",
        "    transforms = mnist_transforms if problem == \"mnist\" else cifar_transforms\n",
        "\n",
        "    # initialize clients simulated resources\n",
        "    pool.clients.map(init_client_resources)\n",
        "\n",
        "    losses = []\n",
        "    accuracies = []\n",
        "    elapsed_round_times = []\n",
        "    total_selected = 0\n",
        "\n",
        "    start = time.time()\n",
        "    end = start\n",
        "    i = 0\n",
        "    while (end - start) < T_final:\n",
        "        start_round = time.time()\n",
        "        print(f\"\\nRunning round: {i+1} - Time elapsed: {end - start} seconds\")\n",
        "\n",
        "        # Resource Request: ask M random clients to participate in the current round\n",
        "        # and clients notify the server about their resources and whether or not the permit\n",
        "        # their data to be uploaded (set U of clients)\n",
        "        print(\"Server requesting clients resources...\")\n",
        "        random_clients_pool = pool.clients.select(clients_per_round)\n",
        "        random_clients = random_clients_pool.clients\n",
        "\n",
        "        pool.aggregators.map(resource_request, random_clients)\n",
        "\n",
        "        # Client selection from Kp\n",
        "        print(\"Server selecting clients to train locally...\")\n",
        "        S = pool.aggregators.map(client_selection)[0]\n",
        "        print(f\"Selected clients (S): {len(S)} out of {clients_per_round}\")\n",
        "\n",
        "        # Update total selected clients\n",
        "        total_selected += len(S)\n",
        "\n",
        "        # Data selection from U clients\n",
        "        print(\"Server selecting data to train centralized...\")\n",
        "        client_data = pool.aggregators.map(data_selection, S=S)[0]\n",
        "        print(f\"Selected data length (|D_UL|): {client_data[0].size}\")\n",
        "\n",
        "        # get selected clients pool\n",
        "        selected_clients_pool = pool.clients.select(lambda actor_id, actor_roles: actor_id in S)\n",
        "        selected_clients = selected_clients_pool.clients\n",
        "        print(f\"Selected clients for this round: {len(selected_clients)}\")\n",
        "\n",
        "        # Deploy the server model to the selected clients\n",
        "        print(\"Distributing model...\")\n",
        "        pool.servers.map(copy_server_model_to_clients, selected_clients)\n",
        "        # schedule the distribution of the model\n",
        "        pool.servers.map(scheduled_model_distribution, S=set(S))\n",
        "\n",
        "        # Each selected client trains their model obeying the time restrictions\n",
        "        start_update_upload = time.time()\n",
        "        print(\"Scheduled model update and upload...\")\n",
        "        FlexParallelPool(selected_clients._data,\n",
        "                         selected_clients._actors,\n",
        "                         selected_clients._models).parallel_map(scheduled_train, transforms=transforms)\n",
        "        end_update_upload = time.time()\n",
        "\n",
        "        # simulate sequential model upload\n",
        "        pool.servers.map(simulate_model_update_upload, training_time=(end_update_upload - start_update_upload), S=S)\n",
        "\n",
        "        # compute local training time in total\n",
        "        total_training_time = time.time() - start_update_upload\n",
        "        print(f\"Scheduled model update and upload time: {total_training_time} sec\")\n",
        "\n",
        "        # Server updates model from clients uploaded data\n",
        "        print(\"Centralized model update...\")\n",
        "        pool.servers.map(centralized_train, client_data=client_data, transforms=transforms)\n",
        "\n",
        "        # The aggregator collects weights from the selected clients and aggregates them\n",
        "        print(\"Collecting weights...\")\n",
        "        pool.aggregators.map(collect_server_and_clients_weights, selected_clients)\n",
        "\n",
        "        print(\"Aggregating global model...\")\n",
        "        pool.aggregators.map(aggregate_with_fedavg)\n",
        "\n",
        "        # The aggregator send its aggregated weights to the server\n",
        "        pool.aggregators.map(set_agreggated_weights_to_server, pool.servers)\n",
        "        metrics = pool.servers.map(evaluate_global_model)\n",
        "        loss, acc = metrics[0]\n",
        "        losses.append(loss)\n",
        "        accuracies.append(acc)\n",
        "\n",
        "        end = time.time()\n",
        "        elapsed_round_times.append(end - start_round)\n",
        "        print(f\"Server: Test acc: {acc:.4f}, test loss: {loss:.4f}, round time: {end - start_round}\")\n",
        "\n",
        "        i += 1\n",
        "\n",
        "    print(f\"Total clients selected: {total_selected}\")\n",
        "    return losses, accuracies, elapsed_round_times"
      ]
    },
    {
      "cell_type": "code",
      "execution_count": null,
      "metadata": {
        "execution": {
          "iopub.execute_input": "2024-09-03T01:00:40.009626Z",
          "iopub.status.busy": "2024-09-03T01:00:40.009301Z",
          "iopub.status.idle": "2024-09-03T01:00:40.475068Z",
          "shell.execute_reply": "2024-09-03T01:00:40.474265Z",
          "shell.execute_reply.started": "2024-09-03T01:00:40.009596Z"
        },
        "id": "8wzZ4Z9PWvLO",
        "trusted": true
      },
      "outputs": [],
      "source": [
        "import pandas as pd\n",
        "import pickle\n",
        "\n",
        "def save_data(pool, losses, accuracies, elapsed, filename):\n",
        "    df = pd.DataFrame({\n",
        "        \"loss\": losses,\n",
        "        \"accuracy\": accuracies,\n",
        "        \"elapsed_time\": elapsed\n",
        "    })\n",
        "\n",
        "    # save data for MNIST\n",
        "    df.to_csv(f\"{filename}.csv\", index=False)\n",
        "\n",
        "    display(df)\n",
        "\n",
        "    # save model\n",
        "    with open(f\"{filename}_model.pkl\", \"wb\") as out:\n",
        "        pickle.dump(pool, out)"
      ]
    },
    {
      "cell_type": "code",
      "execution_count": null,
      "metadata": {
        "colab": {
          "base_uri": "https://localhost:8080/"
        },
        "execution": {
          "iopub.execute_input": "2024-09-03T01:00:40.477057Z",
          "iopub.status.busy": "2024-09-03T01:00:40.476555Z",
          "iopub.status.idle": "2024-09-03T01:00:40.521025Z",
          "shell.execute_reply": "2024-09-03T01:00:40.520008Z",
          "shell.execute_reply.started": "2024-09-03T01:00:40.477022Z"
        },
        "id": "lsRkZAp_DzD6",
        "outputId": "619acc80-7b26-4610-efcb-87f10db3541d",
        "trusted": true
      },
      "outputs": [
        {
          "name": "stdout",
          "output_type": "stream",
          "text": [
            "MNIST config: 1 servers and 1000 clients)\n",
            "CIFAR-10 config: 1 servers and 1000 clients)\n"
          ]
        }
      ],
      "source": [
        "from flex.pool import FlexPool\n",
        "\n",
        "# Setup\n",
        "T_FINAL_MIN = 400    # 400 minutes of FL training (~ 6 hours)\n",
        "C = 0.1              # fraction of participant clients per round\n",
        "\n",
        "pool_mnist = FlexParallelPool.client_server_pool(flex_dataset_mnist, init_func=build_server_model_mlp)\n",
        "pool_cifar = FlexParallelPool.client_server_pool(flex_dataset_cifar, init_func=build_server_model_cnn)\n",
        "\n",
        "print(f\"MNIST config: {len(pool_mnist.servers)} servers and {len(pool_mnist.clients)} clients)\")\n",
        "print(f\"CIFAR-10 config: {len(pool_cifar.servers)} servers and {len(pool_cifar.clients)} clients)\")"
      ]
    },
    {
      "cell_type": "code",
      "execution_count": null,
      "metadata": {
        "colab": {
          "base_uri": "https://localhost:8080/",
          "height": 1000
        },
        "execution": {
          "iopub.execute_input": "2024-09-03T00:59:45.232821Z",
          "iopub.status.busy": "2024-09-03T00:59:45.232128Z",
          "iopub.status.idle": "2024-09-03T07:41:41.103784Z",
          "shell.execute_reply": "2024-09-03T07:41:41.102887Z",
          "shell.execute_reply.started": "2024-09-03T00:59:45.232776Z"
        },
        "id": "cr-tt_Q23LIY",
        "outputId": "31586e3c-de4c-40f6-84cb-6f724d633541",
        "scrolled": true,
        "trusted": true
      },
      "outputs": [
        {
          "name": "stdout",
          "output_type": "stream",
          "text": [
            "\n",
            "Running round: 1 - Time elapsed: 0.0 seconds\n",
            "Server requesting clients resources...\n",
            "Server selecting clients to train locally...\n",
            "Previous T round: 180\n",
            "Current T round: 180.0\n",
            "Max T round: 180.0\n",
            "Min T round: 180.0\n",
            "Selected clients (S): 74 out of 100\n",
            "Server selecting data to train centralized...\n",
            "Number of clients in U: 0\n",
            "Time upload: 0\n",
            "Selected data length (|D_UL|): 0\n",
            "Selected clients for this round: 74\n",
            "Distributing model...\n"
          ]
        },
        {
          "name": "stderr",
          "output_type": "stream",
          "text": [
            "Distributing model...:  97%|█████████▋| 2.800000000000001/2.8852149236418247 [00:02<00:00,  1.02s/it]  \n"
          ]
        },
        {
          "name": "stdout",
          "output_type": "stream",
          "text": [
            "Scheduled model update and upload...\n",
            "Scheduled model update and upload time: 187.33833408355713 sec\n",
            "Centralized model update...\n",
            "Collecting weights...\n",
            "Aggregating global model...\n",
            "Server: Test acc: 0.6384, test loss: 1.7773, round time: 194.7284607887268\n",
            "\n",
            "Running round: 2 - Time elapsed: 194.7284619808197 seconds\n",
            "Server requesting clients resources...\n",
            "Server selecting clients to train locally...\n",
            "Previous T round: 180.0\n",
            "Current T round: 169.31711708645062\n",
            "Max T round: 180.0\n",
            "Min T round: 169.31711708645062\n",
            "Selected clients (S): 69 out of 100\n",
            "Server selecting data to train centralized...\n",
            "Number of clients in U: 0\n",
            "Time upload: 0\n",
            "Selected data length (|D_UL|): 0\n",
            "Selected clients for this round: 69\n",
            "Distributing model...\n"
          ]
        },
        {
          "name": "stderr",
          "output_type": "stream",
          "text": [
            "Distributing model...:  99%|█████████▉| 2.700000000000001/2.7292331126467637 [00:02<00:00,  1.02s/it]  \n"
          ]
        },
        {
          "name": "stdout",
          "output_type": "stream",
          "text": [
            "Scheduled model update and upload...\n",
            "Scheduled model update and upload time: 161.60888934135437 sec\n",
            "Centralized model update...\n",
            "Collecting weights...\n",
            "Aggregating global model...\n",
            "Server: Test acc: 0.7998, test loss: 1.1115, round time: 167.9102602005005\n",
            "\n",
            "Running round: 3 - Time elapsed: 362.64044213294983 seconds\n",
            "Server requesting clients resources...\n",
            "Server selecting clients to train locally...\n",
            "Previous T round: 169.31711708645062\n",
            "Current T round: 173.19362736512903\n",
            "Max T round: 180.0\n",
            "Min T round: 169.31711708645062\n",
            "Selected clients (S): 71 out of 100\n",
            "Server selecting data to train centralized...\n",
            "Number of clients in U: 0\n",
            "Time upload: 0\n",
            "Selected data length (|D_UL|): 0\n",
            "Selected clients for this round: 71\n",
            "Distributing model...\n"
          ]
        },
        {
          "name": "stderr",
          "output_type": "stream",
          "text": [
            "Distributing model...:  99%|█████████▉| 2.800000000000001/2.835227396038393 [00:02<00:00,  1.01s/it]  \n"
          ]
        },
        {
          "name": "stdout",
          "output_type": "stream",
          "text": [
            "Scheduled model update and upload...\n",
            "Scheduled model update and upload time: 173.58196640014648 sec\n",
            "Centralized model update...\n",
            "Collecting weights...\n",
            "Aggregating global model...\n",
            "Server: Test acc: 0.8249, test loss: 0.8136, round time: 180.0093173980713\n",
            "\n",
            "Running round: 4 - Time elapsed: 542.6513328552246 seconds\n",
            "Server requesting clients resources...\n",
            "Server selecting clients to train locally...\n",
            "Previous T round: 173.19362736512903\n",
            "Current T round: 180.07923970074765\n",
            "Max T round: 180.07923970074765\n",
            "Min T round: 169.31711708645062\n",
            "Selected clients (S): 76 out of 100\n",
            "Server selecting data to train centralized...\n",
            "Number of clients in U: 0\n",
            "Time upload: 0\n",
            "Selected data length (|D_UL|): 0\n",
            "Selected clients for this round: 76\n",
            "Distributing model...\n"
          ]
        },
        {
          "name": "stderr",
          "output_type": "stream",
          "text": [
            "Distributing model...:  99%|█████████▉| 2.800000000000001/2.834334683560194 [00:02<00:00,  1.01s/it]  \n"
          ]
        },
        {
          "name": "stdout",
          "output_type": "stream",
          "text": [
            "Scheduled model update and upload...\n",
            "Scheduled model update and upload time: 184.47436952590942 sec\n",
            "Centralized model update...\n",
            "Collecting weights...\n",
            "Aggregating global model...\n",
            "Server: Test acc: 0.8446, test loss: 0.6493, round time: 190.92282032966614\n",
            "\n",
            "Running round: 5 - Time elapsed: 733.5756812095642 seconds\n",
            "Server requesting clients resources...\n",
            "Server selecting clients to train locally...\n",
            "Previous T round: 180.07923970074765\n",
            "Current T round: 166.51238733862516\n",
            "Max T round: 180.07923970074765\n",
            "Min T round: 166.51238733862516\n",
            "Selected clients (S): 69 out of 100\n",
            "Server selecting data to train centralized...\n",
            "Number of clients in U: 1\n",
            "Time upload: 0\n",
            "Time upload: 0.05204021868104077\n",
            "Time upload: 0.10408043736208154\n",
            "Time upload: 0.1509166341750182\n",
            "Time upload: 0.19775283098795476\n",
            "Time upload: 0.23938500593278728\n",
            "Time upload: 0.27060913714141177\n",
            "Time upload: 0.29662924648193223\n",
            "Time upload: 0.3070372902181404\n",
            "Selected data length (|D_UL|): 47040\n",
            "Selected clients for this round: 69\n",
            "Distributing model...\n"
          ]
        },
        {
          "name": "stderr",
          "output_type": "stream",
          "text": [
            "Distributing model...:  99%|█████████▊| 2.700000000000001/2.7350336704854215 [00:02<00:00,  1.02s/it]  \n"
          ]
        },
        {
          "name": "stdout",
          "output_type": "stream",
          "text": [
            "Scheduled model update and upload...\n",
            "Scheduled model update and upload time: 161.67489671707153 sec\n",
            "Centralized model update...\n",
            "Collecting weights...\n",
            "Aggregating global model...\n",
            "Server: Test acc: 0.8579, test loss: 0.5643, round time: 168.47862696647644\n",
            "\n",
            "Running round: 6 - Time elapsed: 902.0560767650604 seconds\n",
            "Server requesting clients resources...\n",
            "Server selecting clients to train locally...\n",
            "Previous T round: 166.51238733862516\n",
            "Current T round: 174.4947818768429\n",
            "Max T round: 180.07923970074765\n",
            "Min T round: 166.51238733862516\n",
            "Selected clients (S): 70 out of 100\n",
            "Server selecting data to train centralized...\n",
            "Number of clients in U: 0\n",
            "Time upload: 0\n",
            "Selected data length (|D_UL|): 0\n",
            "Selected clients for this round: 70\n",
            "Distributing model...\n"
          ]
        },
        {
          "name": "stderr",
          "output_type": "stream",
          "text": [
            "Distributing model...:  97%|█████████▋| 2.800000000000001/2.8822863761598545 [00:02<00:00,  1.02s/it]  \n"
          ]
        },
        {
          "name": "stdout",
          "output_type": "stream",
          "text": [
            "Scheduled model update and upload...\n",
            "Scheduled model update and upload time: 179.12991213798523 sec\n",
            "Centralized model update...\n",
            "Collecting weights...\n",
            "Aggregating global model...\n",
            "Server: Test acc: 0.8645, test loss: 0.5110, round time: 185.56322479248047\n",
            "\n",
            "Running round: 7 - Time elapsed: 1087.621420621872 seconds\n",
            "Server requesting clients resources...\n",
            "Server selecting clients to train locally...\n",
            "Previous T round: 174.4947818768429\n",
            "Current T round: 167.1793817586919\n",
            "Max T round: 180.07923970074765\n",
            "Min T round: 166.51238733862516\n",
            "Selected clients (S): 69 out of 100\n",
            "Server selecting data to train centralized...\n",
            "Number of clients in U: 0\n",
            "Time upload: 0\n",
            "Selected data length (|D_UL|): 0\n",
            "Selected clients for this round: 69\n",
            "Distributing model...\n"
          ]
        },
        {
          "name": "stderr",
          "output_type": "stream",
          "text": [
            "Distributing model...:  98%|█████████▊| 2.800000000000001/2.870871545580685 [00:02<00:00,  1.01s/it]  \n"
          ]
        },
        {
          "name": "stdout",
          "output_type": "stream",
          "text": [
            "Scheduled model update and upload...\n",
            "Scheduled model update and upload time: 164.5709261894226 sec\n",
            "Centralized model update...\n",
            "Collecting weights...\n",
            "Aggregating global model...\n",
            "Server: Test acc: 0.8697, test loss: 0.4602, round time: 170.96700143814087\n",
            "\n",
            "Running round: 8 - Time elapsed: 1258.5900292396545 seconds\n",
            "Server requesting clients resources...\n",
            "Server selecting clients to train locally...\n",
            "Previous T round: 167.1793817586919\n",
            "Current T round: 170.88156030044667\n",
            "Max T round: 180.07923970074765\n",
            "Min T round: 166.51238733862516\n",
            "Selected clients (S): 70 out of 100\n",
            "Server selecting data to train centralized...\n",
            "Number of clients in U: 0\n",
            "Time upload: 0\n",
            "Selected data length (|D_UL|): 0\n",
            "Selected clients for this round: 70\n",
            "Distributing model...\n"
          ]
        },
        {
          "name": "stderr",
          "output_type": "stream",
          "text": [
            "Distributing model...: 100%|█████████▉| 2.9000000000000012/2.9070205784352856 [00:02<00:00,  1.02s/it] \n"
          ]
        },
        {
          "name": "stdout",
          "output_type": "stream",
          "text": [
            "Scheduled model update and upload...\n",
            "Scheduled model update and upload time: 164.66572761535645 sec\n",
            "Centralized model update...\n",
            "Collecting weights...\n",
            "Aggregating global model...\n",
            "Server: Test acc: 0.8754, test loss: 0.4356, round time: 171.20525693893433\n",
            "\n",
            "Running round: 9 - Time elapsed: 1429.7968056201935 seconds\n",
            "Server requesting clients resources...\n",
            "Server selecting clients to train locally...\n",
            "Previous T round: 170.88156030044667\n",
            "Current T round: 161.54402898418684\n",
            "Max T round: 180.07923970074765\n",
            "Min T round: 161.54402898418684\n",
            "Selected clients (S): 65 out of 100\n",
            "Server selecting data to train centralized...\n",
            "Number of clients in U: 1\n",
            "Time upload: 0\n",
            "Time upload: 0.04611185217586613\n",
            "Time upload: 0.0922237043517323\n",
            "Time upload: 0.13833555652759846\n",
            "Time upload: 0.18444740870346452\n",
            "Time upload: 0.22133689044415736\n",
            "Time upload: 0.249004001749677\n",
            "Time upload: 0.26283755740243686\n",
            "Time upload: 0.2674487426200235\n",
            "Time upload: 0.2720599278376101\n",
            "Selected data length (|D_UL|): 47040\n",
            "Selected clients for this round: 65\n",
            "Distributing model...\n"
          ]
        },
        {
          "name": "stderr",
          "output_type": "stream",
          "text": [
            "Distributing model...:  99%|█████████▉| 2.800000000000001/2.831034936175245 [00:02<00:00,  1.01s/it]  \n"
          ]
        },
        {
          "name": "stdout",
          "output_type": "stream",
          "text": [
            "Scheduled model update and upload...\n",
            "Scheduled model update and upload time: 155.38313150405884 sec\n",
            "Centralized model update...\n",
            "Collecting weights...\n",
            "Aggregating global model...\n",
            "Server: Test acc: 0.8794, test loss: 0.4174, round time: 162.20562410354614\n",
            "\n",
            "Running round: 10 - Time elapsed: 1592.0039103031158 seconds\n",
            "Server requesting clients resources...\n",
            "Server selecting clients to train locally...\n",
            "Previous T round: 161.54402898418684\n",
            "Current T round: 157.33879057487616\n",
            "Max T round: 180.07923970074765\n",
            "Min T round: 157.33879057487616\n",
            "Selected clients (S): 66 out of 100\n",
            "Server selecting data to train centralized...\n",
            "Number of clients in U: 0\n",
            "Time upload: 0\n",
            "Selected data length (|D_UL|): 0\n",
            "Selected clients for this round: 66\n",
            "Distributing model...\n"
          ]
        },
        {
          "name": "stderr",
          "output_type": "stream",
          "text": [
            "Distributing model...:  97%|█████████▋| 2.700000000000001/2.781479224002645 [00:02<00:00,  1.02s/it]  \n"
          ]
        },
        {
          "name": "stdout",
          "output_type": "stream",
          "text": [
            "Scheduled model update and upload...\n",
            "Scheduled model update and upload time: 158.0194206237793 sec\n",
            "Centralized model update...\n",
            "Collecting weights...\n",
            "Aggregating global model...\n",
            "Server: Test acc: 0.8835, test loss: 0.4116, round time: 164.2964804172516\n",
            "\n",
            "Running round: 11 - Time elapsed: 1756.301991701126 seconds\n",
            "Server requesting clients resources...\n",
            "Server selecting clients to train locally...\n",
            "Previous T round: 157.33879057487616\n",
            "Current T round: 166.96501766731245\n",
            "Max T round: 180.07923970074765\n",
            "Min T round: 157.33879057487616\n",
            "Selected clients (S): 68 out of 100\n",
            "Server selecting data to train centralized...\n",
            "Number of clients in U: 0\n",
            "Time upload: 0\n",
            "Selected data length (|D_UL|): 0\n",
            "Selected clients for this round: 68\n",
            "Distributing model...\n"
          ]
        },
        {
          "name": "stderr",
          "output_type": "stream",
          "text": [
            "Distributing model...:  97%|█████████▋| 2.800000000000001/2.879591226835595 [00:02<00:00,  1.01s/it]  \n"
          ]
        },
        {
          "name": "stdout",
          "output_type": "stream",
          "text": [
            "Scheduled model update and upload...\n",
            "Scheduled model update and upload time: 167.58831143379211 sec\n",
            "Centralized model update...\n",
            "Collecting weights...\n",
            "Aggregating global model...\n",
            "Server: Test acc: 0.8873, test loss: 0.3917, round time: 174.0024721622467\n",
            "\n",
            "Running round: 12 - Time elapsed: 1930.30619597435 seconds\n",
            "Server requesting clients resources...\n",
            "Server selecting clients to train locally...\n",
            "Previous T round: 166.96501766731245\n",
            "Current T round: 179.84242405408895\n",
            "Max T round: 180.07923970074765\n",
            "Min T round: 157.33879057487616\n",
            "Selected clients (S): 75 out of 100\n",
            "Server selecting data to train centralized...\n",
            "Number of clients in U: 0\n",
            "Time upload: 0\n",
            "Selected data length (|D_UL|): 0\n",
            "Selected clients for this round: 75\n",
            "Distributing model...\n"
          ]
        },
        {
          "name": "stderr",
          "output_type": "stream",
          "text": [
            "Distributing model...: 100%|█████████▉| 2.700000000000001/2.7117798311334935 [00:02<00:00,  1.02s/it]  \n"
          ]
        },
        {
          "name": "stdout",
          "output_type": "stream",
          "text": [
            "Scheduled model update and upload...\n",
            "Scheduled model update and upload time: 188.91725039482117 sec\n",
            "Centralized model update...\n",
            "Collecting weights...\n",
            "Aggregating global model...\n",
            "Server: Test acc: 0.8895, test loss: 0.3854, round time: 195.2620027065277\n",
            "\n",
            "Running round: 13 - Time elapsed: 2125.5698029994965 seconds\n",
            "Server requesting clients resources...\n",
            "Server selecting clients to train locally...\n",
            "Previous T round: 179.84242405408895\n",
            "Current T round: 160.53405390311872\n",
            "Max T round: 180.07923970074765\n",
            "Min T round: 157.33879057487616\n",
            "Selected clients (S): 67 out of 100\n",
            "Server selecting data to train centralized...\n",
            "Number of clients in U: 0\n",
            "Time upload: 0\n",
            "Selected data length (|D_UL|): 0\n",
            "Selected clients for this round: 67\n",
            "Distributing model...\n"
          ]
        },
        {
          "name": "stderr",
          "output_type": "stream",
          "text": [
            "Distributing model...:  98%|█████████▊| 2.700000000000001/2.756835034171399 [00:02<00:00,  1.02s/it]  \n"
          ]
        },
        {
          "name": "stdout",
          "output_type": "stream",
          "text": [
            "Scheduled model update and upload...\n",
            "Scheduled model update and upload time: 161.0231590270996 sec\n",
            "Centralized model update...\n",
            "Collecting weights...\n",
            "Aggregating global model...\n",
            "Server: Test acc: 0.8905, test loss: 0.3803, round time: 167.3712034225464\n",
            "\n",
            "Running round: 14 - Time elapsed: 2292.9424850940704 seconds\n",
            "Server requesting clients resources...\n",
            "Server selecting clients to train locally...\n",
            "Previous T round: 160.53405390311872\n",
            "Current T round: 172.80212843062614\n",
            "Max T round: 180.07923970074765\n",
            "Min T round: 157.33879057487616\n",
            "Selected clients (S): 70 out of 100\n",
            "Server selecting data to train centralized...\n",
            "Number of clients in U: 1\n",
            "Time upload: 0\n",
            "Time upload: 0.04880046424768139\n",
            "Time upload: 0.09760092849536275\n",
            "Time upload: 0.14152134631827598\n",
            "Time upload: 0.18056171771642107\n",
            "Time upload: 0.21472204268979803\n",
            "Time upload: 0.24400232123840684\n",
            "Time upload: 0.2732825997870157\n",
            "Selected data length (|D_UL|): 47040\n",
            "Selected clients for this round: 70\n",
            "Distributing model...\n"
          ]
        },
        {
          "name": "stderr",
          "output_type": "stream",
          "text": [
            "Distributing model...:  97%|█████████▋| 2.800000000000001/2.8826151359890346 [00:02<00:00,  1.01s/it]  \n"
          ]
        },
        {
          "name": "stdout",
          "output_type": "stream",
          "text": [
            "Scheduled model update and upload...\n",
            "Scheduled model update and upload time: 170.4367218017578 sec\n",
            "Centralized model update...\n",
            "Collecting weights...\n",
            "Aggregating global model...\n",
            "Server: Test acc: 0.8914, test loss: 0.3612, round time: 177.31666111946106\n",
            "\n",
            "Running round: 15 - Time elapsed: 2470.260663509369 seconds\n",
            "Server requesting clients resources...\n",
            "Server selecting clients to train locally...\n",
            "Previous T round: 172.80212843062614\n",
            "Current T round: 172.88225164144689\n",
            "Max T round: 180.07923970074765\n",
            "Min T round: 157.33879057487616\n",
            "Selected clients (S): 73 out of 100\n",
            "Server selecting data to train centralized...\n",
            "Number of clients in U: 0\n",
            "Time upload: 0\n",
            "Selected data length (|D_UL|): 0\n",
            "Selected clients for this round: 73\n",
            "Distributing model...\n"
          ]
        },
        {
          "name": "stderr",
          "output_type": "stream",
          "text": [
            "Distributing model...:  99%|█████████▉| 2.700000000000001/2.728915664561896 [00:02<00:00,  1.01s/it]  \n"
          ]
        },
        {
          "name": "stdout",
          "output_type": "stream",
          "text": [
            "Scheduled model update and upload...\n",
            "Scheduled model update and upload time: 172.63476300239563 sec\n",
            "Centralized model update...\n",
            "Collecting weights...\n",
            "Aggregating global model...\n",
            "Server: Test acc: 0.8951, test loss: 0.3536, round time: 178.90140008926392\n",
            "\n",
            "Running round: 16 - Time elapsed: 2649.163618326187 seconds\n",
            "Server requesting clients resources...\n",
            "Server selecting clients to train locally...\n",
            "Previous T round: 172.88225164144689\n",
            "Current T round: 158.18099071674573\n",
            "Max T round: 180.07923970074765\n",
            "Min T round: 157.33879057487616\n",
            "Selected clients (S): 66 out of 100\n",
            "Server selecting data to train centralized...\n",
            "Number of clients in U: 0\n",
            "Time upload: 0\n",
            "Selected data length (|D_UL|): 0\n",
            "Selected clients for this round: 66\n",
            "Distributing model...\n"
          ]
        },
        {
          "name": "stderr",
          "output_type": "stream",
          "text": [
            "Distributing model...:  97%|█████████▋| 2.800000000000001/2.8893312928428543 [00:02<00:00,  1.01s/it]  \n"
          ]
        },
        {
          "name": "stdout",
          "output_type": "stream",
          "text": [
            "Scheduled model update and upload...\n",
            "Scheduled model update and upload time: 154.8388159275055 sec\n",
            "Centralized model update...\n",
            "Collecting weights...\n",
            "Aggregating global model...\n",
            "Server: Test acc: 0.8965, test loss: 0.3473, round time: 161.13856077194214\n",
            "\n",
            "Running round: 17 - Time elapsed: 2810.3038387298584 seconds\n",
            "Server requesting clients resources...\n",
            "Server selecting clients to train locally...\n",
            "Previous T round: 158.18099071674573\n",
            "Current T round: 179.99261827618136\n",
            "Max T round: 180.07923970074765\n",
            "Min T round: 157.33879057487616\n",
            "Selected clients (S): 75 out of 100\n",
            "Server selecting data to train centralized...\n",
            "Number of clients in U: 0\n",
            "Time upload: 0\n",
            "Selected data length (|D_UL|): 0\n",
            "Selected clients for this round: 75\n",
            "Distributing model...\n"
          ]
        },
        {
          "name": "stderr",
          "output_type": "stream",
          "text": [
            "Distributing model...:  99%|█████████▊| 2.700000000000001/2.7386124876408364 [00:02<00:00,  1.01s/it]  \n"
          ]
        },
        {
          "name": "stdout",
          "output_type": "stream",
          "text": [
            "Scheduled model update and upload...\n",
            "Scheduled model update and upload time: 180.24099850654602 sec\n",
            "Centralized model update...\n",
            "Collecting weights...\n",
            "Aggregating global model...\n",
            "Server: Test acc: 0.8973, test loss: 0.3543, round time: 186.4321575164795\n",
            "\n",
            "Running round: 18 - Time elapsed: 2996.737514734268 seconds\n",
            "Server requesting clients resources...\n",
            "Server selecting clients to train locally...\n",
            "Previous T round: 179.99261827618136\n",
            "Current T round: 166.82793338256016\n",
            "Max T round: 180.07923970074765\n",
            "Min T round: 157.33879057487616\n",
            "Selected clients (S): 68 out of 100\n",
            "Server selecting data to train centralized...\n",
            "Number of clients in U: 2\n",
            "Time upload: 0\n",
            "Time upload: 0.042334265909479134\n",
            "Time upload: 0.08466853181895827\n",
            "Time upload: 0.1282102735142475\n",
            "Time upload: 0.17295949099534683\n",
            "Time upload: 0.21891618426225626\n",
            "Time upload: 0.2660803533149757\n",
            "Time upload: 0.31324452236769496\n",
            "Time upload: 0.3628236429920344\n",
            "Time upload: 0.40635086200609827\n",
            "Time upload: 0.44443717864340415\n",
            "Time upload: 0.48252349528071004\n",
            "Time upload: 0.5097280071645\n",
            "Time upload: 0.5369325190482899\n",
            "Time upload: 0.5586961285553218\n",
            "Time upload: 0.5695779333088378\n",
            "Time upload: 0.5750188356855958\n",
            "Selected data length (|D_UL|): 94080\n",
            "Selected clients for this round: 68\n",
            "Distributing model...\n"
          ]
        },
        {
          "name": "stderr",
          "output_type": "stream",
          "text": [
            "Distributing model...:  97%|█████████▋| 2.700000000000001/2.7817656895439384 [00:02<00:00,  1.01s/it]  \n"
          ]
        },
        {
          "name": "stdout",
          "output_type": "stream",
          "text": [
            "Scheduled model update and upload...\n",
            "Scheduled model update and upload time: 163.9358208179474 sec\n",
            "Centralized model update...\n",
            "Collecting weights...\n",
            "Aggregating global model...\n",
            "Server: Test acc: 0.8994, test loss: 0.3492, round time: 171.57196974754333\n",
            "\n",
            "Running round: 19 - Time elapsed: 3168.3108880519867 seconds\n",
            "Server requesting clients resources...\n",
            "Server selecting clients to train locally...\n",
            "Previous T round: 166.82793338256016\n",
            "Current T round: 156.2331459729133\n",
            "Max T round: 180.07923970074765\n",
            "Min T round: 156.2331459729133\n",
            "Selected clients (S): 64 out of 100\n",
            "Server selecting data to train centralized...\n",
            "Number of clients in U: 1\n",
            "Time upload: 0\n",
            "Time upload: 0.05002904737121234\n",
            "Time upload: 0.10005809474242464\n",
            "Time upload: 0.14508423737651568\n",
            "Time upload: 0.1851074752734855\n",
            "Time upload: 0.2201278084333341\n",
            "Time upload: 0.2501452368560615\n",
            "Time upload: 0.28016266527878886\n",
            "Selected data length (|D_UL|): 47040\n",
            "Selected clients for this round: 64\n",
            "Distributing model...\n"
          ]
        },
        {
          "name": "stderr",
          "output_type": "stream",
          "text": [
            "Distributing model...:  98%|█████████▊| 2.800000000000001/2.853693036410565 [00:02<00:00,  1.01s/it]  \n"
          ]
        },
        {
          "name": "stdout",
          "output_type": "stream",
          "text": [
            "Scheduled model update and upload...\n",
            "Scheduled model update and upload time: 156.4392774105072 sec\n",
            "Centralized model update...\n",
            "Collecting weights...\n",
            "Aggregating global model...\n",
            "Server: Test acc: 0.8995, test loss: 0.3544, round time: 163.22318410873413\n",
            "\n",
            "Running round: 20 - Time elapsed: 3331.535541534424 seconds\n",
            "Server requesting clients resources...\n",
            "Server selecting clients to train locally...\n",
            "Previous T round: 156.2331459729133\n",
            "Current T round: 170.59659012525233\n",
            "Max T round: 180.07923970074765\n",
            "Min T round: 156.2331459729133\n",
            "Selected clients (S): 71 out of 100\n",
            "Server selecting data to train centralized...\n",
            "Number of clients in U: 0\n",
            "Time upload: 0\n",
            "Selected data length (|D_UL|): 0\n",
            "Selected clients for this round: 71\n",
            "Distributing model...\n"
          ]
        },
        {
          "name": "stderr",
          "output_type": "stream",
          "text": [
            "Distributing model...:  98%|█████████▊| 2.700000000000001/2.7430782379210967 [00:02<00:00,  1.01s/it]  \n"
          ]
        },
        {
          "name": "stdout",
          "output_type": "stream",
          "text": [
            "Scheduled model update and upload...\n",
            "Scheduled model update and upload time: 173.7384271621704 sec\n",
            "Centralized model update...\n",
            "Collecting weights...\n",
            "Aggregating global model...\n",
            "Server: Test acc: 0.9006, test loss: 0.3345, round time: 180.03175377845764\n",
            "\n",
            "Running round: 21 - Time elapsed: 3511.5686407089233 seconds\n",
            "Server requesting clients resources...\n",
            "Server selecting clients to train locally...\n",
            "Previous T round: 170.59659012525233\n",
            "Current T round: 175.82304606014603\n",
            "Max T round: 180.07923970074765\n",
            "Min T round: 156.2331459729133\n",
            "Selected clients (S): 73 out of 100\n",
            "Server selecting data to train centralized...\n",
            "Number of clients in U: 0\n",
            "Time upload: 0\n",
            "Selected data length (|D_UL|): 0\n",
            "Selected clients for this round: 73\n",
            "Distributing model...\n"
          ]
        },
        {
          "name": "stderr",
          "output_type": "stream",
          "text": [
            "Distributing model...:  97%|█████████▋| 2.700000000000001/2.7946625552409836 [00:02<00:00,  1.01s/it]  \n"
          ]
        },
        {
          "name": "stdout",
          "output_type": "stream",
          "text": [
            "Scheduled model update and upload...\n",
            "Scheduled model update and upload time: 174.98307991027832 sec\n",
            "Centralized model update...\n",
            "Collecting weights...\n",
            "Aggregating global model...\n",
            "Server: Test acc: 0.9017, test loss: 0.3508, round time: 181.3197786808014\n",
            "\n",
            "Running round: 22 - Time elapsed: 3692.890191555023 seconds\n",
            "Server requesting clients resources...\n",
            "Server selecting clients to train locally...\n",
            "Previous T round: 175.82304606014603\n",
            "Current T round: 186.70066757579661\n",
            "Max T round: 186.70066757579661\n",
            "Min T round: 156.2331459729133\n",
            "Selected clients (S): 79 out of 100\n",
            "Server selecting data to train centralized...\n",
            "Number of clients in U: 0\n",
            "Time upload: 0\n",
            "Selected data length (|D_UL|): 0\n",
            "Selected clients for this round: 79\n",
            "Distributing model...\n"
          ]
        },
        {
          "name": "stderr",
          "output_type": "stream",
          "text": [
            "Distributing model...:  97%|█████████▋| 2.600000000000001/2.6862943414533444 [00:02<00:00,  1.02s/it]  \n"
          ]
        },
        {
          "name": "stdout",
          "output_type": "stream",
          "text": [
            "Scheduled model update and upload...\n",
            "Scheduled model update and upload time: 202.09203505516052 sec\n",
            "Centralized model update...\n",
            "Collecting weights...\n",
            "Aggregating global model...\n",
            "Server: Test acc: 0.9042, test loss: 0.3281, round time: 208.45962357521057\n",
            "\n",
            "Running round: 23 - Time elapsed: 3901.3513708114624 seconds\n",
            "Server requesting clients resources...\n",
            "Server selecting clients to train locally...\n",
            "Previous T round: 186.70066757579661\n",
            "Current T round: 163.67091723523998\n",
            "Max T round: 186.70066757579661\n",
            "Min T round: 156.2331459729133\n",
            "Selected clients (S): 68 out of 100\n",
            "Server selecting data to train centralized...\n",
            "Number of clients in U: 1\n",
            "Time upload: 0\n",
            "Time upload: 0.04675458302063046\n",
            "Time upload: 0.09350916604126094\n",
            "Time upload: 0.14026374906189137\n",
            "Time upload: 0.18701833208252172\n",
            "Time upload: 0.22909745680108903\n",
            "Time upload: 0.24779929000934117\n",
            "Time upload: 0.26182566491553033\n",
            "Time upload: 0.27117658151965646\n",
            "Time upload: 0.2758520398217195\n",
            "Selected data length (|D_UL|): 47040\n",
            "Selected clients for this round: 68\n",
            "Distributing model...\n"
          ]
        },
        {
          "name": "stderr",
          "output_type": "stream",
          "text": [
            "Distributing model...:  98%|█████████▊| 2.800000000000001/2.8511840446013013 [00:02<00:00,  1.02s/it]  \n"
          ]
        },
        {
          "name": "stdout",
          "output_type": "stream",
          "text": [
            "Scheduled model update and upload...\n",
            "Scheduled model update and upload time: 157.54223799705505 sec\n",
            "Centralized model update...\n",
            "Collecting weights...\n",
            "Aggregating global model...\n",
            "Server: Test acc: 0.9023, test loss: 0.3302, round time: 164.4936022758484\n",
            "\n",
            "Running round: 24 - Time elapsed: 4065.8464365005493 seconds\n",
            "Server requesting clients resources...\n",
            "Server selecting clients to train locally...\n",
            "Previous T round: 163.67091723523998\n",
            "Current T round: 144.75131084710415\n",
            "Max T round: 186.70066757579661\n",
            "Min T round: 144.75131084710415\n",
            "Selected clients (S): 59 out of 100\n",
            "Server selecting data to train centralized...\n",
            "Number of clients in U: 0\n",
            "Time upload: 0\n",
            "Selected data length (|D_UL|): 0\n",
            "Selected clients for this round: 59\n",
            "Distributing model...\n"
          ]
        },
        {
          "name": "stderr",
          "output_type": "stream",
          "text": [
            "Distributing model...:  99%|█████████▉| 2.800000000000001/2.8285335172188506 [00:02<00:00,  1.01s/it]  \n"
          ]
        },
        {
          "name": "stdout",
          "output_type": "stream",
          "text": [
            "Scheduled model update and upload...\n",
            "Scheduled model update and upload time: 140.25251531600952 sec\n",
            "Centralized model update...\n",
            "Collecting weights...\n",
            "Aggregating global model...\n",
            "Server: Test acc: 0.9039, test loss: 0.3439, round time: 146.65229439735413\n",
            "\n",
            "Running round: 25 - Time elapsed: 4212.500160694122 seconds\n",
            "Server requesting clients resources...\n",
            "Server selecting clients to train locally...\n",
            "Previous T round: 144.75131084710415\n",
            "Current T round: 163.2828746814761\n",
            "Max T round: 186.70066757579661\n",
            "Min T round: 144.75131084710415\n",
            "Selected clients (S): 67 out of 100\n",
            "Server selecting data to train centralized...\n",
            "Number of clients in U: 0\n",
            "Time upload: 0\n",
            "Selected data length (|D_UL|): 0\n",
            "Selected clients for this round: 67\n",
            "Distributing model...\n"
          ]
        },
        {
          "name": "stderr",
          "output_type": "stream",
          "text": [
            "Distributing model...:  97%|█████████▋| 2.700000000000001/2.7784940751792733 [00:02<00:00,  1.01s/it]  \n"
          ]
        },
        {
          "name": "stdout",
          "output_type": "stream",
          "text": [
            "Scheduled model update and upload...\n",
            "Scheduled model update and upload time: 159.77246975898743 sec\n",
            "Centralized model update...\n",
            "Collecting weights...\n",
            "Aggregating global model...\n",
            "Server: Test acc: 0.9034, test loss: 0.3237, round time: 166.10358047485352\n",
            "\n",
            "Running round: 26 - Time elapsed: 4378.60541844368 seconds\n",
            "Server requesting clients resources...\n",
            "Server selecting clients to train locally...\n",
            "Previous T round: 163.2828746814761\n",
            "Current T round: 170.47534369110699\n",
            "Max T round: 186.70066757579661\n",
            "Min T round: 144.75131084710415\n",
            "Selected clients (S): 70 out of 100\n",
            "Server selecting data to train centralized...\n",
            "Number of clients in U: 0\n",
            "Time upload: 0\n",
            "Selected data length (|D_UL|): 0\n",
            "Selected clients for this round: 70\n",
            "Distributing model...\n"
          ]
        },
        {
          "name": "stderr",
          "output_type": "stream",
          "text": [
            "Distributing model...:  97%|█████████▋| 2.700000000000001/2.784066590632254 [00:02<00:00,  1.02s/it]  \n"
          ]
        },
        {
          "name": "stdout",
          "output_type": "stream",
          "text": [
            "Scheduled model update and upload...\n",
            "Scheduled model update and upload time: 183.4037275314331 sec\n",
            "Centralized model update...\n",
            "Collecting weights...\n",
            "Aggregating global model...\n",
            "Server: Test acc: 0.9053, test loss: 0.3261, round time: 189.7802848815918\n",
            "\n",
            "Running round: 27 - Time elapsed: 4568.38716673851 seconds\n",
            "Server requesting clients resources...\n",
            "Server selecting clients to train locally...\n",
            "Previous T round: 170.47534369110699\n",
            "Current T round: 181.33179745717814\n",
            "Max T round: 186.70066757579661\n",
            "Min T round: 144.75131084710415\n",
            "Selected clients (S): 72 out of 100\n",
            "Server selecting data to train centralized...\n",
            "Number of clients in U: 0\n",
            "Time upload: 0\n",
            "Selected data length (|D_UL|): 0\n",
            "Selected clients for this round: 72\n",
            "Distributing model...\n"
          ]
        },
        {
          "name": "stderr",
          "output_type": "stream",
          "text": [
            "Distributing model...:  97%|█████████▋| 2.700000000000001/2.7916810627148427 [00:02<00:00,  1.01s/it]  \n"
          ]
        },
        {
          "name": "stdout",
          "output_type": "stream",
          "text": [
            "Scheduled model update and upload...\n",
            "Scheduled model update and upload time: 176.82902216911316 sec\n",
            "Centralized model update...\n",
            "Collecting weights...\n",
            "Aggregating global model...\n",
            "Server: Test acc: 0.9045, test loss: 0.3210, round time: 183.11142897605896\n",
            "\n",
            "Running round: 28 - Time elapsed: 4751.500204563141 seconds\n",
            "Server requesting clients resources...\n",
            "Server selecting clients to train locally...\n",
            "Previous T round: 181.33179745717814\n",
            "Current T round: 170.46463706615998\n",
            "Max T round: 186.70066757579661\n",
            "Min T round: 144.75131084710415\n",
            "Selected clients (S): 69 out of 100\n",
            "Server selecting data to train centralized...\n",
            "Number of clients in U: 0\n",
            "Time upload: 0\n",
            "Selected data length (|D_UL|): 0\n",
            "Selected clients for this round: 69\n",
            "Distributing model...\n"
          ]
        },
        {
          "name": "stderr",
          "output_type": "stream",
          "text": [
            "Distributing model...:  97%|█████████▋| 2.700000000000001/2.773667790290569 [00:02<00:00,  1.01s/it]  \n"
          ]
        },
        {
          "name": "stdout",
          "output_type": "stream",
          "text": [
            "Scheduled model update and upload...\n",
            "Scheduled model update and upload time: 167.68401527404785 sec\n",
            "Centralized model update...\n",
            "Collecting weights...\n",
            "Aggregating global model...\n",
            "Server: Test acc: 0.9059, test loss: 0.3207, round time: 174.04676055908203\n",
            "\n",
            "Running round: 29 - Time elapsed: 4925.5483911037445 seconds\n",
            "Server requesting clients resources...\n",
            "Server selecting clients to train locally...\n",
            "Previous T round: 170.46463706615998\n",
            "Current T round: 159.6734190773105\n",
            "Max T round: 186.70066757579661\n",
            "Min T round: 144.75131084710415\n",
            "Selected clients (S): 64 out of 100\n",
            "Server selecting data to train centralized...\n",
            "Number of clients in U: 0\n",
            "Time upload: 0\n",
            "Selected data length (|D_UL|): 0\n",
            "Selected clients for this round: 64\n",
            "Distributing model...\n"
          ]
        },
        {
          "name": "stderr",
          "output_type": "stream",
          "text": [
            "Distributing model...:  97%|█████████▋| 2.800000000000001/2.8755062059819507 [00:02<00:00,  1.01s/it]  \n"
          ]
        },
        {
          "name": "stdout",
          "output_type": "stream",
          "text": [
            "Scheduled model update and upload...\n",
            "Scheduled model update and upload time: 154.2694914340973 sec\n",
            "Centralized model update...\n",
            "Collecting weights...\n",
            "Aggregating global model...\n",
            "Server: Test acc: 0.9066, test loss: 0.3171, round time: 160.66325616836548\n",
            "\n",
            "Running round: 30 - Time elapsed: 5086.213129758835 seconds\n",
            "Server requesting clients resources...\n",
            "Server selecting clients to train locally...\n",
            "Previous T round: 159.6734190773105\n",
            "Current T round: 171.03158501594538\n",
            "Max T round: 186.70066757579661\n",
            "Min T round: 144.75131084710415\n",
            "Selected clients (S): 69 out of 100\n",
            "Server selecting data to train centralized...\n",
            "Number of clients in U: 0\n",
            "Time upload: 0\n",
            "Selected data length (|D_UL|): 0\n",
            "Selected clients for this round: 69\n",
            "Distributing model...\n"
          ]
        },
        {
          "name": "stderr",
          "output_type": "stream",
          "text": [
            "Distributing model...: 100%|█████████▉| 2.9000000000000012/2.9021515930251205 [00:02<00:00,  1.01s/it] \n"
          ]
        },
        {
          "name": "stdout",
          "output_type": "stream",
          "text": [
            "Scheduled model update and upload...\n",
            "Scheduled model update and upload time: 168.41943073272705 sec\n",
            "Centralized model update...\n",
            "Collecting weights...\n",
            "Aggregating global model...\n",
            "Server: Test acc: 0.9071, test loss: 0.3152, round time: 174.96444368362427\n",
            "\n",
            "Running round: 31 - Time elapsed: 5261.1791269779205 seconds\n",
            "Server requesting clients resources...\n",
            "Server selecting clients to train locally...\n",
            "Previous T round: 171.03158501594538\n",
            "Current T round: 173.32629614444255\n",
            "Max T round: 186.70066757579661\n",
            "Min T round: 144.75131084710415\n",
            "Selected clients (S): 71 out of 100\n",
            "Server selecting data to train centralized...\n",
            "Number of clients in U: 1\n",
            "Time upload: 0\n",
            "Time upload: 0.05469938845591763\n",
            "Time upload: 0.10939877691183521\n",
            "Time upload: 0.1586282265221611\n",
            "Time upload: 0.20785767613248704\n",
            "Time upload: 0.2516171868972212\n",
            "Time upload: 0.2844368199707718\n",
            "Time upload: 0.31178651419873066\n",
            "Time upload: 0.3227263918899142\n",
            "Selected data length (|D_UL|): 47040\n",
            "Selected clients for this round: 71\n",
            "Distributing model...\n"
          ]
        },
        {
          "name": "stderr",
          "output_type": "stream",
          "text": [
            "Distributing model...:  99%|█████████▉| 2.800000000000001/2.816359332336598 [00:02<00:00,  1.01s/it]  \n"
          ]
        },
        {
          "name": "stdout",
          "output_type": "stream",
          "text": [
            "Scheduled model update and upload...\n",
            "Scheduled model update and upload time: 173.95989799499512 sec\n",
            "Centralized model update...\n",
            "Collecting weights...\n",
            "Aggregating global model...\n",
            "Server: Test acc: 0.9089, test loss: 0.3226, round time: 180.82855772972107\n",
            "\n",
            "Running round: 32 - Time elapsed: 5442.009152889252 seconds\n",
            "Server requesting clients resources...\n",
            "Server selecting clients to train locally...\n",
            "Previous T round: 173.32629614444255\n",
            "Current T round: 171.6977195696841\n",
            "Max T round: 186.70066757579661\n",
            "Min T round: 144.75131084710415\n",
            "Selected clients (S): 69 out of 100\n",
            "Server selecting data to train centralized...\n",
            "Number of clients in U: 0\n",
            "Time upload: 0\n",
            "Selected data length (|D_UL|): 0\n",
            "Selected clients for this round: 69\n",
            "Distributing model...\n"
          ]
        },
        {
          "name": "stderr",
          "output_type": "stream",
          "text": [
            "Distributing model...: 100%|█████████▉| 2.9000000000000012/2.9031495913328227 [00:02<00:00,  1.02s/it] \n"
          ]
        },
        {
          "name": "stdout",
          "output_type": "stream",
          "text": [
            "Scheduled model update and upload...\n",
            "Scheduled model update and upload time: 167.51721262931824 sec\n",
            "Centralized model update...\n",
            "Collecting weights...\n",
            "Aggregating global model...\n",
            "Server: Test acc: 0.9084, test loss: 0.3174, round time: 174.00240230560303\n",
            "\n",
            "Running round: 33 - Time elapsed: 5616.013055801392 seconds\n",
            "Server requesting clients resources...\n",
            "Server selecting clients to train locally...\n",
            "Previous T round: 171.6977195696841\n",
            "Current T round: 167.56126042848518\n",
            "Max T round: 186.70066757579661\n",
            "Min T round: 144.75131084710415\n",
            "Selected clients (S): 69 out of 100\n",
            "Server selecting data to train centralized...\n",
            "Number of clients in U: 1\n",
            "Time upload: 0\n",
            "Time upload: 0.04677927795691656\n",
            "Time upload: 0.09355855591383308\n",
            "Time upload: 0.13565990607505793\n",
            "Time upload: 0.17308332844059113\n",
            "Time upload: 0.20582882301043268\n",
            "Time upload: 0.23389638978458258\n",
            "Time upload: 0.2619639565587325\n",
            "Selected data length (|D_UL|): 47040\n",
            "Selected clients for this round: 69\n",
            "Distributing model...\n"
          ]
        },
        {
          "name": "stderr",
          "output_type": "stream",
          "text": [
            "Distributing model...: 100%|█████████▉| 2.700000000000001/2.7134711120777166 [00:02<00:00,  1.02s/it]  \n"
          ]
        },
        {
          "name": "stdout",
          "output_type": "stream",
          "text": [
            "Scheduled model update and upload...\n",
            "Scheduled model update and upload time: 166.39315152168274 sec\n",
            "Centralized model update...\n",
            "Collecting weights...\n",
            "Aggregating global model...\n",
            "Server: Test acc: 0.9097, test loss: 0.3094, round time: 173.2000069618225\n",
            "\n",
            "Running round: 34 - Time elapsed: 5789.21471452713 seconds\n",
            "Server requesting clients resources...\n",
            "Server selecting clients to train locally...\n",
            "Previous T round: 167.56126042848518\n",
            "Current T round: 170.00521572733996\n",
            "Max T round: 186.70066757579661\n",
            "Min T round: 144.75131084710415\n",
            "Selected clients (S): 69 out of 100\n",
            "Server selecting data to train centralized...\n",
            "Number of clients in U: 0\n",
            "Time upload: 0\n",
            "Selected data length (|D_UL|): 0\n",
            "Selected clients for this round: 69\n",
            "Distributing model...\n"
          ]
        },
        {
          "name": "stderr",
          "output_type": "stream",
          "text": [
            "Distributing model...:  97%|█████████▋| 2.700000000000001/2.7798510808139114 [00:02<00:00,  1.02s/it]  \n"
          ]
        },
        {
          "name": "stdout",
          "output_type": "stream",
          "text": [
            "Scheduled model update and upload...\n",
            "Scheduled model update and upload time: 166.38413262367249 sec\n",
            "Centralized model update...\n",
            "Collecting weights...\n",
            "Aggregating global model...\n",
            "Server: Test acc: 0.9092, test loss: 0.3143, round time: 172.69370555877686\n",
            "\n",
            "Running round: 35 - Time elapsed: 5961.909884929657 seconds\n",
            "Server requesting clients resources...\n",
            "Server selecting clients to train locally...\n",
            "Previous T round: 170.00521572733996\n",
            "Current T round: 180.93467547072652\n",
            "Max T round: 186.70066757579661\n",
            "Min T round: 144.75131084710415\n",
            "Selected clients (S): 73 out of 100\n",
            "Server selecting data to train centralized...\n",
            "Number of clients in U: 0\n",
            "Time upload: 0\n",
            "Selected data length (|D_UL|): 0\n",
            "Selected clients for this round: 73\n",
            "Distributing model...\n"
          ]
        },
        {
          "name": "stderr",
          "output_type": "stream",
          "text": [
            "Distributing model...:  98%|█████████▊| 2.800000000000001/2.85102096590915 [00:02<00:00,  1.01s/it]  \n"
          ]
        },
        {
          "name": "stdout",
          "output_type": "stream",
          "text": [
            "Scheduled model update and upload...\n",
            "Scheduled model update and upload time: 176.79446506500244 sec\n",
            "Centralized model update...\n",
            "Collecting weights...\n",
            "Aggregating global model...\n",
            "Server: Test acc: 0.9119, test loss: 0.3126, round time: 183.1196801662445\n",
            "\n",
            "Running round: 36 - Time elapsed: 6145.0311191082 seconds\n",
            "Server requesting clients resources...\n",
            "Server selecting clients to train locally...\n",
            "Previous T round: 180.93467547072652\n",
            "Current T round: 182.3288781623438\n",
            "Max T round: 186.70066757579661\n",
            "Min T round: 144.75131084710415\n",
            "Selected clients (S): 77 out of 100\n",
            "Server selecting data to train centralized...\n",
            "Number of clients in U: 0\n",
            "Time upload: 0\n",
            "Selected data length (|D_UL|): 0\n",
            "Selected clients for this round: 77\n",
            "Distributing model...\n"
          ]
        },
        {
          "name": "stderr",
          "output_type": "stream",
          "text": [
            "Distributing model...:  98%|█████████▊| 2.800000000000001/2.845622881278869 [00:02<00:00,  1.01s/it]  \n"
          ]
        },
        {
          "name": "stdout",
          "output_type": "stream",
          "text": [
            "Scheduled model update and upload...\n",
            "Scheduled model update and upload time: 198.49409365653992 sec\n",
            "Centralized model update...\n",
            "Collecting weights...\n",
            "Aggregating global model...\n",
            "Server: Test acc: 0.9118, test loss: 0.3187, round time: 204.91574954986572\n",
            "\n",
            "Running round: 37 - Time elapsed: 6349.948378801346 seconds\n",
            "Server requesting clients resources...\n",
            "Server selecting clients to train locally...\n",
            "Previous T round: 182.3288781623438\n",
            "Current T round: 195.43557957999678\n",
            "Max T round: 195.43557957999678\n",
            "Min T round: 144.75131084710415\n",
            "Selected clients (S): 82 out of 100\n",
            "Server selecting data to train centralized...\n",
            "Number of clients in U: 0\n",
            "Time upload: 0\n",
            "Selected data length (|D_UL|): 0\n",
            "Selected clients for this round: 82\n",
            "Distributing model...\n"
          ]
        },
        {
          "name": "stderr",
          "output_type": "stream",
          "text": [
            "Distributing model...:  99%|█████████▊| 2.800000000000001/2.8421150706519174 [00:02<00:00,  1.01s/it]  \n"
          ]
        },
        {
          "name": "stdout",
          "output_type": "stream",
          "text": [
            "Scheduled model update and upload...\n",
            "Scheduled model update and upload time: 206.1656231880188 sec\n",
            "Centralized model update...\n",
            "Collecting weights...\n",
            "Aggregating global model...\n",
            "Server: Test acc: 0.9113, test loss: 0.3117, round time: 212.55885076522827\n",
            "\n",
            "Running round: 38 - Time elapsed: 6562.5089592933655 seconds\n",
            "Server requesting clients resources...\n",
            "Server selecting clients to train locally...\n",
            "Previous T round: 195.43557957999678\n",
            "Current T round: 158.44295447546716\n",
            "Max T round: 195.43557957999678\n",
            "Min T round: 144.75131084710415\n",
            "Selected clients (S): 66 out of 100\n",
            "Server selecting data to train centralized...\n",
            "Number of clients in U: 0\n",
            "Time upload: 0\n",
            "Selected data length (|D_UL|): 0\n",
            "Selected clients for this round: 66\n",
            "Distributing model...\n"
          ]
        },
        {
          "name": "stderr",
          "output_type": "stream",
          "text": [
            "Distributing model...:  98%|█████████▊| 2.800000000000001/2.856976495754554 [00:02<00:00,  1.01s/it]  \n"
          ]
        },
        {
          "name": "stdout",
          "output_type": "stream",
          "text": [
            "Scheduled model update and upload...\n",
            "Scheduled model update and upload time: 161.13903141021729 sec\n",
            "Centralized model update...\n",
            "Collecting weights...\n",
            "Aggregating global model...\n",
            "Server: Test acc: 0.9127, test loss: 0.3148, round time: 167.43545985221863\n",
            "\n",
            "Running round: 39 - Time elapsed: 6729.9460418224335 seconds\n",
            "Server requesting clients resources...\n",
            "Server selecting clients to train locally...\n",
            "Previous T round: 158.44295447546716\n",
            "Current T round: 153.9486319530175\n",
            "Max T round: 195.43557957999678\n",
            "Min T round: 144.75131084710415\n",
            "Selected clients (S): 63 out of 100\n",
            "Server selecting data to train centralized...\n",
            "Number of clients in U: 0\n",
            "Time upload: 0\n",
            "Selected data length (|D_UL|): 0\n",
            "Selected clients for this round: 63\n",
            "Distributing model...\n"
          ]
        },
        {
          "name": "stderr",
          "output_type": "stream",
          "text": [
            "Distributing model...:  98%|█████████▊| 2.800000000000001/2.84531440543322 [00:02<00:00,  1.01s/it]  \n"
          ]
        },
        {
          "name": "stdout",
          "output_type": "stream",
          "text": [
            "Scheduled model update and upload...\n",
            "Scheduled model update and upload time: 154.6755268573761 sec\n",
            "Centralized model update...\n",
            "Collecting weights...\n",
            "Aggregating global model...\n",
            "Server: Test acc: 0.9119, test loss: 0.3069, round time: 161.00228476524353\n",
            "\n",
            "Running round: 40 - Time elapsed: 6890.9496920108795 seconds\n",
            "Server requesting clients resources...\n",
            "Server selecting clients to train locally...\n",
            "Previous T round: 153.9486319530175\n",
            "Current T round: 171.92188128522528\n",
            "Max T round: 195.43557957999678\n",
            "Min T round: 144.75131084710415\n",
            "Selected clients (S): 70 out of 100\n",
            "Server selecting data to train centralized...\n",
            "Number of clients in U: 0\n",
            "Time upload: 0\n",
            "Selected data length (|D_UL|): 0\n",
            "Selected clients for this round: 70\n",
            "Distributing model...\n"
          ]
        },
        {
          "name": "stderr",
          "output_type": "stream",
          "text": [
            "Distributing model...:  98%|█████████▊| 2.800000000000001/2.8477214070106402 [00:02<00:00,  1.01s/it]  \n"
          ]
        },
        {
          "name": "stdout",
          "output_type": "stream",
          "text": [
            "Scheduled model update and upload...\n",
            "Scheduled model update and upload time: 174.74813675880432 sec\n",
            "Centralized model update...\n",
            "Collecting weights...\n",
            "Aggregating global model...\n",
            "Server: Test acc: 0.9145, test loss: 0.3030, round time: 181.17609095573425\n",
            "\n",
            "Running round: 41 - Time elapsed: 7072.127178430557 seconds\n",
            "Server requesting clients resources...\n",
            "Server selecting clients to train locally...\n",
            "Previous T round: 171.92188128522528\n",
            "Current T round: 180.62043097029374\n",
            "Max T round: 195.43557957999678\n",
            "Min T round: 144.75131084710415\n",
            "Selected clients (S): 71 out of 100\n",
            "Server selecting data to train centralized...\n",
            "Number of clients in U: 0\n",
            "Time upload: 0\n",
            "Selected data length (|D_UL|): 0\n",
            "Selected clients for this round: 71\n",
            "Distributing model...\n"
          ]
        },
        {
          "name": "stderr",
          "output_type": "stream",
          "text": [
            "Distributing model...:  97%|█████████▋| 2.700000000000001/2.7939137229189157 [00:02<00:00,  1.01s/it]  \n"
          ]
        },
        {
          "name": "stdout",
          "output_type": "stream",
          "text": [
            "Scheduled model update and upload...\n",
            "Scheduled model update and upload time: 170.83838653564453 sec\n",
            "Centralized model update...\n",
            "Collecting weights...\n",
            "Aggregating global model...\n",
            "Server: Test acc: 0.9142, test loss: 0.3144, round time: 177.158456325531\n",
            "\n",
            "Running round: 42 - Time elapsed: 7249.287088871002 seconds\n",
            "Server requesting clients resources...\n",
            "Server selecting clients to train locally...\n",
            "Previous T round: 180.62043097029374\n",
            "Current T round: 175.92291046350863\n",
            "Max T round: 195.43557957999678\n",
            "Min T round: 144.75131084710415\n",
            "Selected clients (S): 73 out of 100\n",
            "Server selecting data to train centralized...\n",
            "Number of clients in U: 0\n",
            "Time upload: 0\n",
            "Selected data length (|D_UL|): 0\n",
            "Selected clients for this round: 73\n",
            "Distributing model...\n"
          ]
        },
        {
          "name": "stderr",
          "output_type": "stream",
          "text": [
            "Distributing model...:  98%|█████████▊| 2.800000000000001/2.863981957678512 [00:02<00:00,  1.01s/it]  \n"
          ]
        },
        {
          "name": "stdout",
          "output_type": "stream",
          "text": [
            "Scheduled model update and upload...\n",
            "Scheduled model update and upload time: 173.57364702224731 sec\n",
            "Centralized model update...\n",
            "Collecting weights...\n",
            "Aggregating global model...\n",
            "Server: Test acc: 0.9129, test loss: 0.3059, round time: 179.99737787246704\n",
            "\n",
            "Running round: 43 - Time elapsed: 7429.286851644516 seconds\n",
            "Server requesting clients resources...\n",
            "Server selecting clients to train locally...\n",
            "Previous T round: 175.92291046350863\n",
            "Current T round: 176.3742123812663\n",
            "Max T round: 195.43557957999678\n",
            "Min T round: 144.75131084710415\n",
            "Selected clients (S): 73 out of 100\n",
            "Server selecting data to train centralized...\n",
            "Number of clients in U: 0\n",
            "Time upload: 0\n",
            "Selected data length (|D_UL|): 0\n",
            "Selected clients for this round: 73\n",
            "Distributing model...\n"
          ]
        },
        {
          "name": "stderr",
          "output_type": "stream",
          "text": [
            "Distributing model...:  99%|█████████▉| 2.600000000000001/2.6150251134765763 [00:02<00:00,  1.01s/it]  \n"
          ]
        },
        {
          "name": "stdout",
          "output_type": "stream",
          "text": [
            "Scheduled model update and upload...\n",
            "Scheduled model update and upload time: 170.74007654190063 sec\n",
            "Centralized model update...\n",
            "Collecting weights...\n",
            "Aggregating global model...\n",
            "Server: Test acc: 0.9141, test loss: 0.3015, round time: 176.97890329360962\n",
            "\n",
            "Running round: 44 - Time elapsed: 7606.2674350738525 seconds\n",
            "Server requesting clients resources...\n",
            "Server selecting clients to train locally...\n",
            "Previous T round: 176.3742123812663\n",
            "Current T round: 169.56607637048614\n",
            "Max T round: 195.43557957999678\n",
            "Min T round: 144.75131084710415\n",
            "Selected clients (S): 70 out of 100\n",
            "Server selecting data to train centralized...\n",
            "Number of clients in U: 0\n",
            "Time upload: 0\n",
            "Selected data length (|D_UL|): 0\n",
            "Selected clients for this round: 70\n",
            "Distributing model...\n"
          ]
        },
        {
          "name": "stderr",
          "output_type": "stream",
          "text": [
            "Distributing model...: 100%|█████████▉| 2.800000000000001/2.806865837291963 [00:02<00:00,  1.01s/it]  \n"
          ]
        },
        {
          "name": "stdout",
          "output_type": "stream",
          "text": [
            "Scheduled model update and upload...\n",
            "Scheduled model update and upload time: 165.35402584075928 sec\n",
            "Centralized model update...\n",
            "Collecting weights...\n",
            "Aggregating global model...\n",
            "Server: Test acc: 0.9151, test loss: 0.3030, round time: 171.8258557319641\n",
            "\n",
            "Running round: 45 - Time elapsed: 7778.095000505447 seconds\n",
            "Server requesting clients resources...\n",
            "Server selecting clients to train locally...\n",
            "Previous T round: 169.56607637048614\n",
            "Current T round: 170.28883279847526\n",
            "Max T round: 195.43557957999678\n",
            "Min T round: 144.75131084710415\n",
            "Selected clients (S): 70 out of 100\n",
            "Server selecting data to train centralized...\n",
            "Number of clients in U: 0\n",
            "Time upload: 0\n",
            "Selected data length (|D_UL|): 0\n",
            "Selected clients for this round: 70\n",
            "Distributing model...\n"
          ]
        },
        {
          "name": "stderr",
          "output_type": "stream",
          "text": [
            "Distributing model...:  98%|█████████▊| 2.700000000000001/2.7544566828727013 [00:02<00:00,  1.01s/it]  \n"
          ]
        },
        {
          "name": "stdout",
          "output_type": "stream",
          "text": [
            "Scheduled model update and upload...\n",
            "Scheduled model update and upload time: 166.62241792678833 sec\n",
            "Centralized model update...\n",
            "Collecting weights...\n",
            "Aggregating global model...\n",
            "Server: Test acc: 0.9157, test loss: 0.2979, round time: 172.88916492462158\n",
            "\n",
            "Running round: 46 - Time elapsed: 7950.985598564148 seconds\n",
            "Server requesting clients resources...\n",
            "Server selecting clients to train locally...\n",
            "Previous T round: 170.28883279847526\n",
            "Current T round: 164.00000300440135\n",
            "Max T round: 195.43557957999678\n",
            "Min T round: 144.75131084710415\n",
            "Selected clients (S): 69 out of 100\n",
            "Server selecting data to train centralized...\n",
            "Number of clients in U: 0\n",
            "Time upload: 0\n",
            "Selected data length (|D_UL|): 0\n",
            "Selected clients for this round: 69\n",
            "Distributing model...\n"
          ]
        },
        {
          "name": "stderr",
          "output_type": "stream",
          "text": [
            "Distributing model...: 100%|█████████▉| 2.9000000000000012/2.901493604074766 [00:02<00:00,  1.02s/it] \n"
          ]
        },
        {
          "name": "stdout",
          "output_type": "stream",
          "text": [
            "Scheduled model update and upload...\n",
            "Scheduled model update and upload time: 165.41143655776978 sec\n",
            "Centralized model update...\n",
            "Collecting weights...\n",
            "Aggregating global model...\n",
            "Server: Test acc: 0.9141, test loss: 0.3039, round time: 171.93573093414307\n",
            "\n",
            "Running round: 47 - Time elapsed: 8122.922772169113 seconds\n",
            "Server requesting clients resources...\n",
            "Server selecting clients to train locally...\n",
            "Previous T round: 164.00000300440135\n",
            "Current T round: 174.99854087311746\n",
            "Max T round: 195.43557957999678\n",
            "Min T round: 144.75131084710415\n",
            "Selected clients (S): 72 out of 100\n",
            "Server selecting data to train centralized...\n",
            "Number of clients in U: 0\n",
            "Time upload: 0\n",
            "Selected data length (|D_UL|): 0\n",
            "Selected clients for this round: 72\n",
            "Distributing model...\n"
          ]
        },
        {
          "name": "stderr",
          "output_type": "stream",
          "text": [
            "Distributing model...:  97%|█████████▋| 2.700000000000001/2.796937811095905 [00:02<00:00,  1.01s/it]  \n"
          ]
        },
        {
          "name": "stdout",
          "output_type": "stream",
          "text": [
            "Scheduled model update and upload...\n",
            "Scheduled model update and upload time: 181.19631791114807 sec\n",
            "Centralized model update...\n",
            "Collecting weights...\n",
            "Aggregating global model...\n",
            "Server: Test acc: 0.9166, test loss: 0.2963, round time: 187.46773767471313\n",
            "\n",
            "Running round: 48 - Time elapsed: 8310.39210319519 seconds\n",
            "Server requesting clients resources...\n",
            "Server selecting clients to train locally...\n",
            "Previous T round: 174.99854087311746\n",
            "Current T round: 169.8528897361434\n",
            "Max T round: 195.43557957999678\n",
            "Min T round: 144.75131084710415\n",
            "Selected clients (S): 71 out of 100\n",
            "Server selecting data to train centralized...\n",
            "Number of clients in U: 0\n",
            "Time upload: 0\n",
            "Selected data length (|D_UL|): 0\n",
            "Selected clients for this round: 71\n",
            "Distributing model...\n"
          ]
        },
        {
          "name": "stderr",
          "output_type": "stream",
          "text": [
            "Distributing model...:  98%|█████████▊| 2.700000000000001/2.754363670099493 [00:02<00:00,  1.01s/it]  \n"
          ]
        },
        {
          "name": "stdout",
          "output_type": "stream",
          "text": [
            "Scheduled model update and upload...\n",
            "Scheduled model update and upload time: 190.8986988067627 sec\n",
            "Centralized model update...\n",
            "Collecting weights...\n",
            "Aggregating global model...\n",
            "Server: Test acc: 0.9160, test loss: 0.2987, round time: 197.22051286697388\n",
            "\n",
            "Running round: 49 - Time elapsed: 8507.614085674286 seconds\n",
            "Server requesting clients resources...\n",
            "Server selecting clients to train locally...\n",
            "Previous T round: 169.8528897361434\n",
            "Current T round: 168.04853330402582\n",
            "Max T round: 195.43557957999678\n",
            "Min T round: 144.75131084710415\n",
            "Selected clients (S): 68 out of 100\n",
            "Server selecting data to train centralized...\n",
            "Number of clients in U: 0\n",
            "Time upload: 0\n",
            "Selected data length (|D_UL|): 0\n",
            "Selected clients for this round: 68\n",
            "Distributing model...\n"
          ]
        },
        {
          "name": "stderr",
          "output_type": "stream",
          "text": [
            "Distributing model...:  97%|█████████▋| 2.800000000000001/2.873088329094879 [00:02<00:00,  1.01s/it]  \n"
          ]
        },
        {
          "name": "stdout",
          "output_type": "stream",
          "text": [
            "Scheduled model update and upload...\n",
            "Scheduled model update and upload time: 175.95775151252747 sec\n",
            "Centralized model update...\n",
            "Collecting weights...\n",
            "Aggregating global model...\n",
            "Server: Test acc: 0.9176, test loss: 0.3077, round time: 182.40825271606445\n",
            "\n",
            "Running round: 50 - Time elapsed: 8690.024092197418 seconds\n",
            "Server requesting clients resources...\n",
            "Server selecting clients to train locally...\n",
            "Previous T round: 168.04853330402582\n",
            "Current T round: 159.7908228187469\n",
            "Max T round: 195.43557957999678\n",
            "Min T round: 144.75131084710415\n",
            "Selected clients (S): 65 out of 100\n",
            "Server selecting data to train centralized...\n",
            "Number of clients in U: 0\n",
            "Time upload: 0\n",
            "Selected data length (|D_UL|): 0\n",
            "Selected clients for this round: 65\n",
            "Distributing model...\n"
          ]
        },
        {
          "name": "stderr",
          "output_type": "stream",
          "text": [
            "Distributing model...:  97%|█████████▋| 2.800000000000001/2.8767409799415757 [00:02<00:00,  1.02s/it]  \n"
          ]
        },
        {
          "name": "stdout",
          "output_type": "stream",
          "text": [
            "Scheduled model update and upload...\n",
            "Scheduled model update and upload time: 158.22296404838562 sec\n",
            "Centralized model update...\n",
            "Collecting weights...\n",
            "Aggregating global model...\n",
            "Server: Test acc: 0.9188, test loss: 0.2896, round time: 164.547913312912\n",
            "\n",
            "Running round: 51 - Time elapsed: 8854.573642492294 seconds\n",
            "Server requesting clients resources...\n",
            "Server selecting clients to train locally...\n",
            "Previous T round: 159.7908228187469\n",
            "Current T round: 162.3345250259574\n",
            "Max T round: 195.43557957999678\n",
            "Min T round: 144.75131084710415\n",
            "Selected clients (S): 67 out of 100\n",
            "Server selecting data to train centralized...\n",
            "Number of clients in U: 0\n",
            "Time upload: 0\n",
            "Selected data length (|D_UL|): 0\n",
            "Selected clients for this round: 67\n",
            "Distributing model...\n"
          ]
        },
        {
          "name": "stderr",
          "output_type": "stream",
          "text": [
            "Distributing model...:  99%|█████████▉| 2.800000000000001/2.8275769344587975 [00:02<00:00,  1.02s/it]  \n"
          ]
        },
        {
          "name": "stdout",
          "output_type": "stream",
          "text": [
            "Scheduled model update and upload...\n",
            "Scheduled model update and upload time: 160.67000603675842 sec\n",
            "Centralized model update...\n",
            "Collecting weights...\n",
            "Aggregating global model...\n",
            "Server: Test acc: 0.9181, test loss: 0.2944, round time: 167.0713894367218\n",
            "\n",
            "Running round: 52 - Time elapsed: 9021.646449327469 seconds\n",
            "Server requesting clients resources...\n",
            "Server selecting clients to train locally...\n",
            "Previous T round: 162.3345250259574\n",
            "Current T round: 168.55084853234794\n",
            "Max T round: 195.43557957999678\n",
            "Min T round: 144.75131084710415\n",
            "Selected clients (S): 70 out of 100\n",
            "Server selecting data to train centralized...\n",
            "Number of clients in U: 0\n",
            "Time upload: 0\n",
            "Selected data length (|D_UL|): 0\n",
            "Selected clients for this round: 70\n",
            "Distributing model...\n"
          ]
        },
        {
          "name": "stderr",
          "output_type": "stream",
          "text": [
            "Distributing model...:  97%|█████████▋| 2.800000000000001/2.893767417917757 [00:02<00:00,  1.01s/it]  \n"
          ]
        },
        {
          "name": "stdout",
          "output_type": "stream",
          "text": [
            "Scheduled model update and upload...\n",
            "Scheduled model update and upload time: 168.4898841381073 sec\n",
            "Centralized model update...\n",
            "Collecting weights...\n",
            "Aggregating global model...\n",
            "Server: Test acc: 0.9181, test loss: 0.2951, round time: 174.85014629364014\n",
            "\n",
            "Running round: 53 - Time elapsed: 9196.498316764832 seconds\n",
            "Server requesting clients resources...\n",
            "Server selecting clients to train locally...\n",
            "Previous T round: 168.55084853234794\n",
            "Current T round: 166.5306194811399\n",
            "Max T round: 195.43557957999678\n",
            "Min T round: 144.75131084710415\n",
            "Selected clients (S): 67 out of 100\n",
            "Server selecting data to train centralized...\n",
            "Number of clients in U: 0\n",
            "Time upload: 0\n",
            "Selected data length (|D_UL|): 0\n",
            "Selected clients for this round: 67\n",
            "Distributing model...\n"
          ]
        },
        {
          "name": "stderr",
          "output_type": "stream",
          "text": [
            "Distributing model...:  99%|█████████▊| 2.800000000000001/2.8414386113766916 [00:02<00:00,  1.02s/it]  \n"
          ]
        },
        {
          "name": "stdout",
          "output_type": "stream",
          "text": [
            "Scheduled model update and upload...\n",
            "Scheduled model update and upload time: 167.0115761756897 sec\n",
            "Centralized model update...\n",
            "Collecting weights...\n",
            "Aggregating global model...\n",
            "Server: Test acc: 0.9190, test loss: 0.2993, round time: 173.40991306304932\n",
            "\n",
            "Running round: 54 - Time elapsed: 9369.909596443176 seconds\n",
            "Server requesting clients resources...\n",
            "Server selecting clients to train locally...\n",
            "Previous T round: 166.5306194811399\n",
            "Current T round: 175.8286166413898\n",
            "Max T round: 195.43557957999678\n",
            "Min T round: 144.75131084710415\n",
            "Selected clients (S): 69 out of 100\n",
            "Server selecting data to train centralized...\n",
            "Number of clients in U: 0\n",
            "Time upload: 0\n",
            "Selected data length (|D_UL|): 0\n",
            "Selected clients for this round: 69\n",
            "Distributing model...\n"
          ]
        },
        {
          "name": "stderr",
          "output_type": "stream",
          "text": [
            "Distributing model...: 100%|█████████▉| 2.9000000000000012/2.9068468693496494 [00:02<00:00,  1.01s/it] \n"
          ]
        },
        {
          "name": "stdout",
          "output_type": "stream",
          "text": [
            "Scheduled model update and upload...\n",
            "Scheduled model update and upload time: 173.22826313972473 sec\n",
            "Centralized model update...\n",
            "Collecting weights...\n",
            "Aggregating global model...\n",
            "Server: Test acc: 0.9201, test loss: 0.2977, round time: 179.68319630622864\n",
            "\n",
            "Running round: 55 - Time elapsed: 9549.594240427017 seconds\n",
            "Server requesting clients resources...\n",
            "Server selecting clients to train locally...\n",
            "Previous T round: 175.8286166413898\n",
            "Current T round: 156.06291446859106\n",
            "Max T round: 195.43557957999678\n",
            "Min T round: 144.75131084710415\n",
            "Selected clients (S): 64 out of 100\n",
            "Server selecting data to train centralized...\n",
            "Number of clients in U: 0\n",
            "Time upload: 0\n",
            "Selected data length (|D_UL|): 0\n",
            "Selected clients for this round: 64\n",
            "Distributing model...\n"
          ]
        },
        {
          "name": "stderr",
          "output_type": "stream",
          "text": [
            "Distributing model...:  98%|█████████▊| 2.800000000000001/2.8560121869208923 [00:02<00:00,  1.02s/it]  \n"
          ]
        },
        {
          "name": "stdout",
          "output_type": "stream",
          "text": [
            "Scheduled model update and upload...\n",
            "Scheduled model update and upload time: 152.27960801124573 sec\n",
            "Centralized model update...\n",
            "Collecting weights...\n",
            "Aggregating global model...\n",
            "Server: Test acc: 0.9214, test loss: 0.2892, round time: 158.65149760246277\n",
            "\n",
            "Running round: 56 - Time elapsed: 9708.247207403183 seconds\n",
            "Server requesting clients resources...\n",
            "Server selecting clients to train locally...\n",
            "Previous T round: 156.06291446859106\n",
            "Current T round: 185.2322970178659\n",
            "Max T round: 195.43557957999678\n",
            "Min T round: 144.75131084710415\n",
            "Selected clients (S): 77 out of 100\n",
            "Server selecting data to train centralized...\n",
            "Number of clients in U: 0\n",
            "Time upload: 0\n",
            "Selected data length (|D_UL|): 0\n",
            "Selected clients for this round: 77\n",
            "Distributing model...\n"
          ]
        },
        {
          "name": "stderr",
          "output_type": "stream",
          "text": [
            "Distributing model...:  98%|█████████▊| 2.700000000000001/2.7664555158430573 [00:02<00:00,  1.01s/it]  \n"
          ]
        },
        {
          "name": "stdout",
          "output_type": "stream",
          "text": [
            "Scheduled model update and upload...\n",
            "Scheduled model update and upload time: 182.94071245193481 sec\n",
            "Centralized model update...\n",
            "Collecting weights...\n",
            "Aggregating global model...\n",
            "Server: Test acc: 0.9206, test loss: 0.2876, round time: 189.3594126701355\n",
            "\n",
            "Running round: 57 - Time elapsed: 9897.608177423477 seconds\n",
            "Server requesting clients resources...\n",
            "Server selecting clients to train locally...\n",
            "Previous T round: 185.2322970178659\n",
            "Current T round: 165.93483178755554\n",
            "Max T round: 195.43557957999678\n",
            "Min T round: 144.75131084710415\n",
            "Selected clients (S): 69 out of 100\n",
            "Server selecting data to train centralized...\n",
            "Number of clients in U: 0\n",
            "Time upload: 0\n",
            "Selected data length (|D_UL|): 0\n",
            "Selected clients for this round: 69\n",
            "Distributing model...\n"
          ]
        },
        {
          "name": "stderr",
          "output_type": "stream",
          "text": [
            "Distributing model...:  97%|█████████▋| 2.700000000000001/2.78495889453659 [00:02<00:00,  1.01s/it]  \n"
          ]
        },
        {
          "name": "stdout",
          "output_type": "stream",
          "text": [
            "Scheduled model update and upload...\n",
            "Scheduled model update and upload time: 165.8007869720459 sec\n",
            "Centralized model update...\n",
            "Collecting weights...\n",
            "Aggregating global model...\n",
            "Server: Test acc: 0.9205, test loss: 0.2879, round time: 172.06853723526\n",
            "\n",
            "Running round: 58 - Time elapsed: 10069.678265094757 seconds\n",
            "Server requesting clients resources...\n",
            "Server selecting clients to train locally...\n",
            "Previous T round: 165.93483178755554\n",
            "Current T round: 168.5921128087587\n",
            "Max T round: 195.43557957999678\n",
            "Min T round: 144.75131084710415\n",
            "Selected clients (S): 70 out of 100\n",
            "Server selecting data to train centralized...\n",
            "Number of clients in U: 0\n",
            "Time upload: 0\n",
            "Selected data length (|D_UL|): 0\n",
            "Selected clients for this round: 70\n",
            "Distributing model...\n"
          ]
        },
        {
          "name": "stderr",
          "output_type": "stream",
          "text": [
            "Distributing model...:  97%|█████████▋| 2.800000000000001/2.88735596722025 [00:02<00:00,  1.01s/it]  \n"
          ]
        },
        {
          "name": "stdout",
          "output_type": "stream",
          "text": [
            "Scheduled model update and upload...\n",
            "Scheduled model update and upload time: 165.9122166633606 sec\n",
            "Centralized model update...\n",
            "Collecting weights...\n",
            "Aggregating global model...\n",
            "Server: Test acc: 0.9226, test loss: 0.2851, round time: 172.25876212120056\n",
            "\n",
            "Running round: 59 - Time elapsed: 10241.938989400864 seconds\n",
            "Server requesting clients resources...\n",
            "Server selecting clients to train locally...\n",
            "Previous T round: 168.5921128087587\n",
            "Current T round: 160.51272419974535\n",
            "Max T round: 195.43557957999678\n",
            "Min T round: 144.75131084710415\n",
            "Selected clients (S): 64 out of 100\n",
            "Server selecting data to train centralized...\n",
            "Number of clients in U: 0\n",
            "Time upload: 0\n",
            "Selected data length (|D_UL|): 0\n",
            "Selected clients for this round: 64\n",
            "Distributing model...\n"
          ]
        },
        {
          "name": "stderr",
          "output_type": "stream",
          "text": [
            "Distributing model...:  98%|█████████▊| 2.700000000000001/2.7452434736081432 [00:02<00:00,  1.01s/it]  \n"
          ]
        },
        {
          "name": "stdout",
          "output_type": "stream",
          "text": [
            "Scheduled model update and upload...\n",
            "Scheduled model update and upload time: 152.78596830368042 sec\n",
            "Centralized model update...\n",
            "Collecting weights...\n",
            "Aggregating global model...\n",
            "Server: Test acc: 0.9228, test loss: 0.2840, round time: 159.04755687713623\n",
            "\n",
            "Running round: 60 - Time elapsed: 10400.988204717636 seconds\n",
            "Server requesting clients resources...\n",
            "Server selecting clients to train locally...\n",
            "Previous T round: 160.51272419974535\n",
            "Current T round: 177.7222884034168\n",
            "Max T round: 195.43557957999678\n",
            "Min T round: 144.75131084710415\n",
            "Selected clients (S): 75 out of 100\n",
            "Server selecting data to train centralized...\n",
            "Number of clients in U: 0\n",
            "Time upload: 0\n",
            "Selected data length (|D_UL|): 0\n",
            "Selected clients for this round: 75\n",
            "Distributing model...\n"
          ]
        },
        {
          "name": "stderr",
          "output_type": "stream",
          "text": [
            "Distributing model...:  99%|█████████▊| 2.800000000000001/2.837673174824904 [00:02<00:00,  1.02s/it]  \n"
          ]
        },
        {
          "name": "stdout",
          "output_type": "stream",
          "text": [
            "Scheduled model update and upload...\n",
            "Scheduled model update and upload time: 185.85621213912964 sec\n",
            "Centralized model update...\n",
            "Collecting weights...\n",
            "Aggregating global model...\n",
            "Server: Test acc: 0.9231, test loss: 0.2944, round time: 192.2914333343506\n",
            "\n",
            "Running round: 61 - Time elapsed: 10593.28106045723 seconds\n",
            "Server requesting clients resources...\n",
            "Server selecting clients to train locally...\n",
            "Previous T round: 177.7222884034168\n",
            "Current T round: 171.9517253447731\n",
            "Max T round: 195.43557957999678\n",
            "Min T round: 144.75131084710415\n",
            "Selected clients (S): 70 out of 100\n",
            "Server selecting data to train centralized...\n",
            "Number of clients in U: 0\n",
            "Time upload: 0\n",
            "Selected data length (|D_UL|): 0\n",
            "Selected clients for this round: 70\n",
            "Distributing model...\n"
          ]
        },
        {
          "name": "stderr",
          "output_type": "stream",
          "text": [
            "Distributing model...:  98%|█████████▊| 2.800000000000001/2.8678998583964974 [00:02<00:00,  1.01s/it]  \n"
          ]
        },
        {
          "name": "stdout",
          "output_type": "stream",
          "text": [
            "Scheduled model update and upload...\n",
            "Scheduled model update and upload time: 169.2947337627411 sec\n",
            "Centralized model update...\n",
            "Collecting weights...\n",
            "Aggregating global model...\n",
            "Server: Test acc: 0.9239, test loss: 0.2845, round time: 175.78127884864807\n",
            "\n",
            "Running round: 62 - Time elapsed: 10769.064292669296 seconds\n",
            "Server requesting clients resources...\n",
            "Server selecting clients to train locally...\n",
            "Previous T round: 171.9517253447731\n",
            "Current T round: 179.2042825696817\n",
            "Max T round: 195.43557957999678\n",
            "Min T round: 144.75131084710415\n",
            "Selected clients (S): 75 out of 100\n",
            "Server selecting data to train centralized...\n",
            "Number of clients in U: 0\n",
            "Time upload: 0\n",
            "Selected data length (|D_UL|): 0\n",
            "Selected clients for this round: 75\n",
            "Distributing model...\n"
          ]
        },
        {
          "name": "stderr",
          "output_type": "stream",
          "text": [
            "Distributing model...:  98%|█████████▊| 2.800000000000001/2.8632938628165476 [00:02<00:00,  1.01s/it]  \n"
          ]
        },
        {
          "name": "stdout",
          "output_type": "stream",
          "text": [
            "Scheduled model update and upload...\n",
            "Scheduled model update and upload time: 175.84023523330688 sec\n",
            "Centralized model update...\n",
            "Collecting weights...\n",
            "Aggregating global model...\n",
            "Server: Test acc: 0.9227, test loss: 0.2845, round time: 182.3255970478058\n",
            "\n",
            "Running round: 63 - Time elapsed: 10951.391565084457 seconds\n",
            "Server requesting clients resources...\n",
            "Server selecting clients to train locally...\n",
            "Previous T round: 179.2042825696817\n",
            "Current T round: 178.16872613466901\n",
            "Max T round: 195.43557957999678\n",
            "Min T round: 144.75131084710415\n",
            "Selected clients (S): 74 out of 100\n",
            "Server selecting data to train centralized...\n",
            "Number of clients in U: 0\n",
            "Time upload: 0\n",
            "Selected data length (|D_UL|): 0\n",
            "Selected clients for this round: 74\n",
            "Distributing model...\n"
          ]
        },
        {
          "name": "stderr",
          "output_type": "stream",
          "text": [
            "Distributing model...:  97%|█████████▋| 2.800000000000001/2.8920806088117827 [00:02<00:00,  1.02s/it]  \n"
          ]
        },
        {
          "name": "stdout",
          "output_type": "stream",
          "text": [
            "Scheduled model update and upload...\n",
            "Scheduled model update and upload time: 177.1698226928711 sec\n",
            "Centralized model update...\n",
            "Collecting weights...\n",
            "Aggregating global model...\n",
            "Server: Test acc: 0.9229, test loss: 0.2769, round time: 183.66073632240295\n",
            "\n",
            "Running round: 64 - Time elapsed: 11135.054440259933 seconds\n",
            "Server requesting clients resources...\n",
            "Server selecting clients to train locally...\n",
            "Previous T round: 178.16872613466901\n",
            "Current T round: 160.33304987557034\n",
            "Max T round: 195.43557957999678\n",
            "Min T round: 144.75131084710415\n",
            "Selected clients (S): 66 out of 100\n",
            "Server selecting data to train centralized...\n",
            "Number of clients in U: 0\n",
            "Time upload: 0\n",
            "Selected data length (|D_UL|): 0\n",
            "Selected clients for this round: 66\n",
            "Distributing model...\n"
          ]
        },
        {
          "name": "stderr",
          "output_type": "stream",
          "text": [
            "Distributing model...:  98%|█████████▊| 2.800000000000001/2.8676111726704083 [00:02<00:00,  1.02s/it]  \n"
          ]
        },
        {
          "name": "stdout",
          "output_type": "stream",
          "text": [
            "Scheduled model update and upload...\n",
            "Scheduled model update and upload time: 156.1329469680786 sec\n",
            "Centralized model update...\n",
            "Collecting weights...\n",
            "Aggregating global model...\n",
            "Server: Test acc: 0.9239, test loss: 0.2856, round time: 162.63795399665833\n",
            "\n",
            "Running round: 65 - Time elapsed: 11297.693969964981 seconds\n",
            "Server requesting clients resources...\n",
            "Server selecting clients to train locally...\n",
            "Previous T round: 160.33304987557034\n",
            "Current T round: 173.12952104228793\n",
            "Max T round: 195.43557957999678\n",
            "Min T round: 144.75131084710415\n",
            "Selected clients (S): 73 out of 100\n",
            "Server selecting data to train centralized...\n",
            "Number of clients in U: 0\n",
            "Time upload: 0\n",
            "Selected data length (|D_UL|): 0\n",
            "Selected clients for this round: 73\n",
            "Distributing model...\n"
          ]
        },
        {
          "name": "stderr",
          "output_type": "stream",
          "text": [
            "Distributing model...:  99%|█████████▉| 2.800000000000001/2.816382624686336 [00:02<00:00,  1.01s/it]  \n"
          ]
        },
        {
          "name": "stdout",
          "output_type": "stream",
          "text": [
            "Scheduled model update and upload...\n",
            "Scheduled model update and upload time: 174.57648587226868 sec\n",
            "Centralized model update...\n",
            "Collecting weights...\n",
            "Aggregating global model...\n",
            "Server: Test acc: 0.9253, test loss: 0.2868, round time: 180.958740234375\n",
            "\n",
            "Running round: 66 - Time elapsed: 11478.65441441536 seconds\n",
            "Server requesting clients resources...\n",
            "Server selecting clients to train locally...\n",
            "Previous T round: 173.12952104228793\n",
            "Current T round: 157.22156678550198\n",
            "Max T round: 195.43557957999678\n",
            "Min T round: 144.75131084710415\n",
            "Selected clients (S): 62 out of 100\n",
            "Server selecting data to train centralized...\n",
            "Number of clients in U: 0\n",
            "Time upload: 0\n",
            "Selected data length (|D_UL|): 0\n",
            "Selected clients for this round: 62\n",
            "Distributing model...\n"
          ]
        },
        {
          "name": "stderr",
          "output_type": "stream",
          "text": [
            "Distributing model...: 100%|█████████▉| 2.9000000000000012/2.904444538478407 [00:02<00:00,  1.01s/it] \n"
          ]
        },
        {
          "name": "stdout",
          "output_type": "stream",
          "text": [
            "Scheduled model update and upload...\n",
            "Scheduled model update and upload time: 151.43090677261353 sec\n",
            "Centralized model update...\n",
            "Collecting weights...\n",
            "Aggregating global model...\n",
            "Server: Test acc: 0.9241, test loss: 0.2856, round time: 157.883713722229\n",
            "\n",
            "Running round: 67 - Time elapsed: 11636.540281057358 seconds\n",
            "Server requesting clients resources...\n",
            "Server selecting clients to train locally...\n",
            "Previous T round: 157.22156678550198\n",
            "Current T round: 166.8557522565594\n",
            "Max T round: 195.43557957999678\n",
            "Min T round: 144.75131084710415\n",
            "Selected clients (S): 70 out of 100\n",
            "Server selecting data to train centralized...\n",
            "Number of clients in U: 0\n",
            "Time upload: 0\n",
            "Selected data length (|D_UL|): 0\n",
            "Selected clients for this round: 70\n",
            "Distributing model...\n"
          ]
        },
        {
          "name": "stderr",
          "output_type": "stream",
          "text": [
            "Distributing model...: 100%|█████████▉| 2.800000000000001/2.801363575217027 [00:02<00:00,  1.02s/it]  \n"
          ]
        },
        {
          "name": "stdout",
          "output_type": "stream",
          "text": [
            "Scheduled model update and upload...\n",
            "Scheduled model update and upload time: 165.17098879814148 sec\n",
            "Centralized model update...\n",
            "Collecting weights...\n",
            "Aggregating global model...\n",
            "Server: Test acc: 0.9263, test loss: 0.2726, round time: 171.64926505088806\n",
            "\n",
            "Running round: 68 - Time elapsed: 11808.191026449203 seconds\n",
            "Server requesting clients resources...\n",
            "Server selecting clients to train locally...\n",
            "Previous T round: 166.8557522565594\n",
            "Current T round: 162.59509191991555\n",
            "Max T round: 195.43557957999678\n",
            "Min T round: 144.75131084710415\n",
            "Selected clients (S): 67 out of 100\n",
            "Server selecting data to train centralized...\n",
            "Number of clients in U: 0\n",
            "Time upload: 0\n",
            "Selected data length (|D_UL|): 0\n",
            "Selected clients for this round: 67\n",
            "Distributing model...\n"
          ]
        },
        {
          "name": "stderr",
          "output_type": "stream",
          "text": [
            "Distributing model...:  98%|█████████▊| 2.800000000000001/2.8689483080117313 [00:02<00:00,  1.02s/it]  \n"
          ]
        },
        {
          "name": "stdout",
          "output_type": "stream",
          "text": [
            "Scheduled model update and upload...\n",
            "Scheduled model update and upload time: 159.32099556922913 sec\n",
            "Centralized model update...\n",
            "Collecting weights...\n",
            "Aggregating global model...\n",
            "Server: Test acc: 0.9270, test loss: 0.2965, round time: 165.71296501159668\n",
            "\n",
            "Running round: 69 - Time elapsed: 11973.905448913574 seconds\n",
            "Server requesting clients resources...\n",
            "Server selecting clients to train locally...\n",
            "Previous T round: 162.59509191991555\n",
            "Current T round: 170.81879088596114\n",
            "Max T round: 195.43557957999678\n",
            "Min T round: 144.75131084710415\n",
            "Selected clients (S): 71 out of 100\n",
            "Server selecting data to train centralized...\n",
            "Number of clients in U: 0\n",
            "Time upload: 0\n",
            "Selected data length (|D_UL|): 0\n",
            "Selected clients for this round: 71\n",
            "Distributing model...\n"
          ]
        },
        {
          "name": "stderr",
          "output_type": "stream",
          "text": [
            "Distributing model...:  99%|█████████▊| 2.700000000000001/2.7401009351282055 [00:02<00:00,  1.01s/it]  \n"
          ]
        },
        {
          "name": "stdout",
          "output_type": "stream",
          "text": [
            "Scheduled model update and upload...\n",
            "Scheduled model update and upload time: 169.79783630371094 sec\n",
            "Centralized model update...\n",
            "Collecting weights...\n",
            "Aggregating global model...\n",
            "Server: Test acc: 0.9257, test loss: 0.3001, round time: 176.02647399902344\n",
            "\n",
            "Running round: 70 - Time elapsed: 12149.933554410934 seconds\n",
            "Server requesting clients resources...\n",
            "Server selecting clients to train locally...\n",
            "Previous T round: 170.81879088596114\n",
            "Current T round: 183.28295584560385\n",
            "Max T round: 195.43557957999678\n",
            "Min T round: 144.75131084710415\n",
            "Selected clients (S): 75 out of 100\n",
            "Server selecting data to train centralized...\n",
            "Number of clients in U: 0\n",
            "Time upload: 0\n",
            "Selected data length (|D_UL|): 0\n",
            "Selected clients for this round: 75\n",
            "Distributing model...\n"
          ]
        },
        {
          "name": "stderr",
          "output_type": "stream",
          "text": [
            "Distributing model...:  97%|█████████▋| 2.700000000000001/2.792367375321075 [00:02<00:00,  1.01s/it]  \n"
          ]
        },
        {
          "name": "stdout",
          "output_type": "stream",
          "text": [
            "Scheduled model update and upload...\n",
            "Scheduled model update and upload time: 181.13221859931946 sec\n",
            "Centralized model update...\n",
            "Collecting weights...\n",
            "Aggregating global model...\n",
            "Server: Test acc: 0.9266, test loss: 0.2898, round time: 187.51359295845032\n",
            "\n",
            "Running round: 71 - Time elapsed: 12337.44875907898 seconds\n",
            "Server requesting clients resources...\n",
            "Server selecting clients to train locally...\n",
            "Previous T round: 183.28295584560385\n",
            "Current T round: 160.66230232983833\n",
            "Max T round: 195.43557957999678\n",
            "Min T round: 144.75131084710415\n",
            "Selected clients (S): 67 out of 100\n",
            "Server selecting data to train centralized...\n",
            "Number of clients in U: 1\n",
            "Time upload: 0\n",
            "Time upload: 0.052469171132069135\n",
            "Time upload: 0.10493834226413833\n",
            "Time upload: 0.15216059628300052\n",
            "Time upload: 0.19938285030186267\n",
            "Time upload: 0.24135818720751792\n",
            "Time upload: 0.2728396898867594\n",
            "Time upload: 0.2990742754527939\n",
            "Time upload: 0.3095681096792077\n",
            "Selected data length (|D_UL|): 47040\n",
            "Selected clients for this round: 67\n",
            "Distributing model...\n"
          ]
        },
        {
          "name": "stderr",
          "output_type": "stream",
          "text": [
            "Distributing model...:  98%|█████████▊| 2.700000000000001/2.7549608363490576 [00:02<00:00,  1.02s/it]  \n"
          ]
        },
        {
          "name": "stdout",
          "output_type": "stream",
          "text": [
            "Scheduled model update and upload...\n",
            "Scheduled model update and upload time: 156.645916223526 sec\n",
            "Centralized model update...\n",
            "Collecting weights...\n",
            "Aggregating global model...\n",
            "Server: Test acc: 0.9279, test loss: 0.2706, round time: 163.44470953941345\n",
            "\n",
            "Running round: 72 - Time elapsed: 12500.895209312439 seconds\n",
            "Server requesting clients resources...\n",
            "Server selecting clients to train locally...\n",
            "Previous T round: 160.66230232983833\n",
            "Current T round: 178.1150492176152\n",
            "Max T round: 195.43557957999678\n",
            "Min T round: 144.75131084710415\n",
            "Selected clients (S): 74 out of 100\n",
            "Server selecting data to train centralized...\n",
            "Number of clients in U: 0\n",
            "Time upload: 0\n",
            "Selected data length (|D_UL|): 0\n",
            "Selected clients for this round: 74\n",
            "Distributing model...\n"
          ]
        },
        {
          "name": "stderr",
          "output_type": "stream",
          "text": [
            "Distributing model...:  98%|█████████▊| 2.700000000000001/2.7667054158512805 [00:02<00:00,  1.02s/it]  \n"
          ]
        },
        {
          "name": "stdout",
          "output_type": "stream",
          "text": [
            "Scheduled model update and upload...\n",
            "Scheduled model update and upload time: 173.64545679092407 sec\n",
            "Centralized model update...\n",
            "Collecting weights...\n",
            "Aggregating global model...\n",
            "Server: Test acc: 0.9290, test loss: 0.2743, round time: 180.0055956840515\n",
            "\n",
            "Running round: 73 - Time elapsed: 12680.902403593063 seconds\n",
            "Server requesting clients resources...\n",
            "Server selecting clients to train locally...\n",
            "Previous T round: 178.1150492176152\n",
            "Current T round: 164.37744514471075\n",
            "Max T round: 195.43557957999678\n",
            "Min T round: 144.75131084710415\n",
            "Selected clients (S): 68 out of 100\n",
            "Server selecting data to train centralized...\n",
            "Number of clients in U: 0\n",
            "Time upload: 0\n",
            "Selected data length (|D_UL|): 0\n",
            "Selected clients for this round: 68\n",
            "Distributing model...\n"
          ]
        },
        {
          "name": "stderr",
          "output_type": "stream",
          "text": [
            "Distributing model...:  97%|█████████▋| 2.800000000000001/2.896791810675387 [00:02<00:00,  1.01s/it]  \n"
          ]
        },
        {
          "name": "stdout",
          "output_type": "stream",
          "text": [
            "Scheduled model update and upload...\n",
            "Scheduled model update and upload time: 167.2243857383728 sec\n",
            "Centralized model update...\n",
            "Collecting weights...\n",
            "Aggregating global model...\n",
            "Server: Test acc: 0.9279, test loss: 0.2785, round time: 173.64016032218933\n",
            "\n",
            "Running round: 74 - Time elapsed: 12854.544078350067 seconds\n",
            "Server requesting clients resources...\n",
            "Server selecting clients to train locally...\n",
            "Previous T round: 164.37744514471075\n",
            "Current T round: 165.28459577734264\n",
            "Max T round: 195.43557957999678\n",
            "Min T round: 144.75131084710415\n",
            "Selected clients (S): 69 out of 100\n",
            "Server selecting data to train centralized...\n",
            "Number of clients in U: 0\n",
            "Time upload: 0\n",
            "Selected data length (|D_UL|): 0\n",
            "Selected clients for this round: 69\n",
            "Distributing model...\n"
          ]
        },
        {
          "name": "stderr",
          "output_type": "stream",
          "text": [
            "Distributing model...: 100%|█████████▉| 2.700000000000001/2.7084159074658416 [00:02<00:00,  1.02s/it]  \n"
          ]
        },
        {
          "name": "stdout",
          "output_type": "stream",
          "text": [
            "Scheduled model update and upload...\n",
            "Scheduled model update and upload time: 162.2039189338684 sec\n",
            "Centralized model update...\n",
            "Collecting weights...\n",
            "Aggregating global model...\n",
            "Server: Test acc: 0.9273, test loss: 0.2885, round time: 168.47176313400269\n",
            "\n",
            "Running round: 75 - Time elapsed: 13023.017310142517 seconds\n",
            "Server requesting clients resources...\n",
            "Server selecting clients to train locally...\n",
            "Previous T round: 165.28459577734264\n",
            "Current T round: 175.1459498878614\n",
            "Max T round: 195.43557957999678\n",
            "Min T round: 144.75131084710415\n",
            "Selected clients (S): 72 out of 100\n",
            "Server selecting data to train centralized...\n",
            "Number of clients in U: 1\n",
            "Time upload: 0\n",
            "Time upload: 0.04406472237611043\n",
            "Time upload: 0.08812944475222083\n",
            "Time upload: 0.1321941671283312\n",
            "Time upload: 0.17625888950444157\n",
            "Time upload: 0.21151066740532987\n",
            "Time upload: 0.23794950083099609\n",
            "Time upload: 0.2511689175438292\n",
            "Time upload: 0.25557538978144023\n",
            "Time upload: 0.25998186201905127\n",
            "Selected data length (|D_UL|): 47040\n",
            "Selected clients for this round: 72\n",
            "Distributing model...\n"
          ]
        },
        {
          "name": "stderr",
          "output_type": "stream",
          "text": [
            "Distributing model...:  98%|█████████▊| 2.700000000000001/2.7523757939577336 [00:02<00:00,  1.02s/it]  \n"
          ]
        },
        {
          "name": "stdout",
          "output_type": "stream",
          "text": [
            "Scheduled model update and upload...\n",
            "Scheduled model update and upload time: 172.44320917129517 sec\n",
            "Centralized model update...\n",
            "Collecting weights...\n",
            "Aggregating global model...\n",
            "Server: Test acc: 0.9286, test loss: 0.2724, round time: 179.2340807914734\n",
            "\n",
            "Running round: 76 - Time elapsed: 13202.253085374832 seconds\n",
            "Server requesting clients resources...\n",
            "Server selecting clients to train locally...\n",
            "Previous T round: 175.1459498878614\n",
            "Current T round: 160.39489792585653\n",
            "Max T round: 195.43557957999678\n",
            "Min T round: 144.75131084710415\n",
            "Selected clients (S): 65 out of 100\n",
            "Server selecting data to train centralized...\n",
            "Number of clients in U: 0\n",
            "Time upload: 0\n",
            "Selected data length (|D_UL|): 0\n",
            "Selected clients for this round: 65\n",
            "Distributing model...\n"
          ]
        },
        {
          "name": "stderr",
          "output_type": "stream",
          "text": [
            "Distributing model...:  97%|█████████▋| 2.700000000000001/2.782173622753288 [00:02<00:00,  1.01s/it]  \n"
          ]
        },
        {
          "name": "stdout",
          "output_type": "stream",
          "text": [
            "Scheduled model update and upload...\n",
            "Scheduled model update and upload time: 166.00388479232788 sec\n",
            "Centralized model update...\n",
            "Collecting weights...\n",
            "Aggregating global model...\n",
            "Server: Test acc: 0.9288, test loss: 0.2748, round time: 172.3253312110901\n",
            "\n",
            "Running round: 77 - Time elapsed: 13374.579955816269 seconds\n",
            "Server requesting clients resources...\n",
            "Server selecting clients to train locally...\n",
            "Previous T round: 160.39489792585653\n",
            "Current T round: 159.87177070367574\n",
            "Max T round: 195.43557957999678\n",
            "Min T round: 144.75131084710415\n",
            "Selected clients (S): 65 out of 100\n",
            "Server selecting data to train centralized...\n",
            "Number of clients in U: 0\n",
            "Time upload: 0\n",
            "Selected data length (|D_UL|): 0\n",
            "Selected clients for this round: 65\n",
            "Distributing model...\n"
          ]
        },
        {
          "name": "stderr",
          "output_type": "stream",
          "text": [
            "Distributing model...:  98%|█████████▊| 2.800000000000001/2.862521901739492 [00:02<00:00,  1.02s/it]  \n"
          ]
        },
        {
          "name": "stdout",
          "output_type": "stream",
          "text": [
            "Scheduled model update and upload...\n",
            "Scheduled model update and upload time: 158.77146077156067 sec\n",
            "Centralized model update...\n",
            "Collecting weights...\n",
            "Aggregating global model...\n",
            "Server: Test acc: 0.9279, test loss: 0.2730, round time: 165.0685796737671\n",
            "\n",
            "Running round: 78 - Time elapsed: 13539.650245428085 seconds\n",
            "Server requesting clients resources...\n",
            "Server selecting clients to train locally...\n",
            "Previous T round: 159.87177070367574\n",
            "Current T round: 163.51384604895165\n",
            "Max T round: 195.43557957999678\n",
            "Min T round: 144.75131084710415\n",
            "Selected clients (S): 66 out of 100\n",
            "Server selecting data to train centralized...\n",
            "Number of clients in U: 2\n",
            "Time upload: 0\n",
            "Time upload: 0.04430862045115578\n",
            "Time upload: 0.08861724090231153\n",
            "Time upload: 0.13309321928217988\n",
            "Time upload: 0.17773655559076096\n",
            "Time upload: 0.22254724982805466\n",
            "Time upload: 0.2675253019940609\n",
            "Time upload: 0.312503354160067\n",
            "Time upload: 0.35781612218349845\n",
            "Time upload: 0.39460188197412405\n",
            "Time upload: 0.42678942179092144\n",
            "Time upload: 0.45897696160771884\n",
            "Time upload: 0.48196806147685983\n",
            "Time upload: 0.5049591613460007\n",
            "Time upload: 0.5233520412413133\n",
            "Time upload: 0.5325484811889696\n",
            "Time upload: 0.5371467011627977\n",
            "Selected data length (|D_UL|): 94080\n",
            "Selected clients for this round: 66\n",
            "Distributing model...\n"
          ]
        },
        {
          "name": "stderr",
          "output_type": "stream",
          "text": [
            "Distributing model...:  99%|█████████▊| 2.800000000000001/2.836883989687513 [00:02<00:00,  1.01s/it]  \n"
          ]
        },
        {
          "name": "stdout",
          "output_type": "stream",
          "text": [
            "Scheduled model update and upload...\n",
            "Scheduled model update and upload time: 162.42360091209412 sec\n",
            "Centralized model update...\n",
            "Collecting weights...\n",
            "Aggregating global model...\n",
            "Server: Test acc: 0.9299, test loss: 0.2745, round time: 170.12630558013916\n",
            "\n",
            "Running round: 79 - Time elapsed: 13709.777924537659 seconds\n",
            "Server requesting clients resources...\n",
            "Server selecting clients to train locally...\n",
            "Previous T round: 163.51384604895165\n",
            "Current T round: 175.55332617361137\n",
            "Max T round: 195.43557957999678\n",
            "Min T round: 144.75131084710415\n",
            "Selected clients (S): 72 out of 100\n",
            "Server selecting data to train centralized...\n",
            "Number of clients in U: 0\n",
            "Time upload: 0\n",
            "Selected data length (|D_UL|): 0\n",
            "Selected clients for this round: 72\n",
            "Distributing model...\n"
          ]
        },
        {
          "name": "stderr",
          "output_type": "stream",
          "text": [
            "Distributing model...:  98%|█████████▊| 2.800000000000001/2.8443629413333644 [00:02<00:00,  1.01s/it]  \n"
          ]
        },
        {
          "name": "stdout",
          "output_type": "stream",
          "text": [
            "Scheduled model update and upload...\n",
            "Scheduled model update and upload time: 172.63310885429382 sec\n",
            "Centralized model update...\n",
            "Collecting weights...\n",
            "Aggregating global model...\n",
            "Server: Test acc: 0.9287, test loss: 0.2840, round time: 178.97628498077393\n",
            "\n",
            "Running round: 80 - Time elapsed: 13888.755883932114 seconds\n",
            "Server requesting clients resources...\n",
            "Server selecting clients to train locally...\n",
            "Previous T round: 175.55332617361137\n",
            "Current T round: 163.6724290471359\n",
            "Max T round: 195.43557957999678\n",
            "Min T round: 144.75131084710415\n",
            "Selected clients (S): 67 out of 100\n",
            "Server selecting data to train centralized...\n",
            "Number of clients in U: 0\n",
            "Time upload: 0\n",
            "Selected data length (|D_UL|): 0\n",
            "Selected clients for this round: 67\n",
            "Distributing model...\n"
          ]
        },
        {
          "name": "stderr",
          "output_type": "stream",
          "text": [
            "Distributing model...:  98%|█████████▊| 2.700000000000001/2.7452396498512996 [00:02<00:00,  1.01s/it]  \n"
          ]
        },
        {
          "name": "stdout",
          "output_type": "stream",
          "text": [
            "Scheduled model update and upload...\n",
            "Scheduled model update and upload time: 168.98703145980835 sec\n",
            "Centralized model update...\n",
            "Collecting weights...\n",
            "Aggregating global model...\n",
            "Server: Test acc: 0.9284, test loss: 0.2876, round time: 175.1896002292633\n",
            "\n",
            "Running round: 81 - Time elapsed: 14063.94698882103 seconds\n",
            "Server requesting clients resources...\n",
            "Server selecting clients to train locally...\n",
            "Previous T round: 163.6724290471359\n",
            "Current T round: 162.1188805885723\n",
            "Max T round: 195.43557957999678\n",
            "Min T round: 144.75131084710415\n",
            "Selected clients (S): 68 out of 100\n",
            "Server selecting data to train centralized...\n",
            "Number of clients in U: 0\n",
            "Time upload: 0\n",
            "Selected data length (|D_UL|): 0\n",
            "Selected clients for this round: 68\n",
            "Distributing model...\n"
          ]
        },
        {
          "name": "stderr",
          "output_type": "stream",
          "text": [
            "Distributing model...:  98%|█████████▊| 2.700000000000001/2.7501595813280995 [00:02<00:00,  1.02s/it]  \n"
          ]
        },
        {
          "name": "stdout",
          "output_type": "stream",
          "text": [
            "Scheduled model update and upload...\n",
            "Scheduled model update and upload time: 162.9877142906189 sec\n",
            "Centralized model update...\n",
            "Collecting weights...\n",
            "Aggregating global model...\n",
            "Server: Test acc: 0.9304, test loss: 0.2847, round time: 169.2911958694458\n",
            "\n",
            "Running round: 82 - Time elapsed: 14233.239936590195 seconds\n",
            "Server requesting clients resources...\n",
            "Server selecting clients to train locally...\n",
            "Previous T round: 162.1188805885723\n",
            "Current T round: 170.8806567189292\n",
            "Max T round: 195.43557957999678\n",
            "Min T round: 144.75131084710415\n",
            "Selected clients (S): 72 out of 100\n",
            "Server selecting data to train centralized...\n",
            "Number of clients in U: 1\n",
            "Time upload: 0\n",
            "Time upload: 0.04881945208366201\n",
            "Time upload: 0.09763890416732399\n",
            "Time upload: 0.1415764110426198\n",
            "Time upload: 0.18551391791791572\n",
            "Time upload: 0.2245694795848454\n",
            "Time upload: 0.2538611508350427\n",
            "Time upload: 0.27827087687687374\n",
            "Time upload: 0.28803476729360616\n",
            "Selected data length (|D_UL|): 47040\n",
            "Selected clients for this round: 72\n",
            "Distributing model...\n"
          ]
        },
        {
          "name": "stderr",
          "output_type": "stream",
          "text": [
            "Distributing model...:  99%|█████████▉| 2.800000000000001/2.8215786164541528 [00:02<00:00,  1.01s/it]  \n"
          ]
        },
        {
          "name": "stdout",
          "output_type": "stream",
          "text": [
            "Scheduled model update and upload...\n",
            "Scheduled model update and upload time: 166.5035514831543 sec\n",
            "Centralized model update...\n",
            "Collecting weights...\n",
            "Aggregating global model...\n",
            "Server: Test acc: 0.9315, test loss: 0.2636, round time: 173.3478012084961\n",
            "\n",
            "Running round: 83 - Time elapsed: 14406.589394807816 seconds\n",
            "Server requesting clients resources...\n",
            "Server selecting clients to train locally...\n",
            "Previous T round: 170.8806567189292\n",
            "Current T round: 187.97048379924757\n",
            "Max T round: 195.43557957999678\n",
            "Min T round: 144.75131084710415\n",
            "Selected clients (S): 77 out of 100\n",
            "Server selecting data to train centralized...\n",
            "Number of clients in U: 0\n",
            "Time upload: 0\n",
            "Selected data length (|D_UL|): 0\n",
            "Selected clients for this round: 77\n",
            "Distributing model...\n"
          ]
        },
        {
          "name": "stderr",
          "output_type": "stream",
          "text": [
            "Distributing model...:  98%|█████████▊| 2.800000000000001/2.8563424590603406 [00:02<00:00,  1.01s/it]  \n"
          ]
        },
        {
          "name": "stdout",
          "output_type": "stream",
          "text": [
            "Scheduled model update and upload...\n",
            "Scheduled model update and upload time: 197.77857446670532 sec\n",
            "Centralized model update...\n",
            "Collecting weights...\n",
            "Aggregating global model...\n",
            "Server: Test acc: 0.9309, test loss: 0.2753, round time: 204.24078941345215\n",
            "\n",
            "Running round: 84 - Time elapsed: 14610.831670284271 seconds\n",
            "Server requesting clients resources...\n",
            "Server selecting clients to train locally...\n",
            "Previous T round: 187.97048379924757\n",
            "Current T round: 159.76530892260016\n",
            "Max T round: 195.43557957999678\n",
            "Min T round: 144.75131084710415\n",
            "Selected clients (S): 67 out of 100\n",
            "Server selecting data to train centralized...\n",
            "Number of clients in U: 0\n",
            "Time upload: 0\n",
            "Selected data length (|D_UL|): 0\n",
            "Selected clients for this round: 67\n",
            "Distributing model...\n"
          ]
        },
        {
          "name": "stderr",
          "output_type": "stream",
          "text": [
            "Distributing model...: 100%|█████████▉| 2.600000000000001/2.6067928621198715 [00:02<00:00,  1.02s/it]  \n"
          ]
        },
        {
          "name": "stdout",
          "output_type": "stream",
          "text": [
            "Scheduled model update and upload...\n",
            "Scheduled model update and upload time: 155.58593249320984 sec\n",
            "Centralized model update...\n",
            "Collecting weights...\n",
            "Aggregating global model...\n",
            "Server: Test acc: 0.9307, test loss: 0.2660, round time: 161.75689721107483\n",
            "\n",
            "Running round: 85 - Time elapsed: 14772.5903069973 seconds\n",
            "Server requesting clients resources...\n",
            "Server selecting clients to train locally...\n",
            "Previous T round: 159.76530892260016\n",
            "Current T round: 175.6830293617058\n",
            "Max T round: 195.43557957999678\n",
            "Min T round: 144.75131084710415\n",
            "Selected clients (S): 73 out of 100\n",
            "Server selecting data to train centralized...\n",
            "Number of clients in U: 0\n",
            "Time upload: 0\n",
            "Selected data length (|D_UL|): 0\n",
            "Selected clients for this round: 73\n",
            "Distributing model...\n"
          ]
        },
        {
          "name": "stderr",
          "output_type": "stream",
          "text": [
            "Distributing model...:  97%|█████████▋| 2.700000000000001/2.773166913553422 [00:02<00:00,  1.02s/it]  \n"
          ]
        },
        {
          "name": "stdout",
          "output_type": "stream",
          "text": [
            "Scheduled model update and upload...\n",
            "Scheduled model update and upload time: 188.03596949577332 sec\n",
            "Centralized model update...\n",
            "Collecting weights...\n",
            "Aggregating global model...\n",
            "Server: Test acc: 0.9313, test loss: 0.2793, round time: 194.32949471473694\n",
            "\n",
            "Running round: 86 - Time elapsed: 14966.921274662018 seconds\n",
            "Server requesting clients resources...\n",
            "Server selecting clients to train locally...\n",
            "Previous T round: 175.6830293617058\n",
            "Current T round: 176.20716564412155\n",
            "Max T round: 195.43557957999678\n",
            "Min T round: 144.75131084710415\n",
            "Selected clients (S): 72 out of 100\n",
            "Server selecting data to train centralized...\n",
            "Number of clients in U: 0\n",
            "Time upload: 0\n",
            "Selected data length (|D_UL|): 0\n",
            "Selected clients for this round: 72\n",
            "Distributing model...\n"
          ]
        },
        {
          "name": "stderr",
          "output_type": "stream",
          "text": [
            "Distributing model...:  98%|█████████▊| 2.800000000000001/2.8694998320066176 [00:02<00:00,  1.01s/it]  \n"
          ]
        },
        {
          "name": "stdout",
          "output_type": "stream",
          "text": [
            "Scheduled model update and upload...\n",
            "Scheduled model update and upload time: 170.02784609794617 sec\n",
            "Centralized model update...\n",
            "Collecting weights...\n",
            "Aggregating global model...\n",
            "Server: Test acc: 0.9318, test loss: 0.2588, round time: 176.46137809753418\n",
            "\n",
            "Running round: 87 - Time elapsed: 15143.384109735489 seconds\n",
            "Server requesting clients resources...\n",
            "Server selecting clients to train locally...\n",
            "Previous T round: 176.20716564412155\n",
            "Current T round: 162.39265501482137\n",
            "Max T round: 195.43557957999678\n",
            "Min T round: 144.75131084710415\n",
            "Selected clients (S): 67 out of 100\n",
            "Server selecting data to train centralized...\n",
            "Number of clients in U: 0\n",
            "Time upload: 0\n",
            "Selected data length (|D_UL|): 0\n",
            "Selected clients for this round: 67\n",
            "Distributing model...\n"
          ]
        },
        {
          "name": "stderr",
          "output_type": "stream",
          "text": [
            "Distributing model...:  99%|█████████▉| 2.700000000000001/2.719533497971938 [00:02<00:00,  1.01s/it]  \n"
          ]
        },
        {
          "name": "stdout",
          "output_type": "stream",
          "text": [
            "Scheduled model update and upload...\n",
            "Scheduled model update and upload time: 160.2115123271942 sec\n",
            "Centralized model update...\n",
            "Collecting weights...\n",
            "Aggregating global model...\n",
            "Server: Test acc: 0.9318, test loss: 0.2699, round time: 166.5223786830902\n",
            "\n",
            "Running round: 88 - Time elapsed: 15309.908003807068 seconds\n",
            "Server requesting clients resources...\n",
            "Server selecting clients to train locally...\n",
            "Previous T round: 162.39265501482137\n",
            "Current T round: 178.4457997455395\n",
            "Max T round: 195.43557957999678\n",
            "Min T round: 144.75131084710415\n",
            "Selected clients (S): 73 out of 100\n",
            "Server selecting data to train centralized...\n",
            "Number of clients in U: 0\n",
            "Time upload: 0\n",
            "Selected data length (|D_UL|): 0\n",
            "Selected clients for this round: 73\n",
            "Distributing model...\n"
          ]
        },
        {
          "name": "stderr",
          "output_type": "stream",
          "text": [
            "Distributing model...:  97%|█████████▋| 2.800000000000001/2.8896829493790035 [00:02<00:00,  1.01s/it]  \n"
          ]
        },
        {
          "name": "stdout",
          "output_type": "stream",
          "text": [
            "Scheduled model update and upload...\n",
            "Scheduled model update and upload time: 181.92163825035095 sec\n",
            "Centralized model update...\n",
            "Collecting weights...\n",
            "Aggregating global model...\n",
            "Server: Test acc: 0.9318, test loss: 0.2610, round time: 188.37411832809448\n",
            "\n",
            "Running round: 89 - Time elapsed: 15498.283672571182 seconds\n",
            "Server requesting clients resources...\n",
            "Server selecting clients to train locally...\n",
            "Previous T round: 178.4457997455395\n",
            "Current T round: 170.3395922249738\n",
            "Max T round: 195.43557957999678\n",
            "Min T round: 144.75131084710415\n",
            "Selected clients (S): 66 out of 100\n",
            "Server selecting data to train centralized...\n",
            "Number of clients in U: 1\n",
            "Time upload: 0\n",
            "Time upload: 0.039718289313067784\n",
            "Time upload: 0.07943657862613557\n",
            "Time upload: 0.11915486793920335\n",
            "Time upload: 0.15887315725227102\n",
            "Time upload: 0.19064778870272514\n",
            "Time upload: 0.21447876229056573\n",
            "Time upload: 0.22639424908448602\n",
            "Time upload: 0.23036607801579279\n",
            "Time upload: 0.23433790694709955\n",
            "Selected data length (|D_UL|): 47040\n",
            "Selected clients for this round: 66\n",
            "Distributing model...\n"
          ]
        },
        {
          "name": "stderr",
          "output_type": "stream",
          "text": [
            "Distributing model...: 100%|█████████▉| 2.9000000000000012/2.901890418574726 [00:02<00:00,  1.02s/it] \n"
          ]
        },
        {
          "name": "stdout",
          "output_type": "stream",
          "text": [
            "Scheduled model update and upload...\n",
            "Scheduled model update and upload time: 163.69435119628906 sec\n",
            "Centralized model update...\n",
            "Collecting weights...\n",
            "Aggregating global model...\n",
            "Server: Test acc: 0.9326, test loss: 0.2570, round time: 170.71553421020508\n",
            "\n",
            "Running round: 90 - Time elapsed: 15669.000693559647 seconds\n",
            "Server requesting clients resources...\n",
            "Server selecting clients to train locally...\n",
            "Previous T round: 170.3395922249738\n",
            "Current T round: 167.67290329867058\n",
            "Max T round: 195.43557957999678\n",
            "Min T round: 144.75131084710415\n",
            "Selected clients (S): 69 out of 100\n",
            "Server selecting data to train centralized...\n",
            "Number of clients in U: 0\n",
            "Time upload: 0\n",
            "Selected data length (|D_UL|): 0\n",
            "Selected clients for this round: 69\n",
            "Distributing model...\n"
          ]
        },
        {
          "name": "stderr",
          "output_type": "stream",
          "text": [
            "Distributing model...: 100%|█████████▉| 2.800000000000001/2.8015777616457784 [00:02<00:00,  1.02s/it]  \n"
          ]
        },
        {
          "name": "stdout",
          "output_type": "stream",
          "text": [
            "Scheduled model update and upload...\n",
            "Scheduled model update and upload time: 164.8463339805603 sec\n",
            "Centralized model update...\n",
            "Collecting weights...\n",
            "Aggregating global model...\n",
            "Server: Test acc: 0.9337, test loss: 0.2561, round time: 171.27366065979004\n",
            "\n",
            "Running round: 91 - Time elapsed: 15840.278422117233 seconds\n",
            "Server requesting clients resources...\n",
            "Server selecting clients to train locally...\n",
            "Previous T round: 167.67290329867058\n",
            "Current T round: 164.87325286073747\n",
            "Max T round: 195.43557957999678\n",
            "Min T round: 144.75131084710415\n",
            "Selected clients (S): 68 out of 100\n",
            "Server selecting data to train centralized...\n",
            "Number of clients in U: 0\n",
            "Time upload: 0\n",
            "Selected data length (|D_UL|): 0\n",
            "Selected clients for this round: 68\n",
            "Distributing model...\n"
          ]
        },
        {
          "name": "stderr",
          "output_type": "stream",
          "text": [
            "Distributing model...:  98%|█████████▊| 2.800000000000001/2.866990292567078 [00:02<00:00,  1.01s/it]  \n"
          ]
        },
        {
          "name": "stdout",
          "output_type": "stream",
          "text": [
            "Scheduled model update and upload...\n",
            "Scheduled model update and upload time: 163.3636543750763 sec\n",
            "Centralized model update...\n",
            "Collecting weights...\n",
            "Aggregating global model...\n",
            "Server: Test acc: 0.9341, test loss: 0.2600, round time: 169.71784472465515\n",
            "\n",
            "Running round: 92 - Time elapsed: 16009.997889518738 seconds\n",
            "Server requesting clients resources...\n",
            "Server selecting clients to train locally...\n",
            "Previous T round: 164.87325286073747\n",
            "Current T round: 166.11949771587607\n",
            "Max T round: 195.43557957999678\n",
            "Min T round: 144.75131084710415\n",
            "Selected clients (S): 68 out of 100\n",
            "Server selecting data to train centralized...\n",
            "Number of clients in U: 0\n",
            "Time upload: 0\n",
            "Selected data length (|D_UL|): 0\n",
            "Selected clients for this round: 68\n",
            "Distributing model...\n"
          ]
        },
        {
          "name": "stderr",
          "output_type": "stream",
          "text": [
            "Distributing model...:  96%|█████████▋| 2.700000000000001/2.7993032300950302 [00:02<00:00,  1.01s/it]  \n"
          ]
        },
        {
          "name": "stdout",
          "output_type": "stream",
          "text": [
            "Scheduled model update and upload...\n",
            "Scheduled model update and upload time: 166.61243629455566 sec\n",
            "Centralized model update...\n",
            "Collecting weights...\n",
            "Aggregating global model...\n",
            "Server: Test acc: 0.9349, test loss: 0.2549, round time: 172.84981536865234\n",
            "\n",
            "Running round: 93 - Time elapsed: 16182.849245071411 seconds\n",
            "Server requesting clients resources...\n",
            "Server selecting clients to train locally...\n",
            "Previous T round: 166.11949771587607\n",
            "Current T round: 149.6471117312433\n",
            "Max T round: 195.43557957999678\n",
            "Min T round: 144.75131084710415\n",
            "Selected clients (S): 61 out of 100\n",
            "Server selecting data to train centralized...\n",
            "Number of clients in U: 0\n",
            "Time upload: 0\n",
            "Selected data length (|D_UL|): 0\n",
            "Selected clients for this round: 61\n",
            "Distributing model...\n"
          ]
        },
        {
          "name": "stderr",
          "output_type": "stream",
          "text": [
            "Distributing model...:  98%|█████████▊| 2.600000000000001/2.652300669693969 [00:02<00:00,  1.02s/it]  \n"
          ]
        },
        {
          "name": "stdout",
          "output_type": "stream",
          "text": [
            "Scheduled model update and upload...\n",
            "Scheduled model update and upload time: 158.15882873535156 sec\n",
            "Centralized model update...\n",
            "Collecting weights...\n",
            "Aggregating global model...\n",
            "Server: Test acc: 0.9347, test loss: 0.2609, round time: 164.33388328552246\n",
            "\n",
            "Running round: 94 - Time elapsed: 16347.184794425964 seconds\n",
            "Server requesting clients resources...\n",
            "Server selecting clients to train locally...\n",
            "Previous T round: 149.6471117312433\n",
            "Current T round: 177.12990545895826\n",
            "Max T round: 195.43557957999678\n",
            "Min T round: 144.75131084710415\n",
            "Selected clients (S): 73 out of 100\n",
            "Server selecting data to train centralized...\n",
            "Number of clients in U: 0\n",
            "Time upload: 0\n",
            "Selected data length (|D_UL|): 0\n",
            "Selected clients for this round: 73\n",
            "Distributing model...\n"
          ]
        },
        {
          "name": "stderr",
          "output_type": "stream",
          "text": [
            "Distributing model...:  99%|█████████▊| 2.800000000000001/2.837528683515642 [00:02<00:00,  1.01s/it]  \n"
          ]
        },
        {
          "name": "stdout",
          "output_type": "stream",
          "text": [
            "Scheduled model update and upload...\n",
            "Scheduled model update and upload time: 185.1195673942566 sec\n",
            "Centralized model update...\n",
            "Collecting weights...\n",
            "Aggregating global model...\n",
            "Server: Test acc: 0.9351, test loss: 0.2548, round time: 191.52801537513733\n",
            "\n",
            "Running round: 95 - Time elapsed: 16538.71464085579 seconds\n",
            "Server requesting clients resources...\n",
            "Server selecting clients to train locally...\n",
            "Previous T round: 177.12990545895826\n",
            "Current T round: 177.07862841363283\n",
            "Max T round: 195.43557957999678\n",
            "Min T round: 144.75131084710415\n",
            "Selected clients (S): 73 out of 100\n",
            "Server selecting data to train centralized...\n",
            "Number of clients in U: 0\n",
            "Time upload: 0\n",
            "Selected data length (|D_UL|): 0\n",
            "Selected clients for this round: 73\n",
            "Distributing model...\n"
          ]
        },
        {
          "name": "stderr",
          "output_type": "stream",
          "text": [
            "Distributing model...:  99%|█████████▊| 2.800000000000001/2.839258633274411 [00:02<00:00,  1.01s/it]  \n"
          ]
        },
        {
          "name": "stdout",
          "output_type": "stream",
          "text": [
            "Scheduled model update and upload...\n",
            "Scheduled model update and upload time: 174.80869245529175 sec\n",
            "Centralized model update...\n",
            "Collecting weights...\n",
            "Aggregating global model...\n",
            "Server: Test acc: 0.9364, test loss: 0.2523, round time: 181.20830869674683\n",
            "\n",
            "Running round: 96 - Time elapsed: 16719.924685001373 seconds\n",
            "Server requesting clients resources...\n",
            "Server selecting clients to train locally...\n",
            "Previous T round: 177.07862841363283\n",
            "Current T round: 164.11732208507817\n",
            "Max T round: 195.43557957999678\n",
            "Min T round: 144.75131084710415\n",
            "Selected clients (S): 67 out of 100\n",
            "Server selecting data to train centralized...\n",
            "Number of clients in U: 1\n",
            "Time upload: 0\n",
            "Time upload: 0.049738209177682687\n",
            "Time upload: 0.09947641835536537\n",
            "Time upload: 0.1442408066152798\n",
            "Time upload: 0.18403137395742594\n",
            "Time upload: 0.21884812038180382\n",
            "Time upload: 0.24869104588841343\n",
            "Time upload: 0.27853397139502306\n",
            "Selected data length (|D_UL|): 47040\n",
            "Selected clients for this round: 67\n",
            "Distributing model...\n"
          ]
        },
        {
          "name": "stderr",
          "output_type": "stream",
          "text": [
            "Distributing model...:  97%|█████████▋| 2.700000000000001/2.7970913830085817 [00:02<00:00,  1.02s/it]  \n"
          ]
        },
        {
          "name": "stdout",
          "output_type": "stream",
          "text": [
            "Scheduled model update and upload...\n",
            "Scheduled model update and upload time: 159.2477388381958 sec\n",
            "Centralized model update...\n",
            "Collecting weights...\n",
            "Aggregating global model...\n",
            "Server: Test acc: 0.9350, test loss: 0.2523, round time: 165.98590755462646\n",
            "\n",
            "Running round: 97 - Time elapsed: 16885.912005662918 seconds\n",
            "Server requesting clients resources...\n",
            "Server selecting clients to train locally...\n",
            "Previous T round: 164.11732208507817\n",
            "Current T round: 168.23321876030067\n",
            "Max T round: 195.43557957999678\n",
            "Min T round: 144.75131084710415\n",
            "Selected clients (S): 68 out of 100\n",
            "Server selecting data to train centralized...\n",
            "Number of clients in U: 0\n",
            "Time upload: 0\n",
            "Selected data length (|D_UL|): 0\n",
            "Selected clients for this round: 68\n",
            "Distributing model...\n"
          ]
        },
        {
          "name": "stderr",
          "output_type": "stream",
          "text": [
            "Distributing model...:  99%|█████████▉| 2.800000000000001/2.826001650553126 [00:02<00:00,  1.02s/it]  \n"
          ]
        },
        {
          "name": "stdout",
          "output_type": "stream",
          "text": [
            "Scheduled model update and upload...\n",
            "Scheduled model update and upload time: 164.6243929862976 sec\n",
            "Centralized model update...\n",
            "Collecting weights...\n",
            "Aggregating global model...\n",
            "Server: Test acc: 0.9340, test loss: 0.2557, round time: 171.11911511421204\n",
            "\n",
            "Running round: 98 - Time elapsed: 17057.032773017883 seconds\n",
            "Server requesting clients resources...\n",
            "Server selecting clients to train locally...\n",
            "Previous T round: 168.23321876030067\n",
            "Current T round: 174.23964838720903\n",
            "Max T round: 195.43557957999678\n",
            "Min T round: 144.75131084710415\n",
            "Selected clients (S): 71 out of 100\n",
            "Server selecting data to train centralized...\n",
            "Number of clients in U: 0\n",
            "Time upload: 0\n",
            "Selected data length (|D_UL|): 0\n",
            "Selected clients for this round: 71\n",
            "Distributing model...\n"
          ]
        },
        {
          "name": "stderr",
          "output_type": "stream",
          "text": [
            "Distributing model...:  98%|█████████▊| 2.800000000000001/2.8486200054883133 [00:02<00:00,  1.02s/it]  \n"
          ]
        },
        {
          "name": "stdout",
          "output_type": "stream",
          "text": [
            "Scheduled model update and upload...\n",
            "Scheduled model update and upload time: 171.40563797950745 sec\n",
            "Centralized model update...\n",
            "Collecting weights...\n",
            "Aggregating global model...\n",
            "Server: Test acc: 0.9359, test loss: 0.2697, round time: 177.79117488861084\n",
            "\n",
            "Running round: 99 - Time elapsed: 17234.826326847076 seconds\n",
            "Server requesting clients resources...\n",
            "Server selecting clients to train locally...\n",
            "Previous T round: 174.23964838720903\n",
            "Current T round: 175.6467914661947\n",
            "Max T round: 195.43557957999678\n",
            "Min T round: 144.75131084710415\n",
            "Selected clients (S): 73 out of 100\n",
            "Server selecting data to train centralized...\n",
            "Number of clients in U: 0\n",
            "Time upload: 0\n",
            "Selected data length (|D_UL|): 0\n",
            "Selected clients for this round: 73\n",
            "Distributing model...\n"
          ]
        },
        {
          "name": "stderr",
          "output_type": "stream",
          "text": [
            "Distributing model...:  98%|█████████▊| 2.800000000000001/2.8611883708152708 [00:02<00:00,  1.02s/it]  \n"
          ]
        },
        {
          "name": "stdout",
          "output_type": "stream",
          "text": [
            "Scheduled model update and upload...\n",
            "Scheduled model update and upload time: 172.33459281921387 sec\n",
            "Centralized model update...\n",
            "Collecting weights...\n",
            "Aggregating global model...\n",
            "Server: Test acc: 0.9354, test loss: 0.2548, round time: 178.7125952243805\n",
            "\n",
            "Running round: 100 - Time elapsed: 17413.54056453705 seconds\n",
            "Server requesting clients resources...\n",
            "Server selecting clients to train locally...\n",
            "Previous T round: 175.6467914661947\n",
            "Current T round: 173.96529925354724\n",
            "Max T round: 195.43557957999678\n",
            "Min T round: 144.75131084710415\n",
            "Selected clients (S): 72 out of 100\n",
            "Server selecting data to train centralized...\n",
            "Number of clients in U: 0\n",
            "Time upload: 0\n",
            "Selected data length (|D_UL|): 0\n",
            "Selected clients for this round: 72\n",
            "Distributing model...\n"
          ]
        },
        {
          "name": "stderr",
          "output_type": "stream",
          "text": [
            "Distributing model...:  98%|█████████▊| 2.700000000000001/2.761031130468196 [00:02<00:00,  1.01s/it]  \n"
          ]
        },
        {
          "name": "stdout",
          "output_type": "stream",
          "text": [
            "Scheduled model update and upload...\n",
            "Scheduled model update and upload time: 170.2490270137787 sec\n",
            "Centralized model update...\n",
            "Collecting weights...\n",
            "Aggregating global model...\n",
            "Server: Test acc: 0.9362, test loss: 0.2661, round time: 176.5039575099945\n",
            "\n",
            "Running round: 101 - Time elapsed: 17590.047244548798 seconds\n",
            "Server requesting clients resources...\n",
            "Server selecting clients to train locally...\n",
            "Previous T round: 173.96529925354724\n",
            "Current T round: 172.6273966056445\n",
            "Max T round: 195.43557957999678\n",
            "Min T round: 144.75131084710415\n",
            "Selected clients (S): 67 out of 100\n",
            "Server selecting data to train centralized...\n",
            "Number of clients in U: 0\n",
            "Time upload: 0\n",
            "Selected data length (|D_UL|): 0\n",
            "Selected clients for this round: 67\n",
            "Distributing model...\n"
          ]
        },
        {
          "name": "stderr",
          "output_type": "stream",
          "text": [
            "Distributing model...: 100%|█████████▉| 2.800000000000001/2.8130750626840073 [00:02<00:00,  1.01s/it]  \n"
          ]
        },
        {
          "name": "stdout",
          "output_type": "stream",
          "text": [
            "Scheduled model update and upload...\n",
            "Scheduled model update and upload time: 162.11832404136658 sec\n",
            "Centralized model update...\n",
            "Collecting weights...\n",
            "Aggregating global model...\n",
            "Server: Test acc: 0.9368, test loss: 0.2519, round time: 168.5331015586853\n",
            "\n",
            "Running round: 102 - Time elapsed: 17758.581773757935 seconds\n",
            "Server requesting clients resources...\n",
            "Server selecting clients to train locally...\n",
            "Previous T round: 172.6273966056445\n",
            "Current T round: 168.07732385949112\n",
            "Max T round: 195.43557957999678\n",
            "Min T round: 144.75131084710415\n",
            "Selected clients (S): 68 out of 100\n",
            "Server selecting data to train centralized...\n",
            "Number of clients in U: 0\n",
            "Time upload: 0\n",
            "Selected data length (|D_UL|): 0\n",
            "Selected clients for this round: 68\n",
            "Distributing model...\n"
          ]
        },
        {
          "name": "stderr",
          "output_type": "stream",
          "text": [
            "Distributing model...:  99%|█████████▉| 2.800000000000001/2.830240420978947 [00:02<00:00,  1.01s/it]  \n"
          ]
        },
        {
          "name": "stdout",
          "output_type": "stream",
          "text": [
            "Scheduled model update and upload...\n",
            "Scheduled model update and upload time: 164.48348760604858 sec\n",
            "Centralized model update...\n",
            "Collecting weights...\n",
            "Aggregating global model...\n",
            "Server: Test acc: 0.9378, test loss: 0.2427, round time: 170.9559564590454\n",
            "\n",
            "Running round: 103 - Time elapsed: 17929.53939795494 seconds\n",
            "Server requesting clients resources...\n",
            "Server selecting clients to train locally...\n",
            "Previous T round: 168.07732385949112\n",
            "Current T round: 165.83857646676006\n",
            "Max T round: 195.43557957999678\n",
            "Min T round: 144.75131084710415\n",
            "Selected clients (S): 65 out of 100\n",
            "Server selecting data to train centralized...\n",
            "Number of clients in U: 0\n",
            "Time upload: 0\n",
            "Selected data length (|D_UL|): 0\n",
            "Selected clients for this round: 65\n",
            "Distributing model...\n"
          ]
        },
        {
          "name": "stderr",
          "output_type": "stream",
          "text": [
            "Distributing model...:  98%|█████████▊| 2.800000000000001/2.871642126775559 [00:02<00:00,  1.02s/it]  \n"
          ]
        },
        {
          "name": "stdout",
          "output_type": "stream",
          "text": [
            "Scheduled model update and upload...\n",
            "Scheduled model update and upload time: 159.25964522361755 sec\n",
            "Centralized model update...\n",
            "Collecting weights...\n",
            "Aggregating global model...\n",
            "Server: Test acc: 0.9376, test loss: 0.2629, round time: 165.76219058036804\n",
            "\n",
            "Running round: 104 - Time elapsed: 18095.303091287613 seconds\n",
            "Server requesting clients resources...\n",
            "Server selecting clients to train locally...\n",
            "Previous T round: 165.83857646676006\n",
            "Current T round: 181.04515936816375\n",
            "Max T round: 195.43557957999678\n",
            "Min T round: 144.75131084710415\n",
            "Selected clients (S): 76 out of 100\n",
            "Server selecting data to train centralized...\n",
            "Number of clients in U: 0\n",
            "Time upload: 0\n",
            "Selected data length (|D_UL|): 0\n",
            "Selected clients for this round: 76\n",
            "Distributing model...\n"
          ]
        },
        {
          "name": "stderr",
          "output_type": "stream",
          "text": [
            "Distributing model...: 100%|█████████▉| 2.9000000000000012/2.9007673077985565 [00:02<00:00,  1.01s/it] \n"
          ]
        },
        {
          "name": "stdout",
          "output_type": "stream",
          "text": [
            "Scheduled model update and upload...\n",
            "Scheduled model update and upload time: 179.98712158203125 sec\n",
            "Centralized model update...\n",
            "Collecting weights...\n",
            "Aggregating global model...\n",
            "Server: Test acc: 0.9370, test loss: 0.2446, round time: 186.57539319992065\n",
            "\n",
            "Running round: 105 - Time elapsed: 18281.880558252335 seconds\n",
            "Server requesting clients resources...\n",
            "Server selecting clients to train locally...\n",
            "Previous T round: 181.04515936816375\n",
            "Current T round: 175.2750825740455\n",
            "Max T round: 195.43557957999678\n",
            "Min T round: 144.75131084710415\n",
            "Selected clients (S): 72 out of 100\n",
            "Server selecting data to train centralized...\n",
            "Number of clients in U: 1\n",
            "Time upload: 0\n",
            "Time upload: 0.04416917839501436\n",
            "Time upload: 0.08833835679002869\n",
            "Time upload: 0.13250753518504302\n",
            "Time upload: 0.17667671358005735\n",
            "Time upload: 0.2120120562960688\n",
            "Time upload: 0.24734739901208028\n",
            "Time upload: 0.25618123469108317\n",
            "Time upload: 0.2605981525305846\n",
            "Selected data length (|D_UL|): 47040\n",
            "Selected clients for this round: 72\n",
            "Distributing model...\n"
          ]
        },
        {
          "name": "stderr",
          "output_type": "stream",
          "text": [
            "Distributing model...:  97%|█████████▋| 2.700000000000001/2.7842373138853826 [00:02<00:00,  1.02s/it]  \n"
          ]
        },
        {
          "name": "stdout",
          "output_type": "stream",
          "text": [
            "Scheduled model update and upload...\n",
            "Scheduled model update and upload time: 185.9968762397766 sec\n",
            "Centralized model update...\n",
            "Collecting weights...\n",
            "Aggregating global model...\n",
            "Server: Test acc: 0.9383, test loss: 0.2438, round time: 192.7922465801239\n",
            "\n",
            "Running round: 106 - Time elapsed: 18474.67498779297 seconds\n",
            "Server requesting clients resources...\n",
            "Server selecting clients to train locally...\n",
            "Previous T round: 175.2750825740455\n",
            "Current T round: 168.61399668943747\n",
            "Max T round: 195.43557957999678\n",
            "Min T round: 144.75131084710415\n",
            "Selected clients (S): 70 out of 100\n",
            "Server selecting data to train centralized...\n",
            "Number of clients in U: 0\n",
            "Time upload: 0\n",
            "Selected data length (|D_UL|): 0\n",
            "Selected clients for this round: 70\n",
            "Distributing model...\n"
          ]
        },
        {
          "name": "stderr",
          "output_type": "stream",
          "text": [
            "Distributing model...:  99%|█████████▊| 2.700000000000001/2.739818320627282 [00:02<00:00,  1.01s/it]  \n"
          ]
        },
        {
          "name": "stdout",
          "output_type": "stream",
          "text": [
            "Scheduled model update and upload...\n",
            "Scheduled model update and upload time: 169.68543481826782 sec\n",
            "Centralized model update...\n",
            "Collecting weights...\n",
            "Aggregating global model...\n",
            "Server: Test acc: 0.9377, test loss: 0.2597, round time: 175.95859789848328\n",
            "\n",
            "Running round: 107 - Time elapsed: 18650.63504385948 seconds\n",
            "Server requesting clients resources...\n",
            "Server selecting clients to train locally...\n",
            "Previous T round: 168.61399668943747\n",
            "Current T round: 164.25497220451268\n",
            "Max T round: 195.43557957999678\n",
            "Min T round: 144.75131084710415\n",
            "Selected clients (S): 66 out of 100\n",
            "Server selecting data to train centralized...\n",
            "Number of clients in U: 1\n",
            "Time upload: 0\n",
            "Time upload: 0.04955188931917264\n",
            "Time upload: 0.09910377863834528\n",
            "Time upload: 0.14370047902560065\n",
            "Time upload: 0.18334199048093877\n",
            "Time upload: 0.21802831300435963\n",
            "Time upload: 0.24775944659586321\n",
            "Time upload: 0.2774905801873668\n",
            "Selected data length (|D_UL|): 47040\n",
            "Selected clients for this round: 66\n",
            "Distributing model...\n"
          ]
        },
        {
          "name": "stderr",
          "output_type": "stream",
          "text": [
            "Distributing model...:  99%|█████████▉| 2.800000000000001/2.8305628209365326 [00:02<00:00,  1.02s/it]  \n"
          ]
        },
        {
          "name": "stdout",
          "output_type": "stream",
          "text": [
            "Scheduled model update and upload...\n",
            "Scheduled model update and upload time: 171.85191917419434 sec\n",
            "Centralized model update...\n",
            "Collecting weights...\n",
            "Aggregating global model...\n",
            "Server: Test acc: 0.9388, test loss: 0.2563, round time: 178.71238255500793\n",
            "\n",
            "Running round: 108 - Time elapsed: 18829.348920822144 seconds\n",
            "Server requesting clients resources...\n",
            "Server selecting clients to train locally...\n",
            "Previous T round: 164.25497220451268\n",
            "Current T round: 150.87441904681432\n",
            "Max T round: 195.43557957999678\n",
            "Min T round: 144.75131084710415\n",
            "Selected clients (S): 62 out of 100\n",
            "Server selecting data to train centralized...\n",
            "Number of clients in U: 0\n",
            "Time upload: 0\n",
            "Selected data length (|D_UL|): 0\n",
            "Selected clients for this round: 62\n",
            "Distributing model...\n"
          ]
        },
        {
          "name": "stderr",
          "output_type": "stream",
          "text": [
            "Distributing model...:  98%|█████████▊| 2.700000000000001/2.755683376858861 [00:02<00:00,  1.01s/it]  \n"
          ]
        },
        {
          "name": "stdout",
          "output_type": "stream",
          "text": [
            "Scheduled model update and upload...\n",
            "Scheduled model update and upload time: 155.29329657554626 sec\n",
            "Centralized model update...\n",
            "Collecting weights...\n",
            "Aggregating global model...\n",
            "Server: Test acc: 0.9384, test loss: 0.2412, round time: 161.48314833641052\n",
            "\n",
            "Running round: 109 - Time elapsed: 18990.83354139328 seconds\n",
            "Server requesting clients resources...\n",
            "Server selecting clients to train locally...\n",
            "Previous T round: 150.87441904681432\n",
            "Current T round: 177.02643241096953\n",
            "Max T round: 195.43557957999678\n",
            "Min T round: 144.75131084710415\n",
            "Selected clients (S): 73 out of 100\n",
            "Server selecting data to train centralized...\n",
            "Number of clients in U: 0\n",
            "Time upload: 0\n",
            "Selected data length (|D_UL|): 0\n",
            "Selected clients for this round: 73\n",
            "Distributing model...\n"
          ]
        },
        {
          "name": "stderr",
          "output_type": "stream",
          "text": [
            "Distributing model...:  97%|█████████▋| 2.800000000000001/2.89451633858551 [00:02<00:00,  1.01s/it]  \n"
          ]
        },
        {
          "name": "stdout",
          "output_type": "stream",
          "text": [
            "Scheduled model update and upload...\n",
            "Scheduled model update and upload time: 184.05441117286682 sec\n",
            "Centralized model update...\n",
            "Collecting weights...\n",
            "Aggregating global model...\n",
            "Server: Test acc: 0.9387, test loss: 0.2495, round time: 190.42980217933655\n",
            "\n",
            "Running round: 110 - Time elapsed: 19181.26486492157 seconds\n",
            "Server requesting clients resources...\n",
            "Server selecting clients to train locally...\n",
            "Previous T round: 177.02643241096953\n",
            "Current T round: 163.21987967947967\n",
            "Max T round: 195.43557957999678\n",
            "Min T round: 144.75131084710415\n",
            "Selected clients (S): 70 out of 100\n",
            "Server selecting data to train centralized...\n",
            "Number of clients in U: 0\n",
            "Time upload: 0\n",
            "Selected data length (|D_UL|): 0\n",
            "Selected clients for this round: 70\n",
            "Distributing model...\n"
          ]
        },
        {
          "name": "stderr",
          "output_type": "stream",
          "text": [
            "Distributing model...:  96%|█████████▋| 2.500000000000001/2.595547032805806 [00:02<00:00,  1.02s/it]  \n"
          ]
        },
        {
          "name": "stdout",
          "output_type": "stream",
          "text": [
            "Scheduled model update and upload...\n",
            "Scheduled model update and upload time: 161.61358857154846 sec\n",
            "Centralized model update...\n",
            "Collecting weights...\n",
            "Aggregating global model...\n",
            "Server: Test acc: 0.9403, test loss: 0.2546, round time: 167.70229768753052\n",
            "\n",
            "Running round: 111 - Time elapsed: 19348.96860766411 seconds\n",
            "Server requesting clients resources...\n",
            "Server selecting clients to train locally...\n",
            "Previous T round: 163.21987967947967\n",
            "Current T round: 173.10836807902842\n",
            "Max T round: 195.43557957999678\n",
            "Min T round: 144.75131084710415\n",
            "Selected clients (S): 72 out of 100\n",
            "Server selecting data to train centralized...\n",
            "Number of clients in U: 0\n",
            "Time upload: 0\n",
            "Selected data length (|D_UL|): 0\n",
            "Selected clients for this round: 72\n",
            "Distributing model...\n"
          ]
        },
        {
          "name": "stderr",
          "output_type": "stream",
          "text": [
            "Distributing model...:  98%|█████████▊| 2.800000000000001/2.8621171199274302 [00:02<00:00,  1.02s/it]  \n"
          ]
        },
        {
          "name": "stdout",
          "output_type": "stream",
          "text": [
            "Scheduled model update and upload...\n",
            "Scheduled model update and upload time: 174.43872046470642 sec\n",
            "Centralized model update...\n",
            "Collecting weights...\n",
            "Aggregating global model...\n",
            "Server: Test acc: 0.9382, test loss: 0.2602, round time: 180.83883953094482\n",
            "\n",
            "Running round: 112 - Time elapsed: 19529.809764385223 seconds\n",
            "Server requesting clients resources...\n",
            "Server selecting clients to train locally...\n",
            "Previous T round: 173.10836807902842\n",
            "Current T round: 149.85576959420493\n",
            "Max T round: 195.43557957999678\n",
            "Min T round: 144.75131084710415\n",
            "Selected clients (S): 62 out of 100\n",
            "Server selecting data to train centralized...\n",
            "Number of clients in U: 1\n",
            "Time upload: 0\n",
            "Time upload: 0.05412466414659217\n",
            "Time upload: 0.10824932829318432\n",
            "Time upload: 0.16237399243977654\n",
            "Time upload: 0.21649865658636883\n",
            "Time upload: 0.2597983879036426\n",
            "Time upload: 0.30309811922091623\n",
            "Time upload: 0.31392305205023463\n",
            "Time upload: 0.31933551846489383\n",
            "Selected data length (|D_UL|): 47040\n",
            "Selected clients for this round: 62\n",
            "Distributing model...\n"
          ]
        },
        {
          "name": "stderr",
          "output_type": "stream",
          "text": [
            "Distributing model...: 100%|█████████▉| 2.800000000000001/2.8015275756673352 [00:02<00:00,  1.01s/it]  \n"
          ]
        },
        {
          "name": "stdout",
          "output_type": "stream",
          "text": [
            "Scheduled model update and upload...\n",
            "Scheduled model update and upload time: 147.43703532218933 sec\n",
            "Centralized model update...\n",
            "Collecting weights...\n",
            "Aggregating global model...\n",
            "Server: Test acc: 0.9391, test loss: 0.2484, round time: 154.20130038261414\n",
            "\n",
            "Running round: 113 - Time elapsed: 19684.01268553734 seconds\n",
            "Server requesting clients resources...\n",
            "Server selecting clients to train locally...\n",
            "Previous T round: 149.85576959420493\n",
            "Current T round: 157.81863757681205\n",
            "Max T round: 195.43557957999678\n",
            "Min T round: 144.75131084710415\n",
            "Selected clients (S): 65 out of 100\n",
            "Server selecting data to train centralized...\n",
            "Number of clients in U: 0\n",
            "Time upload: 0\n",
            "Selected data length (|D_UL|): 0\n",
            "Selected clients for this round: 65\n",
            "Distributing model...\n"
          ]
        },
        {
          "name": "stderr",
          "output_type": "stream",
          "text": [
            "Distributing model...:  97%|█████████▋| 2.700000000000001/2.789565416510905 [00:02<00:00,  1.02s/it]  \n"
          ]
        },
        {
          "name": "stdout",
          "output_type": "stream",
          "text": [
            "Scheduled model update and upload...\n",
            "Scheduled model update and upload time: 167.22451615333557 sec\n",
            "Centralized model update...\n",
            "Collecting weights...\n",
            "Aggregating global model...\n",
            "Server: Test acc: 0.9399, test loss: 0.2556, round time: 173.68370866775513\n",
            "\n",
            "Running round: 114 - Time elapsed: 19857.697889328003 seconds\n",
            "Server requesting clients resources...\n",
            "Server selecting clients to train locally...\n",
            "Previous T round: 157.81863757681205\n",
            "Current T round: 160.67124095123336\n",
            "Max T round: 195.43557957999678\n",
            "Min T round: 144.75131084710415\n",
            "Selected clients (S): 66 out of 100\n",
            "Server selecting data to train centralized...\n",
            "Number of clients in U: 0\n",
            "Time upload: 0\n",
            "Selected data length (|D_UL|): 0\n",
            "Selected clients for this round: 66\n",
            "Distributing model...\n"
          ]
        },
        {
          "name": "stderr",
          "output_type": "stream",
          "text": [
            "Distributing model...:  97%|█████████▋| 2.800000000000001/2.899525803198411 [00:02<00:00,  1.01s/it]  \n"
          ]
        },
        {
          "name": "stdout",
          "output_type": "stream",
          "text": [
            "Scheduled model update and upload...\n",
            "Scheduled model update and upload time: 157.96613240242004 sec\n",
            "Centralized model update...\n",
            "Collecting weights...\n",
            "Aggregating global model...\n",
            "Server: Test acc: 0.9391, test loss: 0.2518, round time: 164.31453132629395\n",
            "\n",
            "Running round: 115 - Time elapsed: 20022.01406431198 seconds\n",
            "Server requesting clients resources...\n",
            "Server selecting clients to train locally...\n",
            "Previous T round: 160.67124095123336\n",
            "Current T round: 167.7490485933737\n",
            "Max T round: 195.43557957999678\n",
            "Min T round: 144.75131084710415\n",
            "Selected clients (S): 70 out of 100\n",
            "Server selecting data to train centralized...\n",
            "Number of clients in U: 0\n",
            "Time upload: 0\n",
            "Selected data length (|D_UL|): 0\n",
            "Selected clients for this round: 70\n",
            "Distributing model...\n"
          ]
        },
        {
          "name": "stderr",
          "output_type": "stream",
          "text": [
            "Distributing model...:  98%|█████████▊| 2.800000000000001/2.8585307054562032 [00:02<00:00,  1.01s/it]  \n"
          ]
        },
        {
          "name": "stdout",
          "output_type": "stream",
          "text": [
            "Scheduled model update and upload...\n",
            "Scheduled model update and upload time: 179.92723774909973 sec\n",
            "Centralized model update...\n",
            "Collecting weights...\n",
            "Aggregating global model...\n",
            "Server: Test acc: 0.9413, test loss: 0.2369, round time: 186.26667284965515\n",
            "\n",
            "Running round: 116 - Time elapsed: 20208.282501220703 seconds\n",
            "Server requesting clients resources...\n",
            "Server selecting clients to train locally...\n",
            "Previous T round: 167.7490485933737\n",
            "Current T round: 176.25866408518428\n",
            "Max T round: 195.43557957999678\n",
            "Min T round: 144.75131084710415\n",
            "Selected clients (S): 73 out of 100\n",
            "Server selecting data to train centralized...\n",
            "Number of clients in U: 0\n",
            "Time upload: 0\n",
            "Selected data length (|D_UL|): 0\n",
            "Selected clients for this round: 73\n",
            "Distributing model...\n"
          ]
        },
        {
          "name": "stderr",
          "output_type": "stream",
          "text": [
            "Distributing model...:  97%|█████████▋| 2.700000000000001/2.777817096235444 [00:02<00:00,  1.01s/it]  \n"
          ]
        },
        {
          "name": "stdout",
          "output_type": "stream",
          "text": [
            "Scheduled model update and upload...\n",
            "Scheduled model update and upload time: 169.60261416435242 sec\n",
            "Centralized model update...\n",
            "Collecting weights...\n",
            "Aggregating global model...\n",
            "Server: Test acc: 0.9414, test loss: 0.2381, round time: 175.86412906646729\n",
            "\n",
            "Running round: 117 - Time elapsed: 20384.148180007935 seconds\n",
            "Server requesting clients resources...\n",
            "Server selecting clients to train locally...\n",
            "Previous T round: 176.25866408518428\n",
            "Current T round: 173.93886225908219\n",
            "Max T round: 195.43557957999678\n",
            "Min T round: 144.75131084710415\n",
            "Selected clients (S): 72 out of 100\n",
            "Server selecting data to train centralized...\n",
            "Number of clients in U: 0\n",
            "Time upload: 0\n",
            "Selected data length (|D_UL|): 0\n",
            "Selected clients for this round: 72\n",
            "Distributing model...\n"
          ]
        },
        {
          "name": "stderr",
          "output_type": "stream",
          "text": [
            "Distributing model...:  97%|█████████▋| 2.700000000000001/2.792092993713936 [00:02<00:00,  1.01s/it]  \n"
          ]
        },
        {
          "name": "stdout",
          "output_type": "stream",
          "text": [
            "Scheduled model update and upload...\n",
            "Scheduled model update and upload time: 182.80120754241943 sec\n",
            "Centralized model update...\n",
            "Collecting weights...\n",
            "Aggregating global model...\n",
            "Server: Test acc: 0.9413, test loss: 0.2316, round time: 189.02911686897278\n",
            "\n",
            "Running round: 118 - Time elapsed: 20573.17870569229 seconds\n",
            "Server requesting clients resources...\n",
            "Server selecting clients to train locally...\n",
            "Previous T round: 173.93886225908219\n",
            "Current T round: 167.0547688033949\n",
            "Max T round: 195.43557957999678\n",
            "Min T round: 144.75131084710415\n",
            "Selected clients (S): 68 out of 100\n",
            "Server selecting data to train centralized...\n",
            "Number of clients in U: 0\n",
            "Time upload: 0\n",
            "Selected data length (|D_UL|): 0\n",
            "Selected clients for this round: 68\n",
            "Distributing model...\n"
          ]
        },
        {
          "name": "stderr",
          "output_type": "stream",
          "text": [
            "Distributing model...:  97%|█████████▋| 2.800000000000001/2.8883425162128886 [00:02<00:00,  1.01s/it]  \n"
          ]
        },
        {
          "name": "stdout",
          "output_type": "stream",
          "text": [
            "Scheduled model update and upload...\n",
            "Scheduled model update and upload time: 162.73355841636658 sec\n",
            "Centralized model update...\n",
            "Collecting weights...\n",
            "Aggregating global model...\n",
            "Server: Test acc: 0.9401, test loss: 0.2682, round time: 169.0622329711914\n",
            "\n",
            "Running round: 119 - Time elapsed: 20742.24246239662 seconds\n",
            "Server requesting clients resources...\n",
            "Server selecting clients to train locally...\n",
            "Previous T round: 167.0547688033949\n",
            "Current T round: 155.48809867334637\n",
            "Max T round: 195.43557957999678\n",
            "Min T round: 144.75131084710415\n",
            "Selected clients (S): 64 out of 100\n",
            "Server selecting data to train centralized...\n",
            "Number of clients in U: 0\n",
            "Time upload: 0\n",
            "Selected data length (|D_UL|): 0\n",
            "Selected clients for this round: 64\n",
            "Distributing model...\n"
          ]
        },
        {
          "name": "stderr",
          "output_type": "stream",
          "text": [
            "Distributing model...:  97%|█████████▋| 2.700000000000001/2.788252946135537 [00:02<00:00,  1.01s/it]  \n"
          ]
        },
        {
          "name": "stdout",
          "output_type": "stream",
          "text": [
            "Scheduled model update and upload...\n",
            "Scheduled model update and upload time: 155.5432939529419 sec\n",
            "Centralized model update...\n",
            "Collecting weights...\n",
            "Aggregating global model...\n",
            "Server: Test acc: 0.9414, test loss: 0.2378, round time: 161.76984238624573\n",
            "\n",
            "Running round: 120 - Time elapsed: 20904.013784885406 seconds\n",
            "Server requesting clients resources...\n",
            "Server selecting clients to train locally...\n",
            "Previous T round: 155.48809867334637\n",
            "Current T round: 180.61955418425453\n",
            "Max T round: 195.43557957999678\n",
            "Min T round: 144.75131084710415\n",
            "Selected clients (S): 74 out of 100\n",
            "Server selecting data to train centralized...\n",
            "Number of clients in U: 1\n",
            "Time upload: 0\n",
            "Time upload: 0.05435115690434187\n",
            "Time upload: 0.10870231380868374\n",
            "Time upload: 0.1576183550225915\n",
            "Time upload: 0.2010992805460651\n",
            "Time upload: 0.2445802060695387\n",
            "Time upload: 0.2717557845217097\n",
            "Time upload: 0.2934962472834465\n",
            "Time upload: 0.3098015943547491\n",
            "Time upload: 0.3206718257356175\n",
            "Selected data length (|D_UL|): 47040\n",
            "Selected clients for this round: 74\n",
            "Distributing model...\n"
          ]
        },
        {
          "name": "stderr",
          "output_type": "stream",
          "text": [
            "Distributing model...:  97%|█████████▋| 2.800000000000001/2.8744282238365515 [00:02<00:00,  1.01s/it]  \n"
          ]
        },
        {
          "name": "stdout",
          "output_type": "stream",
          "text": [
            "Scheduled model update and upload...\n",
            "Scheduled model update and upload time: 174.13593554496765 sec\n",
            "Centralized model update...\n",
            "Collecting weights...\n",
            "Aggregating global model...\n",
            "Server: Test acc: 0.9419, test loss: 0.2331, round time: 181.00600409507751\n",
            "\n",
            "Running round: 121 - Time elapsed: 21085.021232366562 seconds\n",
            "Server requesting clients resources...\n",
            "Server selecting clients to train locally...\n",
            "Previous T round: 180.61955418425453\n",
            "Current T round: 171.47761437863971\n",
            "Max T round: 195.43557957999678\n",
            "Min T round: 144.75131084710415\n",
            "Selected clients (S): 70 out of 100\n",
            "Server selecting data to train centralized...\n",
            "Number of clients in U: 0\n",
            "Time upload: 0\n",
            "Selected data length (|D_UL|): 0\n",
            "Selected clients for this round: 70\n",
            "Distributing model...\n"
          ]
        },
        {
          "name": "stderr",
          "output_type": "stream",
          "text": [
            "Distributing model...:  99%|█████████▊| 2.800000000000001/2.8382360362289205 [00:02<00:00,  1.01s/it]  \n"
          ]
        },
        {
          "name": "stdout",
          "output_type": "stream",
          "text": [
            "Scheduled model update and upload...\n",
            "Scheduled model update and upload time: 180.2478425502777 sec\n",
            "Centralized model update...\n",
            "Collecting weights...\n",
            "Aggregating global model...\n",
            "Server: Test acc: 0.9418, test loss: 0.2371, round time: 186.55568146705627\n",
            "\n",
            "Running round: 122 - Time elapsed: 21271.57836484909 seconds\n",
            "Server requesting clients resources...\n",
            "Server selecting clients to train locally...\n",
            "Previous T round: 171.47761437863971\n",
            "Current T round: 161.14177518795722\n",
            "Max T round: 195.43557957999678\n",
            "Min T round: 144.75131084710415\n",
            "Selected clients (S): 67 out of 100\n",
            "Server selecting data to train centralized...\n",
            "Number of clients in U: 1\n",
            "Time upload: 0\n",
            "Time upload: 0.054330633593661\n",
            "Time upload: 0.10866126718732196\n",
            "Time upload: 0.1575588374216169\n",
            "Time upload: 0.20102334429654575\n",
            "Time upload: 0.2390547878121085\n",
            "Time upload: 0.27165316796830513\n",
            "Time upload: 0.3042515481245018\n",
            "Selected data length (|D_UL|): 47040\n",
            "Selected clients for this round: 67\n",
            "Distributing model...\n"
          ]
        },
        {
          "name": "stderr",
          "output_type": "stream",
          "text": [
            "Distributing model...:  98%|█████████▊| 2.800000000000001/2.855946350992311 [00:02<00:00,  1.01s/it]  \n"
          ]
        },
        {
          "name": "stdout",
          "output_type": "stream",
          "text": [
            "Scheduled model update and upload...\n",
            "Scheduled model update and upload time: 159.01113104820251 sec\n",
            "Centralized model update...\n",
            "Collecting weights...\n",
            "Aggregating global model...\n",
            "Server: Test acc: 0.9419, test loss: 0.2360, round time: 165.8734495639801\n",
            "\n",
            "Running round: 123 - Time elapsed: 21437.45374441147 seconds\n",
            "Server requesting clients resources...\n",
            "Server selecting clients to train locally...\n",
            "Previous T round: 161.14177518795722\n",
            "Current T round: 189.75659028505532\n",
            "Max T round: 195.43557957999678\n",
            "Min T round: 144.75131084710415\n",
            "Selected clients (S): 77 out of 100\n",
            "Server selecting data to train centralized...\n",
            "Number of clients in U: 0\n",
            "Time upload: 0\n",
            "Selected data length (|D_UL|): 0\n",
            "Selected clients for this round: 77\n",
            "Distributing model...\n"
          ]
        },
        {
          "name": "stderr",
          "output_type": "stream",
          "text": [
            "Distributing model...:  97%|█████████▋| 2.800000000000001/2.8925051402052016 [00:02<00:00,  1.02s/it]  \n"
          ]
        },
        {
          "name": "stdout",
          "output_type": "stream",
          "text": [
            "Scheduled model update and upload...\n",
            "Scheduled model update and upload time: 186.29369950294495 sec\n",
            "Centralized model update...\n",
            "Collecting weights...\n",
            "Aggregating global model...\n",
            "Server: Test acc: 0.9417, test loss: 0.2327, round time: 192.67797899246216\n",
            "\n",
            "Running round: 124 - Time elapsed: 21630.13473391533 seconds\n",
            "Server requesting clients resources...\n",
            "Server selecting clients to train locally...\n",
            "Previous T round: 189.75659028505532\n",
            "Current T round: 158.48801246464015\n",
            "Max T round: 195.43557957999678\n",
            "Min T round: 144.75131084710415\n",
            "Selected clients (S): 63 out of 100\n",
            "Server selecting data to train centralized...\n",
            "Number of clients in U: 0\n",
            "Time upload: 0\n",
            "Selected data length (|D_UL|): 0\n",
            "Selected clients for this round: 63\n",
            "Distributing model...\n"
          ]
        },
        {
          "name": "stderr",
          "output_type": "stream",
          "text": [
            "Distributing model...:  98%|█████████▊| 2.800000000000001/2.8517804604915518 [00:02<00:00,  1.01s/it]  \n"
          ]
        },
        {
          "name": "stdout",
          "output_type": "stream",
          "text": [
            "Scheduled model update and upload...\n",
            "Scheduled model update and upload time: 153.41864228248596 sec\n",
            "Centralized model update...\n",
            "Collecting weights...\n",
            "Aggregating global model...\n",
            "Server: Test acc: 0.9405, test loss: 0.2400, round time: 159.79294061660767\n",
            "\n",
            "Running round: 125 - Time elapsed: 21789.929210186005 seconds\n",
            "Server requesting clients resources...\n",
            "Server selecting clients to train locally...\n",
            "Previous T round: 158.48801246464015\n",
            "Current T round: 172.1841760441493\n",
            "Max T round: 195.43557957999678\n",
            "Min T round: 144.75131084710415\n",
            "Selected clients (S): 69 out of 100\n",
            "Server selecting data to train centralized...\n",
            "Number of clients in U: 0\n",
            "Time upload: 0\n",
            "Selected data length (|D_UL|): 0\n",
            "Selected clients for this round: 69\n",
            "Distributing model...\n"
          ]
        },
        {
          "name": "stderr",
          "output_type": "stream",
          "text": [
            "Distributing model...:  99%|█████████▊| 2.700000000000001/2.7381394733102766 [00:02<00:00,  1.01s/it]  \n"
          ]
        },
        {
          "name": "stdout",
          "output_type": "stream",
          "text": [
            "Scheduled model update and upload...\n",
            "Scheduled model update and upload time: 173.07627820968628 sec\n",
            "Centralized model update...\n",
            "Collecting weights...\n",
            "Aggregating global model...\n",
            "Server: Test acc: 0.9424, test loss: 0.2329, round time: 179.35689663887024\n",
            "\n",
            "Running round: 126 - Time elapsed: 21969.28784942627 seconds\n",
            "Server requesting clients resources...\n",
            "Server selecting clients to train locally...\n",
            "Previous T round: 172.1841760441493\n",
            "Current T round: 166.8174523334661\n",
            "Max T round: 195.43557957999678\n",
            "Min T round: 144.75131084710415\n",
            "Selected clients (S): 68 out of 100\n",
            "Server selecting data to train centralized...\n",
            "Number of clients in U: 0\n",
            "Time upload: 0\n",
            "Selected data length (|D_UL|): 0\n",
            "Selected clients for this round: 68\n",
            "Distributing model...\n"
          ]
        },
        {
          "name": "stderr",
          "output_type": "stream",
          "text": [
            "Distributing model...:  97%|█████████▋| 2.700000000000001/2.7863182605492174 [00:02<00:00,  1.01s/it]  \n"
          ]
        },
        {
          "name": "stdout",
          "output_type": "stream",
          "text": [
            "Scheduled model update and upload...\n",
            "Scheduled model update and upload time: 168.66098952293396 sec\n",
            "Centralized model update...\n",
            "Collecting weights...\n",
            "Aggregating global model...\n",
            "Server: Test acc: 0.9418, test loss: 0.2460, round time: 174.9259352684021\n",
            "\n",
            "Running round: 127 - Time elapsed: 22144.215462207794 seconds\n",
            "Server requesting clients resources...\n",
            "Server selecting clients to train locally...\n",
            "Previous T round: 166.8174523334661\n",
            "Current T round: 167.73867477510368\n",
            "Max T round: 195.43557957999678\n",
            "Min T round: 144.75131084710415\n",
            "Selected clients (S): 69 out of 100\n",
            "Server selecting data to train centralized...\n",
            "Number of clients in U: 0\n",
            "Time upload: 0\n",
            "Selected data length (|D_UL|): 0\n",
            "Selected clients for this round: 69\n",
            "Distributing model...\n"
          ]
        },
        {
          "name": "stderr",
          "output_type": "stream",
          "text": [
            "Distributing model...: 100%|█████████▉| 2.700000000000001/2.712969221601892 [00:02<00:00,  1.01s/it]  \n"
          ]
        },
        {
          "name": "stdout",
          "output_type": "stream",
          "text": [
            "Scheduled model update and upload...\n",
            "Scheduled model update and upload time: 161.54103326797485 sec\n",
            "Centralized model update...\n",
            "Collecting weights...\n",
            "Aggregating global model...\n",
            "Server: Test acc: 0.9425, test loss: 0.2451, round time: 167.95909023284912\n",
            "\n",
            "Running round: 128 - Time elapsed: 22312.1760430336 seconds\n",
            "Server requesting clients resources...\n",
            "Server selecting clients to train locally...\n",
            "Previous T round: 167.73867477510368\n",
            "Current T round: 173.06741442851418\n",
            "Max T round: 195.43557957999678\n",
            "Min T round: 144.75131084710415\n",
            "Selected clients (S): 71 out of 100\n",
            "Server selecting data to train centralized...\n",
            "Number of clients in U: 0\n",
            "Time upload: 0\n",
            "Selected data length (|D_UL|): 0\n",
            "Selected clients for this round: 71\n",
            "Distributing model...\n"
          ]
        },
        {
          "name": "stderr",
          "output_type": "stream",
          "text": [
            "Distributing model...:  98%|█████████▊| 2.800000000000001/2.8445022246617437 [00:02<00:00,  1.02s/it]  \n"
          ]
        },
        {
          "name": "stdout",
          "output_type": "stream",
          "text": [
            "Scheduled model update and upload...\n",
            "Scheduled model update and upload time: 167.20941638946533 sec\n",
            "Centralized model update...\n",
            "Collecting weights...\n",
            "Aggregating global model...\n",
            "Server: Test acc: 0.9439, test loss: 0.2314, round time: 173.59532642364502\n",
            "\n",
            "Running round: 129 - Time elapsed: 22485.77298307419 seconds\n",
            "Server requesting clients resources...\n",
            "Server selecting clients to train locally...\n",
            "Previous T round: 173.06741442851418\n",
            "Current T round: 164.73022924689255\n",
            "Max T round: 195.43557957999678\n",
            "Min T round: 144.75131084710415\n",
            "Selected clients (S): 69 out of 100\n",
            "Server selecting data to train centralized...\n",
            "Number of clients in U: 1\n",
            "Time upload: 0\n",
            "Time upload: 0.04855818110505541\n",
            "Time upload: 0.09711636221011086\n",
            "Time upload: 0.14567454331516627\n",
            "Time upload: 0.1942327244202216\n",
            "Time upload: 0.23307926930426587\n",
            "Time upload: 0.2622141779672991\n",
            "Time upload: 0.2767816322988158\n",
            "Time upload: 0.28163745040932137\n",
            "Time upload: 0.2864932685198269\n",
            "Selected data length (|D_UL|): 47040\n",
            "Selected clients for this round: 69\n",
            "Distributing model...\n"
          ]
        },
        {
          "name": "stderr",
          "output_type": "stream",
          "text": [
            "Distributing model...: 100%|█████████▉| 2.800000000000001/2.8125979787932707 [00:02<00:00,  1.02s/it]  \n"
          ]
        },
        {
          "name": "stdout",
          "output_type": "stream",
          "text": [
            "Scheduled model update and upload...\n",
            "Scheduled model update and upload time: 169.60130977630615 sec\n",
            "Centralized model update...\n",
            "Collecting weights...\n",
            "Aggregating global model...\n",
            "Server: Test acc: 0.9440, test loss: 0.2390, round time: 176.49918293952942\n",
            "\n",
            "Running round: 130 - Time elapsed: 22662.27365922928 seconds\n",
            "Server requesting clients resources...\n",
            "Server selecting clients to train locally...\n",
            "Previous T round: 164.73022924689255\n",
            "Current T round: 165.6482157623058\n",
            "Max T round: 195.43557957999678\n",
            "Min T round: 144.75131084710415\n",
            "Selected clients (S): 69 out of 100\n",
            "Server selecting data to train centralized...\n",
            "Number of clients in U: 0\n",
            "Time upload: 0\n",
            "Selected data length (|D_UL|): 0\n",
            "Selected clients for this round: 69\n",
            "Distributing model...\n"
          ]
        },
        {
          "name": "stderr",
          "output_type": "stream",
          "text": [
            "Distributing model...:  97%|█████████▋| 2.800000000000001/2.885624440252096 [00:02<00:00,  1.01s/it]  \n"
          ]
        },
        {
          "name": "stdout",
          "output_type": "stream",
          "text": [
            "Scheduled model update and upload...\n",
            "Scheduled model update and upload time: 162.80014562606812 sec\n",
            "Centralized model update...\n",
            "Collecting weights...\n",
            "Aggregating global model...\n",
            "Server: Test acc: 0.9435, test loss: 0.2484, round time: 169.13454294204712\n",
            "\n",
            "Running round: 131 - Time elapsed: 22831.409696102142 seconds\n",
            "Server requesting clients resources...\n",
            "Server selecting clients to train locally...\n",
            "Previous T round: 165.6482157623058\n",
            "Current T round: 169.13931280379524\n",
            "Max T round: 195.43557957999678\n",
            "Min T round: 144.75131084710415\n",
            "Selected clients (S): 70 out of 100\n",
            "Server selecting data to train centralized...\n",
            "Number of clients in U: 0\n",
            "Time upload: 0\n",
            "Selected data length (|D_UL|): 0\n",
            "Selected clients for this round: 70\n",
            "Distributing model...\n"
          ]
        },
        {
          "name": "stderr",
          "output_type": "stream",
          "text": [
            "Distributing model...:  97%|█████████▋| 2.800000000000001/2.893711522892625 [00:02<00:00,  1.01s/it]  \n"
          ]
        },
        {
          "name": "stdout",
          "output_type": "stream",
          "text": [
            "Scheduled model update and upload...\n",
            "Scheduled model update and upload time: 168.880943775177 sec\n",
            "Centralized model update...\n",
            "Collecting weights...\n",
            "Aggregating global model...\n",
            "Server: Test acc: 0.9423, test loss: 0.2551, round time: 175.25863409042358\n",
            "\n",
            "Running round: 132 - Time elapsed: 23006.669795513153 seconds\n",
            "Server requesting clients resources...\n",
            "Server selecting clients to train locally...\n",
            "Previous T round: 169.13931280379524\n",
            "Current T round: 183.2273768370611\n",
            "Max T round: 195.43557957999678\n",
            "Min T round: 144.75131084710415\n",
            "Selected clients (S): 73 out of 100\n",
            "Server selecting data to train centralized...\n",
            "Number of clients in U: 1\n",
            "Time upload: 0\n",
            "Time upload: 0.050035386720215506\n",
            "Time upload: 0.10007077344043101\n",
            "Time upload: 0.14510262148862496\n",
            "Time upload: 0.19013446953681892\n",
            "Time upload: 0.23016277891299133\n",
            "Time upload: 0.26018401094512056\n",
            "Time upload: 0.2852017043052282\n",
            "Time upload: 0.2952087816492712\n",
            "Selected data length (|D_UL|): 47040\n",
            "Selected clients for this round: 73\n",
            "Distributing model...\n"
          ]
        },
        {
          "name": "stderr",
          "output_type": "stream",
          "text": [
            "Distributing model...:  98%|█████████▊| 2.800000000000001/2.845511580171742 [00:02<00:00,  1.01s/it]  \n"
          ]
        },
        {
          "name": "stdout",
          "output_type": "stream",
          "text": [
            "Scheduled model update and upload...\n",
            "Scheduled model update and upload time: 192.1997001171112 sec\n",
            "Centralized model update...\n",
            "Collecting weights...\n",
            "Aggregating global model...\n",
            "Server: Test acc: 0.9438, test loss: 0.2314, round time: 199.0262701511383\n",
            "\n",
            "Running round: 133 - Time elapsed: 23205.69779062271 seconds\n",
            "Server requesting clients resources...\n",
            "Server selecting clients to train locally...\n",
            "Previous T round: 183.2273768370611\n",
            "Current T round: 179.84960458002482\n",
            "Max T round: 195.43557957999678\n",
            "Min T round: 144.75131084710415\n",
            "Selected clients (S): 74 out of 100\n",
            "Server selecting data to train centralized...\n",
            "Number of clients in U: 0\n",
            "Time upload: 0\n",
            "Selected data length (|D_UL|): 0\n",
            "Selected clients for this round: 74\n",
            "Distributing model...\n"
          ]
        },
        {
          "name": "stderr",
          "output_type": "stream",
          "text": [
            "Distributing model...: 100%|█████████▉| 2.9000000000000012/2.9024234957364894 [00:02<00:00,  1.01s/it] \n"
          ]
        },
        {
          "name": "stdout",
          "output_type": "stream",
          "text": [
            "Scheduled model update and upload...\n",
            "Scheduled model update and upload time: 176.32350039482117 sec\n",
            "Centralized model update...\n",
            "Collecting weights...\n",
            "Aggregating global model...\n",
            "Server: Test acc: 0.9444, test loss: 0.2270, round time: 182.836980342865\n",
            "\n",
            "Running round: 134 - Time elapsed: 23388.536260843277 seconds\n",
            "Server requesting clients resources...\n",
            "Server selecting clients to train locally...\n",
            "Previous T round: 179.84960458002482\n",
            "Current T round: 168.7086887148069\n",
            "Max T round: 195.43557957999678\n",
            "Min T round: 144.75131084710415\n",
            "Selected clients (S): 71 out of 100\n",
            "Server selecting data to train centralized...\n",
            "Number of clients in U: 0\n",
            "Time upload: 0\n",
            "Selected data length (|D_UL|): 0\n",
            "Selected clients for this round: 71\n",
            "Distributing model...\n"
          ]
        },
        {
          "name": "stderr",
          "output_type": "stream",
          "text": [
            "Distributing model...:  98%|█████████▊| 2.800000000000001/2.8457972661268904 [00:02<00:00,  1.01s/it]  \n"
          ]
        },
        {
          "name": "stdout",
          "output_type": "stream",
          "text": [
            "Scheduled model update and upload...\n",
            "Scheduled model update and upload time: 182.67323923110962 sec\n",
            "Centralized model update...\n",
            "Collecting weights...\n",
            "Aggregating global model...\n",
            "Server: Test acc: 0.9442, test loss: 0.2300, round time: 189.162588596344\n",
            "\n",
            "Running round: 135 - Time elapsed: 23577.700502872467 seconds\n",
            "Server requesting clients resources...\n",
            "Server selecting clients to train locally...\n",
            "Previous T round: 168.7086887148069\n",
            "Current T round: 173.28379025731533\n",
            "Max T round: 195.43557957999678\n",
            "Min T round: 144.75131084710415\n",
            "Selected clients (S): 71 out of 100\n",
            "Server selecting data to train centralized...\n",
            "Number of clients in U: 0\n",
            "Time upload: 0\n",
            "Selected data length (|D_UL|): 0\n",
            "Selected clients for this round: 71\n",
            "Distributing model...\n"
          ]
        },
        {
          "name": "stderr",
          "output_type": "stream",
          "text": [
            "Distributing model...:  97%|█████████▋| 2.700000000000001/2.783169473743227 [00:02<00:00,  1.02s/it]  \n"
          ]
        },
        {
          "name": "stdout",
          "output_type": "stream",
          "text": [
            "Scheduled model update and upload...\n",
            "Scheduled model update and upload time: 179.70524668693542 sec\n",
            "Centralized model update...\n",
            "Collecting weights...\n",
            "Aggregating global model...\n",
            "Server: Test acc: 0.9430, test loss: 0.2286, round time: 186.00043988227844\n",
            "\n",
            "Running round: 136 - Time elapsed: 23763.70261979103 seconds\n",
            "Server requesting clients resources...\n",
            "Server selecting clients to train locally...\n",
            "Previous T round: 173.28379025731533\n",
            "Current T round: 159.38678414391651\n",
            "Max T round: 195.43557957999678\n",
            "Min T round: 144.75131084710415\n",
            "Selected clients (S): 65 out of 100\n",
            "Server selecting data to train centralized...\n",
            "Number of clients in U: 1\n",
            "Time upload: 0\n",
            "Time upload: 0.04104992964760516\n",
            "Time upload: 0.08209985929521035\n",
            "Time upload: 0.11904479597805506\n",
            "Time upload: 0.15598973266089977\n",
            "Time upload: 0.18882967637898396\n",
            "Time upload: 0.2134596341675471\n",
            "Time upload: 0.2339845989913497\n",
            "Time upload: 0.24219458492087076\n",
            "Selected data length (|D_UL|): 47040\n",
            "Selected clients for this round: 65\n",
            "Distributing model...\n"
          ]
        },
        {
          "name": "stderr",
          "output_type": "stream",
          "text": [
            "Distributing model...:  99%|█████████▉| 2.800000000000001/2.821024222481671 [00:02<00:00,  1.02s/it]  \n"
          ]
        },
        {
          "name": "stdout",
          "output_type": "stream",
          "text": [
            "Scheduled model update and upload...\n",
            "Scheduled model update and upload time: 163.41630220413208 sec\n",
            "Centralized model update...\n",
            "Collecting weights...\n",
            "Aggregating global model...\n",
            "Server: Test acc: 0.9433, test loss: 0.2266, round time: 170.26556873321533\n",
            "\n",
            "Running round: 137 - Time elapsed: 23933.969769716263 seconds\n",
            "Server requesting clients resources...\n",
            "Server selecting clients to train locally...\n",
            "Previous T round: 159.38678414391651\n",
            "Current T round: 159.57065721498645\n",
            "Max T round: 195.43557957999678\n",
            "Min T round: 144.75131084710415\n",
            "Selected clients (S): 66 out of 100\n",
            "Server selecting data to train centralized...\n",
            "Number of clients in U: 0\n",
            "Time upload: 0\n",
            "Selected data length (|D_UL|): 0\n",
            "Selected clients for this round: 66\n",
            "Distributing model...\n"
          ]
        },
        {
          "name": "stderr",
          "output_type": "stream",
          "text": [
            "Distributing model...:  98%|█████████▊| 2.800000000000001/2.854238437080144 [00:02<00:00,  1.02s/it]  \n"
          ]
        },
        {
          "name": "stdout",
          "output_type": "stream",
          "text": [
            "Scheduled model update and upload...\n",
            "Scheduled model update and upload time: 166.76308226585388 sec\n",
            "Centralized model update...\n",
            "Collecting weights...\n",
            "Aggregating global model...\n",
            "Server: Test acc: 0.9445, test loss: 0.2394, round time: 173.1477701663971\n",
            "Total clients selected: 9532\n"
          ]
        },
        {
          "data": {
            "text/html": [
              "<div>\n",
              "<style scoped>\n",
              "    .dataframe tbody tr th:only-of-type {\n",
              "        vertical-align: middle;\n",
              "    }\n",
              "\n",
              "    .dataframe tbody tr th {\n",
              "        vertical-align: top;\n",
              "    }\n",
              "\n",
              "    .dataframe thead th {\n",
              "        text-align: right;\n",
              "    }\n",
              "</style>\n",
              "<table border=\"1\" class=\"dataframe\">\n",
              "  <thead>\n",
              "    <tr style=\"text-align: right;\">\n",
              "      <th></th>\n",
              "      <th>loss</th>\n",
              "      <th>accuracy</th>\n",
              "      <th>elapsed_time</th>\n",
              "    </tr>\n",
              "  </thead>\n",
              "  <tbody>\n",
              "    <tr>\n",
              "      <th>0</th>\n",
              "      <td>1.777344</td>\n",
              "      <td>0.6384</td>\n",
              "      <td>194.728461</td>\n",
              "    </tr>\n",
              "    <tr>\n",
              "      <th>1</th>\n",
              "      <td>1.111515</td>\n",
              "      <td>0.7998</td>\n",
              "      <td>167.910260</td>\n",
              "    </tr>\n",
              "    <tr>\n",
              "      <th>2</th>\n",
              "      <td>0.813595</td>\n",
              "      <td>0.8249</td>\n",
              "      <td>180.009317</td>\n",
              "    </tr>\n",
              "    <tr>\n",
              "      <th>3</th>\n",
              "      <td>0.649321</td>\n",
              "      <td>0.8446</td>\n",
              "      <td>190.922820</td>\n",
              "    </tr>\n",
              "    <tr>\n",
              "      <th>4</th>\n",
              "      <td>0.564290</td>\n",
              "      <td>0.8579</td>\n",
              "      <td>168.478627</td>\n",
              "    </tr>\n",
              "    <tr>\n",
              "      <th>...</th>\n",
              "      <td>...</td>\n",
              "      <td>...</td>\n",
              "      <td>...</td>\n",
              "    </tr>\n",
              "    <tr>\n",
              "      <th>132</th>\n",
              "      <td>0.226997</td>\n",
              "      <td>0.9444</td>\n",
              "      <td>182.836980</td>\n",
              "    </tr>\n",
              "    <tr>\n",
              "      <th>133</th>\n",
              "      <td>0.229968</td>\n",
              "      <td>0.9442</td>\n",
              "      <td>189.162589</td>\n",
              "    </tr>\n",
              "    <tr>\n",
              "      <th>134</th>\n",
              "      <td>0.228605</td>\n",
              "      <td>0.9430</td>\n",
              "      <td>186.000440</td>\n",
              "    </tr>\n",
              "    <tr>\n",
              "      <th>135</th>\n",
              "      <td>0.226646</td>\n",
              "      <td>0.9433</td>\n",
              "      <td>170.265569</td>\n",
              "    </tr>\n",
              "    <tr>\n",
              "      <th>136</th>\n",
              "      <td>0.239381</td>\n",
              "      <td>0.9445</td>\n",
              "      <td>173.147770</td>\n",
              "    </tr>\n",
              "  </tbody>\n",
              "</table>\n",
              "<p>137 rows × 3 columns</p>\n",
              "</div>"
            ],
            "text/plain": [
              "         loss  accuracy  elapsed_time\n",
              "0    1.777344    0.6384    194.728461\n",
              "1    1.111515    0.7998    167.910260\n",
              "2    0.813595    0.8249    180.009317\n",
              "3    0.649321    0.8446    190.922820\n",
              "4    0.564290    0.8579    168.478627\n",
              "..        ...       ...           ...\n",
              "132  0.226997    0.9444    182.836980\n",
              "133  0.229968    0.9442    189.162589\n",
              "134  0.228605    0.9430    186.000440\n",
              "135  0.226646    0.9433    170.265569\n",
              "136  0.239381    0.9445    173.147770\n",
              "\n",
              "[137 rows x 3 columns]"
            ]
          },
          "metadata": {},
          "output_type": "display_data"
        },
        {
          "name": "stderr",
          "output_type": "stream",
          "text": [
            "/opt/conda/lib/python3.10/site-packages/flex/data/lazy_indexable.py:115: RuntimeWarning: Pickling an LazyIndexable fully loads its into memory\n",
            "  warnings.warn(  # noqa: B028\n"
          ]
        },
        {
          "data": {
            "image/png": "[encoded data removed]",
            "text/plain": [
              "<Figure size 1200x500 with 2 Axes>"
            ]
          },
          "metadata": {},
          "output_type": "display_data"
        }
      ],
      "source": [
        "import math\n",
        "import gc\n",
        "\n",
        "gc.collect()\n",
        "\n",
        "losses, accuracies, elapsed = train_n_rounds_hybrid(\n",
        "    pool_mnist,\n",
        "    T_final=T_FINAL_MIN * 60,\n",
        "    clients_per_round=math.ceil(len(pool_mnist.clients) * C),\n",
        "    problem=\"mnist\"\n",
        ")\n",
        "\n",
        "# save data\n",
        "save_data(pool_mnist, losses, accuracies, elapsed, \"dynhybrid_400_mnist\")\n",
        "\n",
        "plot_loss_accuracy(losses, accuracies, title=\"Learning curves on MNIST\")"
      ]
    },
    {
      "cell_type": "code",
      "execution_count": null,
      "metadata": {
        "colab": {
          "background_save": true,
          "base_uri": "https://localhost:8080/"
        },
        "execution": {
          "iopub.execute_input": "2024-09-03T01:00:40.522706Z",
          "iopub.status.busy": "2024-09-03T01:00:40.522330Z",
          "iopub.status.idle": "2024-09-03T07:42:01.760890Z",
          "shell.execute_reply": "2024-09-03T07:42:01.759893Z",
          "shell.execute_reply.started": "2024-09-03T01:00:40.522662Z"
        },
        "id": "hseMqLTyUQm3",
        "outputId": "9c17e9cb-065c-4a03-8a7b-b990a770f94c",
        "scrolled": true,
        "trusted": true
      },
      "outputs": [
        {
          "name": "stdout",
          "output_type": "stream",
          "text": [
            "\n",
            "Running round: 1 - Time elapsed: 0.0 seconds\n",
            "Server requesting clients resources...\n",
            "Server selecting clients to train locally...\n",
            "Previous T round: 180\n",
            "Current T round: 180.0\n",
            "Max T round: 180.0\n",
            "Min T round: 180.0\n",
            "Selected clients (S): 4 out of 100\n",
            "Server selecting data to train centralized...\n",
            "Number of clients in U: 1\n",
            "Time upload: 0\n",
            "Time upload: 0.16433709409141026\n",
            "Time upload: 0.32867418818282046\n",
            "Time upload: 0.49301128227423063\n",
            "Time upload: 0.6244809575473588\n",
            "Time upload: 0.7230832140022049\n",
            "Time upload: 0.788818051638769\n",
            "Time upload: 0.80525176104791\n",
            "Selected data length (|D_UL|): 153600\n",
            "Selected clients for this round: 4\n",
            "Distributing model...\n"
          ]
        },
        {
          "name": "stderr",
          "output_type": "stream",
          "text": [
            "Distributing model...: 100%|█████████▉| 32.000000000000185/32.02145659109234 [00:32<00:00,  1.02s/it] \n"
          ]
        },
        {
          "name": "stdout",
          "output_type": "stream",
          "text": [
            "Scheduled model update and upload...\n",
            "Scheduled model update and upload time: 125.13786172866821 sec\n",
            "Centralized model update...\n",
            "Collecting weights...\n",
            "Aggregating global model...\n",
            "Server: Test acc: 0.1000, test loss: 2.4217, round time: 162.29970049858093\n",
            "\n",
            "Running round: 2 - Time elapsed: 162.299702167511 seconds\n",
            "Server requesting clients resources...\n",
            "Server selecting clients to train locally...\n",
            "Previous T round: 180.0\n",
            "Current T round: 184.9055141869709\n",
            "Max T round: 184.9055141869709\n",
            "Min T round: 180.0\n",
            "Selected clients (S): 5 out of 100\n",
            "Server selecting data to train centralized...\n",
            "Number of clients in U: 0\n",
            "Time upload: 0\n",
            "Selected data length (|D_UL|): 0\n",
            "Selected clients for this round: 5\n",
            "Distributing model...\n"
          ]
        },
        {
          "name": "stderr",
          "output_type": "stream",
          "text": [
            "Distributing model...: 100%|█████████▉| 29.800000000000153/29.837228305003986 [00:30<00:00,  1.02s/it] \n"
          ]
        },
        {
          "name": "stdout",
          "output_type": "stream",
          "text": [
            "Scheduled model update and upload...\n",
            "Scheduled model update and upload time: 150.95886063575745 sec\n",
            "Centralized model update...\n",
            "Collecting weights...\n",
            "Aggregating global model...\n",
            "Server: Test acc: 0.1000, test loss: 3.8659, round time: 184.1879632472992\n",
            "\n",
            "Running round: 3 - Time elapsed: 346.4891550540924 seconds\n",
            "Server requesting clients resources...\n",
            "Server selecting clients to train locally...\n",
            "Previous T round: 184.9055141869709\n",
            "Current T round: 182.1650784703827\n",
            "Max T round: 184.9055141869709\n",
            "Min T round: 180.0\n",
            "Selected clients (S): 4 out of 100\n",
            "Server selecting data to train centralized...\n",
            "Number of clients in U: 0\n",
            "Time upload: 0\n",
            "Selected data length (|D_UL|): 0\n",
            "Selected clients for this round: 4\n",
            "Distributing model...\n"
          ]
        },
        {
          "name": "stderr",
          "output_type": "stream",
          "text": [
            "Distributing model...: 100%|█████████▉| 35.00000000000023/35.06094883355143 [00:35<00:00,  1.02s/it]  \n"
          ]
        },
        {
          "name": "stdout",
          "output_type": "stream",
          "text": [
            "Scheduled model update and upload...\n",
            "Scheduled model update and upload time: 132.0020034313202 sec\n",
            "Centralized model update...\n",
            "Collecting weights...\n",
            "Aggregating global model...\n",
            "Server: Test acc: 0.1393, test loss: 2.8501, round time: 170.54747438430786\n",
            "\n",
            "Running round: 4 - Time elapsed: 517.0381209850311 seconds\n",
            "Server requesting clients resources...\n",
            "Server selecting clients to train locally...\n",
            "Previous T round: 182.1650784703827\n",
            "Current T round: 178.43657006365544\n",
            "Max T round: 184.9055141869709\n",
            "Min T round: 178.43657006365544\n",
            "Selected clients (S): 4 out of 100\n",
            "Server selecting data to train centralized...\n",
            "Number of clients in U: 0\n",
            "Time upload: 0\n",
            "Selected data length (|D_UL|): 0\n",
            "Selected clients for this round: 4\n",
            "Distributing model...\n"
          ]
        },
        {
          "name": "stderr",
          "output_type": "stream",
          "text": [
            "Distributing model...: 100%|█████████▉| 34.60000000000022/34.632434986900584 [00:35<00:00,  1.02s/it]  \n"
          ]
        },
        {
          "name": "stdout",
          "output_type": "stream",
          "text": [
            "Scheduled model update and upload...\n",
            "Scheduled model update and upload time: 135.73900628089905 sec\n",
            "Centralized model update...\n",
            "Collecting weights...\n",
            "Aggregating global model...\n",
            "Server: Test acc: 0.1295, test loss: 4.0476, round time: 173.81650757789612\n",
            "\n",
            "Running round: 5 - Time elapsed: 690.856219291687 seconds\n",
            "Server requesting clients resources...\n",
            "Server selecting clients to train locally...\n",
            "Previous T round: 178.43657006365544\n",
            "Current T round: 179.08002153719679\n",
            "Max T round: 184.9055141869709\n",
            "Min T round: 178.43657006365544\n",
            "Selected clients (S): 4 out of 100\n",
            "Server selecting data to train centralized...\n",
            "Number of clients in U: 0\n",
            "Time upload: 0\n",
            "Selected data length (|D_UL|): 0\n",
            "Selected clients for this round: 4\n",
            "Distributing model...\n"
          ]
        },
        {
          "name": "stderr",
          "output_type": "stream",
          "text": [
            "Distributing model...: 100%|█████████▉| 33.60000000000021/33.638644078605815 [00:34<00:00,  1.02s/it]  \n"
          ]
        },
        {
          "name": "stdout",
          "output_type": "stream",
          "text": [
            "Scheduled model update and upload...\n",
            "Scheduled model update and upload time: 135.13400864601135 sec\n",
            "Centralized model update...\n",
            "Collecting weights...\n",
            "Aggregating global model...\n",
            "Server: Test acc: 0.1257, test loss: 3.4276, round time: 172.2429850101471\n",
            "\n",
            "Running round: 6 - Time elapsed: 863.1007287502289 seconds\n",
            "Server requesting clients resources...\n",
            "Server selecting clients to train locally...\n",
            "Previous T round: 179.08002153719679\n",
            "Current T round: 182.60957446890265\n",
            "Max T round: 184.9055141869709\n",
            "Min T round: 178.43657006365544\n",
            "Selected clients (S): 4 out of 100\n",
            "Server selecting data to train centralized...\n",
            "Number of clients in U: 2\n",
            "Time upload: 0\n",
            "Time upload: 0.16973307193843554\n",
            "Time upload: 0.339466143876871\n",
            "Time upload: 0.5091992158153065\n",
            "Time upload: 0.6796325475713332\n",
            "Time upload: 0.8511162690537459\n",
            "Time upload: 1.0059768132511104\n",
            "Time upload: 1.1611874873572703\n",
            "Time upload: 1.2821014171669476\n",
            "Time upload: 1.385691909873986\n",
            "Time upload: 1.4896325324898196\n",
            "Time upload: 1.5762497180030144\n",
            "Time upload: 1.6455434664135702\n",
            "Time upload: 1.697513777721487\n",
            "Selected data length (|D_UL|): 307200\n",
            "Selected clients for this round: 4\n",
            "Distributing model...\n"
          ]
        },
        {
          "name": "stderr",
          "output_type": "stream",
          "text": [
            "Distributing model...: 100%|█████████▉| 34.00000000000021/34.051028738481705 [00:34<00:00,  1.02s/it]  \n"
          ]
        },
        {
          "name": "stdout",
          "output_type": "stream",
          "text": [
            "Scheduled model update and upload...\n",
            "Scheduled model update and upload time: 133.86685848236084 sec\n",
            "Centralized model update...\n",
            "Collecting weights...\n",
            "Aggregating global model...\n",
            "Server: Test acc: 0.2068, test loss: 2.4956, round time: 172.36519527435303\n",
            "\n",
            "Running round: 7 - Time elapsed: 1035.4675991535187 seconds\n",
            "Server requesting clients resources...\n",
            "Server selecting clients to train locally...\n",
            "Previous T round: 182.60957446890265\n",
            "Current T round: 182.1691951795988\n",
            "Max T round: 184.9055141869709\n",
            "Min T round: 178.43657006365544\n",
            "Selected clients (S): 4 out of 100\n",
            "Server selecting data to train centralized...\n",
            "Number of clients in U: 1\n",
            "Time upload: 0\n",
            "Time upload: 0.1820899108798486\n",
            "Time upload: 0.3641798217596971\n",
            "Time upload: 0.5462697326395457\n",
            "Time upload: 0.6919416613434249\n",
            "Time upload: 0.8011956078713344\n",
            "Time upload: 0.8558225811352891\n",
            "Time upload: 0.8922405633112589\n",
            "Selected data length (|D_UL|): 153600\n",
            "Selected clients for this round: 4\n",
            "Distributing model...\n"
          ]
        },
        {
          "name": "stderr",
          "output_type": "stream",
          "text": [
            "Distributing model...: 100%|█████████▉| 34.50000000000022/34.57452112673047 [00:35<00:00,  1.02s/it]  \n"
          ]
        },
        {
          "name": "stdout",
          "output_type": "stream",
          "text": [
            "Scheduled model update and upload...\n",
            "Scheduled model update and upload time: 124.60144281387329 sec\n",
            "Centralized model update...\n",
            "Collecting weights...\n",
            "Aggregating global model...\n",
            "Server: Test acc: 0.1915, test loss: 2.8346, round time: 162.93177247047424\n",
            "\n",
            "Running round: 8 - Time elapsed: 1198.4008202552795 seconds\n",
            "Server requesting clients resources...\n",
            "Server selecting clients to train locally...\n",
            "Previous T round: 182.1691951795988\n",
            "Current T round: 179.62169495179137\n",
            "Max T round: 184.9055141869709\n",
            "Min T round: 178.43657006365544\n",
            "Selected clients (S): 5 out of 100\n",
            "Server selecting data to train centralized...\n",
            "Number of clients in U: 1\n",
            "Time upload: 0\n",
            "Time upload: 0.19262672502027814\n",
            "Time upload: 0.3852534500405561\n",
            "Time upload: 0.5778801750608342\n",
            "Time upload: 0.731981555077057\n",
            "Time upload: 0.8282949175871962\n",
            "Time upload: 0.8860829350932797\n",
            "Time upload: 0.9246082800973354\n",
            "Time upload: 0.9438709525993633\n",
            "Selected data length (|D_UL|): 153600\n",
            "Selected clients for this round: 5\n",
            "Distributing model...\n"
          ]
        },
        {
          "name": "stderr",
          "output_type": "stream",
          "text": [
            "Distributing model...: 100%|█████████▉| 30.90000000000017/30.923796581378735 [00:31<00:00,  1.02s/it]  \n"
          ]
        },
        {
          "name": "stdout",
          "output_type": "stream",
          "text": [
            "Scheduled model update and upload...\n",
            "Scheduled model update and upload time: 155.47729802131653 sec\n",
            "Centralized model update...\n",
            "Collecting weights...\n",
            "Aggregating global model...\n",
            "Server: Test acc: 0.2474, test loss: 2.4668, round time: 190.26400995254517\n",
            "\n",
            "Running round: 9 - Time elapsed: 1388.666314125061 seconds\n",
            "Server requesting clients resources...\n",
            "Server selecting clients to train locally...\n",
            "Previous T round: 179.62169495179137\n",
            "Current T round: 184.55658637200565\n",
            "Max T round: 184.9055141869709\n",
            "Min T round: 178.43657006365544\n",
            "Selected clients (S): 4 out of 100\n",
            "Server selecting data to train centralized...\n",
            "Number of clients in U: 0\n",
            "Time upload: 0\n",
            "Selected data length (|D_UL|): 0\n",
            "Selected clients for this round: 4\n",
            "Distributing model...\n"
          ]
        },
        {
          "name": "stderr",
          "output_type": "stream",
          "text": [
            "Distributing model...: 100%|█████████▉| 33.400000000000205/33.425174241547055 [00:33<00:00,  1.02s/it] \n"
          ]
        },
        {
          "name": "stdout",
          "output_type": "stream",
          "text": [
            "Scheduled model update and upload...\n",
            "Scheduled model update and upload time: 127.15128374099731 sec\n",
            "Centralized model update...\n",
            "Collecting weights...\n",
            "Aggregating global model...\n",
            "Server: Test acc: 0.1550, test loss: 3.3789, round time: 164.04322004318237\n",
            "\n",
            "Running round: 10 - Time elapsed: 1552.7110760211945 seconds\n",
            "Server requesting clients resources...\n",
            "Server selecting clients to train locally...\n",
            "Previous T round: 184.55658637200565\n",
            "Current T round: 178.7589465076817\n",
            "Max T round: 184.9055141869709\n",
            "Min T round: 178.43657006365544\n",
            "Selected clients (S): 4 out of 100\n",
            "Server selecting data to train centralized...\n",
            "Number of clients in U: 1\n",
            "Time upload: 0\n",
            "Time upload: 0.20983066092127797\n",
            "Time upload: 0.39867825575042815\n",
            "Time upload: 0.5665427844874503\n",
            "Time upload: 0.7344073132244723\n",
            "Time upload: 0.8603057097772387\n",
            "Time upload: 0.9442379741457497\n",
            "Time upload: 1.007187172422133\n",
            "Time upload: 1.0281702385142608\n",
            "Selected data length (|D_UL|): 153600\n",
            "Selected clients for this round: 4\n",
            "Distributing model...\n"
          ]
        },
        {
          "name": "stderr",
          "output_type": "stream",
          "text": [
            "Distributing model...: 100%|█████████▉| 32.30000000000019/32.36019035180386 [00:32<00:00,  1.02s/it]  \n"
          ]
        },
        {
          "name": "stdout",
          "output_type": "stream",
          "text": [
            "Scheduled model update and upload...\n",
            "Scheduled model update and upload time: 127.86412858963013 sec\n",
            "Centralized model update...\n",
            "Collecting weights...\n",
            "Aggregating global model...\n",
            "Server: Test acc: 0.2076, test loss: 3.0108, round time: 164.1882405281067\n",
            "\n",
            "Running round: 11 - Time elapsed: 1716.9010927677155 seconds\n",
            "Server requesting clients resources...\n",
            "Server selecting clients to train locally...\n",
            "Previous T round: 178.7589465076817\n",
            "Current T round: 186.8792542888696\n",
            "Max T round: 186.8792542888696\n",
            "Min T round: 178.43657006365544\n",
            "Selected clients (S): 5 out of 100\n",
            "Server selecting data to train centralized...\n",
            "Number of clients in U: 0\n",
            "Time upload: 0\n",
            "Selected data length (|D_UL|): 0\n",
            "Selected clients for this round: 5\n",
            "Distributing model...\n"
          ]
        },
        {
          "name": "stderr",
          "output_type": "stream",
          "text": [
            "Distributing model...: 100%|█████████▉| 30.500000000000163/30.50064231351444 [00:31<00:00,  1.02s/it] \n"
          ]
        },
        {
          "name": "stdout",
          "output_type": "stream",
          "text": [
            "Scheduled model update and upload...\n",
            "Scheduled model update and upload time: 147.87492775917053 sec\n",
            "Centralized model update...\n",
            "Collecting weights...\n",
            "Aggregating global model...\n",
            "Server: Test acc: 0.2230, test loss: 3.0046, round time: 181.79501247406006\n",
            "\n",
            "Running round: 12 - Time elapsed: 1898.6975421905518 seconds\n",
            "Server requesting clients resources...\n",
            "Server selecting clients to train locally...\n",
            "Previous T round: 186.8792542888696\n",
            "Current T round: 178.0315708809657\n",
            "Max T round: 186.8792542888696\n",
            "Min T round: 178.0315708809657\n",
            "Selected clients (S): 4 out of 100\n",
            "Server selecting data to train centralized...\n",
            "Number of clients in U: 1\n",
            "Time upload: 0\n",
            "Time upload: 0.19640977643126908\n",
            "Time upload: 0.39281955286253806\n",
            "Time upload: 0.589229329293807\n",
            "Time upload: 0.7463571504388221\n",
            "Time upload: 0.8642030162975834\n",
            "Time upload: 0.9231259492269641\n",
            "Time upload: 0.9624079045132179\n",
            "Selected data length (|D_UL|): 153600\n",
            "Selected clients for this round: 4\n",
            "Distributing model...\n"
          ]
        },
        {
          "name": "stderr",
          "output_type": "stream",
          "text": [
            "Distributing model...: 100%|█████████▉| 33.70000000000021/33.73466539884076 [00:34<00:00,  1.02s/it]  \n"
          ]
        },
        {
          "name": "stdout",
          "output_type": "stream",
          "text": [
            "Scheduled model update and upload...\n",
            "Scheduled model update and upload time: 136.36255359649658 sec\n",
            "Centralized model update...\n",
            "Collecting weights...\n",
            "Aggregating global model...\n",
            "Server: Test acc: 0.2907, test loss: 2.4465, round time: 173.88690614700317\n",
            "\n",
            "Running round: 13 - Time elapsed: 2072.585876226425 seconds\n",
            "Server requesting clients resources...\n",
            "Server selecting clients to train locally...\n",
            "Previous T round: 178.0315708809657\n",
            "Current T round: 178.16129578473573\n",
            "Max T round: 186.8792542888696\n",
            "Min T round: 178.0315708809657\n",
            "Selected clients (S): 4 out of 100\n",
            "Server selecting data to train centralized...\n",
            "Number of clients in U: 1\n",
            "Time upload: 0\n",
            "Time upload: 0.18667669683925794\n",
            "Time upload: 0.37335339367851594\n",
            "Time upload: 0.541362420833848\n",
            "Time upload: 0.6720361086213282\n",
            "Time upload: 0.765374457040957\n",
            "Time upload: 0.8587128054605857\n",
            "Time upload: 0.8960481448284372\n",
            "Time upload: 0.914715814512363\n",
            "Selected data length (|D_UL|): 153600\n",
            "Selected clients for this round: 4\n",
            "Distributing model...\n"
          ]
        },
        {
          "name": "stderr",
          "output_type": "stream",
          "text": [
            "Distributing model...: 100%|█████████▉| 33.80000000000021/33.884567505420435 [00:34<00:00,  1.02s/it]  \n"
          ]
        },
        {
          "name": "stdout",
          "output_type": "stream",
          "text": [
            "Scheduled model update and upload...\n",
            "Scheduled model update and upload time: 152.3523337841034 sec\n",
            "Centralized model update...\n",
            "Collecting weights...\n",
            "Aggregating global model...\n",
            "Server: Test acc: 0.2541, test loss: 2.6826, round time: 189.99021649360657\n",
            "\n",
            "Running round: 14 - Time elapsed: 2262.577513217926 seconds\n",
            "Server requesting clients resources...\n",
            "Server selecting clients to train locally...\n",
            "Previous T round: 178.16129578473573\n",
            "Current T round: 180.56790643903292\n",
            "Max T round: 186.8792542888696\n",
            "Min T round: 178.0315708809657\n",
            "Selected clients (S): 4 out of 100\n",
            "Server selecting data to train centralized...\n",
            "Number of clients in U: 1\n",
            "Time upload: 0\n",
            "Time upload: 0.1698338674293138\n",
            "Time upload: 0.33966773485862756\n",
            "Time upload: 0.5095016022879413\n",
            "Time upload: 0.6453686962313927\n",
            "Time upload: 0.7472690166889813\n",
            "Time upload: 0.7982191769177756\n",
            "Time upload: 0.8321859504036384\n",
            "Selected data length (|D_UL|): 153600\n",
            "Selected clients for this round: 4\n",
            "Distributing model...\n"
          ]
        },
        {
          "name": "stderr",
          "output_type": "stream",
          "text": [
            "Distributing model...: 100%|█████████▉| 34.00000000000021/34.08151874514004 [00:34<00:00,  1.02s/it]  \n"
          ]
        },
        {
          "name": "stdout",
          "output_type": "stream",
          "text": [
            "Scheduled model update and upload...\n",
            "Scheduled model update and upload time: 129.33199501037598 sec\n",
            "Centralized model update...\n",
            "Collecting weights...\n",
            "Aggregating global model...\n",
            "Server: Test acc: 0.2092, test loss: 2.9761, round time: 167.17426562309265\n",
            "\n",
            "Running round: 15 - Time elapsed: 2429.753383398056 seconds\n",
            "Server requesting clients resources...\n",
            "Server selecting clients to train locally...\n",
            "Previous T round: 180.56790643903292\n",
            "Current T round: 181.61692664146122\n",
            "Max T round: 186.8792542888696\n",
            "Min T round: 178.0315708809657\n",
            "Selected clients (S): 5 out of 100\n",
            "Server selecting data to train centralized...\n",
            "Number of clients in U: 1\n",
            "Time upload: 0\n",
            "Time upload: 0.17706516678639309\n",
            "Time upload: 0.3364238168941469\n",
            "Time upload: 0.47807595032326144\n",
            "Time upload: 0.619728083752376\n",
            "Time upload: 0.7259671838242119\n",
            "Time upload: 0.7967932505387691\n",
            "Time upload: 0.8499128005746871\n",
            "Time upload: 0.8676193172533264\n",
            "Selected data length (|D_UL|): 153600\n",
            "Selected clients for this round: 5\n",
            "Distributing model...\n"
          ]
        },
        {
          "name": "stderr",
          "output_type": "stream",
          "text": [
            "Distributing model...: 100%|█████████▉| 31.100000000000172/31.18140298741922 [00:31<00:00,  1.02s/it] \n"
          ]
        },
        {
          "name": "stdout",
          "output_type": "stream",
          "text": [
            "Scheduled model update and upload...\n",
            "Scheduled model update and upload time: 156.14426040649414 sec\n",
            "Centralized model update...\n",
            "Collecting weights...\n",
            "Aggregating global model...\n",
            "Server: Test acc: 0.2335, test loss: 3.0769, round time: 191.17153596878052\n",
            "\n",
            "Running round: 16 - Time elapsed: 2620.9265892505646 seconds\n",
            "Server requesting clients resources...\n",
            "Server selecting clients to train locally...\n",
            "Previous T round: 181.61692664146122\n",
            "Current T round: 183.92587354916694\n",
            "Max T round: 186.8792542888696\n",
            "Min T round: 178.0315708809657\n",
            "Selected clients (S): 4 out of 100\n",
            "Server selecting data to train centralized...\n",
            "Number of clients in U: 2\n",
            "Time upload: 0\n",
            "Time upload: 0.166659224661154\n",
            "Time upload: 0.3333184493223081\n",
            "Time upload: 0.4999776739834623\n",
            "Time upload: 0.6674698136227276\n",
            "Time upload: 0.8366277832182152\n",
            "Time upload: 1.009117412726147\n",
            "Time upload: 1.1832728721903003\n",
            "Time upload: 1.3407624091883381\n",
            "Time upload: 1.463254271297923\n",
            "Time upload: 1.5507484585190552\n",
            "Time upload: 1.6382426457401873\n",
            "Time upload: 1.6732403206286401\n",
            "Time upload: 1.6907391580728666\n",
            "Selected data length (|D_UL|): 307200\n",
            "Selected clients for this round: 4\n",
            "Distributing model...\n"
          ]
        },
        {
          "name": "stderr",
          "output_type": "stream",
          "text": [
            "Distributing model...: 100%|█████████▉| 37.20000000000026/37.2783048642353 [00:37<00:00,  1.02s/it]  \n"
          ]
        },
        {
          "name": "stdout",
          "output_type": "stream",
          "text": [
            "Scheduled model update and upload...\n",
            "Scheduled model update and upload time: 130.73855257034302 sec\n",
            "Centralized model update...\n",
            "Collecting weights...\n",
            "Aggregating global model...\n",
            "Server: Test acc: 0.2314, test loss: 3.1230, round time: 172.5602810382843\n",
            "\n",
            "Running round: 17 - Time elapsed: 2793.4886009693146 seconds\n",
            "Server requesting clients resources...\n",
            "Server selecting clients to train locally...\n",
            "Previous T round: 183.92587354916694\n",
            "Current T round: 178.74508420271601\n",
            "Max T round: 186.8792542888696\n",
            "Min T round: 178.0315708809657\n",
            "Selected clients (S): 4 out of 100\n",
            "Server selecting data to train centralized...\n",
            "Number of clients in U: 0\n",
            "Time upload: 0\n",
            "Selected data length (|D_UL|): 0\n",
            "Selected clients for this round: 4\n",
            "Distributing model...\n"
          ]
        },
        {
          "name": "stderr",
          "output_type": "stream",
          "text": [
            "Distributing model...: 100%|█████████▉| 34.40000000000022/34.46708134285137 [00:34<00:00,  1.02s/it]  \n"
          ]
        },
        {
          "name": "stdout",
          "output_type": "stream",
          "text": [
            "Scheduled model update and upload...\n",
            "Scheduled model update and upload time: 120.81547379493713 sec\n",
            "Centralized model update...\n",
            "Collecting weights...\n",
            "Aggregating global model...\n",
            "Server: Test acc: 0.2478, test loss: 3.0546, round time: 158.637681722641\n",
            "\n",
            "Running round: 18 - Time elapsed: 2952.1279516220093 seconds\n",
            "Server requesting clients resources...\n",
            "Server selecting clients to train locally...\n",
            "Previous T round: 178.74508420271601\n",
            "Current T round: 182.2978524879433\n",
            "Max T round: 186.8792542888696\n",
            "Min T round: 178.0315708809657\n",
            "Selected clients (S): 5 out of 100\n",
            "Server selecting data to train centralized...\n",
            "Number of clients in U: 0\n",
            "Time upload: 0\n",
            "Selected data length (|D_UL|): 0\n",
            "Selected clients for this round: 5\n",
            "Distributing model...\n"
          ]
        },
        {
          "name": "stderr",
          "output_type": "stream",
          "text": [
            "Distributing model...: 100%|█████████▉| 31.60000000000018/31.613006216429305 [00:32<00:00,  1.02s/it]  \n"
          ]
        },
        {
          "name": "stdout",
          "output_type": "stream",
          "text": [
            "Scheduled model update and upload...\n",
            "Scheduled model update and upload time: 148.12569952011108 sec\n",
            "Centralized model update...\n",
            "Collecting weights...\n",
            "Aggregating global model...\n",
            "Server: Test acc: 0.2838, test loss: 2.7997, round time: 183.1158366203308\n",
            "\n",
            "Running round: 19 - Time elapsed: 3135.245191335678 seconds\n",
            "Server requesting clients resources...\n",
            "Server selecting clients to train locally...\n",
            "Previous T round: 182.2978524879433\n",
            "Current T round: 181.50248125761004\n",
            "Max T round: 186.8792542888696\n",
            "Min T round: 178.0315708809657\n",
            "Selected clients (S): 5 out of 100\n",
            "Server selecting data to train centralized...\n",
            "Number of clients in U: 1\n",
            "Time upload: 0\n",
            "Time upload: 0.15932399846433495\n",
            "Time upload: 0.31864799692867\n",
            "Time upload: 0.4779719953930052\n",
            "Time upload: 0.605431194164473\n",
            "Time upload: 0.7010255932430738\n",
            "Time upload: 0.7488227927823742\n",
            "Time upload: 0.7806875924752411\n",
            "Selected data length (|D_UL|): 153600\n",
            "Selected clients for this round: 5\n",
            "Distributing model...\n"
          ]
        },
        {
          "name": "stderr",
          "output_type": "stream",
          "text": [
            "Distributing model...: 100%|█████████▉| 30.700000000000166/30.792356817150765 [00:31<00:00,  1.02s/it] \n"
          ]
        },
        {
          "name": "stdout",
          "output_type": "stream",
          "text": [
            "Scheduled model update and upload...\n",
            "Scheduled model update and upload time: 150.39592170715332 sec\n",
            "Centralized model update...\n",
            "Collecting weights...\n",
            "Aggregating global model...\n",
            "Server: Test acc: 0.3162, test loss: 2.7516, round time: 184.90626406669617\n",
            "\n",
            "Running round: 20 - Time elapsed: 3320.1529479026794 seconds\n",
            "Server requesting clients resources...\n",
            "Server selecting clients to train locally...\n",
            "Previous T round: 181.50248125761004\n",
            "Current T round: 180.0275980868535\n",
            "Max T round: 186.8792542888696\n",
            "Min T round: 178.0315708809657\n",
            "Selected clients (S): 4 out of 100\n",
            "Server selecting data to train centralized...\n",
            "Number of clients in U: 0\n",
            "Time upload: 0\n",
            "Selected data length (|D_UL|): 0\n",
            "Selected clients for this round: 4\n",
            "Distributing model...\n"
          ]
        },
        {
          "name": "stderr",
          "output_type": "stream",
          "text": [
            "Distributing model...: 100%|█████████▉| 32.100000000000186/32.11503624360576 [00:32<00:00,  1.02s/it] \n"
          ]
        },
        {
          "name": "stdout",
          "output_type": "stream",
          "text": [
            "Scheduled model update and upload...\n",
            "Scheduled model update and upload time: 131.44428825378418 sec\n",
            "Centralized model update...\n",
            "Collecting weights...\n",
            "Aggregating global model...\n",
            "Server: Test acc: 0.3108, test loss: 2.5196, round time: 166.94092345237732\n",
            "\n",
            "Running round: 21 - Time elapsed: 3487.0954308509827 seconds\n",
            "Server requesting clients resources...\n",
            "Server selecting clients to train locally...\n",
            "Previous T round: 180.0275980868535\n",
            "Current T round: 182.22159028997962\n",
            "Max T round: 186.8792542888696\n",
            "Min T round: 178.0315708809657\n",
            "Selected clients (S): 5 out of 100\n",
            "Server selecting data to train centralized...\n",
            "Number of clients in U: 2\n",
            "Time upload: 0\n",
            "Time upload: 0.18221785884113087\n",
            "Time upload: 0.36806304029698367\n",
            "Time upload: 0.5539082217528364\n",
            "Time upload: 0.7397534032086888\n",
            "Time upload: 0.9364805525087068\n",
            "Time upload: 1.1222405611540553\n",
            "Time upload: 1.3080005697994037\n",
            "Time upload: 1.4791661151753606\n",
            "Time upload: 1.653958983166039\n",
            "Time upload: 1.7632045256602131\n",
            "Time upload: 1.8506009596555524\n",
            "Time upload: 1.9161482851520568\n",
            "Time upload: 1.9816956106485613\n",
            "Selected data length (|D_UL|): 307200\n",
            "Selected clients for this round: 5\n",
            "Distributing model...\n"
          ]
        },
        {
          "name": "stderr",
          "output_type": "stream",
          "text": [
            "Distributing model...: 100%|█████████▉| 32.20000000000019/32.25367716826707 [00:32<00:00,  1.02s/it]  \n"
          ]
        },
        {
          "name": "stdout",
          "output_type": "stream",
          "text": [
            "Scheduled model update and upload...\n",
            "Scheduled model update and upload time: 149.00392365455627 sec\n",
            "Centralized model update...\n",
            "Collecting weights...\n",
            "Aggregating global model...\n",
            "Server: Test acc: 0.2720, test loss: 2.5863, round time: 185.8198561668396\n",
            "\n",
            "Running round: 22 - Time elapsed: 3672.9171376228333 seconds\n",
            "Server requesting clients resources...\n",
            "Server selecting clients to train locally...\n",
            "Previous T round: 182.22159028997962\n",
            "Current T round: 179.94304942577938\n",
            "Max T round: 186.8792542888696\n",
            "Min T round: 178.0315708809657\n",
            "Selected clients (S): 5 out of 100\n",
            "Server selecting data to train centralized...\n",
            "Number of clients in U: 0\n",
            "Time upload: 0\n",
            "Selected data length (|D_UL|): 0\n",
            "Selected clients for this round: 5\n",
            "Distributing model...\n"
          ]
        },
        {
          "name": "stderr",
          "output_type": "stream",
          "text": [
            "Distributing model...: 100%|█████████▉| 31.800000000000182/31.873004070515815 [00:32<00:00,  1.02s/it] \n"
          ]
        },
        {
          "name": "stdout",
          "output_type": "stream",
          "text": [
            "Scheduled model update and upload...\n",
            "Scheduled model update and upload time: 146.50423526763916 sec\n",
            "Centralized model update...\n",
            "Collecting weights...\n",
            "Aggregating global model...\n",
            "Server: Test acc: 0.2931, test loss: 2.6496, round time: 181.7328131198883\n",
            "\n",
            "Running round: 23 - Time elapsed: 3854.651375055313 seconds\n",
            "Server requesting clients resources...\n",
            "Server selecting clients to train locally...\n",
            "Previous T round: 179.94304942577938\n",
            "Current T round: 181.77664773427014\n",
            "Max T round: 186.8792542888696\n",
            "Min T round: 178.0315708809657\n",
            "Selected clients (S): 4 out of 100\n",
            "Server selecting data to train centralized...\n",
            "Number of clients in U: 1\n",
            "Time upload: 0\n",
            "Time upload: 0.1655814723743375\n",
            "Time upload: 0.3146047975112414\n",
            "Time upload: 0.4470699754107115\n",
            "Time upload: 0.5795351533101816\n",
            "Time upload: 0.6788840367347841\n",
            "Time upload: 0.7451166256845192\n",
            "Time upload: 0.7947910673968205\n",
            "Time upload: 0.8113492146342542\n",
            "Selected data length (|D_UL|): 153600\n",
            "Selected clients for this round: 4\n",
            "Distributing model...\n"
          ]
        },
        {
          "name": "stderr",
          "output_type": "stream",
          "text": [
            "Distributing model...: 100%|█████████▉| 31.900000000000183/31.924791723360446 [00:32<00:00,  1.02s/it] \n"
          ]
        },
        {
          "name": "stdout",
          "output_type": "stream",
          "text": [
            "Scheduled model update and upload...\n",
            "Scheduled model update and upload time: 128.23229002952576 sec\n",
            "Centralized model update...\n",
            "Collecting weights...\n",
            "Aggregating global model...\n",
            "Server: Test acc: 0.3242, test loss: 2.5444, round time: 164.03907227516174\n",
            "\n",
            "Running round: 24 - Time elapsed: 4018.6920688152313 seconds\n",
            "Server requesting clients resources...\n",
            "Server selecting clients to train locally...\n",
            "Previous T round: 181.77664773427014\n",
            "Current T round: 183.15698261516144\n",
            "Max T round: 186.8792542888696\n",
            "Min T round: 178.0315708809657\n",
            "Selected clients (S): 4 out of 100\n",
            "Server selecting data to train centralized...\n",
            "Number of clients in U: 5\n",
            "Time upload: 0\n",
            "Time upload: 0.16876092871365847\n",
            "Time upload: 0.33752185742731683\n",
            "Time upload: 0.5062827861409751\n",
            "Time upload: 0.67939715306499\n",
            "Time upload: 0.8568649581993617\n",
            "Time upload: 1.0416100056802409\n",
            "Time upload: 1.2285317722662976\n",
            "Time upload: 1.4183773429885052\n",
            "Time upload: 1.6113764141037983\n",
            "Time upload: 1.805122570250064\n",
            "Time upload: 2.0003628964582747\n",
            "Time upload: 2.1973270889853653\n",
            "Selected data length (|D_UL|): 380928\n",
            "Selected clients for this round: 4\n",
            "Distributing model...\n"
          ]
        },
        {
          "name": "stderr",
          "output_type": "stream",
          "text": [
            "Distributing model...: 100%|█████████▉| 32.9000000000002/32.94209231140063 [00:33<00:00,  1.02s/it]   \n"
          ]
        },
        {
          "name": "stdout",
          "output_type": "stream",
          "text": [
            "Scheduled model update and upload...\n",
            "Scheduled model update and upload time: 129.06090807914734 sec\n",
            "Centralized model update...\n",
            "Collecting weights...\n",
            "Aggregating global model...\n",
            "Server: Test acc: 0.3518, test loss: 2.1634, round time: 167.65866446495056\n",
            "\n",
            "Running round: 25 - Time elapsed: 4186.3521111011505 seconds\n",
            "Server requesting clients resources...\n",
            "Server selecting clients to train locally...\n",
            "Previous T round: 183.15698261516144\n",
            "Current T round: 184.08301244325312\n",
            "Max T round: 186.8792542888696\n",
            "Min T round: 178.0315708809657\n",
            "Selected clients (S): 4 out of 100\n",
            "Server selecting data to train centralized...\n",
            "Number of clients in U: 0\n",
            "Time upload: 0\n",
            "Selected data length (|D_UL|): 0\n",
            "Selected clients for this round: 4\n",
            "Distributing model...\n"
          ]
        },
        {
          "name": "stderr",
          "output_type": "stream",
          "text": [
            "Distributing model...: 100%|█████████▉| 30.800000000000168/30.876754273302605 [00:31<00:00,  1.02s/it] \n"
          ]
        },
        {
          "name": "stdout",
          "output_type": "stream",
          "text": [
            "Scheduled model update and upload...\n",
            "Scheduled model update and upload time: 125.41414332389832 sec\n",
            "Centralized model update...\n",
            "Collecting weights...\n",
            "Aggregating global model...\n",
            "Server: Test acc: 0.2794, test loss: 3.3389, round time: 159.64384126663208\n",
            "\n",
            "Running round: 26 - Time elapsed: 4345.9975435733795 seconds\n",
            "Server requesting clients resources...\n",
            "Server selecting clients to train locally...\n",
            "Previous T round: 184.08301244325312\n",
            "Current T round: 184.14525180456445\n",
            "Max T round: 186.8792542888696\n",
            "Min T round: 178.0315708809657\n",
            "Selected clients (S): 4 out of 100\n",
            "Server selecting data to train centralized...\n",
            "Number of clients in U: 1\n",
            "Time upload: 0\n",
            "Time upload: 0.1628757001825773\n",
            "Time upload: 0.3257514003651547\n",
            "Time upload: 0.4886271005477323\n",
            "Time upload: 0.6189276606937943\n",
            "Time upload: 0.7166530808033409\n",
            "Time upload: 0.7655157908581142\n",
            "Time upload: 0.7980909308946297\n",
            "Selected data length (|D_UL|): 153600\n",
            "Selected clients for this round: 4\n",
            "Distributing model...\n"
          ]
        },
        {
          "name": "stderr",
          "output_type": "stream",
          "text": [
            "Distributing model...: 100%|█████████▉| 35.30000000000023/35.38948101344659 [00:35<00:00,  1.02s/it]  \n"
          ]
        },
        {
          "name": "stdout",
          "output_type": "stream",
          "text": [
            "Scheduled model update and upload...\n",
            "Scheduled model update and upload time: 126.12921500205994 sec\n",
            "Centralized model update...\n",
            "Collecting weights...\n",
            "Aggregating global model...\n",
            "Server: Test acc: 0.2978, test loss: 2.6992, round time: 165.35804319381714\n",
            "\n",
            "Running round: 27 - Time elapsed: 4511.356974840164 seconds\n",
            "Server requesting clients resources...\n",
            "Server selecting clients to train locally...\n",
            "Previous T round: 184.14525180456445\n",
            "Current T round: 183.41361212261847\n",
            "Max T round: 186.8792542888696\n",
            "Min T round: 178.0315708809657\n",
            "Selected clients (S): 4 out of 100\n",
            "Server selecting data to train centralized...\n",
            "Number of clients in U: 0\n",
            "Time upload: 0\n",
            "Selected data length (|D_UL|): 0\n",
            "Selected clients for this round: 4\n",
            "Distributing model...\n"
          ]
        },
        {
          "name": "stderr",
          "output_type": "stream",
          "text": [
            "Distributing model...: 100%|█████████▉| 34.100000000000215/34.13421322924265 [00:34<00:00,  1.02s/it] \n"
          ]
        },
        {
          "name": "stdout",
          "output_type": "stream",
          "text": [
            "Scheduled model update and upload...\n",
            "Scheduled model update and upload time: 133.38748836517334 sec\n",
            "Centralized model update...\n",
            "Collecting weights...\n",
            "Aggregating global model...\n",
            "Server: Test acc: 0.2952, test loss: 2.6016, round time: 170.9161012172699\n",
            "\n",
            "Running round: 28 - Time elapsed: 4682.274799108505 seconds\n",
            "Server requesting clients resources...\n",
            "Server selecting clients to train locally...\n",
            "Previous T round: 183.41361212261847\n",
            "Current T round: 183.42303665075934\n",
            "Max T round: 186.8792542888696\n",
            "Min T round: 178.0315708809657\n",
            "Selected clients (S): 4 out of 100\n",
            "Server selecting data to train centralized...\n",
            "Number of clients in U: 1\n",
            "Time upload: 0\n",
            "Time upload: 0.18514457603710457\n",
            "Time upload: 0.3517746944704987\n",
            "Time upload: 0.49989035530018233\n",
            "Time upload: 0.6480060161298664\n",
            "Time upload: 0.7590927617521295\n",
            "Time upload: 0.8331505921669715\n",
            "Time upload: 0.888693964978103\n",
            "Time upload: 0.9072084225818136\n",
            "Selected data length (|D_UL|): 153600\n",
            "Selected clients for this round: 4\n",
            "Distributing model...\n"
          ]
        },
        {
          "name": "stderr",
          "output_type": "stream",
          "text": [
            "Distributing model...: 100%|█████████▉| 33.400000000000205/33.46026806451895 [00:33<00:00,  1.02s/it] \n"
          ]
        },
        {
          "name": "stdout",
          "output_type": "stream",
          "text": [
            "Scheduled model update and upload...\n",
            "Scheduled model update and upload time: 133.12088179588318 sec\n",
            "Centralized model update...\n",
            "Collecting weights...\n",
            "Aggregating global model...\n",
            "Server: Test acc: 0.3339, test loss: 2.3732, round time: 170.42587041854858\n",
            "\n",
            "Running round: 29 - Time elapsed: 4852.70227766037 seconds\n",
            "Server requesting clients resources...\n",
            "Server selecting clients to train locally...\n",
            "Previous T round: 183.42303665075934\n",
            "Current T round: 177.39508854255152\n",
            "Max T round: 186.8792542888696\n",
            "Min T round: 177.39508854255152\n",
            "Selected clients (S): 4 out of 100\n",
            "Server selecting data to train centralized...\n",
            "Number of clients in U: 2\n",
            "Time upload: 0\n",
            "Time upload: 0.17872463991756413\n",
            "Time upload: 0.35890949362231755\n",
            "Time upload: 0.5405545611142604\n",
            "Time upload: 0.7251200561805822\n",
            "Time upload: 0.909685551246904\n",
            "Time upload: 1.0778387961086586\n",
            "Time upload: 1.2459920409704133\n",
            "Time upload: 1.378400357848655\n",
            "Time upload: 1.4736035329561945\n",
            "Time upload: 1.5702669218509233\n",
            "Time upload: 1.6669303107456521\n",
            "Time upload: 1.7442610218614352\n",
            "Time upload: 1.7829263774193267\n",
            "Time upload: 1.8022590551982725\n",
            "Time upload: 1.8215917329772182\n",
            "Time upload: 1.840924410756164\n",
            "Selected data length (|D_UL|): 307200\n",
            "Selected clients for this round: 4\n",
            "Distributing model...\n"
          ]
        },
        {
          "name": "stderr",
          "output_type": "stream",
          "text": [
            "Distributing model...: 100%|█████████▉| 33.3000000000002/33.37457729436847 [00:33<00:00,  1.02s/it]   \n"
          ]
        },
        {
          "name": "stdout",
          "output_type": "stream",
          "text": [
            "Scheduled model update and upload...\n",
            "Scheduled model update and upload time: 127.73814272880554 sec\n",
            "Centralized model update...\n",
            "Collecting weights...\n",
            "Aggregating global model...\n",
            "Server: Test acc: 0.3547, test loss: 2.2610, round time: 165.77193808555603\n",
            "\n",
            "Running round: 30 - Time elapsed: 5018.475619316101 seconds\n",
            "Server requesting clients resources...\n",
            "Server selecting clients to train locally...\n",
            "Previous T round: 177.39508854255152\n",
            "Current T round: 180.1934908343769\n",
            "Max T round: 186.8792542888696\n",
            "Min T round: 177.39508854255152\n",
            "Selected clients (S): 4 out of 100\n",
            "Server selecting data to train centralized...\n",
            "Number of clients in U: 2\n",
            "Time upload: 0\n",
            "Time upload: 0.16845515471953978\n",
            "Time upload: 0.3385502623718075\n",
            "Time upload: 0.5086453700240752\n",
            "Time upload: 0.6820203835417993\n",
            "Time upload: 0.8553953970595234\n",
            "Time upload: 1.0353302223081595\n",
            "Time upload: 1.2169050004895237\n",
            "Time upload: 1.3430233734568418\n",
            "Time upload: 1.4522962309522058\n",
            "Time upload: 1.526238104570934\n",
            "Time upload: 1.58169450978498\n",
            "Time upload: 1.637150914999026\n",
            "Time upload: 1.692607320213072\n",
            "Time upload: 1.729578257022436\n",
            "Time upload: 1.748063725427118\n",
            "Selected data length (|D_UL|): 307200\n",
            "Selected clients for this round: 4\n",
            "Distributing model...\n"
          ]
        },
        {
          "name": "stderr",
          "output_type": "stream",
          "text": [
            "Distributing model...: 100%|█████████▉| 32.700000000000195/32.7378923008508 [00:33<00:00,  1.02s/it] \n"
          ]
        },
        {
          "name": "stdout",
          "output_type": "stream",
          "text": [
            "Scheduled model update and upload...\n",
            "Scheduled model update and upload time: 124.27588391304016 sec\n",
            "Centralized model update...\n",
            "Collecting weights...\n",
            "Aggregating global model...\n",
            "Server: Test acc: 0.3648, test loss: 2.1341, round time: 161.614972114563\n",
            "\n",
            "Running round: 31 - Time elapsed: 5180.0922935009 seconds\n",
            "Server requesting clients resources...\n",
            "Server selecting clients to train locally...\n",
            "Previous T round: 180.1934908343769\n",
            "Current T round: 182.03815291118656\n",
            "Max T round: 186.8792542888696\n",
            "Min T round: 177.39508854255152\n",
            "Selected clients (S): 5 out of 100\n",
            "Server selecting data to train centralized...\n",
            "Number of clients in U: 2\n",
            "Time upload: 0\n",
            "Time upload: 0.1630505611947151\n",
            "Time upload: 0.3275015041369958\n",
            "Time upload: 0.49195244707927666\n",
            "Time upload: 0.6592041535166885\n",
            "Time upload: 0.8087504220870633\n",
            "Time upload: 0.9461927797806631\n",
            "Time upload: 1.0850355192218288\n",
            "Time upload: 1.2061728207959577\n",
            "Time upload: 1.3287105041176521\n",
            "Time upload: 1.434943131319875\n",
            "Time upload: 1.5234703206550608\n",
            "Time upload: 1.6119975099902466\n",
            "Time upload: 1.6828192614583952\n",
            "Selected data length (|D_UL|): 307200\n",
            "Selected clients for this round: 5\n",
            "Distributing model...\n"
          ]
        },
        {
          "name": "stderr",
          "output_type": "stream",
          "text": [
            "Distributing model...: 100%|█████████▉| 30.20000000000016/30.259096664875763 [00:30<00:00,  1.02s/it]  \n"
          ]
        },
        {
          "name": "stdout",
          "output_type": "stream",
          "text": [
            "Scheduled model update and upload...\n",
            "Scheduled model update and upload time: 146.54360222816467 sec\n",
            "Centralized model update...\n",
            "Collecting weights...\n",
            "Aggregating global model...\n",
            "Server: Test acc: 0.2664, test loss: 3.0737, round time: 181.3810088634491\n",
            "\n",
            "Running round: 32 - Time elapsed: 5361.474842071533 seconds\n",
            "Server requesting clients resources...\n",
            "Server selecting clients to train locally...\n",
            "Previous T round: 182.03815291118656\n",
            "Current T round: 180.8528097426132\n",
            "Max T round: 186.8792542888696\n",
            "Min T round: 177.39508854255152\n",
            "Selected clients (S): 5 out of 100\n",
            "Server selecting data to train centralized...\n",
            "Number of clients in U: 3\n",
            "Time upload: 0\n",
            "Time upload: 0.16694231475647772\n",
            "Time upload: 0.33508206832176385\n",
            "Time upload: 0.5044192606958585\n",
            "Time upload: 0.673756453069953\n",
            "Time upload: 0.8454885230616646\n",
            "Time upload: 1.0196154706709932\n",
            "Time upload: 1.1953156371007345\n",
            "Time upload: 1.373598571153895\n",
            "Time upload: 1.5518815052070554\n",
            "Time upload: 1.7317376580806285\n",
            "Time upload: 1.8937021406697454\n",
            "Time upload: 2.0377749529744063\n",
            "Time upload: 2.163956094994611\n",
            "Time upload: 2.2720576767245575\n",
            "Selected data length (|D_UL|): 405504\n",
            "Selected clients for this round: 5\n",
            "Distributing model...\n"
          ]
        },
        {
          "name": "stderr",
          "output_type": "stream",
          "text": [
            "Distributing model...: 100%|█████████▉| 29.300000000000146/29.32364949805402 [00:29<00:00,  1.02s/it] \n"
          ]
        },
        {
          "name": "stdout",
          "output_type": "stream",
          "text": [
            "Scheduled model update and upload...\n",
            "Scheduled model update and upload time: 146.02337336540222 sec\n",
            "Centralized model update...\n",
            "Collecting weights...\n",
            "Aggregating global model...\n",
            "Server: Test acc: 0.2890, test loss: 3.0745, round time: 180.48922657966614\n",
            "\n",
            "Running round: 33 - Time elapsed: 5541.965676546097 seconds\n",
            "Server requesting clients resources...\n",
            "Server selecting clients to train locally...\n",
            "Previous T round: 180.8528097426132\n",
            "Current T round: 181.86529282184728\n",
            "Max T round: 186.8792542888696\n",
            "Min T round: 177.39508854255152\n",
            "Selected clients (S): 4 out of 100\n",
            "Server selecting data to train centralized...\n",
            "Number of clients in U: 2\n",
            "Time upload: 0\n",
            "Time upload: 0.1558231463234651\n",
            "Time upload: 0.3116462926469302\n",
            "Time upload: 0.46746943897039517\n",
            "Time upload: 0.6240083731070462\n",
            "Time upload: 0.7812630950568832\n",
            "Time upload: 0.9395914987264993\n",
            "Time upload: 1.082337587763769\n",
            "Time upload: 1.2254415707076318\n",
            "Time upload: 1.352963239019148\n",
            "Time upload: 1.4326642817138455\n",
            "Time upload: 1.480484907330664\n",
            "Time upload: 1.512365324408543\n",
            "Time upload: 1.5442457414864221\n",
            "Time upload: 1.5601859500253616\n",
            "Selected data length (|D_UL|): 307200\n",
            "Selected clients for this round: 4\n",
            "Distributing model...\n"
          ]
        },
        {
          "name": "stderr",
          "output_type": "stream",
          "text": [
            "Distributing model...: 100%|█████████▉| 34.40000000000022/34.44414556145801 [00:34<00:00,  1.02s/it]  \n"
          ]
        },
        {
          "name": "stdout",
          "output_type": "stream",
          "text": [
            "Scheduled model update and upload...\n",
            "Scheduled model update and upload time: 123.06682109832764 sec\n",
            "Centralized model update...\n",
            "Collecting weights...\n",
            "Aggregating global model...\n",
            "Server: Test acc: 0.4000, test loss: 2.0264, round time: 162.0646800994873\n",
            "\n",
            "Running round: 34 - Time elapsed: 5704.031823396683 seconds\n",
            "Server requesting clients resources...\n",
            "Server selecting clients to train locally...\n",
            "Previous T round: 181.86529282184728\n",
            "Current T round: 180.0783603166998\n",
            "Max T round: 186.8792542888696\n",
            "Min T round: 177.39508854255152\n",
            "Selected clients (S): 5 out of 100\n",
            "Server selecting data to train centralized...\n",
            "Number of clients in U: 1\n",
            "Time upload: 0\n",
            "Time upload: 0.1859486753166728\n",
            "Time upload: 0.3718973506333456\n",
            "Time upload: 0.5578460259500184\n",
            "Time upload: 0.7066049662033567\n",
            "Time upload: 0.8181741713933603\n",
            "Time upload: 0.8739587739883622\n",
            "Time upload: 0.9111485090516968\n",
            "Selected data length (|D_UL|): 153600\n",
            "Selected clients for this round: 5\n",
            "Distributing model...\n"
          ]
        },
        {
          "name": "stderr",
          "output_type": "stream",
          "text": [
            "Distributing model...: 100%|█████████▉| 29.800000000000153/29.815223985200944 [00:30<00:00,  1.02s/it] \n"
          ]
        },
        {
          "name": "stdout",
          "output_type": "stream",
          "text": [
            "Scheduled model update and upload...\n",
            "Scheduled model update and upload time: 142.52362775802612 sec\n",
            "Centralized model update...\n",
            "Collecting weights...\n",
            "Aggregating global model...\n",
            "Server: Test acc: 0.3600, test loss: 2.2911, round time: 176.23910856246948\n",
            "\n",
            "Running round: 35 - Time elapsed: 5880.272347211838 seconds\n",
            "Server requesting clients resources...\n",
            "Server selecting clients to train locally...\n",
            "Previous T round: 180.0783603166998\n",
            "Current T round: 178.4399652586446\n",
            "Max T round: 186.8792542888696\n",
            "Min T round: 177.39508854255152\n",
            "Selected clients (S): 4 out of 100\n",
            "Server selecting data to train centralized...\n",
            "Number of clients in U: 0\n",
            "Time upload: 0\n",
            "Selected data length (|D_UL|): 0\n",
            "Selected clients for this round: 4\n",
            "Distributing model...\n"
          ]
        },
        {
          "name": "stderr",
          "output_type": "stream",
          "text": [
            "Distributing model...: 100%|█████████▉| 31.500000000000178/31.57782776316492 [00:32<00:00,  1.02s/it] \n"
          ]
        },
        {
          "name": "stdout",
          "output_type": "stream",
          "text": [
            "Scheduled model update and upload...\n",
            "Scheduled model update and upload time: 125.8310136795044 sec\n",
            "Centralized model update...\n",
            "Collecting weights...\n",
            "Aggregating global model...\n",
            "Server: Test acc: 0.3046, test loss: 3.0410, round time: 160.77341389656067\n",
            "\n",
            "Running round: 36 - Time elapsed: 6041.047313690186 seconds\n",
            "Server requesting clients resources...\n",
            "Server selecting clients to train locally...\n",
            "Previous T round: 178.4399652586446\n",
            "Current T round: 185.94911968054808\n",
            "Max T round: 186.8792542888696\n",
            "Min T round: 177.39508854255152\n",
            "Selected clients (S): 5 out of 100\n",
            "Server selecting data to train centralized...\n",
            "Number of clients in U: 1\n",
            "Time upload: 0\n",
            "Time upload: 0.17846004270421498\n",
            "Time upload: 0.3390740811380084\n",
            "Time upload: 0.4818421153013803\n",
            "Time upload: 0.6246101494647522\n",
            "Time upload: 0.7316861750872812\n",
            "Time upload: 0.8030701921689671\n",
            "Time upload: 0.8566082049802316\n",
            "Time upload: 0.8744542092506531\n",
            "Selected data length (|D_UL|): 153600\n",
            "Selected clients for this round: 5\n",
            "Distributing model...\n"
          ]
        },
        {
          "name": "stderr",
          "output_type": "stream",
          "text": [
            "Distributing model...: 100%|█████████▉| 30.700000000000166/30.727974835680605 [00:31<00:00,  1.02s/it] \n"
          ]
        },
        {
          "name": "stdout",
          "output_type": "stream",
          "text": [
            "Scheduled model update and upload...\n",
            "Scheduled model update and upload time: 157.27001643180847 sec\n",
            "Centralized model update...\n",
            "Collecting weights...\n",
            "Aggregating global model...\n",
            "Server: Test acc: 0.3755, test loss: 2.3476, round time: 191.88758277893066\n",
            "\n",
            "Running round: 37 - Time elapsed: 6232.936573505402 seconds\n",
            "Server requesting clients resources...\n",
            "Server selecting clients to train locally...\n",
            "Previous T round: 185.94911968054808\n",
            "Current T round: 182.4286138521694\n",
            "Max T round: 186.8792542888696\n",
            "Min T round: 177.39508854255152\n",
            "Selected clients (S): 4 out of 100\n",
            "Server selecting data to train centralized...\n",
            "Number of clients in U: 1\n",
            "Time upload: 0\n",
            "Time upload: 0.19197142266389003\n",
            "Time upload: 0.36474570306139115\n",
            "Time upload: 0.5183228411925033\n",
            "Time upload: 0.6335056947908374\n",
            "Time upload: 0.7486885483891715\n",
            "Time upload: 0.8254771174547276\n",
            "Time upload: 0.9022656865202837\n",
            "Time upload: 0.9406599710530618\n",
            "Selected data length (|D_UL|): 153600\n",
            "Selected clients for this round: 4\n",
            "Distributing model...\n"
          ]
        },
        {
          "name": "stderr",
          "output_type": "stream",
          "text": [
            "Distributing model...: 100%|█████████▉| 34.00000000000021/34.052989098399486 [00:34<00:00,  1.02s/it]  \n"
          ]
        },
        {
          "name": "stdout",
          "output_type": "stream",
          "text": [
            "Scheduled model update and upload...\n",
            "Scheduled model update and upload time: 132.66872024536133 sec\n",
            "Centralized model update...\n",
            "Collecting weights...\n",
            "Aggregating global model...\n",
            "Server: Test acc: 0.3678, test loss: 2.5041, round time: 170.56446313858032\n",
            "\n",
            "Running round: 38 - Time elapsed: 6403.502443790436 seconds\n",
            "Server requesting clients resources...\n",
            "Server selecting clients to train locally...\n",
            "Previous T round: 182.4286138521694\n",
            "Current T round: 175.98659143043855\n",
            "Max T round: 186.8792542888696\n",
            "Min T round: 175.98659143043855\n",
            "Selected clients (S): 4 out of 100\n",
            "Server selecting data to train centralized...\n",
            "Number of clients in U: 1\n",
            "Time upload: 0\n",
            "Time upload: 0.18009596673958098\n",
            "Time upload: 0.3601919334791618\n",
            "Time upload: 0.5402879002187425\n",
            "Time upload: 0.6843646736104071\n",
            "Time upload: 0.7924222536541555\n",
            "Time upload: 0.8644606403499878\n",
            "Time upload: 0.8824702370239459\n",
            "Selected data length (|D_UL|): 153600\n",
            "Selected clients for this round: 4\n",
            "Distributing model...\n"
          ]
        },
        {
          "name": "stderr",
          "output_type": "stream",
          "text": [
            "Distributing model...: 100%|█████████▉| 35.10000000000023/35.148647166128384 [00:35<00:00,  1.02s/it]  \n"
          ]
        },
        {
          "name": "stdout",
          "output_type": "stream",
          "text": [
            "Scheduled model update and upload...\n",
            "Scheduled model update and upload time: 132.85228157043457 sec\n",
            "Centralized model update...\n",
            "Collecting weights...\n",
            "Aggregating global model...\n",
            "Server: Test acc: 0.3644, test loss: 2.5792, round time: 171.88361239433289\n",
            "\n",
            "Running round: 39 - Time elapsed: 6575.388014554977 seconds\n",
            "Server requesting clients resources...\n",
            "Server selecting clients to train locally...\n",
            "Previous T round: 175.98659143043855\n",
            "Current T round: 184.86967765756623\n",
            "Max T round: 186.8792542888696\n",
            "Min T round: 175.98659143043855\n",
            "Selected clients (S): 5 out of 100\n",
            "Server selecting data to train centralized...\n",
            "Number of clients in U: 2\n",
            "Time upload: 0\n",
            "Time upload: 0.17188993649608955\n",
            "Time upload: 0.34672953770064074\n",
            "Time upload: 0.5245188036136533\n",
            "Time upload: 0.7023080695266656\n",
            "Time upload: 0.8658580064985305\n",
            "Time upload: 1.0353072728873187\n",
            "Time upload: 1.1875675456264982\n",
            "Time upload: 1.3457271477826007\n",
            "Time upload: 1.5038867499387032\n",
            "Time upload: 1.6448573584451966\n",
            "Time upload: 1.7455506502355491\n",
            "Time upload: 1.8059666253097606\n",
            "Time upload: 1.8462439420259016\n",
            "Selected data length (|D_UL|): 307200\n",
            "Selected clients for this round: 5\n",
            "Distributing model...\n"
          ]
        },
        {
          "name": "stderr",
          "output_type": "stream",
          "text": [
            "Distributing model...: 100%|█████████▉| 31.800000000000182/31.808738896056525 [00:32<00:00,  1.01s/it] \n"
          ]
        },
        {
          "name": "stdout",
          "output_type": "stream",
          "text": [
            "Scheduled model update and upload...\n",
            "Scheduled model update and upload time: 146.99813270568848 sec\n",
            "Centralized model update...\n",
            "Collecting weights...\n",
            "Aggregating global model...\n",
            "Server: Test acc: 0.3488, test loss: 2.7446, round time: 183.2420015335083\n",
            "\n",
            "Running round: 40 - Time elapsed: 6758.63148021698 seconds\n",
            "Server requesting clients resources...\n",
            "Server selecting clients to train locally...\n",
            "Previous T round: 184.86967765756623\n",
            "Current T round: 182.29170979087812\n",
            "Max T round: 186.8792542888696\n",
            "Min T round: 175.98659143043855\n",
            "Selected clients (S): 5 out of 100\n",
            "Server selecting data to train centralized...\n",
            "Number of clients in U: 0\n",
            "Time upload: 0\n",
            "Selected data length (|D_UL|): 0\n",
            "Selected clients for this round: 5\n",
            "Distributing model...\n"
          ]
        },
        {
          "name": "stderr",
          "output_type": "stream",
          "text": [
            "Distributing model...: 100%|█████████▉| 32.700000000000195/32.754626119472874 [00:33<00:00,  1.01s/it] \n"
          ]
        },
        {
          "name": "stdout",
          "output_type": "stream",
          "text": [
            "Scheduled model update and upload...\n",
            "Scheduled model update and upload time: 167.3617537021637 sec\n",
            "Centralized model update...\n",
            "Collecting weights...\n",
            "Aggregating global model...\n",
            "Server: Test acc: 0.3237, test loss: 2.7669, round time: 203.58941197395325\n",
            "\n",
            "Running round: 41 - Time elapsed: 6962.223200559616 seconds\n",
            "Server requesting clients resources...\n",
            "Server selecting clients to train locally...\n",
            "Previous T round: 182.29170979087812\n",
            "Current T round: 180.1248941746782\n",
            "Max T round: 186.8792542888696\n",
            "Min T round: 175.98659143043855\n",
            "Selected clients (S): 4 out of 100\n",
            "Server selecting data to train centralized...\n",
            "Number of clients in U: 1\n",
            "Time upload: 0\n",
            "Time upload: 0.20099750769129396\n",
            "Time upload: 0.3818952646134585\n",
            "Time upload: 0.562793021535623\n",
            "Time upload: 0.7436907784577876\n",
            "Time upload: 0.864289283072564\n",
            "Time upload: 0.9245885353799522\n",
            "Time upload: 0.9848877876873404\n",
            "Selected data length (|D_UL|): 153600\n",
            "Selected clients for this round: 4\n",
            "Distributing model...\n"
          ]
        },
        {
          "name": "stderr",
          "output_type": "stream",
          "text": [
            "Distributing model...: 100%|█████████▉| 32.800000000000196/32.8085211901662 [00:33<00:00,  1.01s/it] \n"
          ]
        },
        {
          "name": "stdout",
          "output_type": "stream",
          "text": [
            "Scheduled model update and upload...\n",
            "Scheduled model update and upload time: 124.9066436290741 sec\n",
            "Centralized model update...\n",
            "Collecting weights...\n",
            "Aggregating global model...\n",
            "Server: Test acc: 0.3610, test loss: 2.5134, round time: 161.48054122924805\n",
            "\n",
            "Running round: 42 - Time elapsed: 7123.707473993301 seconds\n",
            "Server requesting clients resources...\n",
            "Server selecting clients to train locally...\n",
            "Previous T round: 180.1248941746782\n",
            "Current T round: 185.9048424970353\n",
            "Max T round: 186.8792542888696\n",
            "Min T round: 175.98659143043855\n",
            "Selected clients (S): 4 out of 100\n",
            "Server selecting data to train centralized...\n",
            "Number of clients in U: 2\n",
            "Time upload: 0\n",
            "Time upload: 0.17783847244847154\n",
            "Time upload: 0.3556769448969431\n",
            "Time upload: 0.5373458549623765\n",
            "Time upload: 0.7266756402617335\n",
            "Time upload: 0.923666300795014\n",
            "Time upload: 1.1206569613282946\n",
            "Time upload: 1.307524649850652\n",
            "Time upload: 1.4549942062663535\n",
            "Time upload: 1.5808494778202458\n",
            "Time upload: 1.688920902129291\n",
            "Time upload: 1.7537637567147182\n",
            "Time upload: 1.7969923264383363\n",
            "Time upload: 1.8402208961619544\n",
            "Time upload: 1.8834494658855725\n",
            "Time upload: 1.9266780356091906\n",
            "Selected data length (|D_UL|): 307200\n",
            "Selected clients for this round: 4\n",
            "Distributing model...\n"
          ]
        },
        {
          "name": "stderr",
          "output_type": "stream",
          "text": [
            "Distributing model...: 100%|█████████▉| 35.00000000000023/35.04267824895058 [00:35<00:00,  1.01s/it]  \n"
          ]
        },
        {
          "name": "stdout",
          "output_type": "stream",
          "text": [
            "Scheduled model update and upload...\n",
            "Scheduled model update and upload time: 128.06476545333862 sec\n",
            "Centralized model update...\n",
            "Collecting weights...\n",
            "Aggregating global model...\n",
            "Server: Test acc: 0.4233, test loss: 1.8472, round time: 167.70432877540588\n",
            "\n",
            "Running round: 43 - Time elapsed: 7291.413299560547 seconds\n",
            "Server requesting clients resources...\n",
            "Server selecting clients to train locally...\n",
            "Previous T round: 185.9048424970353\n",
            "Current T round: 182.24134129669642\n",
            "Max T round: 186.8792542888696\n",
            "Min T round: 175.98659143043855\n",
            "Selected clients (S): 4 out of 100\n",
            "Server selecting data to train centralized...\n",
            "Number of clients in U: 1\n",
            "Time upload: 0\n",
            "Time upload: 0.15707289992593246\n",
            "Time upload: 0.2984385098592717\n",
            "Time upload: 0.4240968298000176\n",
            "Time upload: 0.5497551497407638\n",
            "Time upload: 0.6439988896963236\n",
            "Time upload: 0.7068280496666968\n",
            "Time upload: 0.7539499196444767\n",
            "Time upload: 0.76965720963707\n",
            "Selected data length (|D_UL|): 153600\n",
            "Selected clients for this round: 4\n",
            "Distributing model...\n"
          ]
        },
        {
          "name": "stderr",
          "output_type": "stream",
          "text": [
            "Distributing model...: 100%|█████████▉| 30.700000000000166/30.7734323860128 [00:31<00:00,  1.01s/it] \n"
          ]
        },
        {
          "name": "stdout",
          "output_type": "stream",
          "text": [
            "Scheduled model update and upload...\n",
            "Scheduled model update and upload time: 121.59205794334412 sec\n",
            "Centralized model update...\n",
            "Collecting weights...\n",
            "Aggregating global model...\n",
            "Server: Test acc: 0.4347, test loss: 1.9141, round time: 156.04424238204956\n",
            "\n",
            "Running round: 44 - Time elapsed: 7447.4595079422 seconds\n",
            "Server requesting clients resources...\n",
            "Server selecting clients to train locally...\n",
            "Previous T round: 182.24134129669642\n",
            "Current T round: 182.43275912242441\n",
            "Max T round: 186.8792542888696\n",
            "Min T round: 175.98659143043855\n",
            "Selected clients (S): 4 out of 100\n",
            "Server selecting data to train centralized...\n",
            "Number of clients in U: 2\n",
            "Time upload: 0\n",
            "Time upload: 0.18069720994313132\n",
            "Time upload: 0.3633074244280509\n",
            "Time upload: 0.5478306434547586\n",
            "Time upload: 0.7323538624814665\n",
            "Time upload: 0.9207030905917508\n",
            "Time upload: 1.1128783277856114\n",
            "Time upload: 1.2869838439851586\n",
            "Time upload: 1.4449326437321812\n",
            "Time upload: 1.5828987179431024\n",
            "Time upload: 1.662829620087508\n",
            "Time upload: 1.7427605222319134\n",
            "Time upload: 1.8027086988402174\n",
            "Time upload: 1.8426741499124202\n",
            "Time upload: 1.882639600984623\n",
            "Selected data length (|D_UL|): 307200\n",
            "Selected clients for this round: 4\n",
            "Distributing model...\n"
          ]
        },
        {
          "name": "stderr",
          "output_type": "stream",
          "text": [
            "Distributing model...: 100%|█████████▉| 35.10000000000023/35.12820365097157 [00:35<00:00,  1.01s/it]  \n"
          ]
        },
        {
          "name": "stdout",
          "output_type": "stream",
          "text": [
            "Scheduled model update and upload...\n",
            "Scheduled model update and upload time: 130.37120246887207 sec\n",
            "Centralized model update...\n",
            "Collecting weights...\n",
            "Aggregating global model...\n",
            "Server: Test acc: 0.3568, test loss: 2.7410, round time: 170.05648159980774\n",
            "\n",
            "Running round: 45 - Time elapsed: 7617.517679691315 seconds\n",
            "Server requesting clients resources...\n",
            "Server selecting clients to train locally...\n",
            "Previous T round: 182.43275912242441\n",
            "Current T round: 183.53296849070298\n",
            "Max T round: 186.8792542888696\n",
            "Min T round: 175.98659143043855\n",
            "Selected clients (S): 4 out of 100\n",
            "Server selecting data to train centralized...\n",
            "Number of clients in U: 1\n",
            "Time upload: 0\n",
            "Time upload: 0.19891455406550046\n",
            "Time upload: 0.3779376527244507\n",
            "Time upload: 0.5370692959768508\n",
            "Time upload: 0.696200939229251\n",
            "Time upload: 0.8155496716685511\n",
            "Time upload: 0.8951154932947512\n",
            "Time upload: 0.9547898595144012\n",
            "Time upload: 0.9746813149209512\n",
            "Selected data length (|D_UL|): 153600\n",
            "Selected clients for this round: 4\n",
            "Distributing model...\n"
          ]
        },
        {
          "name": "stderr",
          "output_type": "stream",
          "text": [
            "Distributing model...: 100%|█████████▉| 33.2000000000002/33.26500026687234 [00:33<00:00,  1.01s/it]   \n"
          ]
        },
        {
          "name": "stdout",
          "output_type": "stream",
          "text": [
            "Scheduled model update and upload...\n",
            "Scheduled model update and upload time: 145.98720240592957 sec\n",
            "Centralized model update...\n",
            "Collecting weights...\n",
            "Aggregating global model...\n",
            "Server: Test acc: 0.4199, test loss: 2.3018, round time: 182.9832100868225\n",
            "\n",
            "Running round: 46 - Time elapsed: 7800.502460479736 seconds\n",
            "Server requesting clients resources...\n",
            "Server selecting clients to train locally...\n",
            "Previous T round: 183.53296849070298\n",
            "Current T round: 185.6113842988397\n",
            "Max T round: 186.8792542888696\n",
            "Min T round: 175.98659143043855\n",
            "Selected clients (S): 5 out of 100\n",
            "Server selecting data to train centralized...\n",
            "Number of clients in U: 0\n",
            "Time upload: 0\n",
            "Selected data length (|D_UL|): 0\n",
            "Selected clients for this round: 5\n",
            "Distributing model...\n"
          ]
        },
        {
          "name": "stderr",
          "output_type": "stream",
          "text": [
            "Distributing model...: 100%|█████████▉| 31.300000000000175/31.351134172227713 [00:31<00:00,  1.01s/it] \n"
          ]
        },
        {
          "name": "stdout",
          "output_type": "stream",
          "text": [
            "Scheduled model update and upload...\n",
            "Scheduled model update and upload time: 154.6691439151764 sec\n",
            "Centralized model update...\n",
            "Collecting weights...\n",
            "Aggregating global model...\n",
            "Server: Test acc: 0.4262, test loss: 2.0903, round time: 189.32828640937805\n",
            "\n",
            "Running round: 47 - Time elapsed: 7989.83234500885 seconds\n",
            "Server requesting clients resources...\n",
            "Server selecting clients to train locally...\n",
            "Previous T round: 185.6113842988397\n",
            "Current T round: 186.4659831774428\n",
            "Max T round: 186.8792542888696\n",
            "Min T round: 175.98659143043855\n",
            "Selected clients (S): 5 out of 100\n",
            "Server selecting data to train centralized...\n",
            "Number of clients in U: 1\n",
            "Time upload: 0\n",
            "Time upload: 0.2190997039072148\n",
            "Time upload: 0.41628943742370794\n",
            "Time upload: 0.6134791709402013\n",
            "Time upload: 0.7668489636752519\n",
            "Time upload: 0.9202187564103025\n",
            "Time upload: 0.985948667582467\n",
            "Time upload: 1.02976860836391\n",
            "Time upload: 1.073588549145353\n",
            "Selected data length (|D_UL|): 153600\n",
            "Selected clients for this round: 5\n",
            "Distributing model...\n"
          ]
        },
        {
          "name": "stderr",
          "output_type": "stream",
          "text": [
            "Distributing model...: 100%|█████████▉| 34.200000000000216/34.24325714828774 [00:34<00:00,  1.01s/it] \n"
          ]
        },
        {
          "name": "stdout",
          "output_type": "stream",
          "text": [
            "Scheduled model update and upload...\n",
            "Scheduled model update and upload time: 156.19928002357483 sec\n",
            "Centralized model update...\n",
            "Collecting weights...\n",
            "Aggregating global model...\n",
            "Server: Test acc: 0.4066, test loss: 2.2976, round time: 194.26170945167542\n",
            "\n",
            "Running round: 48 - Time elapsed: 8184.095545291901 seconds\n",
            "Server requesting clients resources...\n",
            "Server selecting clients to train locally...\n",
            "Previous T round: 186.4659831774428\n",
            "Current T round: 177.89643527777395\n",
            "Max T round: 186.8792542888696\n",
            "Min T round: 175.98659143043855\n",
            "Selected clients (S): 4 out of 100\n",
            "Server selecting data to train centralized...\n",
            "Number of clients in U: 2\n",
            "Time upload: 0\n",
            "Time upload: 0.16587723764929052\n",
            "Time upload: 0.3333872580195028\n",
            "Time upload: 0.5008972783897151\n",
            "Time upload: 0.6684072987599269\n",
            "Time upload: 0.8408156672929038\n",
            "Time upload: 1.018122383988646\n",
            "Time upload: 1.1772085941985373\n",
            "Time upload: 1.3213398633644213\n",
            "Time upload: 1.4488834087653764\n",
            "Time upload: 1.53998594119463\n",
            "Time upload: 1.6128679671380328\n",
            "Time upload: 1.6857499930814357\n",
            "Time upload: 1.7221910060531371\n",
            "Selected data length (|D_UL|): 307200\n",
            "Selected clients for this round: 4\n",
            "Distributing model...\n"
          ]
        },
        {
          "name": "stderr",
          "output_type": "stream",
          "text": [
            "Distributing model...: 100%|█████████▉| 32.30000000000019/32.37820962691927 [00:32<00:00,  1.01s/it]  \n"
          ]
        },
        {
          "name": "stdout",
          "output_type": "stream",
          "text": [
            "Scheduled model update and upload...\n",
            "Scheduled model update and upload time: 122.57235789299011 sec\n",
            "Centralized model update...\n",
            "Collecting weights...\n",
            "Aggregating global model...\n",
            "Server: Test acc: 0.4310, test loss: 2.0352, round time: 159.2975151538849\n",
            "\n",
            "Running round: 49 - Time elapsed: 8343.394644498825 seconds\n",
            "Server requesting clients resources...\n",
            "Server selecting clients to train locally...\n",
            "Previous T round: 177.89643527777395\n",
            "Current T round: 181.2606605298215\n",
            "Max T round: 186.8792542888696\n",
            "Min T round: 175.98659143043855\n",
            "Selected clients (S): 4 out of 100\n",
            "Server selecting data to train centralized...\n",
            "Number of clients in U: 2\n",
            "Time upload: 0\n",
            "Time upload: 0.17354728097219618\n",
            "Time upload: 0.34757852343145285\n",
            "Time upload: 0.5220937273777702\n",
            "Time upload: 0.6966089313240875\n",
            "Time upload: 0.8720920582445262\n",
            "Time upload: 1.0307044185548058\n",
            "Time upload: 1.1898007403521458\n",
            "Time upload: 1.3320262955393265\n",
            "Time upload: 1.4742518507265072\n",
            "Time upload: 1.5991226778164682\n",
            "Time upload: 1.688316125737869\n",
            "Time upload: 1.7239935049064292\n",
            "Time upload: 1.7418321944907094\n",
            "Selected data length (|D_UL|): 307200\n",
            "Selected clients for this round: 4\n",
            "Distributing model...\n"
          ]
        },
        {
          "name": "stderr",
          "output_type": "stream",
          "text": [
            "Distributing model...: 100%|█████████▉| 36.00000000000024/36.06221832071184 [00:36<00:00,  1.01s/it]  \n"
          ]
        },
        {
          "name": "stdout",
          "output_type": "stream",
          "text": [
            "Scheduled model update and upload...\n",
            "Scheduled model update and upload time: 128.64028978347778 sec\n",
            "Centralized model update...\n",
            "Collecting weights...\n",
            "Aggregating global model...\n",
            "Server: Test acc: 0.3813, test loss: 2.5319, round time: 169.2734031677246\n",
            "\n",
            "Running round: 50 - Time elapsed: 8512.669460773468 seconds\n",
            "Server requesting clients resources...\n",
            "Server selecting clients to train locally...\n",
            "Previous T round: 181.2606605298215\n",
            "Current T round: 178.3294909828341\n",
            "Max T round: 186.8792542888696\n",
            "Min T round: 175.98659143043855\n",
            "Selected clients (S): 4 out of 100\n",
            "Server selecting data to train centralized...\n",
            "Number of clients in U: 0\n",
            "Time upload: 0\n",
            "Selected data length (|D_UL|): 0\n",
            "Selected clients for this round: 4\n",
            "Distributing model...\n"
          ]
        },
        {
          "name": "stderr",
          "output_type": "stream",
          "text": [
            "Distributing model...: 100%|█████████▉| 34.70000000000022/34.738835387849356 [00:35<00:00,  1.01s/it]  \n"
          ]
        },
        {
          "name": "stdout",
          "output_type": "stream",
          "text": [
            "Scheduled model update and upload...\n",
            "Scheduled model update and upload time: 131.5558454990387 sec\n",
            "Centralized model update...\n",
            "Collecting weights...\n",
            "Aggregating global model...\n",
            "Server: Test acc: 0.3376, test loss: 3.2370, round time: 169.65416479110718\n",
            "\n",
            "Running round: 51 - Time elapsed: 8682.325235366821 seconds\n",
            "Server requesting clients resources...\n",
            "Server selecting clients to train locally...\n",
            "Previous T round: 178.3294909828341\n",
            "Current T round: 180.10887682940793\n",
            "Max T round: 186.8792542888696\n",
            "Min T round: 175.98659143043855\n",
            "Selected clients (S): 4 out of 100\n",
            "Server selecting data to train centralized...\n",
            "Number of clients in U: 0\n",
            "Time upload: 0\n",
            "Selected data length (|D_UL|): 0\n",
            "Selected clients for this round: 4\n",
            "Distributing model...\n"
          ]
        },
        {
          "name": "stderr",
          "output_type": "stream",
          "text": [
            "Distributing model...: 100%|█████████▉| 33.0000000000002/33.041103277199774 [00:33<00:00,  1.01s/it]   \n"
          ]
        },
        {
          "name": "stdout",
          "output_type": "stream",
          "text": [
            "Scheduled model update and upload...\n",
            "Scheduled model update and upload time: 121.94600820541382 sec\n",
            "Centralized model update...\n",
            "Collecting weights...\n",
            "Aggregating global model...\n",
            "Server: Test acc: 0.3402, test loss: 2.7968, round time: 158.3344602584839\n",
            "\n",
            "Running round: 52 - Time elapsed: 8840.66132760048 seconds\n",
            "Server requesting clients resources...\n",
            "Server selecting clients to train locally...\n",
            "Previous T round: 180.10887682940793\n",
            "Current T round: 177.2096191607691\n",
            "Max T round: 186.8792542888696\n",
            "Min T round: 175.98659143043855\n",
            "Selected clients (S): 4 out of 100\n",
            "Server selecting data to train centralized...\n",
            "Number of clients in U: 2\n",
            "Time upload: 0\n",
            "Time upload: 0.1583659952066588\n",
            "Time upload: 0.3186700550435283\n",
            "Time upload: 0.4809121795106085\n",
            "Time upload: 0.6431543039776884\n",
            "Time upload: 0.8092725577051894\n",
            "Time upload: 0.9792669406931116\n",
            "Time upload: 1.1156500600094919\n",
            "Time upload: 1.2381346444354167\n",
            "Time upload: 1.3606192288613415\n",
            "Time upload: 1.4494925496157238\n",
            "Time upload: 1.5205912062192297\n",
            "Time upload: 1.5739151986718591\n",
            "Time upload: 1.609464526973612\n",
            "Time upload: 1.645013855275365\n",
            "Time upload: 1.6627885194262415\n",
            "Selected data length (|D_UL|): 307200\n",
            "Selected clients for this round: 4\n",
            "Distributing model...\n"
          ]
        },
        {
          "name": "stderr",
          "output_type": "stream",
          "text": [
            "Distributing model...: 100%|█████████▉| 30.800000000000168/30.81717921974837 [00:31<00:00,  1.01s/it] \n"
          ]
        },
        {
          "name": "stdout",
          "output_type": "stream",
          "text": [
            "Scheduled model update and upload...\n",
            "Scheduled model update and upload time: 121.57939529418945 sec\n",
            "Centralized model update...\n",
            "Collecting weights...\n",
            "Aggregating global model...\n",
            "Server: Test acc: 0.3383, test loss: 2.8045, round time: 156.96264958381653\n",
            "\n",
            "Running round: 53 - Time elapsed: 8997.62549495697 seconds\n",
            "Server requesting clients resources...\n",
            "Server selecting clients to train locally...\n",
            "Previous T round: 177.2096191607691\n",
            "Current T round: 180.19351080364265\n",
            "Max T round: 186.8792542888696\n",
            "Min T round: 175.98659143043855\n",
            "Selected clients (S): 4 out of 100\n",
            "Server selecting data to train centralized...\n",
            "Number of clients in U: 1\n",
            "Time upload: 0\n",
            "Time upload: 0.18417844870729452\n",
            "Time upload: 0.36835689741458905\n",
            "Time upload: 0.5525353461218837\n",
            "Time upload: 0.6998781050877197\n",
            "Time upload: 0.8103851743120968\n",
            "Time upload: 0.8656387089242853\n",
            "Time upload: 0.9024743986657443\n",
            "Selected data length (|D_UL|): 153600\n",
            "Selected clients for this round: 4\n",
            "Distributing model...\n"
          ]
        },
        {
          "name": "stderr",
          "output_type": "stream",
          "text": [
            "Distributing model...: 100%|█████████▉| 30.100000000000158/30.121401046594055 [00:30<00:00,  1.01s/it] \n"
          ]
        },
        {
          "name": "stdout",
          "output_type": "stream",
          "text": [
            "Scheduled model update and upload...\n",
            "Scheduled model update and upload time: 119.26215434074402 sec\n",
            "Centralized model update...\n",
            "Collecting weights...\n",
            "Aggregating global model...\n",
            "Server: Test acc: 0.3588, test loss: 3.0018, round time: 153.0281126499176\n",
            "\n",
            "Running round: 54 - Time elapsed: 9150.65499329567 seconds\n",
            "Server requesting clients resources...\n",
            "Server selecting clients to train locally...\n",
            "Previous T round: 180.19351080364265\n",
            "Current T round: 185.4700326324385\n",
            "Max T round: 186.8792542888696\n",
            "Min T round: 175.98659143043855\n",
            "Selected clients (S): 4 out of 100\n",
            "Server selecting data to train centralized...\n",
            "Number of clients in U: 1\n",
            "Time upload: 0\n",
            "Time upload: 0.18958637782511012\n",
            "Time upload: 0.37917275565022013\n",
            "Time upload: 0.5687591334753304\n",
            "Time upload: 0.7393868735179299\n",
            "Time upload: 0.8720973379955073\n",
            "Time upload: 0.9289732513430404\n",
            "Selected data length (|D_UL|): 153600\n",
            "Selected clients for this round: 4\n",
            "Distributing model...\n"
          ]
        },
        {
          "name": "stderr",
          "output_type": "stream",
          "text": [
            "Distributing model...: 100%|█████████▉| 37.10000000000026/37.11475475956968 [00:37<00:00,  1.01s/it]  \n"
          ]
        },
        {
          "name": "stdout",
          "output_type": "stream",
          "text": [
            "Scheduled model update and upload...\n",
            "Scheduled model update and upload time: 133.44721150398254 sec\n",
            "Centralized model update...\n",
            "Collecting weights...\n",
            "Aggregating global model...\n",
            "Server: Test acc: 0.4448, test loss: 2.0615, round time: 174.46020770072937\n",
            "\n",
            "Running round: 55 - Time elapsed: 9325.116935491562 seconds\n",
            "Server requesting clients resources...\n",
            "Server selecting clients to train locally...\n",
            "Previous T round: 185.4700326324385\n",
            "Current T round: 180.67366775653628\n",
            "Max T round: 186.8792542888696\n",
            "Min T round: 175.98659143043855\n",
            "Selected clients (S): 4 out of 100\n",
            "Server selecting data to train centralized...\n",
            "Number of clients in U: 1\n",
            "Time upload: 0\n",
            "Time upload: 0.17251719645762775\n",
            "Time upload: 0.32778267326949273\n",
            "Time upload: 0.46579643043559493\n",
            "Time upload: 0.6038101876016971\n",
            "Time upload: 0.7073205054762738\n",
            "Time upload: 0.7763273840593249\n",
            "Time upload: 0.8280825429966132\n",
            "Time upload: 0.845334262642376\n",
            "Selected data length (|D_UL|): 153600\n",
            "Selected clients for this round: 4\n",
            "Distributing model...\n"
          ]
        },
        {
          "name": "stderr",
          "output_type": "stream",
          "text": [
            "Distributing model...: 100%|█████████▉| 31.400000000000176/31.444107582115187 [00:31<00:00,  1.01s/it] \n"
          ]
        },
        {
          "name": "stdout",
          "output_type": "stream",
          "text": [
            "Scheduled model update and upload...\n",
            "Scheduled model update and upload time: 123.74946331977844 sec\n",
            "Centralized model update...\n",
            "Collecting weights...\n",
            "Aggregating global model...\n",
            "Server: Test acc: 0.4114, test loss: 2.5573, round time: 158.98289132118225\n",
            "\n",
            "Running round: 56 - Time elapsed: 9484.101200819016 seconds\n",
            "Server requesting clients resources...\n",
            "Server selecting clients to train locally...\n",
            "Previous T round: 180.67366775653628\n",
            "Current T round: 183.71419728983875\n",
            "Max T round: 186.8792542888696\n",
            "Min T round: 175.98659143043855\n",
            "Selected clients (S): 4 out of 100\n",
            "Server selecting data to train centralized...\n",
            "Number of clients in U: 1\n",
            "Time upload: 0\n",
            "Time upload: 0.19532587500623275\n",
            "Time upload: 0.3711191625118421\n",
            "Time upload: 0.5273798625168282\n",
            "Time upload: 0.6836405625218143\n",
            "Time upload: 0.8008360875255538\n",
            "Time upload: 0.8789664375280468\n",
            "Time upload: 0.9375642000299166\n",
            "Time upload: 0.9570967875305398\n",
            "Selected data length (|D_UL|): 153600\n",
            "Selected clients for this round: 4\n",
            "Distributing model...\n"
          ]
        },
        {
          "name": "stderr",
          "output_type": "stream",
          "text": [
            "Distributing model...: 100%|█████████▉| 34.40000000000022/34.451304091058155 [00:34<00:00,  1.02s/it]  \n"
          ]
        },
        {
          "name": "stdout",
          "output_type": "stream",
          "text": [
            "Scheduled model update and upload...\n",
            "Scheduled model update and upload time: 127.5501561164856 sec\n",
            "Centralized model update...\n",
            "Collecting weights...\n",
            "Aggregating global model...\n",
            "Server: Test acc: 0.4160, test loss: 2.6004, round time: 165.8339822292328\n",
            "\n",
            "Running round: 57 - Time elapsed: 9649.936680316925 seconds\n",
            "Server requesting clients resources...\n",
            "Server selecting clients to train locally...\n",
            "Previous T round: 183.71419728983875\n",
            "Current T round: 184.48858148587726\n",
            "Max T round: 186.8792542888696\n",
            "Min T round: 175.98659143043855\n",
            "Selected clients (S): 4 out of 100\n",
            "Server selecting data to train centralized...\n",
            "Number of clients in U: 0\n",
            "Time upload: 0\n",
            "Selected data length (|D_UL|): 0\n",
            "Selected clients for this round: 4\n",
            "Distributing model...\n"
          ]
        },
        {
          "name": "stderr",
          "output_type": "stream",
          "text": [
            "Distributing model...: 100%|█████████▉| 36.10000000000024/36.18069812982436 [00:36<00:00,  1.02s/it]  \n"
          ]
        },
        {
          "name": "stdout",
          "output_type": "stream",
          "text": [
            "Scheduled model update and upload...\n",
            "Scheduled model update and upload time: 148.01901960372925 sec\n",
            "Centralized model update...\n",
            "Collecting weights...\n",
            "Aggregating global model...\n",
            "Server: Test acc: 0.3407, test loss: 3.3584, round time: 187.47716236114502\n",
            "\n",
            "Running round: 58 - Time elapsed: 9837.415335178375 seconds\n",
            "Server requesting clients resources...\n",
            "Server selecting clients to train locally...\n",
            "Previous T round: 184.48858148587726\n",
            "Current T round: 182.25481454944955\n",
            "Max T round: 186.8792542888696\n",
            "Min T round: 175.98659143043855\n",
            "Selected clients (S): 5 out of 100\n",
            "Server selecting data to train centralized...\n",
            "Number of clients in U: 0\n",
            "Time upload: 0\n",
            "Selected data length (|D_UL|): 0\n",
            "Selected clients for this round: 5\n",
            "Distributing model...\n"
          ]
        },
        {
          "name": "stderr",
          "output_type": "stream",
          "text": [
            "Distributing model...: 100%|█████████▉| 31.800000000000182/31.866605095963067 [00:32<00:00,  1.01s/it] \n"
          ]
        },
        {
          "name": "stdout",
          "output_type": "stream",
          "text": [
            "Scheduled model update and upload...\n",
            "Scheduled model update and upload time: 153.93552923202515 sec\n",
            "Centralized model update...\n",
            "Collecting weights...\n",
            "Aggregating global model...\n",
            "Server: Test acc: 0.3955, test loss: 2.5731, round time: 189.04118490219116\n",
            "\n",
            "Running round: 59 - Time elapsed: 10026.457929611206 seconds\n",
            "Server requesting clients resources...\n",
            "Server selecting clients to train locally...\n",
            "Previous T round: 182.25481454944955\n",
            "Current T round: 183.4407283363792\n",
            "Max T round: 186.8792542888696\n",
            "Min T round: 175.98659143043855\n",
            "Selected clients (S): 5 out of 100\n",
            "Server selecting data to train centralized...\n",
            "Number of clients in U: 0\n",
            "Time upload: 0\n",
            "Selected data length (|D_UL|): 0\n",
            "Selected clients for this round: 5\n",
            "Distributing model...\n"
          ]
        },
        {
          "name": "stderr",
          "output_type": "stream",
          "text": [
            "Distributing model...: 100%|█████████▉| 31.300000000000175/31.39945515491046 [00:31<00:00,  1.01s/it] \n"
          ]
        },
        {
          "name": "stdout",
          "output_type": "stream",
          "text": [
            "Scheduled model update and upload...\n",
            "Scheduled model update and upload time: 170.67446947097778 sec\n",
            "Centralized model update...\n",
            "Collecting weights...\n",
            "Aggregating global model...\n",
            "Server: Test acc: 0.4192, test loss: 2.6518, round time: 205.37332701683044\n",
            "\n",
            "Running round: 60 - Time elapsed: 10231.832878828049 seconds\n",
            "Server requesting clients resources...\n",
            "Server selecting clients to train locally...\n",
            "Previous T round: 183.4407283363792\n",
            "Current T round: 180.12776517545964\n",
            "Max T round: 186.8792542888696\n",
            "Min T round: 175.98659143043855\n",
            "Selected clients (S): 4 out of 100\n",
            "Server selecting data to train centralized...\n",
            "Number of clients in U: 0\n",
            "Time upload: 0\n",
            "Selected data length (|D_UL|): 0\n",
            "Selected clients for this round: 4\n",
            "Distributing model...\n"
          ]
        },
        {
          "name": "stderr",
          "output_type": "stream",
          "text": [
            "Distributing model...: 100%|█████████▉| 34.800000000000225/34.89251120305475 [00:35<00:00,  1.01s/it] \n"
          ]
        },
        {
          "name": "stdout",
          "output_type": "stream",
          "text": [
            "Scheduled model update and upload...\n",
            "Scheduled model update and upload time: 132.06131386756897 sec\n",
            "Centralized model update...\n",
            "Collecting weights...\n",
            "Aggregating global model...\n",
            "Server: Test acc: 0.4335, test loss: 2.4913, round time: 170.19971823692322\n",
            "\n",
            "Running round: 61 - Time elapsed: 10402.034160375595 seconds\n",
            "Server requesting clients resources...\n",
            "Server selecting clients to train locally...\n",
            "Previous T round: 180.12776517545964\n",
            "Current T round: 181.90918924749897\n",
            "Max T round: 186.8792542888696\n",
            "Min T round: 175.98659143043855\n",
            "Selected clients (S): 4 out of 100\n",
            "Server selecting data to train centralized...\n",
            "Number of clients in U: 0\n",
            "Time upload: 0\n",
            "Selected data length (|D_UL|): 0\n",
            "Selected clients for this round: 4\n",
            "Distributing model...\n"
          ]
        },
        {
          "name": "stderr",
          "output_type": "stream",
          "text": [
            "Distributing model...: 100%|█████████▉| 35.40000000000023/35.49085612268174 [00:35<00:00,  1.01s/it]  \n"
          ]
        },
        {
          "name": "stdout",
          "output_type": "stream",
          "text": [
            "Scheduled model update and upload...\n",
            "Scheduled model update and upload time: 130.03983855247498 sec\n",
            "Centralized model update...\n",
            "Collecting weights...\n",
            "Aggregating global model...\n",
            "Server: Test acc: 0.3755, test loss: 2.8679, round time: 168.78373956680298\n",
            "\n",
            "Running round: 62 - Time elapsed: 10570.819591999054 seconds\n",
            "Server requesting clients resources...\n",
            "Server selecting clients to train locally...\n",
            "Previous T round: 181.90918924749897\n",
            "Current T round: 178.51631312302217\n",
            "Max T round: 186.8792542888696\n",
            "Min T round: 175.98659143043855\n",
            "Selected clients (S): 4 out of 100\n",
            "Server selecting data to train centralized...\n",
            "Number of clients in U: 2\n",
            "Time upload: 0\n",
            "Time upload: 0.16491178064053258\n",
            "Time upload: 0.3319346490630326\n",
            "Time upload: 0.5010686052675001\n",
            "Time upload: 0.670202561471968\n",
            "Time upload: 0.8249564273943502\n",
            "Time upload: 0.9839324688806672\n",
            "Time upload: 1.126417332302931\n",
            "Time upload: 1.2731243712891296\n",
            "Time upload: 1.4198314102753282\n",
            "Time upload: 1.5500472711974735\n",
            "Time upload: 1.6430586004275773\n",
            "Time upload: 1.6988653979656396\n",
            "Time upload: 1.7360699296576811\n",
            "Selected data length (|D_UL|): 307200\n",
            "Selected clients for this round: 4\n",
            "Distributing model...\n"
          ]
        },
        {
          "name": "stderr",
          "output_type": "stream",
          "text": [
            "Distributing model...: 100%|█████████▉| 32.20000000000019/32.21712328929466 [00:32<00:00,  1.02s/it]  \n"
          ]
        },
        {
          "name": "stdout",
          "output_type": "stream",
          "text": [
            "Scheduled model update and upload...\n",
            "Scheduled model update and upload time: 122.94859099388123 sec\n",
            "Centralized model update...\n",
            "Collecting weights...\n",
            "Aggregating global model...\n",
            "Server: Test acc: 0.3523, test loss: 2.7945, round time: 159.52843022346497\n",
            "\n",
            "Running round: 63 - Time elapsed: 10730.349619865417 seconds\n",
            "Server requesting clients resources...\n",
            "Server selecting clients to train locally...\n",
            "Previous T round: 178.51631312302217\n",
            "Current T round: 183.823645363151\n",
            "Max T round: 186.8792542888696\n",
            "Min T round: 175.98659143043855\n",
            "Selected clients (S): 5 out of 100\n",
            "Server selecting data to train centralized...\n",
            "Number of clients in U: 4\n",
            "Time upload: 0\n",
            "Time upload: 0.1737601731113204\n",
            "Time upload: 0.3475203462226407\n",
            "Time upload: 0.521280519333961\n",
            "Time upload: 0.6958511152624421\n",
            "Time upload: 0.8712321340080841\n",
            "Time upload: 1.0474235755708872\n",
            "Time upload: 1.2266809867518662\n",
            "Time upload: 1.4059383979328453\n",
            "Time upload: 1.5893016913072726\n",
            "Time upload: 1.7748255904307586\n",
            "Time upload: 1.9640501603391125\n",
            "Time upload: 2.137033566563564\n",
            "Time upload: 2.3100169727880155\n",
            "Time upload: 2.4854712551181506\n",
            "Selected data length (|D_UL|): 427008\n",
            "Selected clients for this round: 5\n",
            "Distributing model...\n"
          ]
        },
        {
          "name": "stderr",
          "output_type": "stream",
          "text": [
            "Distributing model...: 100%|█████████▉| 30.500000000000163/30.561661390582877 [00:30<00:00,  1.01s/it] \n"
          ]
        },
        {
          "name": "stdout",
          "output_type": "stream",
          "text": [
            "Scheduled model update and upload...\n",
            "Scheduled model update and upload time: 147.4454927444458 sec\n",
            "Centralized model update...\n",
            "Collecting weights...\n",
            "Aggregating global model...\n",
            "Server: Test acc: 0.4079, test loss: 2.6588, round time: 183.4896981716156\n",
            "\n",
            "Running round: 64 - Time elapsed: 10913.840844869614 seconds\n",
            "Server requesting clients resources...\n",
            "Server selecting clients to train locally...\n",
            "Previous T round: 183.823645363151\n",
            "Current T round: 177.3205883450082\n",
            "Max T round: 186.8792542888696\n",
            "Min T round: 175.98659143043855\n",
            "Selected clients (S): 5 out of 100\n",
            "Server selecting data to train centralized...\n",
            "Number of clients in U: 1\n",
            "Time upload: 0\n",
            "Time upload: 0.17074651956143524\n",
            "Time upload: 0.3414930391228706\n",
            "Time upload: 0.512239558684306\n",
            "Time upload: 0.665911426289598\n",
            "Time upload: 0.7854339899826028\n",
            "Time upload: 0.8366579458510335\n",
            "Selected data length (|D_UL|): 153600\n",
            "Selected clients for this round: 5\n",
            "Distributing model...\n"
          ]
        },
        {
          "name": "stderr",
          "output_type": "stream",
          "text": [
            "Distributing model...: 100%|█████████▉| 30.100000000000158/30.193551152628817 [00:30<00:00,  1.01s/it] \n"
          ]
        },
        {
          "name": "stdout",
          "output_type": "stream",
          "text": [
            "Scheduled model update and upload...\n",
            "Scheduled model update and upload time: 151.89558243751526 sec\n",
            "Centralized model update...\n",
            "Collecting weights...\n",
            "Aggregating global model...\n",
            "Server: Test acc: 0.4629, test loss: 1.9129, round time: 185.72975659370422\n",
            "\n",
            "Running round: 65 - Time elapsed: 11099.572026252747 seconds\n",
            "Server requesting clients resources...\n",
            "Server selecting clients to train locally...\n",
            "Previous T round: 177.3205883450082\n",
            "Current T round: 182.24035107797505\n",
            "Max T round: 186.8792542888696\n",
            "Min T round: 175.98659143043855\n",
            "Selected clients (S): 4 out of 100\n",
            "Server selecting data to train centralized...\n",
            "Number of clients in U: 2\n",
            "Time upload: 0\n",
            "Time upload: 0.1547624406058367\n",
            "Time upload: 0.3126697053533625\n",
            "Time upload: 0.47057697010088834\n",
            "Time upload: 0.6347738831317922\n",
            "Time upload: 0.7989707961626961\n",
            "Time upload: 0.9757470057603561\n",
            "Time upload: 1.1556680394997052\n",
            "Time upload: 1.2983469368345086\n",
            "Time upload: 1.388307453704183\n",
            "Time upload: 1.4441706583110012\n",
            "Time upload: 1.5000338629178194\n",
            "Time upload: 1.5558970675246375\n",
            "Time upload: 1.6117602721314557\n",
            "Time upload: 1.6676234767382738\n",
            "Time upload: 1.6862445449405465\n",
            "Selected data length (|D_UL|): 307200\n",
            "Selected clients for this round: 4\n",
            "Distributing model...\n"
          ]
        },
        {
          "name": "stderr",
          "output_type": "stream",
          "text": [
            "Distributing model...: 100%|█████████▉| 33.2000000000002/33.27213664611758 [00:33<00:00,  1.01s/it]   \n"
          ]
        },
        {
          "name": "stdout",
          "output_type": "stream",
          "text": [
            "Scheduled model update and upload...\n",
            "Scheduled model update and upload time: 123.87564373016357 sec\n",
            "Centralized model update...\n",
            "Collecting weights...\n",
            "Aggregating global model...\n",
            "Server: Test acc: 0.3898, test loss: 2.3036, round time: 161.72239136695862\n",
            "\n",
            "Running round: 66 - Time elapsed: 11261.29581618309 seconds\n",
            "Server requesting clients resources...\n",
            "Server selecting clients to train locally...\n",
            "Previous T round: 182.24035107797505\n",
            "Current T round: 179.06148052903578\n",
            "Max T round: 186.8792542888696\n",
            "Min T round: 175.98659143043855\n",
            "Selected clients (S): 4 out of 100\n",
            "Server selecting data to train centralized...\n",
            "Number of clients in U: 0\n",
            "Time upload: 0\n",
            "Selected data length (|D_UL|): 0\n",
            "Selected clients for this round: 4\n",
            "Distributing model...\n"
          ]
        },
        {
          "name": "stderr",
          "output_type": "stream",
          "text": [
            "Distributing model...: 100%|█████████▉| 34.30000000000022/34.34389463891897 [00:34<00:00,  1.01s/it]  \n"
          ]
        },
        {
          "name": "stdout",
          "output_type": "stream",
          "text": [
            "Scheduled model update and upload...\n",
            "Scheduled model update and upload time: 128.030779838562 sec\n",
            "Centralized model update...\n",
            "Collecting weights...\n",
            "Aggregating global model...\n",
            "Server: Test acc: 0.3829, test loss: 2.4955, round time: 165.69877791404724\n",
            "\n",
            "Running round: 67 - Time elapsed: 11426.996166229248 seconds\n",
            "Server requesting clients resources...\n",
            "Server selecting clients to train locally...\n",
            "Previous T round: 179.06148052903578\n",
            "Current T round: 178.7691052844924\n",
            "Max T round: 186.8792542888696\n",
            "Min T round: 175.98659143043855\n",
            "Selected clients (S): 5 out of 100\n",
            "Server selecting data to train centralized...\n",
            "Number of clients in U: 0\n",
            "Time upload: 0\n",
            "Selected data length (|D_UL|): 0\n",
            "Selected clients for this round: 5\n",
            "Distributing model...\n"
          ]
        },
        {
          "name": "stderr",
          "output_type": "stream",
          "text": [
            "Distributing model...: 100%|█████████▉| 28.90000000000014/28.9792180902681 [00:29<00:00,  1.01s/it]  \n"
          ]
        },
        {
          "name": "stdout",
          "output_type": "stream",
          "text": [
            "Scheduled model update and upload...\n",
            "Scheduled model update and upload time: 146.62386798858643 sec\n",
            "Centralized model update...\n",
            "Collecting weights...\n",
            "Aggregating global model...\n",
            "Server: Test acc: 0.4038, test loss: 2.1405, round time: 178.82512855529785\n",
            "\n",
            "Running round: 68 - Time elapsed: 11605.822818040848 seconds\n",
            "Server requesting clients resources...\n",
            "Server selecting clients to train locally...\n",
            "Previous T round: 178.7691052844924\n",
            "Current T round: 185.62148090254993\n",
            "Max T round: 186.8792542888696\n",
            "Min T round: 175.98659143043855\n",
            "Selected clients (S): 4 out of 100\n",
            "Server selecting data to train centralized...\n",
            "Number of clients in U: 2\n",
            "Time upload: 0\n",
            "Time upload: 0.17456602298532212\n",
            "Time upload: 0.3491320459706441\n",
            "Time upload: 0.523698068955966\n",
            "Time upload: 0.6987876744841015\n",
            "Time upload: 0.8746626538264574\n",
            "Time upload: 1.051061215711627\n",
            "Time upload: 1.2277215688682035\n",
            "Time upload: 1.3869253197262477\n",
            "Time upload: 1.5106922834444139\n",
            "Time upload: 1.6170026448640478\n",
            "Time upload: 1.6524394320039257\n",
            "Time upload: 1.6878762191438037\n",
            "Time upload: 1.7233130062836817\n",
            "Selected data length (|D_UL|): 307200\n",
            "Selected clients for this round: 4\n",
            "Distributing model...\n"
          ]
        },
        {
          "name": "stderr",
          "output_type": "stream",
          "text": [
            "Distributing model...: 100%|█████████▉| 35.600000000000236/35.65638067667474 [00:36<00:00,  1.01s/it] \n"
          ]
        },
        {
          "name": "stdout",
          "output_type": "stream",
          "text": [
            "Scheduled model update and upload...\n",
            "Scheduled model update and upload time: 121.64107847213745 sec\n",
            "Centralized model update...\n",
            "Collecting weights...\n",
            "Aggregating global model...\n",
            "Server: Test acc: 0.4225, test loss: 2.4548, round time: 161.6771640777588\n",
            "\n",
            "Running round: 69 - Time elapsed: 11767.501585006714 seconds\n",
            "Server requesting clients resources...\n",
            "Server selecting clients to train locally...\n",
            "Previous T round: 185.62148090254993\n",
            "Current T round: 185.9239395943862\n",
            "Max T round: 186.8792542888696\n",
            "Min T round: 175.98659143043855\n",
            "Selected clients (S): 4 out of 100\n",
            "Server selecting data to train centralized...\n",
            "Number of clients in U: 2\n",
            "Time upload: 0\n",
            "Time upload: 0.19224878133238532\n",
            "Time upload: 0.38449756266477064\n",
            "Time upload: 0.5767463439971559\n",
            "Time upload: 0.7699085065816323\n",
            "Time upload: 0.9639840504182008\n",
            "Time upload: 1.158972975506861\n",
            "Time upload: 1.3356504037143746\n",
            "Time upload: 1.5123278319218882\n",
            "Time upload: 1.6697803819961634\n",
            "Time upload: 1.7681882257925854\n",
            "Time upload: 1.8272329320704386\n",
            "Time upload: 1.8665960695890074\n",
            "Time upload: 1.9059592071075762\n",
            "Time upload: 1.9256407758668606\n",
            "Selected data length (|D_UL|): 307200\n",
            "Selected clients for this round: 4\n",
            "Distributing model...\n"
          ]
        },
        {
          "name": "stderr",
          "output_type": "stream",
          "text": [
            "Distributing model...: 100%|█████████▉| 33.70000000000021/33.740028075390825 [00:34<00:00,  1.01s/it]  \n"
          ]
        },
        {
          "name": "stdout",
          "output_type": "stream",
          "text": [
            "Scheduled model update and upload...\n",
            "Scheduled model update and upload time: 131.75945568084717 sec\n",
            "Centralized model update...\n",
            "Collecting weights...\n",
            "Aggregating global model...\n",
            "Server: Test acc: 0.3560, test loss: 2.9376, round time: 170.03456449508667\n",
            "\n",
            "Running round: 70 - Time elapsed: 11937.537794828415 seconds\n",
            "Server requesting clients resources...\n",
            "Server selecting clients to train locally...\n",
            "Previous T round: 185.9239395943862\n",
            "Current T round: 183.45138980214662\n",
            "Max T round: 186.8792542888696\n",
            "Min T round: 175.98659143043855\n",
            "Selected clients (S): 4 out of 100\n",
            "Server selecting data to train centralized...\n",
            "Number of clients in U: 2\n",
            "Time upload: 0\n",
            "Time upload: 0.17396809667217394\n",
            "Time upload: 0.3479947375235509\n",
            "Time upload: 0.5220213783749278\n",
            "Time upload: 0.6961651075847101\n",
            "Time upload: 0.8703088367944923\n",
            "Time upload: 1.0446867427210866\n",
            "Time upload: 1.1842124851340439\n",
            "Time upload: 1.323738227547001\n",
            "Time upload: 1.4458671602927409\n",
            "Time upload: 1.5331439295248428\n",
            "Time upload: 1.585509991064104\n",
            "Time upload: 1.637876052603365\n",
            "Time upload: 1.6553314064497855\n",
            "Time upload: 1.6727867602962059\n",
            "Time upload: 1.6902421141426263\n",
            "Time upload: 1.7076974679890466\n",
            "Time upload: 1.725152821835467\n",
            "Selected data length (|D_UL|): 307200\n",
            "Selected clients for this round: 4\n",
            "Distributing model...\n"
          ]
        },
        {
          "name": "stderr",
          "output_type": "stream",
          "text": [
            "Distributing model...: 100%|█████████▉| 35.20000000000023/35.241967606913555 [00:35<00:00,  1.01s/it]  \n"
          ]
        },
        {
          "name": "stdout",
          "output_type": "stream",
          "text": [
            "Scheduled model update and upload...\n",
            "Scheduled model update and upload time: 130.38355374336243 sec\n",
            "Centralized model update...\n",
            "Collecting weights...\n",
            "Aggregating global model...\n",
            "Server: Test acc: 0.4394, test loss: 2.0642, round time: 170.2019498348236\n",
            "\n",
            "Running round: 71 - Time elapsed: 12107.741149902344 seconds\n",
            "Server requesting clients resources...\n",
            "Server selecting clients to train locally...\n",
            "Previous T round: 183.45138980214662\n",
            "Current T round: 179.61507676075595\n",
            "Max T round: 186.8792542888696\n",
            "Min T round: 175.98659143043855\n",
            "Selected clients (S): 5 out of 100\n",
            "Server selecting data to train centralized...\n",
            "Number of clients in U: 0\n",
            "Time upload: 0\n",
            "Selected data length (|D_UL|): 0\n",
            "Selected clients for this round: 5\n",
            "Distributing model...\n"
          ]
        },
        {
          "name": "stderr",
          "output_type": "stream",
          "text": [
            "Distributing model...: 100%|█████████▉| 30.20000000000016/30.261225897139244 [00:30<00:00,  1.02s/it]  \n"
          ]
        },
        {
          "name": "stdout",
          "output_type": "stream",
          "text": [
            "Scheduled model update and upload...\n",
            "Scheduled model update and upload time: 144.6708118915558 sec\n",
            "Centralized model update...\n",
            "Collecting weights...\n",
            "Aggregating global model...\n",
            "Server: Test acc: 0.4626, test loss: 1.9672, round time: 178.26301455497742\n",
            "\n",
            "Running round: 72 - Time elapsed: 12286.005698680878 seconds\n",
            "Server requesting clients resources...\n",
            "Server selecting clients to train locally...\n",
            "Previous T round: 179.61507676075595\n",
            "Current T round: 182.79681253500235\n",
            "Max T round: 186.8792542888696\n",
            "Min T round: 175.98659143043855\n",
            "Selected clients (S): 4 out of 100\n",
            "Server selecting data to train centralized...\n",
            "Number of clients in U: 2\n",
            "Time upload: 0\n",
            "Time upload: 0.18051370199560335\n",
            "Time upload: 0.3610274039912066\n",
            "Time upload: 0.5421650636806246\n",
            "Time upload: 0.7245506387576719\n",
            "Time upload: 0.9081841292223483\n",
            "Time upload: 1.0918176196870246\n",
            "Time upload: 1.2586476553397696\n",
            "Time upload: 1.3887509928995794\n",
            "Time upload: 1.5001790025660142\n",
            "Time upload: 1.5935556420328887\n",
            "Time upload: 1.6495816257130134\n",
            "Time upload: 1.6869322814997632\n",
            "Time upload: 1.724282937286513\n",
            "Time upload: 1.7616335930732627\n",
            "Time upload: 1.7989842488600125\n",
            "Selected data length (|D_UL|): 307200\n",
            "Selected clients for this round: 4\n",
            "Distributing model...\n"
          ]
        },
        {
          "name": "stderr",
          "output_type": "stream",
          "text": [
            "Distributing model...: 100%|█████████▉| 34.70000000000022/34.79700579436989 [00:35<00:00,  1.01s/it]  \n"
          ]
        },
        {
          "name": "stdout",
          "output_type": "stream",
          "text": [
            "Scheduled model update and upload...\n",
            "Scheduled model update and upload time: 135.74235725402832 sec\n",
            "Centralized model update...\n",
            "Collecting weights...\n",
            "Aggregating global model...\n",
            "Server: Test acc: 0.4587, test loss: 2.1932, round time: 175.05406665802002\n",
            "\n",
            "Running round: 73 - Time elapsed: 12461.061568498611 seconds\n",
            "Server requesting clients resources...\n",
            "Server selecting clients to train locally...\n",
            "Previous T round: 182.79681253500235\n",
            "Current T round: 180.51839424405367\n",
            "Max T round: 186.8792542888696\n",
            "Min T round: 175.98659143043855\n",
            "Selected clients (S): 4 out of 100\n",
            "Server selecting data to train centralized...\n",
            "Number of clients in U: 2\n",
            "Time upload: 0\n",
            "Time upload: 0.1703619783354261\n",
            "Time upload: 0.3441272938109998\n",
            "Time upload: 0.5178926092865735\n",
            "Time upload: 0.6984645990424427\n",
            "Time upload: 0.8790365887983119\n",
            "Time upload: 1.0732219271147723\n",
            "Time upload: 1.25037106759769\n",
            "Time upload: 1.4070806731069174\n",
            "Time upload: 1.5467540807826021\n",
            "Time upload: 1.6693912906247441\n",
            "Time upload: 1.7715889654931958\n",
            "Time upload: 1.8329075704142668\n",
            "Time upload: 1.853347105387957\n",
            "Selected data length (|D_UL|): 307200\n",
            "Selected clients for this round: 4\n",
            "Distributing model...\n"
          ]
        },
        {
          "name": "stderr",
          "output_type": "stream",
          "text": [
            "Distributing model...: 100%|█████████▉| 37.30000000000026/37.36187717897617 [00:37<00:00,  1.01s/it]  \n"
          ]
        },
        {
          "name": "stdout",
          "output_type": "stream",
          "text": [
            "Scheduled model update and upload...\n",
            "Scheduled model update and upload time: 129.04461216926575 sec\n",
            "Centralized model update...\n",
            "Collecting weights...\n",
            "Aggregating global model...\n",
            "Server: Test acc: 0.4442, test loss: 2.2609, round time: 170.77609586715698\n",
            "\n",
            "Running round: 74 - Time elapsed: 12631.839176177979 seconds\n",
            "Server requesting clients resources...\n",
            "Server selecting clients to train locally...\n",
            "Previous T round: 180.51839424405367\n",
            "Current T round: 181.59546677257734\n",
            "Max T round: 186.8792542888696\n",
            "Min T round: 175.98659143043855\n",
            "Selected clients (S): 5 out of 100\n",
            "Server selecting data to train centralized...\n",
            "Number of clients in U: 0\n",
            "Time upload: 0\n",
            "Selected data length (|D_UL|): 0\n",
            "Selected clients for this round: 5\n",
            "Distributing model...\n"
          ]
        },
        {
          "name": "stderr",
          "output_type": "stream",
          "text": [
            "Distributing model...: 100%|█████████▉| 31.800000000000182/31.853117139402798 [00:32<00:00,  1.01s/it] \n"
          ]
        },
        {
          "name": "stdout",
          "output_type": "stream",
          "text": [
            "Scheduled model update and upload...\n",
            "Scheduled model update and upload time: 153.7942397594452 sec\n",
            "Centralized model update...\n",
            "Collecting weights...\n",
            "Aggregating global model...\n",
            "Server: Test acc: 0.4142, test loss: 2.5616, round time: 188.97289657592773\n",
            "\n",
            "Running round: 75 - Time elapsed: 12820.813490390778 seconds\n",
            "Server requesting clients resources...\n",
            "Server selecting clients to train locally...\n",
            "Previous T round: 181.59546677257734\n",
            "Current T round: 183.60091516586525\n",
            "Max T round: 186.8792542888696\n",
            "Min T round: 175.98659143043855\n",
            "Selected clients (S): 5 out of 100\n",
            "Server selecting data to train centralized...\n",
            "Number of clients in U: 0\n",
            "Time upload: 0\n",
            "Selected data length (|D_UL|): 0\n",
            "Selected clients for this round: 5\n",
            "Distributing model...\n"
          ]
        },
        {
          "name": "stderr",
          "output_type": "stream",
          "text": [
            "Distributing model...: 100%|█████████▉| 30.500000000000163/30.52595347153201 [00:30<00:00,  1.01s/it] \n"
          ]
        },
        {
          "name": "stdout",
          "output_type": "stream",
          "text": [
            "Scheduled model update and upload...\n",
            "Scheduled model update and upload time: 148.00558996200562 sec\n",
            "Centralized model update...\n",
            "Collecting weights...\n",
            "Aggregating global model...\n",
            "Server: Test acc: 0.4186, test loss: 2.4450, round time: 181.79508996009827\n",
            "\n",
            "Running round: 76 - Time elapsed: 13002.609989643097 seconds\n",
            "Server requesting clients resources...\n",
            "Server selecting clients to train locally...\n",
            "Previous T round: 183.60091516586525\n",
            "Current T round: 181.44632988430217\n",
            "Max T round: 186.8792542888696\n",
            "Min T round: 175.98659143043855\n",
            "Selected clients (S): 4 out of 100\n",
            "Server selecting data to train centralized...\n",
            "Number of clients in U: 1\n",
            "Time upload: 0\n",
            "Time upload: 0.16383827580936985\n",
            "Time upload: 0.3276765516187397\n",
            "Time upload: 0.49151482742810954\n",
            "Time upload: 0.6225854480756058\n",
            "Time upload: 0.704504585980291\n",
            "Time upload: 0.7536560687231021\n",
            "Time upload: 0.7864237238849762\n",
            "Time upload: 0.8028075514659132\n",
            "Selected data length (|D_UL|): 153600\n",
            "Selected clients for this round: 4\n",
            "Distributing model...\n"
          ]
        },
        {
          "name": "stderr",
          "output_type": "stream",
          "text": [
            "Distributing model...: 100%|█████████▉| 34.900000000000226/34.92321134718944 [00:35<00:00,  1.01s/it] \n"
          ]
        },
        {
          "name": "stdout",
          "output_type": "stream",
          "text": [
            "Scheduled model update and upload...\n",
            "Scheduled model update and upload time: 132.17183351516724 sec\n",
            "Centralized model update...\n",
            "Collecting weights...\n",
            "Aggregating global model...\n",
            "Server: Test acc: 0.4017, test loss: 2.8643, round time: 170.8644082546234\n",
            "\n",
            "Running round: 77 - Time elapsed: 13173.47600197792 seconds\n",
            "Server requesting clients resources...\n",
            "Server selecting clients to train locally...\n",
            "Previous T round: 181.44632988430217\n",
            "Current T round: 180.65832800411278\n",
            "Max T round: 186.8792542888696\n",
            "Min T round: 175.98659143043855\n",
            "Selected clients (S): 4 out of 100\n",
            "Server selecting data to train centralized...\n",
            "Number of clients in U: 2\n",
            "Time upload: 0\n",
            "Time upload: 0.1498833896017779\n",
            "Time upload: 0.2997667792035559\n",
            "Time upload: 0.44965016880533404\n",
            "Time upload: 0.6082536386966884\n",
            "Time upload: 0.7755771888776188\n",
            "Time upload: 0.9322724402431596\n",
            "Time upload: 1.082699432938099\n",
            "Time upload: 1.2137780465280728\n",
            "Time upload: 1.3492167002628348\n",
            "Time upload: 1.4653069748926308\n",
            "Time upload: 1.5427004913124949\n",
            "Time upload: 1.600745628627393\n",
            "Time upload: 1.639442386837325\n",
            "Time upload: 1.658790765942291\n",
            "Time upload: 1.678139145047257\n",
            "Time upload: 1.697487524152223\n",
            "Selected data length (|D_UL|): 307200\n",
            "Selected clients for this round: 4\n",
            "Distributing model...\n"
          ]
        },
        {
          "name": "stderr",
          "output_type": "stream",
          "text": [
            "Distributing model...: 100%|█████████▉| 31.70000000000018/31.74368943159188 [00:32<00:00,  1.02s/it]  \n"
          ]
        },
        {
          "name": "stdout",
          "output_type": "stream",
          "text": [
            "Scheduled model update and upload...\n",
            "Scheduled model update and upload time: 123.83711862564087 sec\n",
            "Centralized model update...\n",
            "Collecting weights...\n",
            "Aggregating global model...\n",
            "Server: Test acc: 0.3798, test loss: 2.6621, round time: 160.20083022117615\n",
            "\n",
            "Running round: 78 - Time elapsed: 13333.678368806839 seconds\n",
            "Server requesting clients resources...\n",
            "Server selecting clients to train locally...\n",
            "Previous T round: 180.65832800411278\n",
            "Current T round: 181.81235560648653\n",
            "Max T round: 186.8792542888696\n",
            "Min T round: 175.98659143043855\n",
            "Selected clients (S): 4 out of 100\n",
            "Server selecting data to train centralized...\n",
            "Number of clients in U: 2\n",
            "Time upload: 0\n",
            "Time upload: 0.15806252161563783\n",
            "Time upload: 0.31612504323127566\n",
            "Time upload: 0.47666944967766856\n",
            "Time upload: 0.6421776257855716\n",
            "Time upload: 0.8126495715549846\n",
            "Time upload: 0.9648333803320788\n",
            "Time upload: 1.1244628436014386\n",
            "Time upload: 1.2682860547092347\n",
            "Time upload: 1.412109265817031\n",
            "Time upload: 1.5401262247632632\n",
            "Time upload: 1.6315669097248577\n",
            "Selected data length (|D_UL|): 307200\n",
            "Selected clients for this round: 4\n",
            "Distributing model...\n"
          ]
        },
        {
          "name": "stderr",
          "output_type": "stream",
          "text": [
            "Distributing model...: 100%|█████████▉| 36.300000000000246/36.30641914881547 [00:36<00:00,  1.01s/it] \n"
          ]
        },
        {
          "name": "stdout",
          "output_type": "stream",
          "text": [
            "Scheduled model update and upload...\n",
            "Scheduled model update and upload time: 145.74321293830872 sec\n",
            "Centralized model update...\n",
            "Collecting weights...\n",
            "Aggregating global model...\n",
            "Server: Test acc: 0.4621, test loss: 2.0931, round time: 186.41809391975403\n",
            "\n",
            "Running round: 79 - Time elapsed: 13520.09799695015 seconds\n",
            "Server requesting clients resources...\n",
            "Server selecting clients to train locally...\n",
            "Previous T round: 181.81235560648653\n",
            "Current T round: 181.63737196150126\n",
            "Max T round: 186.8792542888696\n",
            "Min T round: 175.98659143043855\n",
            "Selected clients (S): 5 out of 100\n",
            "Server selecting data to train centralized...\n",
            "Number of clients in U: 0\n",
            "Time upload: 0\n",
            "Selected data length (|D_UL|): 0\n",
            "Selected clients for this round: 5\n",
            "Distributing model...\n"
          ]
        },
        {
          "name": "stderr",
          "output_type": "stream",
          "text": [
            "Distributing model...: 100%|█████████▉| 28.80000000000014/28.8632415560698 [00:29<00:00,  1.01s/it]  \n"
          ]
        },
        {
          "name": "stdout",
          "output_type": "stream",
          "text": [
            "Scheduled model update and upload...\n",
            "Scheduled model update and upload time: 142.78864097595215 sec\n",
            "Centralized model update...\n",
            "Collecting weights...\n",
            "Aggregating global model...\n",
            "Server: Test acc: 0.4390, test loss: 2.2135, round time: 174.9067084789276\n",
            "\n",
            "Running round: 80 - Time elapsed: 13695.006245613098 seconds\n",
            "Server requesting clients resources...\n",
            "Server selecting clients to train locally...\n",
            "Previous T round: 181.63737196150126\n",
            "Current T round: 184.18469500616564\n",
            "Max T round: 186.8792542888696\n",
            "Min T round: 175.98659143043855\n",
            "Selected clients (S): 5 out of 100\n",
            "Server selecting data to train centralized...\n",
            "Number of clients in U: 1\n",
            "Time upload: 0\n",
            "Time upload: 0.1707683406374679\n",
            "Time upload: 0.34153668127493575\n",
            "Time upload: 0.5123050219124035\n",
            "Time upload: 0.6489196944223781\n",
            "Time upload: 0.751380698804859\n",
            "Time upload: 0.8196880350598463\n",
            "Time upload: 0.8367648691235932\n",
            "Selected data length (|D_UL|): 153600\n",
            "Selected clients for this round: 5\n",
            "Distributing model...\n"
          ]
        },
        {
          "name": "stderr",
          "output_type": "stream",
          "text": [
            "Distributing model...: 100%|█████████▉| 32.700000000000195/32.71032181123544 [00:33<00:00,  1.01s/it] \n"
          ]
        },
        {
          "name": "stdout",
          "output_type": "stream",
          "text": [
            "Scheduled model update and upload...\n",
            "Scheduled model update and upload time: 152.57385969161987 sec\n",
            "Centralized model update...\n",
            "Collecting weights...\n",
            "Aggregating global model...\n",
            "Server: Test acc: 0.4461, test loss: 2.4051, round time: 189.09425950050354\n",
            "\n",
            "Running round: 81 - Time elapsed: 13884.10195851326 seconds\n",
            "Server requesting clients resources...\n",
            "Server selecting clients to train locally...\n",
            "Previous T round: 184.18469500616564\n",
            "Current T round: 180.72207660411556\n",
            "Max T round: 186.8792542888696\n",
            "Min T round: 175.98659143043855\n",
            "Selected clients (S): 4 out of 100\n",
            "Server selecting data to train centralized...\n",
            "Number of clients in U: 1\n",
            "Time upload: 0\n",
            "Time upload: 0.18049513900042827\n",
            "Time upload: 0.34294076410081376\n",
            "Time upload: 0.48733687530115644\n",
            "Time upload: 0.6317329865014991\n",
            "Time upload: 0.7400300699017561\n",
            "Time upload: 0.8122281255019275\n",
            "Time upload: 0.866376667202056\n",
            "Time upload: 0.8844261811020988\n",
            "Selected data length (|D_UL|): 153600\n",
            "Selected clients for this round: 4\n",
            "Distributing model...\n"
          ]
        },
        {
          "name": "stderr",
          "output_type": "stream",
          "text": [
            "Distributing model...: 100%|█████████▉| 33.0000000000002/33.08254722016755 [00:33<00:00,  1.01s/it]   \n"
          ]
        },
        {
          "name": "stdout",
          "output_type": "stream",
          "text": [
            "Scheduled model update and upload...\n",
            "Scheduled model update and upload time: 127.616694688797 sec\n",
            "Centralized model update...\n",
            "Collecting weights...\n",
            "Aggregating global model...\n",
            "Server: Test acc: 0.4469, test loss: 2.3821, round time: 164.41571950912476\n",
            "\n",
            "Running round: 82 - Time elapsed: 14048.519060611725 seconds\n",
            "Server requesting clients resources...\n",
            "Server selecting clients to train locally...\n",
            "Previous T round: 180.72207660411556\n",
            "Current T round: 181.6991211827141\n",
            "Max T round: 186.8792542888696\n",
            "Min T round: 175.98659143043855\n",
            "Selected clients (S): 4 out of 100\n",
            "Server selecting data to train centralized...\n",
            "Number of clients in U: 1\n",
            "Time upload: 0\n",
            "Time upload: 0.2112514243670467\n",
            "Time upload: 0.4013777062973886\n",
            "Time upload: 0.570378845791026\n",
            "Time upload: 0.6971297004112543\n",
            "Time upload: 0.8238805550314826\n",
            "Time upload: 0.9083811247783015\n",
            "Time upload: 0.9928816945251203\n",
            "Time upload: 1.0351319793985296\n",
            "Selected data length (|D_UL|): 153600\n",
            "Selected clients for this round: 4\n",
            "Distributing model...\n"
          ]
        },
        {
          "name": "stderr",
          "output_type": "stream",
          "text": [
            "Distributing model...: 100%|█████████▉| 36.900000000000254/36.93025038787574 [00:37<00:00,  1.01s/it] \n"
          ]
        },
        {
          "name": "stdout",
          "output_type": "stream",
          "text": [
            "Scheduled model update and upload...\n",
            "Scheduled model update and upload time: 136.12972974777222 sec\n",
            "Centralized model update...\n",
            "Collecting weights...\n",
            "Aggregating global model...\n",
            "Server: Test acc: 0.4666, test loss: 2.0939, round time: 176.921213388443\n",
            "\n",
            "Running round: 83 - Time elapsed: 14225.441893577576 seconds\n",
            "Server requesting clients resources...\n",
            "Server selecting clients to train locally...\n",
            "Previous T round: 181.6991211827141\n",
            "Current T round: 181.34407140246134\n",
            "Max T round: 186.8792542888696\n",
            "Min T round: 175.98659143043855\n",
            "Selected clients (S): 5 out of 100\n",
            "Server selecting data to train centralized...\n",
            "Number of clients in U: 1\n",
            "Time upload: 0\n",
            "Time upload: 0.1485910018309271\n",
            "Time upload: 0.2823229034787616\n",
            "Time upload: 0.4011957049435034\n",
            "Time upload: 0.5200685064082451\n",
            "Time upload: 0.6092231075068011\n",
            "Time upload: 0.6686595082391718\n",
            "Time upload: 0.7132368087884497\n",
            "Time upload: 0.7280959089715424\n",
            "Selected data length (|D_UL|): 153600\n",
            "Selected clients for this round: 5\n",
            "Distributing model...\n"
          ]
        },
        {
          "name": "stderr",
          "output_type": "stream",
          "text": [
            "Distributing model...: 100%|█████████▉| 31.60000000000018/31.62196798788664 [00:32<00:00,  1.01s/it]  \n"
          ]
        },
        {
          "name": "stdout",
          "output_type": "stream",
          "text": [
            "Scheduled model update and upload...\n",
            "Scheduled model update and upload time: 152.57949709892273 sec\n",
            "Centralized model update...\n",
            "Collecting weights...\n",
            "Aggregating global model...\n",
            "Server: Test acc: 0.4218, test loss: 2.4600, round time: 188.02044939994812\n",
            "\n",
            "Running round: 84 - Time elapsed: 14413.463932991028 seconds\n",
            "Server requesting clients resources...\n",
            "Server selecting clients to train locally...\n",
            "Previous T round: 181.34407140246134\n",
            "Current T round: 183.1553579799968\n",
            "Max T round: 186.8792542888696\n",
            "Min T round: 175.98659143043855\n",
            "Selected clients (S): 5 out of 100\n",
            "Server selecting data to train centralized...\n",
            "Number of clients in U: 0\n",
            "Time upload: 0\n",
            "Selected data length (|D_UL|): 0\n",
            "Selected clients for this round: 5\n",
            "Distributing model...\n"
          ]
        },
        {
          "name": "stderr",
          "output_type": "stream",
          "text": [
            "Distributing model...: 100%|█████████▉| 30.30000000000016/30.37143651405496 [00:30<00:00,  1.02s/it]  \n"
          ]
        },
        {
          "name": "stdout",
          "output_type": "stream",
          "text": [
            "Scheduled model update and upload...\n",
            "Scheduled model update and upload time: 151.36833500862122 sec\n",
            "Centralized model update...\n",
            "Collecting weights...\n",
            "Aggregating global model...\n",
            "Server: Test acc: 0.4062, test loss: 2.7213, round time: 185.1233413219452\n",
            "\n",
            "Running round: 85 - Time elapsed: 14598.588841438293 seconds\n",
            "Server requesting clients resources...\n",
            "Server selecting clients to train locally...\n",
            "Previous T round: 183.1553579799968\n",
            "Current T round: 181.78238533698357\n",
            "Max T round: 186.8792542888696\n",
            "Min T round: 175.98659143043855\n",
            "Selected clients (S): 5 out of 100\n",
            "Server selecting data to train centralized...\n",
            "Number of clients in U: 1\n",
            "Time upload: 0\n",
            "Time upload: 0.16901582140175062\n",
            "Time upload: 0.33803164280350123\n",
            "Time upload: 0.4901458820650768\n",
            "Time upload: 0.6253585391864769\n",
            "Time upload: 0.7098664498873519\n",
            "Time upload: 0.777472778448052\n",
            "Time upload: 0.811275942728402\n",
            "Time upload: 0.828177524868577\n",
            "Selected data length (|D_UL|): 153600\n",
            "Selected clients for this round: 5\n",
            "Distributing model...\n"
          ]
        },
        {
          "name": "stderr",
          "output_type": "stream",
          "text": [
            "Distributing model...: 100%|█████████▉| 30.800000000000168/30.826466125376413 [00:31<00:00,  1.01s/it] \n"
          ]
        },
        {
          "name": "stdout",
          "output_type": "stream",
          "text": [
            "Scheduled model update and upload...\n",
            "Scheduled model update and upload time: 148.16942691802979 sec\n",
            "Centralized model update...\n",
            "Collecting weights...\n",
            "Aggregating global model...\n",
            "Server: Test acc: 0.4558, test loss: 2.5310, round time: 182.73160791397095\n",
            "\n",
            "Running round: 86 - Time elapsed: 14781.321802139282 seconds\n",
            "Server requesting clients resources...\n",
            "Server selecting clients to train locally...\n",
            "Previous T round: 181.78238533698357\n",
            "Current T round: 183.67994672170417\n",
            "Max T round: 186.8792542888696\n",
            "Min T round: 175.98659143043855\n",
            "Selected clients (S): 4 out of 100\n",
            "Server selecting data to train centralized...\n",
            "Number of clients in U: 1\n",
            "Time upload: 0\n",
            "Time upload: 0.1970869155018598\n",
            "Time upload: 0.3941738310037194\n",
            "Time upload: 0.571552054955393\n",
            "Time upload: 0.7095128958066946\n",
            "Time upload: 0.8080563535576244\n",
            "Time upload: 0.9065998113085542\n",
            "Time upload: 0.9460171944089261\n",
            "Time upload: 0.965725885959112\n",
            "Selected data length (|D_UL|): 153600\n",
            "Selected clients for this round: 4\n",
            "Distributing model...\n"
          ]
        },
        {
          "name": "stderr",
          "output_type": "stream",
          "text": [
            "Distributing model...: 100%|█████████▉| 34.800000000000225/34.83692652961182 [00:35<00:00,  1.02s/it] \n"
          ]
        },
        {
          "name": "stdout",
          "output_type": "stream",
          "text": [
            "Scheduled model update and upload...\n",
            "Scheduled model update and upload time: 129.85792350769043 sec\n",
            "Centralized model update...\n",
            "Collecting weights...\n",
            "Aggregating global model...\n",
            "Server: Test acc: 0.4674, test loss: 2.3181, round time: 168.5288372039795\n",
            "\n",
            "Running round: 87 - Time elapsed: 14949.852176904678 seconds\n",
            "Server requesting clients resources...\n",
            "Server selecting clients to train locally...\n",
            "Previous T round: 183.67994672170417\n",
            "Current T round: 176.76563374894894\n",
            "Max T round: 186.8792542888696\n",
            "Min T round: 175.98659143043855\n",
            "Selected clients (S): 4 out of 100\n",
            "Server selecting data to train centralized...\n",
            "Number of clients in U: 2\n",
            "Time upload: 0\n",
            "Time upload: 0.16047726306680066\n",
            "Time upload: 0.3209545261336012\n",
            "Time upload: 0.4845974872972393\n",
            "Time upload: 0.6545718446545524\n",
            "Time upload: 0.811664173802023\n",
            "Time upload: 0.9687565029494937\n",
            "Time upload: 1.1161325019839594\n",
            "Time upload: 1.2666741991152626\n",
            "Time upload: 1.3787890474395306\n",
            "Time upload: 1.494069593860636\n",
            "Time upload: 1.6093501402817416\n",
            "Time upload: 1.686203837895812\n",
            "Time upload: 1.7438441111063647\n",
            "Selected data length (|D_UL|): 307200\n",
            "Selected clients for this round: 4\n",
            "Distributing model...\n"
          ]
        },
        {
          "name": "stderr",
          "output_type": "stream",
          "text": [
            "Distributing model...: 100%|█████████▉| 33.0000000000002/33.045345365009396 [00:33<00:00,  1.02s/it]   \n"
          ]
        },
        {
          "name": "stdout",
          "output_type": "stream",
          "text": [
            "Scheduled model update and upload...\n",
            "Scheduled model update and upload time: 121.56818413734436 sec\n",
            "Centralized model update...\n",
            "Collecting weights...\n",
            "Aggregating global model...\n",
            "Server: Test acc: 0.4082, test loss: 3.2452, round time: 159.01992464065552\n",
            "\n",
            "Running round: 88 - Time elapsed: 15108.873537063599 seconds\n",
            "Server requesting clients resources...\n",
            "Server selecting clients to train locally...\n",
            "Previous T round: 176.76563374894894\n",
            "Current T round: 181.43729901584481\n",
            "Max T round: 186.8792542888696\n",
            "Min T round: 175.98659143043855\n",
            "Selected clients (S): 4 out of 100\n",
            "Server selecting data to train centralized...\n",
            "Number of clients in U: 1\n",
            "Time upload: 0\n",
            "Time upload: 0.17618092942734867\n",
            "Time upload: 0.3347437659119625\n",
            "Time upload: 0.49330660239657625\n",
            "Time upload: 0.6166332529957204\n",
            "Time upload: 0.7399599035948644\n",
            "Time upload: 0.792814182423069\n",
            "Time upload: 0.8280503683085387\n",
            "Time upload: 0.8632865541940085\n",
            "Selected data length (|D_UL|): 153600\n",
            "Selected clients for this round: 4\n",
            "Distributing model...\n"
          ]
        },
        {
          "name": "stderr",
          "output_type": "stream",
          "text": [
            "Distributing model...: 100%|█████████▉| 30.90000000000017/30.959930874751514 [00:31<00:00,  1.02s/it]  \n"
          ]
        },
        {
          "name": "stdout",
          "output_type": "stream",
          "text": [
            "Scheduled model update and upload...\n",
            "Scheduled model update and upload time: 127.1370894908905 sec\n",
            "Centralized model update...\n",
            "Collecting weights...\n",
            "Aggregating global model...\n",
            "Server: Test acc: 0.4198, test loss: 2.8458, round time: 161.8517804145813\n",
            "\n",
            "Running round: 89 - Time elapsed: 15270.726724863052 seconds\n",
            "Server requesting clients resources...\n",
            "Server selecting clients to train locally...\n",
            "Previous T round: 181.43729901584481\n",
            "Current T round: 184.58661183573236\n",
            "Max T round: 186.8792542888696\n",
            "Min T round: 175.98659143043855\n",
            "Selected clients (S): 5 out of 100\n",
            "Server selecting data to train centralized...\n",
            "Number of clients in U: 3\n",
            "Time upload: 0\n",
            "Time upload: 0.17745418801364402\n",
            "Time upload: 0.3549979652641353\n",
            "Time upload: 0.5326313317514739\n",
            "Time upload: 0.7142383536283674\n",
            "Time upload: 0.8958453755052609\n",
            "Time upload: 1.0776315758558492\n",
            "Time upload: 1.2377882912523652\n",
            "Time upload: 1.401918662038436\n",
            "Time upload: 1.5699330989772144\n",
            "Time upload: 1.7418316020687004\n",
            "Time upload: 1.9175245820760465\n",
            "Time upload: 2.100806515915113\n",
            "Time upload: 2.2916774035858998\n",
            "Selected data length (|D_UL|): 393216\n",
            "Selected clients for this round: 5\n",
            "Distributing model...\n"
          ]
        },
        {
          "name": "stderr",
          "output_type": "stream",
          "text": [
            "Distributing model...: 100%|█████████▉| 30.400000000000162/30.446362881702026 [00:30<00:00,  1.02s/it] \n"
          ]
        },
        {
          "name": "stdout",
          "output_type": "stream",
          "text": [
            "Scheduled model update and upload...\n",
            "Scheduled model update and upload time: 153.18773865699768 sec\n",
            "Centralized model update...\n",
            "Collecting weights...\n",
            "Aggregating global model...\n",
            "Server: Test acc: 0.4144, test loss: 2.4948, round time: 188.5841941833496\n",
            "\n",
            "Running round: 90 - Time elapsed: 15459.312669992447 seconds\n",
            "Server requesting clients resources...\n",
            "Server selecting clients to train locally...\n",
            "Previous T round: 184.58661183573236\n",
            "Current T round: 181.9361053372319\n",
            "Max T round: 186.8792542888696\n",
            "Min T round: 175.98659143043855\n",
            "Selected clients (S): 5 out of 100\n",
            "Server selecting data to train centralized...\n",
            "Number of clients in U: 0\n",
            "Time upload: 0\n",
            "Selected data length (|D_UL|): 0\n",
            "Selected clients for this round: 5\n",
            "Distributing model...\n"
          ]
        },
        {
          "name": "stderr",
          "output_type": "stream",
          "text": [
            "Distributing model...: 100%|█████████▉| 32.40000000000019/32.401261373967856 [00:32<00:00,  1.02s/it]  \n"
          ]
        },
        {
          "name": "stdout",
          "output_type": "stream",
          "text": [
            "Scheduled model update and upload...\n",
            "Scheduled model update and upload time: 146.08219742774963 sec\n",
            "Centralized model update...\n",
            "Collecting weights...\n",
            "Aggregating global model...\n",
            "Server: Test acc: 0.3883, test loss: 2.9022, round time: 181.90901684761047\n",
            "\n",
            "Running round: 91 - Time elapsed: 15641.223121404648 seconds\n",
            "Server requesting clients resources...\n",
            "Server selecting clients to train locally...\n",
            "Previous T round: 181.9361053372319\n",
            "Current T round: 181.86461969340203\n",
            "Max T round: 186.8792542888696\n",
            "Min T round: 175.98659143043855\n",
            "Selected clients (S): 4 out of 100\n",
            "Server selecting data to train centralized...\n",
            "Number of clients in U: 2\n",
            "Time upload: 0\n",
            "Time upload: 0.16378329975525907\n",
            "Time upload: 0.32756659951051814\n",
            "Time upload: 0.49260040616709816\n",
            "Time upload: 0.6601352266263203\n",
            "Time upload: 0.8301710608881844\n",
            "Time upload: 1.0002068951500485\n",
            "Time upload: 1.1739942501158753\n",
            "Time upload: 1.3137744382293295\n",
            "Time upload: 1.4006681157122431\n",
            "Time upload: 1.4535546263427839\n",
            "Time upload: 1.5064411369733246\n",
            "Time upload: 1.5593276476038653\n",
            "Time upload: 1.612214158234406\n",
            "Time upload: 1.6651006688649468\n",
            "Time upload: 1.6827295057417937\n",
            "Selected data length (|D_UL|): 307200\n",
            "Selected clients for this round: 4\n",
            "Distributing model...\n"
          ]
        },
        {
          "name": "stderr",
          "output_type": "stream",
          "text": [
            "Distributing model...: 100%|█████████▉| 35.30000000000023/35.384561053518986 [00:35<00:00,  1.02s/it]  \n"
          ]
        },
        {
          "name": "stdout",
          "output_type": "stream",
          "text": [
            "Scheduled model update and upload...\n",
            "Scheduled model update and upload time: 147.01891660690308 sec\n",
            "Centralized model update...\n",
            "Collecting weights...\n",
            "Aggregating global model...\n",
            "Server: Test acc: 0.4006, test loss: 2.8961, round time: 187.0993390083313\n",
            "\n",
            "Running round: 92 - Time elapsed: 15828.32406258583 seconds\n",
            "Server requesting clients resources...\n",
            "Server selecting clients to train locally...\n",
            "Previous T round: 181.86461969340203\n",
            "Current T round: 178.72851613195706\n",
            "Max T round: 186.8792542888696\n",
            "Min T round: 175.98659143043855\n",
            "Selected clients (S): 5 out of 100\n",
            "Server selecting data to train centralized...\n",
            "Number of clients in U: 0\n",
            "Time upload: 0\n",
            "Selected data length (|D_UL|): 0\n",
            "Selected clients for this round: 5\n",
            "Distributing model...\n"
          ]
        },
        {
          "name": "stderr",
          "output_type": "stream",
          "text": [
            "Distributing model...: 100%|█████████▉| 31.70000000000018/31.71156124272679 [00:32<00:00,  1.02s/it]  \n"
          ]
        },
        {
          "name": "stdout",
          "output_type": "stream",
          "text": [
            "Scheduled model update and upload...\n",
            "Scheduled model update and upload time: 145.79531598091125 sec\n",
            "Centralized model update...\n",
            "Collecting weights...\n",
            "Aggregating global model...\n",
            "Server: Test acc: 0.4241, test loss: 2.6474, round time: 181.01041913032532\n",
            "\n",
            "Running round: 93 - Time elapsed: 16009.336007595062 seconds\n",
            "Server requesting clients resources...\n",
            "Server selecting clients to train locally...\n",
            "Previous T round: 178.72851613195706\n",
            "Current T round: 181.0817035862153\n",
            "Max T round: 186.8792542888696\n",
            "Min T round: 175.98659143043855\n",
            "Selected clients (S): 4 out of 100\n",
            "Server selecting data to train centralized...\n",
            "Number of clients in U: 1\n",
            "Time upload: 0\n",
            "Time upload: 0.15837148475777027\n",
            "Time upload: 0.3009058210397636\n",
            "Time upload: 0.42760300884598\n",
            "Time upload: 0.5226258997006422\n",
            "Time upload: 0.6176487905553042\n",
            "Time upload: 0.6809973844584122\n",
            "Time upload: 0.7443459783615202\n",
            "Time upload: 0.7760202753130742\n",
            "Selected data length (|D_UL|): 153600\n",
            "Selected clients for this round: 4\n",
            "Distributing model...\n"
          ]
        },
        {
          "name": "stderr",
          "output_type": "stream",
          "text": [
            "Distributing model...: 100%|█████████▉| 32.30000000000019/32.32080782292639 [00:32<00:00,  1.02s/it]  \n"
          ]
        },
        {
          "name": "stdout",
          "output_type": "stream",
          "text": [
            "Scheduled model update and upload...\n",
            "Scheduled model update and upload time: 123.66954445838928 sec\n",
            "Centralized model update...\n",
            "Collecting weights...\n",
            "Aggregating global model...\n",
            "Server: Test acc: 0.3966, test loss: 3.1265, round time: 160.07828378677368\n",
            "\n",
            "Running round: 94 - Time elapsed: 16169.415909290314 seconds\n",
            "Server requesting clients resources...\n",
            "Server selecting clients to train locally...\n",
            "Previous T round: 181.0817035862153\n",
            "Current T round: 182.57084828126293\n",
            "Max T round: 186.8792542888696\n",
            "Min T round: 175.98659143043855\n",
            "Selected clients (S): 4 out of 100\n",
            "Server selecting data to train centralized...\n",
            "Number of clients in U: 1\n",
            "Time upload: 0\n",
            "Time upload: 0.16250280917103846\n",
            "Time upload: 0.3250056183420769\n",
            "Time upload: 0.4712581465960115\n",
            "Time upload: 0.5850101130157387\n",
            "Time upload: 0.6662615176012582\n",
            "Time upload: 0.7475129221867777\n",
            "Time upload: 0.7800134840209855\n",
            "Time upload: 0.7962637649380894\n",
            "Selected data length (|D_UL|): 153600\n",
            "Selected clients for this round: 4\n",
            "Distributing model...\n"
          ]
        },
        {
          "name": "stderr",
          "output_type": "stream",
          "text": [
            "Distributing model...: 100%|█████████▉| 36.80000000000025/36.81415744825373 [00:37<00:00,  1.02s/it]  \n"
          ]
        },
        {
          "name": "stdout",
          "output_type": "stream",
          "text": [
            "Scheduled model update and upload...\n",
            "Scheduled model update and upload time: 135.8678593635559 sec\n",
            "Centralized model update...\n",
            "Collecting weights...\n",
            "Aggregating global model...\n",
            "Server: Test acc: 0.4871, test loss: 2.6020, round time: 176.73221492767334\n",
            "\n",
            "Running round: 95 - Time elapsed: 16346.149499416351 seconds\n",
            "Server requesting clients resources...\n",
            "Server selecting clients to train locally...\n",
            "Previous T round: 182.57084828126293\n",
            "Current T round: 182.66900667249394\n",
            "Max T round: 186.8792542888696\n",
            "Min T round: 175.98659143043855\n",
            "Selected clients (S): 4 out of 100\n",
            "Server selecting data to train centralized...\n",
            "Number of clients in U: 1\n",
            "Time upload: 0\n",
            "Time upload: 0.2194939389940823\n",
            "Time upload: 0.41703848408875654\n",
            "Time upload: 0.5926336352840224\n",
            "Time upload: 0.7682287864792879\n",
            "Time upload: 0.8999251498757371\n",
            "Time upload: 0.9877227254733699\n",
            "Time upload: 1.0535709071715946\n",
            "Time upload: 1.0755203010710028\n",
            "Selected data length (|D_UL|): 153600\n",
            "Selected clients for this round: 4\n",
            "Distributing model...\n"
          ]
        },
        {
          "name": "stderr",
          "output_type": "stream",
          "text": [
            "Distributing model...: 100%|█████████▉| 37.20000000000026/37.248902506761034 [00:37<00:00,  1.02s/it]  \n"
          ]
        },
        {
          "name": "stdout",
          "output_type": "stream",
          "text": [
            "Scheduled model update and upload...\n",
            "Scheduled model update and upload time: 138.150714635849 sec\n",
            "Centralized model update...\n",
            "Collecting weights...\n",
            "Aggregating global model...\n",
            "Server: Test acc: 0.4090, test loss: 3.5029, round time: 179.43134355545044\n",
            "\n",
            "Running round: 96 - Time elapsed: 16525.582394599915 seconds\n",
            "Server requesting clients resources...\n",
            "Server selecting clients to train locally...\n",
            "Previous T round: 182.66900667249394\n",
            "Current T round: 185.04868379132753\n",
            "Max T round: 186.8792542888696\n",
            "Min T round: 175.98659143043855\n",
            "Selected clients (S): 5 out of 100\n",
            "Server selecting data to train centralized...\n",
            "Number of clients in U: 1\n",
            "Time upload: 0\n",
            "Time upload: 0.16415443897686055\n",
            "Time upload: 0.31189343405603515\n",
            "Time upload: 0.45963242913520974\n",
            "Time upload: 0.5745405364190119\n",
            "Time upload: 0.689448643702814\n",
            "Time upload: 0.738694975395872\n",
            "Time upload: 0.771525863191244\n",
            "Time upload: 0.8043567509866161\n",
            "Selected data length (|D_UL|): 153600\n",
            "Selected clients for this round: 5\n",
            "Distributing model...\n"
          ]
        },
        {
          "name": "stderr",
          "output_type": "stream",
          "text": [
            "Distributing model...: 100%|█████████▉| 31.900000000000183/31.971803594573473 [00:32<00:00,  1.02s/it] \n"
          ]
        },
        {
          "name": "stdout",
          "output_type": "stream",
          "text": [
            "Scheduled model update and upload...\n",
            "Scheduled model update and upload time: 152.94172978401184 sec\n",
            "Centralized model update...\n",
            "Collecting weights...\n",
            "Aggregating global model...\n",
            "Server: Test acc: 0.4801, test loss: 2.2271, round time: 188.66896653175354\n",
            "\n",
            "Running round: 97 - Time elapsed: 16714.252917289734 seconds\n",
            "Server requesting clients resources...\n",
            "Server selecting clients to train locally...\n",
            "Previous T round: 185.04868379132753\n",
            "Current T round: 177.65108281470782\n",
            "Max T round: 186.8792542888696\n",
            "Min T round: 175.98659143043855\n",
            "Selected clients (S): 4 out of 100\n",
            "Server selecting data to train centralized...\n",
            "Number of clients in U: 1\n",
            "Time upload: 0\n",
            "Time upload: 0.1935149371398819\n",
            "Time upload: 0.3870298742797639\n",
            "Time upload: 0.5805448114196456\n",
            "Time upload: 0.7547082548455389\n",
            "Time upload: 0.890168710843456\n",
            "Time upload: 0.9482231919854204\n",
            "Selected data length (|D_UL|): 153600\n",
            "Selected clients for this round: 4\n",
            "Distributing model...\n"
          ]
        },
        {
          "name": "stderr",
          "output_type": "stream",
          "text": [
            "Distributing model...: 100%|█████████▉| 34.30000000000022/34.32883017690287 [00:34<00:00,  1.02s/it]  \n"
          ]
        },
        {
          "name": "stdout",
          "output_type": "stream",
          "text": [
            "Scheduled model update and upload...\n",
            "Scheduled model update and upload time: 131.1780505180359 sec\n",
            "Centralized model update...\n",
            "Collecting weights...\n",
            "Aggregating global model...\n",
            "Server: Test acc: 0.4706, test loss: 2.6234, round time: 169.35406064987183\n",
            "\n",
            "Running round: 98 - Time elapsed: 16883.608555555344 seconds\n",
            "Server requesting clients resources...\n",
            "Server selecting clients to train locally...\n",
            "Previous T round: 177.65108281470782\n",
            "Current T round: 177.7990834289932\n",
            "Max T round: 186.8792542888696\n",
            "Min T round: 175.98659143043855\n",
            "Selected clients (S): 5 out of 100\n",
            "Server selecting data to train centralized...\n",
            "Number of clients in U: 1\n",
            "Time upload: 0\n",
            "Time upload: 0.2025905858439304\n",
            "Time upload: 0.4051811716878607\n",
            "Time upload: 0.587512698947398\n",
            "Time upload: 0.7293261090381492\n",
            "Time upload: 0.8306214019601144\n",
            "Time upload: 0.9319166948820795\n",
            "Time upload: 0.9724348120508656\n",
            "Time upload: 0.9926938706352586\n",
            "Selected data length (|D_UL|): 153600\n",
            "Selected clients for this round: 5\n",
            "Distributing model...\n"
          ]
        },
        {
          "name": "stderr",
          "output_type": "stream",
          "text": [
            "Distributing model...: 100%|█████████▉| 29.200000000000145/29.247579989744597 [00:29<00:00,  1.02s/it] \n"
          ]
        },
        {
          "name": "stdout",
          "output_type": "stream",
          "text": [
            "Scheduled model update and upload...\n",
            "Scheduled model update and upload time: 143.40411686897278 sec\n",
            "Centralized model update...\n",
            "Collecting weights...\n",
            "Aggregating global model...\n",
            "Server: Test acc: 0.4931, test loss: 2.4757, round time: 176.50987219810486\n",
            "\n",
            "Running round: 99 - Time elapsed: 17060.120100021362 seconds\n",
            "Server requesting clients resources...\n",
            "Server selecting clients to train locally...\n",
            "Previous T round: 177.7990834289932\n",
            "Current T round: 179.49323914858232\n",
            "Max T round: 186.8792542888696\n",
            "Min T round: 175.98659143043855\n",
            "Selected clients (S): 4 out of 100\n",
            "Server selecting data to train centralized...\n",
            "Number of clients in U: 0\n",
            "Time upload: 0\n",
            "Selected data length (|D_UL|): 0\n",
            "Selected clients for this round: 4\n",
            "Distributing model...\n"
          ]
        },
        {
          "name": "stderr",
          "output_type": "stream",
          "text": [
            "Distributing model...: 100%|█████████▉| 31.500000000000178/31.58852386378213 [00:32<00:00,  1.02s/it] \n"
          ]
        },
        {
          "name": "stdout",
          "output_type": "stream",
          "text": [
            "Scheduled model update and upload...\n",
            "Scheduled model update and upload time: 124.1278760433197 sec\n",
            "Centralized model update...\n",
            "Collecting weights...\n",
            "Aggregating global model...\n",
            "Server: Test acc: 0.3977, test loss: 3.3766, round time: 159.0506854057312\n",
            "\n",
            "Running round: 100 - Time elapsed: 17219.17223215103 seconds\n",
            "Server requesting clients resources...\n",
            "Server selecting clients to train locally...\n",
            "Previous T round: 179.49323914858232\n",
            "Current T round: 182.05028031424337\n",
            "Max T round: 186.8792542888696\n",
            "Min T round: 175.98659143043855\n",
            "Selected clients (S): 5 out of 100\n",
            "Server selecting data to train centralized...\n",
            "Number of clients in U: 0\n",
            "Time upload: 0\n",
            "Selected data length (|D_UL|): 0\n",
            "Selected clients for this round: 5\n",
            "Distributing model...\n"
          ]
        },
        {
          "name": "stderr",
          "output_type": "stream",
          "text": [
            "Distributing model...: 100%|█████████▉| 29.700000000000152/29.70130213461161 [00:30<00:00,  1.01s/it] \n"
          ]
        },
        {
          "name": "stdout",
          "output_type": "stream",
          "text": [
            "Scheduled model update and upload...\n",
            "Scheduled model update and upload time: 140.76945328712463 sec\n",
            "Centralized model update...\n",
            "Collecting weights...\n",
            "Aggregating global model...\n",
            "Server: Test acc: 0.4564, test loss: 2.5231, round time: 173.86102032661438\n",
            "\n",
            "Running round: 101 - Time elapsed: 17393.034719467163 seconds\n",
            "Server requesting clients resources...\n",
            "Server selecting clients to train locally...\n",
            "Previous T round: 182.05028031424337\n",
            "Current T round: 185.1292760452229\n",
            "Max T round: 186.8792542888696\n",
            "Min T round: 175.98659143043855\n",
            "Selected clients (S): 4 out of 100\n",
            "Server selecting data to train centralized...\n",
            "Number of clients in U: 2\n",
            "Time upload: 0\n",
            "Time upload: 0.15986032904414768\n",
            "Time upload: 0.3197206580882953\n",
            "Time upload: 0.4795809871324428\n",
            "Time upload: 0.6402210746578629\n",
            "Time upload: 0.8024206791458276\n",
            "Time upload: 0.9677393175588811\n",
            "Time upload: 1.1346174729344782\n",
            "Time upload: 1.2855095954056603\n",
            "Time upload: 1.4028701351054687\n",
            "Time upload: 1.50346488341959\n",
            "Time upload: 1.5369964661909639\n",
            "Time upload: 1.5705280489623377\n",
            "Time upload: 1.6040596317337115\n",
            "Selected data length (|D_UL|): 307200\n",
            "Selected clients for this round: 4\n",
            "Distributing model...\n"
          ]
        },
        {
          "name": "stderr",
          "output_type": "stream",
          "text": [
            "Distributing model...: 100%|█████████▉| 33.3000000000002/33.30205062628926 [00:33<00:00,  1.01s/it]   \n"
          ]
        },
        {
          "name": "stdout",
          "output_type": "stream",
          "text": [
            "Scheduled model update and upload...\n",
            "Scheduled model update and upload time: 129.29361867904663 sec\n",
            "Centralized model update...\n",
            "Collecting weights...\n",
            "Aggregating global model...\n",
            "Server: Test acc: 0.4594, test loss: 2.9679, round time: 167.00672793388367\n",
            "\n",
            "Running round: 102 - Time elapsed: 17560.043066740036 seconds\n",
            "Server requesting clients resources...\n",
            "Server selecting clients to train locally...\n",
            "Previous T round: 185.1292760452229\n",
            "Current T round: 183.9035250524153\n",
            "Max T round: 186.8792542888696\n",
            "Min T round: 175.98659143043855\n",
            "Selected clients (S): 4 out of 100\n",
            "Server selecting data to train centralized...\n",
            "Number of clients in U: 3\n",
            "Time upload: 0\n",
            "Time upload: 0.1702463811452547\n",
            "Time upload: 0.341447002168629\n",
            "Time upload: 0.5136018630701228\n",
            "Time upload: 0.6857567239716166\n",
            "Time upload: 0.8598200646293493\n",
            "Time upload: 1.0365568167615251\n",
            "Time upload: 1.2142478087718196\n",
            "Time upload: 1.3946122122565574\n",
            "Time upload: 1.5749766157412952\n",
            "Time upload: 1.7383163811115077\n",
            "Time upload: 1.8844422002072796\n",
            "Time upload: 2.032862814457665\n",
            "Time upload: 2.1820483604262546\n",
            "Time upload: 2.312490096683995\n",
            "Selected data length (|D_UL|): 408576\n",
            "Selected clients for this round: 4\n",
            "Distributing model...\n"
          ]
        },
        {
          "name": "stderr",
          "output_type": "stream",
          "text": [
            "Distributing model...: 100%|█████████▉| 35.80000000000024/35.897542215954836 [00:36<00:00,  1.01s/it]  \n"
          ]
        },
        {
          "name": "stdout",
          "output_type": "stream",
          "text": [
            "Scheduled model update and upload...\n",
            "Scheduled model update and upload time: 153.01835584640503 sec\n",
            "Centralized model update...\n",
            "Collecting weights...\n",
            "Aggregating global model...\n",
            "Server: Test acc: 0.4620, test loss: 2.6452, round time: 193.8261058330536\n",
            "\n",
            "Running round: 103 - Time elapsed: 17753.870629549026 seconds\n",
            "Server requesting clients resources...\n",
            "Server selecting clients to train locally...\n",
            "Previous T round: 183.9035250524153\n",
            "Current T round: 179.67736504443405\n",
            "Max T round: 186.8792542888696\n",
            "Min T round: 175.98659143043855\n",
            "Selected clients (S): 4 out of 100\n",
            "Server selecting data to train centralized...\n",
            "Number of clients in U: 1\n",
            "Time upload: 0\n",
            "Time upload: 0.15946439842059315\n",
            "Time upload: 0.3189287968411862\n",
            "Time upload: 0.4783931952617791\n",
            "Time upload: 0.6059647139982538\n",
            "Time upload: 0.7016433530506099\n",
            "Time upload: 0.7654291124188473\n",
            "Time upload: 0.7813755522609066\n",
            "Selected data length (|D_UL|): 153600\n",
            "Selected clients for this round: 4\n",
            "Distributing model...\n"
          ]
        },
        {
          "name": "stderr",
          "output_type": "stream",
          "text": [
            "Distributing model...: 100%|█████████▉| 33.400000000000205/33.49174135602017 [00:33<00:00,  1.01s/it] \n"
          ]
        },
        {
          "name": "stdout",
          "output_type": "stream",
          "text": [
            "Scheduled model update and upload...\n",
            "Scheduled model update and upload time: 130.71291303634644 sec\n",
            "Centralized model update...\n",
            "Collecting weights...\n",
            "Aggregating global model...\n",
            "Server: Test acc: 0.5034, test loss: 2.3291, round time: 167.8257417678833\n",
            "\n",
            "Running round: 104 - Time elapsed: 17921.69779586792 seconds\n",
            "Server requesting clients resources...\n",
            "Server selecting clients to train locally...\n",
            "Previous T round: 179.67736504443405\n",
            "Current T round: 187.4495023134522\n",
            "Max T round: 187.4495023134522\n",
            "Min T round: 175.98659143043855\n",
            "Selected clients (S): 5 out of 100\n",
            "Server selecting data to train centralized...\n",
            "Number of clients in U: 1\n",
            "Time upload: 0\n",
            "Time upload: 0.19423716723714293\n",
            "Time upload: 0.38847433447428587\n",
            "Time upload: 0.582711501711429\n",
            "Time upload: 0.7381012355011438\n",
            "Time upload: 0.8546435358434299\n",
            "Time upload: 0.9129146860145729\n",
            "Time upload: 0.9517621194620016\n",
            "Selected data length (|D_UL|): 153600\n",
            "Selected clients for this round: 5\n",
            "Distributing model...\n"
          ]
        },
        {
          "name": "stderr",
          "output_type": "stream",
          "text": [
            "Distributing model...: 100%|█████████▉| 31.800000000000182/31.82078145200795 [00:32<00:00,  1.01s/it] \n"
          ]
        },
        {
          "name": "stdout",
          "output_type": "stream",
          "text": [
            "Scheduled model update and upload...\n",
            "Scheduled model update and upload time: 157.8095202445984 sec\n",
            "Centralized model update...\n",
            "Collecting weights...\n",
            "Aggregating global model...\n",
            "Server: Test acc: 0.3814, test loss: 4.0201, round time: 193.34961676597595\n",
            "\n",
            "Running round: 105 - Time elapsed: 18115.048986196518 seconds\n",
            "Server requesting clients resources...\n",
            "Server selecting clients to train locally...\n",
            "Previous T round: 187.4495023134522\n",
            "Current T round: 187.2768027750086\n",
            "Max T round: 187.4495023134522\n",
            "Min T round: 175.98659143043855\n",
            "Selected clients (S): 4 out of 100\n",
            "Server selecting data to train centralized...\n",
            "Number of clients in U: 3\n",
            "Time upload: 0\n",
            "Time upload: 0.1664808774727079\n",
            "Time upload: 0.3329617549454157\n",
            "Time upload: 0.4994426324181235\n",
            "Time upload: 0.6679070667977786\n",
            "Time upload: 0.8383550580843809\n",
            "Time upload: 1.0117783847314044\n",
            "Time upload: 1.1872551014857768\n",
            "Time upload: 1.363723596693623\n",
            "Time upload: 1.5422454820088183\n",
            "Time upload: 1.7239522022856402\n",
            "Time upload: 1.907782145870213\n",
            "Time upload: 2.0739722232540414\n",
            "Time upload: 2.20275934492863\n",
            "Selected data length (|D_UL|): 396288\n",
            "Selected clients for this round: 4\n",
            "Distributing model...\n"
          ]
        },
        {
          "name": "stderr",
          "output_type": "stream",
          "text": [
            "Distributing model...: 100%|█████████▉| 35.600000000000236/35.629377027522835 [00:36<00:00,  1.01s/it] \n"
          ]
        },
        {
          "name": "stdout",
          "output_type": "stream",
          "text": [
            "Scheduled model update and upload...\n",
            "Scheduled model update and upload time: 132.71367573738098 sec\n",
            "Centralized model update...\n",
            "Collecting weights...\n",
            "Aggregating global model...\n",
            "Server: Test acc: 0.4680, test loss: 2.6769, round time: 173.29916501045227\n",
            "\n",
            "Running round: 106 - Time elapsed: 18288.349604845047 seconds\n",
            "Server requesting clients resources...\n",
            "Server selecting clients to train locally...\n",
            "Previous T round: 187.2768027750086\n",
            "Current T round: 181.379661707653\n",
            "Max T round: 187.4495023134522\n",
            "Min T round: 175.98659143043855\n",
            "Selected clients (S): 4 out of 100\n",
            "Server selecting data to train centralized...\n",
            "Number of clients in U: 0\n",
            "Time upload: 0\n",
            "Selected data length (|D_UL|): 0\n",
            "Selected clients for this round: 4\n",
            "Distributing model...\n"
          ]
        },
        {
          "name": "stderr",
          "output_type": "stream",
          "text": [
            "Distributing model...: 100%|█████████▉| 34.100000000000215/34.19933304201426 [00:34<00:00,  1.01s/it] \n"
          ]
        },
        {
          "name": "stdout",
          "output_type": "stream",
          "text": [
            "Scheduled model update and upload...\n",
            "Scheduled model update and upload time: 124.82205271720886 sec\n",
            "Centralized model update...\n",
            "Collecting weights...\n",
            "Aggregating global model...\n",
            "Server: Test acc: 0.4549, test loss: 2.3867, round time: 162.22457098960876\n",
            "\n",
            "Running round: 107 - Time elapsed: 18450.575724363327 seconds\n",
            "Server requesting clients resources...\n",
            "Server selecting clients to train locally...\n",
            "Previous T round: 181.379661707653\n",
            "Current T round: 182.94669708607134\n",
            "Max T round: 187.4495023134522\n",
            "Min T round: 175.98659143043855\n",
            "Selected clients (S): 4 out of 100\n",
            "Server selecting data to train centralized...\n",
            "Number of clients in U: 1\n",
            "Time upload: 0\n",
            "Time upload: 0.1599963410535404\n",
            "Time upload: 0.3199926821070808\n",
            "Time upload: 0.47998902316062125\n",
            "Time upload: 0.6239857301088072\n",
            "Time upload: 0.7359831688462851\n",
            "Time upload: 0.7839820711623471\n",
            "Selected data length (|D_UL|): 153600\n",
            "Selected clients for this round: 4\n",
            "Distributing model...\n"
          ]
        },
        {
          "name": "stderr",
          "output_type": "stream",
          "text": [
            "Distributing model...: 100%|█████████▉| 34.30000000000022/34.38863451064483 [00:34<00:00,  1.01s/it]  \n"
          ]
        },
        {
          "name": "stdout",
          "output_type": "stream",
          "text": [
            "Scheduled model update and upload...\n",
            "Scheduled model update and upload time: 121.34805941581726 sec\n",
            "Centralized model update...\n",
            "Collecting weights...\n",
            "Aggregating global model...\n",
            "Server: Test acc: 0.3999, test loss: 3.9548, round time: 159.43368577957153\n",
            "\n",
            "Running round: 108 - Time elapsed: 18610.010969161987 seconds\n",
            "Server requesting clients resources...\n",
            "Server selecting clients to train locally...\n",
            "Previous T round: 182.94669708607134\n",
            "Current T round: 180.6144612194159\n",
            "Max T round: 187.4495023134522\n",
            "Min T round: 175.98659143043855\n",
            "Selected clients (S): 4 out of 100\n",
            "Server selecting data to train centralized...\n",
            "Number of clients in U: 0\n",
            "Time upload: 0\n",
            "Selected data length (|D_UL|): 0\n",
            "Selected clients for this round: 4\n",
            "Distributing model...\n"
          ]
        },
        {
          "name": "stderr",
          "output_type": "stream",
          "text": [
            "Distributing model...: 100%|█████████▉| 34.00000000000021/34.012262297847414 [00:34<00:00,  1.01s/it]  \n"
          ]
        },
        {
          "name": "stdout",
          "output_type": "stream",
          "text": [
            "Scheduled model update and upload...\n",
            "Scheduled model update and upload time: 127.34582042694092 sec\n",
            "Centralized model update...\n",
            "Collecting weights...\n",
            "Aggregating global model...\n",
            "Server: Test acc: 0.4396, test loss: 2.7216, round time: 164.57424521446228\n",
            "\n",
            "Running round: 109 - Time elapsed: 18774.58654332161 seconds\n",
            "Server requesting clients resources...\n",
            "Server selecting clients to train locally...\n",
            "Previous T round: 180.6144612194159\n",
            "Current T round: 181.66735730824232\n",
            "Max T round: 187.4495023134522\n",
            "Min T round: 175.98659143043855\n",
            "Selected clients (S): 4 out of 100\n",
            "Server selecting data to train centralized...\n",
            "Number of clients in U: 2\n",
            "Time upload: 0\n",
            "Time upload: 0.1684938041093159\n",
            "Time upload: 0.336993874570409\n",
            "Time upload: 0.5054939450315021\n",
            "Time upload: 0.6740065481961492\n",
            "Time upload: 0.8425191513607964\n",
            "Time upload: 1.0110568199325525\n",
            "Time upload: 1.1796007548560858\n",
            "Time upload: 1.2975777494914928\n",
            "Time upload: 1.3987053637159683\n",
            "Time upload: 1.4661279507668035\n",
            "Time upload: 1.5166948910549298\n",
            "Time upload: 1.5672618313430562\n",
            "Time upload: 1.6178287716311825\n",
            "Time upload: 1.6515400651566001\n",
            "Time upload: 1.668395711919309\n",
            "Selected data length (|D_UL|): 307200\n",
            "Selected clients for this round: 4\n",
            "Distributing model...\n"
          ]
        },
        {
          "name": "stderr",
          "output_type": "stream",
          "text": [
            "Distributing model...: 100%|█████████▉| 33.60000000000021/33.69864695120893 [00:34<00:00,  1.01s/it]  \n"
          ]
        },
        {
          "name": "stdout",
          "output_type": "stream",
          "text": [
            "Scheduled model update and upload...\n",
            "Scheduled model update and upload time: 127.92745280265808 sec\n",
            "Centralized model update...\n",
            "Collecting weights...\n",
            "Aggregating global model...\n",
            "Server: Test acc: 0.4383, test loss: 2.4998, round time: 166.14257192611694\n",
            "\n",
            "Running round: 110 - Time elapsed: 18940.73055243492 seconds\n",
            "Server requesting clients resources...\n",
            "Server selecting clients to train locally...\n",
            "Previous T round: 181.66735730824232\n",
            "Current T round: 186.05197698931477\n",
            "Max T round: 187.4495023134522\n",
            "Min T round: 175.98659143043855\n",
            "Selected clients (S): 5 out of 100\n",
            "Server selecting data to train centralized...\n",
            "Number of clients in U: 3\n",
            "Time upload: 0\n",
            "Time upload: 0.18162130351882663\n",
            "Time upload: 0.36324260703765343\n",
            "Time upload: 0.5450601677486786\n",
            "Time upload: 0.7272702428441001\n",
            "Time upload: 0.9098728323239185\n",
            "Time upload: 1.0924754218037371\n",
            "Time upload: 1.2756667828601516\n",
            "Time upload: 1.4599463428706794\n",
            "Time upload: 1.6455638155240795\n",
            "Time upload: 1.832269487131593\n",
            "Time upload: 2.018975158739106\n",
            "Time upload: 2.186876471921579\n",
            "Time upload: 2.317169068253975\n",
            "Time upload: 2.4098529477362947\n",
            "Selected data length (|D_UL|): 402432\n",
            "Selected clients for this round: 5\n",
            "Distributing model...\n"
          ]
        },
        {
          "name": "stderr",
          "output_type": "stream",
          "text": [
            "Distributing model...: 100%|█████████▉| 29.60000000000015/29.64008106310893 [00:30<00:00,  1.01s/it]  \n"
          ]
        },
        {
          "name": "stdout",
          "output_type": "stream",
          "text": [
            "Scheduled model update and upload...\n",
            "Scheduled model update and upload time: 141.6651690006256 sec\n",
            "Centralized model update...\n",
            "Collecting weights...\n",
            "Aggregating global model...\n",
            "Server: Test acc: 0.4798, test loss: 2.5192, round time: 176.2501094341278\n",
            "\n",
            "Running round: 111 - Time elapsed: 19116.982242822647 seconds\n",
            "Server requesting clients resources...\n",
            "Server selecting clients to train locally...\n",
            "Previous T round: 186.05197698931477\n",
            "Current T round: 181.35792456938998\n",
            "Max T round: 187.4495023134522\n",
            "Min T round: 175.98659143043855\n",
            "Selected clients (S): 5 out of 100\n",
            "Server selecting data to train centralized...\n",
            "Number of clients in U: 1\n",
            "Time upload: 0\n",
            "Time upload: 0.18872719151826975\n",
            "Time upload: 0.3585816638847125\n",
            "Time upload: 0.5095634170993283\n",
            "Time upload: 0.6227997320102902\n",
            "Time upload: 0.736036046921252\n",
            "Time upload: 0.8115269235285599\n",
            "Time upload: 0.8870178001358678\n",
            "Time upload: 0.9247632384395218\n",
            "Selected data length (|D_UL|): 153600\n",
            "Selected clients for this round: 5\n",
            "Distributing model...\n"
          ]
        },
        {
          "name": "stderr",
          "output_type": "stream",
          "text": [
            "Distributing model...: 100%|█████████▉| 30.500000000000163/30.553812202320348 [00:30<00:00,  1.01s/it] \n"
          ]
        },
        {
          "name": "stdout",
          "output_type": "stream",
          "text": [
            "Scheduled model update and upload...\n",
            "Scheduled model update and upload time: 145.89425683021545 sec\n",
            "Centralized model update...\n",
            "Collecting weights...\n",
            "Aggregating global model...\n",
            "Server: Test acc: 0.3790, test loss: 3.6708, round time: 180.175110578537\n",
            "\n",
            "Running round: 112 - Time elapsed: 19297.158807516098 seconds\n",
            "Server requesting clients resources...\n",
            "Server selecting clients to train locally...\n",
            "Previous T round: 181.35792456938998\n",
            "Current T round: 182.4324641162112\n",
            "Max T round: 187.4495023134522\n",
            "Min T round: 175.98659143043855\n",
            "Selected clients (S): 4 out of 100\n",
            "Server selecting data to train centralized...\n",
            "Number of clients in U: 3\n",
            "Time upload: 0\n",
            "Time upload: 0.15720801123678182\n",
            "Time upload: 0.31681115417846634\n",
            "Time upload: 0.4764142971201508\n",
            "Time upload: 0.6408077034716403\n",
            "Time upload: 0.8052011098231296\n",
            "Time upload: 0.9791750429942297\n",
            "Time upload: 1.1567659144576699\n",
            "Time upload: 1.33435678592111\n",
            "Time upload: 1.5155645956768893\n",
            "Time upload: 1.7003893437250075\n",
            "Time upload: 1.890101318122871\n",
            "Time upload: 2.0616973596921544\n",
            "Selected data length (|D_UL|): 380928\n",
            "Selected clients for this round: 4\n",
            "Distributing model...\n"
          ]
        },
        {
          "name": "stderr",
          "output_type": "stream",
          "text": [
            "Distributing model...: 100%|█████████▉| 32.800000000000196/32.819261220300056 [00:33<00:00,  1.01s/it] \n"
          ]
        },
        {
          "name": "stdout",
          "output_type": "stream",
          "text": [
            "Scheduled model update and upload...\n",
            "Scheduled model update and upload time: 145.24532914161682 sec\n",
            "Centralized model update...\n",
            "Collecting weights...\n",
            "Aggregating global model...\n",
            "Server: Test acc: 0.5061, test loss: 2.1440, round time: 182.75267100334167\n",
            "\n",
            "Running round: 113 - Time elapsed: 19479.91290330887 seconds\n",
            "Server requesting clients resources...\n",
            "Server selecting clients to train locally...\n",
            "Previous T round: 182.4324641162112\n",
            "Current T round: 181.3159416436877\n",
            "Max T round: 187.4495023134522\n",
            "Min T round: 175.98659143043855\n",
            "Selected clients (S): 4 out of 100\n",
            "Server selecting data to train centralized...\n",
            "Number of clients in U: 2\n",
            "Time upload: 0\n",
            "Time upload: 0.17469433842067175\n",
            "Time upload: 0.3493886768413435\n",
            "Time upload: 0.5240830152620153\n",
            "Time upload: 0.7023010037284609\n",
            "Time upload: 0.88404264224068\n",
            "Time upload: 1.051838496956605\n",
            "Time upload: 1.2213961766954167\n",
            "Time upload: 1.392715681457115\n",
            "Time upload: 1.5273344935117925\n",
            "Time upload: 1.6042595289716082\n",
            "Time upload: 1.6811845644314238\n",
            "Time upload: 1.7581095998912395\n",
            "Time upload: 1.8158033764861012\n",
            "Selected data length (|D_UL|): 307200\n",
            "Selected clients for this round: 4\n",
            "Distributing model...\n"
          ]
        },
        {
          "name": "stderr",
          "output_type": "stream",
          "text": [
            "Distributing model...: 100%|█████████▉| 36.10000000000024/36.1960199127615 [00:36<00:00,  1.01s/it]  \n"
          ]
        },
        {
          "name": "stdout",
          "output_type": "stream",
          "text": [
            "Scheduled model update and upload...\n",
            "Scheduled model update and upload time: 129.43318438529968 sec\n",
            "Centralized model update...\n",
            "Collecting weights...\n",
            "Aggregating global model...\n",
            "Server: Test acc: 0.4522, test loss: 2.6135, round time: 169.90006685256958\n",
            "\n",
            "Running round: 114 - Time elapsed: 19649.814569711685 seconds\n",
            "Server requesting clients resources...\n",
            "Server selecting clients to train locally...\n",
            "Previous T round: 181.3159416436877\n",
            "Current T round: 186.11160681248222\n",
            "Max T round: 187.4495023134522\n",
            "Min T round: 175.98659143043855\n",
            "Selected clients (S): 5 out of 100\n",
            "Server selecting data to train centralized...\n",
            "Number of clients in U: 0\n",
            "Time upload: 0\n",
            "Selected data length (|D_UL|): 0\n",
            "Selected clients for this round: 5\n",
            "Distributing model...\n"
          ]
        },
        {
          "name": "stderr",
          "output_type": "stream",
          "text": [
            "Distributing model...: 100%|█████████▉| 32.000000000000185/32.075065338284276 [00:32<00:00,  1.01s/it] \n"
          ]
        },
        {
          "name": "stdout",
          "output_type": "stream",
          "text": [
            "Scheduled model update and upload...\n",
            "Scheduled model update and upload time: 157.97831797599792 sec\n",
            "Centralized model update...\n",
            "Collecting weights...\n",
            "Aggregating global model...\n",
            "Server: Test acc: 0.4657, test loss: 2.5674, round time: 193.273766040802\n",
            "\n",
            "Running round: 115 - Time elapsed: 19843.089858531952 seconds\n",
            "Server requesting clients resources...\n",
            "Server selecting clients to train locally...\n",
            "Previous T round: 186.11160681248222\n",
            "Current T round: 185.4433936197007\n",
            "Max T round: 187.4495023134522\n",
            "Min T round: 175.98659143043855\n",
            "Selected clients (S): 4 out of 100\n",
            "Server selecting data to train centralized...\n",
            "Number of clients in U: 1\n",
            "Time upload: 0\n",
            "Time upload: 0.20311553277080516\n",
            "Time upload: 0.38591951226452975\n",
            "Time upload: 0.548411938481174\n",
            "Time upload: 0.6702812581436574\n",
            "Time upload: 0.7921505778061407\n",
            "Time upload: 0.873396790914463\n",
            "Time upload: 0.9546430040227852\n",
            "Time upload: 0.9952661105769464\n",
            "Selected data length (|D_UL|): 153600\n",
            "Selected clients for this round: 4\n",
            "Distributing model...\n"
          ]
        },
        {
          "name": "stderr",
          "output_type": "stream",
          "text": [
            "Distributing model...: 100%|█████████▉| 36.60000000000025/36.632151129495256 [00:37<00:00,  1.01s/it]  \n"
          ]
        },
        {
          "name": "stdout",
          "output_type": "stream",
          "text": [
            "Scheduled model update and upload...\n",
            "Scheduled model update and upload time: 149.10094714164734 sec\n",
            "Centralized model update...\n",
            "Collecting weights...\n",
            "Aggregating global model...\n",
            "Server: Test acc: 0.5043, test loss: 2.2147, round time: 189.6388921737671\n",
            "\n",
            "Running round: 116 - Time elapsed: 20032.730613708496 seconds\n",
            "Server requesting clients resources...\n",
            "Server selecting clients to train locally...\n",
            "Previous T round: 185.4433936197007\n",
            "Current T round: 178.06679702469296\n",
            "Max T round: 187.4495023134522\n",
            "Min T round: 175.98659143043855\n",
            "Selected clients (S): 4 out of 100\n",
            "Server selecting data to train centralized...\n",
            "Number of clients in U: 0\n",
            "Time upload: 0\n",
            "Selected data length (|D_UL|): 0\n",
            "Selected clients for this round: 4\n",
            "Distributing model...\n"
          ]
        },
        {
          "name": "stderr",
          "output_type": "stream",
          "text": [
            "Distributing model...: 100%|█████████▉| 31.70000000000018/31.76079361890744 [00:32<00:00,  1.01s/it]  \n"
          ]
        },
        {
          "name": "stdout",
          "output_type": "stream",
          "text": [
            "Scheduled model update and upload...\n",
            "Scheduled model update and upload time: 122.67773032188416 sec\n",
            "Centralized model update...\n",
            "Collecting weights...\n",
            "Aggregating global model...\n",
            "Server: Test acc: 0.4880, test loss: 2.4836, round time: 157.76678800582886\n",
            "\n",
            "Running round: 117 - Time elapsed: 20190.49943256378 seconds\n",
            "Server requesting clients resources...\n",
            "Server selecting clients to train locally...\n",
            "Previous T round: 178.06679702469296\n",
            "Current T round: 183.72092902398177\n",
            "Max T round: 187.4495023134522\n",
            "Min T round: 175.98659143043855\n",
            "Selected clients (S): 5 out of 100\n",
            "Server selecting data to train centralized...\n",
            "Number of clients in U: 1\n",
            "Time upload: 0\n",
            "Time upload: 0.16642233746199056\n",
            "Time upload: 0.31620244117778207\n",
            "Time upload: 0.46598254489357355\n",
            "Time upload: 0.5824781811169671\n",
            "Time upload: 0.6989738173403609\n",
            "Time upload: 0.7489005185789582\n",
            "Time upload: 0.7821849860713564\n",
            "Time upload: 0.8154694535637547\n",
            "Selected data length (|D_UL|): 153600\n",
            "Selected clients for this round: 5\n",
            "Distributing model...\n"
          ]
        },
        {
          "name": "stderr",
          "output_type": "stream",
          "text": [
            "Distributing model...: 100%|█████████▉| 31.500000000000178/31.57780203310071 [00:31<00:00,  1.01s/it] \n"
          ]
        },
        {
          "name": "stdout",
          "output_type": "stream",
          "text": [
            "Scheduled model update and upload...\n",
            "Scheduled model update and upload time: 155.47385215759277 sec\n",
            "Centralized model update...\n",
            "Collecting weights...\n",
            "Aggregating global model...\n",
            "Server: Test acc: 0.4197, test loss: 2.9709, round time: 190.74530243873596\n",
            "\n",
            "Running round: 118 - Time elapsed: 20381.24651479721 seconds\n",
            "Server requesting clients resources...\n",
            "Server selecting clients to train locally...\n",
            "Previous T round: 183.72092902398177\n",
            "Current T round: 179.6479469512455\n",
            "Max T round: 187.4495023134522\n",
            "Min T round: 175.98659143043855\n",
            "Selected clients (S): 4 out of 100\n",
            "Server selecting data to train centralized...\n",
            "Number of clients in U: 1\n",
            "Time upload: 0\n",
            "Time upload: 0.16170394229077512\n",
            "Time upload: 0.3072374903524727\n",
            "Time upload: 0.4366006441850928\n",
            "Time upload: 0.5336230095595579\n",
            "Time upload: 0.630645374934023\n",
            "Time upload: 0.695326951850333\n",
            "Time upload: 0.760008528766643\n",
            "Time upload: 0.7923493172247981\n",
            "Selected data length (|D_UL|): 153600\n",
            "Selected clients for this round: 4\n",
            "Distributing model...\n"
          ]
        },
        {
          "name": "stderr",
          "output_type": "stream",
          "text": [
            "Distributing model...: 100%|█████████▉| 36.60000000000025/36.6979917809417 [00:37<00:00,  1.01s/it]  \n"
          ]
        },
        {
          "name": "stdout",
          "output_type": "stream",
          "text": [
            "Scheduled model update and upload...\n",
            "Scheduled model update and upload time: 133.57586336135864 sec\n",
            "Centralized model update...\n",
            "Collecting weights...\n",
            "Aggregating global model...\n",
            "Server: Test acc: 0.5155, test loss: 2.2409, round time: 173.94438529014587\n",
            "\n",
            "Running round: 119 - Time elapsed: 20555.192560195923 seconds\n",
            "Server requesting clients resources...\n",
            "Server selecting clients to train locally...\n",
            "Previous T round: 179.6479469512455\n",
            "Current T round: 184.29996649749228\n",
            "Max T round: 187.4495023134522\n",
            "Min T round: 175.98659143043855\n",
            "Selected clients (S): 4 out of 100\n",
            "Server selecting data to train centralized...\n",
            "Number of clients in U: 2\n",
            "Time upload: 0\n",
            "Time upload: 0.16451656536495055\n",
            "Time upload: 0.3290331307299011\n",
            "Time upload: 0.4935496960948516\n",
            "Time upload: 0.6689448243096531\n",
            "Time upload: 0.8552185153743054\n",
            "Time upload: 1.0523707692888087\n",
            "Time upload: 1.2439499295166678\n",
            "Time upload: 1.435529089744527\n",
            "Time upload: 1.5887656554744705\n",
            "Time upload: 1.7201112832429934\n",
            "Time upload: 1.8076750350886754\n",
            "Time upload: 1.8514569110115164\n",
            "Time upload: 1.8952387869343574\n",
            "Selected data length (|D_UL|): 307200\n",
            "Selected clients for this round: 4\n",
            "Distributing model...\n"
          ]
        },
        {
          "name": "stderr",
          "output_type": "stream",
          "text": [
            "Distributing model...: 100%|█████████▉| 32.9000000000002/32.99889545198326 [00:33<00:00,  1.01s/it]   \n"
          ]
        },
        {
          "name": "stdout",
          "output_type": "stream",
          "text": [
            "Scheduled model update and upload...\n",
            "Scheduled model update and upload time: 129.12789058685303 sec\n",
            "Centralized model update...\n",
            "Collecting weights...\n",
            "Aggregating global model...\n",
            "Server: Test acc: 0.4345, test loss: 2.8327, round time: 166.44284796714783\n",
            "\n",
            "Running round: 120 - Time elapsed: 20721.636967420578 seconds\n",
            "Server requesting clients resources...\n",
            "Server selecting clients to train locally...\n",
            "Previous T round: 184.29996649749228\n",
            "Current T round: 186.46367384336816\n",
            "Max T round: 187.4495023134522\n",
            "Min T round: 175.98659143043855\n",
            "Selected clients (S): 5 out of 100\n",
            "Server selecting data to train centralized...\n",
            "Number of clients in U: 0\n",
            "Time upload: 0\n",
            "Selected data length (|D_UL|): 0\n",
            "Selected clients for this round: 5\n",
            "Distributing model...\n"
          ]
        },
        {
          "name": "stderr",
          "output_type": "stream",
          "text": [
            "Distributing model...: 100%|█████████▉| 32.30000000000019/32.33956534551032 [00:32<00:00,  1.01s/it]  \n"
          ]
        },
        {
          "name": "stdout",
          "output_type": "stream",
          "text": [
            "Scheduled model update and upload...\n",
            "Scheduled model update and upload time: 150.2603108882904 sec\n",
            "Centralized model update...\n",
            "Collecting weights...\n",
            "Aggregating global model...\n",
            "Server: Test acc: 0.4498, test loss: 2.7247, round time: 185.89920663833618\n",
            "\n",
            "Running round: 121 - Time elapsed: 20907.53751707077 seconds\n",
            "Server requesting clients resources...\n",
            "Server selecting clients to train locally...\n",
            "Previous T round: 186.46367384336816\n",
            "Current T round: 175.73009547305446\n",
            "Max T round: 187.4495023134522\n",
            "Min T round: 175.73009547305446\n",
            "Selected clients (S): 4 out of 100\n",
            "Server selecting data to train centralized...\n",
            "Number of clients in U: 2\n",
            "Time upload: 0\n",
            "Time upload: 0.1768635176590726\n",
            "Time upload: 0.3537270353181453\n",
            "Time upload: 0.530590552977218\n",
            "Time upload: 0.7116726919171134\n",
            "Time upload: 0.879287100371924\n",
            "Time upload: 1.051120130107557\n",
            "Time upload: 1.2052668080772821\n",
            "Time upload: 1.3615227966874186\n",
            "Time upload: 1.517778785297555\n",
            "Time upload: 1.6365527597354659\n",
            "Time upload: 1.7355310717670582\n",
            "Time upload: 1.8147137213923321\n",
            "Time upload: 1.854305046204969\n",
            "Selected data length (|D_UL|): 307200\n",
            "Selected clients for this round: 4\n",
            "Distributing model...\n"
          ]
        },
        {
          "name": "stderr",
          "output_type": "stream",
          "text": [
            "Distributing model...: 100%|█████████▉| 31.500000000000178/31.584947156930706 [00:31<00:00,  1.01s/it] \n"
          ]
        },
        {
          "name": "stdout",
          "output_type": "stream",
          "text": [
            "Scheduled model update and upload...\n",
            "Scheduled model update and upload time: 126.62599587440491 sec\n",
            "Centralized model update...\n",
            "Collecting weights...\n",
            "Aggregating global model...\n",
            "Server: Test acc: 0.4783, test loss: 2.9300, round time: 162.50425744056702\n",
            "\n",
            "Running round: 122 - Time elapsed: 21070.04322886467 seconds\n",
            "Server requesting clients resources...\n",
            "Server selecting clients to train locally...\n",
            "Previous T round: 175.73009547305446\n",
            "Current T round: 180.67719579235958\n",
            "Max T round: 187.4495023134522\n",
            "Min T round: 175.73009547305446\n",
            "Selected clients (S): 4 out of 100\n",
            "Server selecting data to train centralized...\n",
            "Number of clients in U: 0\n",
            "Time upload: 0\n",
            "Selected data length (|D_UL|): 0\n",
            "Selected clients for this round: 4\n",
            "Distributing model...\n"
          ]
        },
        {
          "name": "stderr",
          "output_type": "stream",
          "text": [
            "Distributing model...: 100%|█████████▉| 33.400000000000205/33.44551950671209 [00:33<00:00,  1.01s/it] \n"
          ]
        },
        {
          "name": "stdout",
          "output_type": "stream",
          "text": [
            "Scheduled model update and upload...\n",
            "Scheduled model update and upload time: 124.90955591201782 sec\n",
            "Centralized model update...\n",
            "Collecting weights...\n",
            "Aggregating global model...\n",
            "Server: Test acc: 0.4547, test loss: 2.4703, round time: 161.74804544448853\n",
            "\n",
            "Running round: 123 - Time elapsed: 21231.792712450027 seconds\n",
            "Server requesting clients resources...\n",
            "Server selecting clients to train locally...\n",
            "Previous T round: 180.67719579235958\n",
            "Current T round: 178.33881122290617\n",
            "Max T round: 187.4495023134522\n",
            "Min T round: 175.73009547305446\n",
            "Selected clients (S): 5 out of 100\n",
            "Server selecting data to train centralized...\n",
            "Number of clients in U: 3\n",
            "Time upload: 0\n",
            "Time upload: 0.16956968513362083\n",
            "Time upload: 0.33920530392102294\n",
            "Time upload: 0.5089068563622062\n",
            "Time upload: 0.6786084088033891\n",
            "Time upload: 0.8484418285521346\n",
            "Time upload: 1.0214548925941127\n",
            "Time upload: 1.1975816672755424\n",
            "Time upload: 1.3738403092645344\n",
            "Time upload: 1.5500989512535264\n",
            "Time upload: 1.7325190808676396\n",
            "Time upload: 1.9009640853002796\n",
            "Time upload: 2.0323155084129634\n",
            "Time upload: 2.1697624854969884\n",
            "Time upload: 2.267068104275386\n",
            "Selected data length (|D_UL|): 399360\n",
            "Selected clients for this round: 5\n",
            "Distributing model...\n"
          ]
        },
        {
          "name": "stderr",
          "output_type": "stream",
          "text": [
            "Distributing model...: 100%|█████████▉| 29.60000000000015/29.681624089862154 [00:30<00:00,  1.02s/it]  \n"
          ]
        },
        {
          "name": "stdout",
          "output_type": "stream",
          "text": [
            "Scheduled model update and upload...\n",
            "Scheduled model update and upload time: 146.36396956443787 sec\n",
            "Centralized model update...\n",
            "Collecting weights...\n",
            "Aggregating global model...\n",
            "Server: Test acc: 0.4211, test loss: 3.4859, round time: 181.10141730308533\n",
            "\n",
            "Running round: 124 - Time elapsed: 21412.895674943924 seconds\n",
            "Server requesting clients resources...\n",
            "Server selecting clients to train locally...\n",
            "Previous T round: 178.33881122290617\n",
            "Current T round: 181.593255270606\n",
            "Max T round: 187.4495023134522\n",
            "Min T round: 175.73009547305446\n",
            "Selected clients (S): 5 out of 100\n",
            "Server selecting data to train centralized...\n",
            "Number of clients in U: 2\n",
            "Time upload: 0\n",
            "Time upload: 0.1748772845845056\n",
            "Time upload: 0.3503803901754671\n",
            "Time upload: 0.5265093167728846\n",
            "Time upload: 0.7038898853832146\n",
            "Time upload: 0.8812704539935446\n",
            "Time upload: 1.0417891151518799\n",
            "Time upload: 1.2023077763102143\n",
            "Time upload: 1.3278509805516479\n",
            "Time upload: 1.4359064563346309\n",
            "Time upload: 1.54458775312407\n",
            "Time upload: 1.6351555004486025\n",
            "Time upload: 1.7076096983082285\n",
            "Time upload: 1.761950346702948\n",
            "Selected data length (|D_UL|): 307200\n",
            "Selected clients for this round: 5\n",
            "Distributing model...\n"
          ]
        },
        {
          "name": "stderr",
          "output_type": "stream",
          "text": [
            "Distributing model...: 100%|█████████▉| 30.000000000000156/30.054157382299472 [00:30<00:00,  1.02s/it] \n"
          ]
        },
        {
          "name": "stdout",
          "output_type": "stream",
          "text": [
            "Scheduled model update and upload...\n",
            "Scheduled model update and upload time: 153.83208394050598 sec\n",
            "Centralized model update...\n",
            "Collecting weights...\n",
            "Aggregating global model...\n",
            "Server: Test acc: 0.5293, test loss: 1.7552, round time: 188.36743688583374\n",
            "\n",
            "Running round: 125 - Time elapsed: 21601.264526367188 seconds\n",
            "Server requesting clients resources...\n",
            "Server selecting clients to train locally...\n",
            "Previous T round: 181.593255270606\n",
            "Current T round: 181.91970735441163\n",
            "Max T round: 187.4495023134522\n",
            "Min T round: 175.73009547305446\n",
            "Selected clients (S): 5 out of 100\n",
            "Server selecting data to train centralized...\n",
            "Number of clients in U: 2\n",
            "Time upload: 0\n",
            "Time upload: 0.14812031052454505\n",
            "Time upload: 0.2962406210490901\n",
            "Time upload: 0.444360931573635\n",
            "Time upload: 0.5928505715481419\n",
            "Time upload: 0.726897509920156\n",
            "Time upload: 0.8613137777421317\n",
            "Time upload: 0.9809180145116528\n",
            "Time upload: 1.1007069160061556\n",
            "Time upload: 1.2204958175006582\n",
            "Time upload: 1.3104759921652709\n",
            "Time upload: 1.3854594710524482\n",
            "Time upload: 1.44544625416219\n",
            "Time upload: 1.4754396457170609\n",
            "Selected data length (|D_UL|): 307200\n",
            "Selected clients for this round: 5\n",
            "Distributing model...\n"
          ]
        },
        {
          "name": "stderr",
          "output_type": "stream",
          "text": [
            "Distributing model...: 100%|█████████▉| 32.30000000000019/32.305711489888175 [00:32<00:00,  1.01s/it]  \n"
          ]
        },
        {
          "name": "stdout",
          "output_type": "stream",
          "text": [
            "Scheduled model update and upload...\n",
            "Scheduled model update and upload time: 147.93216371536255 sec\n",
            "Centralized model update...\n",
            "Collecting weights...\n",
            "Aggregating global model...\n",
            "Server: Test acc: 0.5354, test loss: 1.5655, round time: 184.76757907867432\n",
            "\n",
            "Running round: 126 - Time elapsed: 21786.03356218338 seconds\n",
            "Server requesting clients resources...\n",
            "Server selecting clients to train locally...\n",
            "Previous T round: 181.91970735441163\n",
            "Current T round: 183.20743863703106\n",
            "Max T round: 187.4495023134522\n",
            "Min T round: 175.73009547305446\n",
            "Selected clients (S): 4 out of 100\n",
            "Server selecting data to train centralized...\n",
            "Number of clients in U: 1\n",
            "Time upload: 0\n",
            "Time upload: 0.1848707634816398\n",
            "Time upload: 0.36974152696327967\n",
            "Time upload: 0.5546122904449194\n",
            "Time upload: 0.7025089012302309\n",
            "Time upload: 0.8134313593192145\n",
            "Time upload: 0.8873796647118702\n",
            "Time upload: 0.9058667410600342\n",
            "Selected data length (|D_UL|): 153600\n",
            "Selected clients for this round: 4\n",
            "Distributing model...\n"
          ]
        },
        {
          "name": "stderr",
          "output_type": "stream",
          "text": [
            "Distributing model...: 100%|█████████▉| 32.30000000000019/32.32929985636791 [00:32<00:00,  1.01s/it]  \n"
          ]
        },
        {
          "name": "stdout",
          "output_type": "stream",
          "text": [
            "Scheduled model update and upload...\n",
            "Scheduled model update and upload time: 127.94677448272705 sec\n",
            "Centralized model update...\n",
            "Collecting weights...\n",
            "Aggregating global model...\n",
            "Server: Test acc: 0.3960, test loss: 3.2973, round time: 164.0183506011963\n",
            "\n",
            "Running round: 127 - Time elapsed: 21950.053340435028 seconds\n",
            "Server requesting clients resources...\n",
            "Server selecting clients to train locally...\n",
            "Previous T round: 183.20743863703106\n",
            "Current T round: 178.75087894073525\n",
            "Max T round: 187.4495023134522\n",
            "Min T round: 175.73009547305446\n",
            "Selected clients (S): 5 out of 100\n",
            "Server selecting data to train centralized...\n",
            "Number of clients in U: 1\n",
            "Time upload: 0\n",
            "Time upload: 0.1805877567190142\n",
            "Time upload: 0.36117551343802823\n",
            "Time upload: 0.5417632701570422\n",
            "Time upload: 0.6862334755322533\n",
            "Time upload: 0.7945861295636617\n",
            "Time upload: 0.8668212322512673\n",
            "Time upload: 0.8848800079231687\n",
            "Selected data length (|D_UL|): 153600\n",
            "Selected clients for this round: 5\n",
            "Distributing model...\n"
          ]
        },
        {
          "name": "stderr",
          "output_type": "stream",
          "text": [
            "Distributing model...: 100%|█████████▉| 31.300000000000175/31.385084632840943 [00:31<00:00,  1.01s/it] \n"
          ]
        },
        {
          "name": "stdout",
          "output_type": "stream",
          "text": [
            "Scheduled model update and upload...\n",
            "Scheduled model update and upload time: 146.9625632762909 sec\n",
            "Centralized model update...\n",
            "Collecting weights...\n",
            "Aggregating global model...\n",
            "Server: Test acc: 0.4891, test loss: 2.3250, round time: 181.9920380115509\n",
            "\n",
            "Running round: 128 - Time elapsed: 22132.046860218048 seconds\n",
            "Server requesting clients resources...\n",
            "Server selecting clients to train locally...\n",
            "Previous T round: 178.75087894073525\n",
            "Current T round: 183.13962147870146\n",
            "Max T round: 187.4495023134522\n",
            "Min T round: 175.73009547305446\n",
            "Selected clients (S): 4 out of 100\n",
            "Server selecting data to train centralized...\n",
            "Number of clients in U: 0\n",
            "Time upload: 0\n",
            "Selected data length (|D_UL|): 0\n",
            "Selected clients for this round: 4\n",
            "Distributing model...\n"
          ]
        },
        {
          "name": "stderr",
          "output_type": "stream",
          "text": [
            "Distributing model...: 100%|█████████▉| 35.20000000000023/35.27334708598725 [00:35<00:00,  1.01s/it]  \n"
          ]
        },
        {
          "name": "stdout",
          "output_type": "stream",
          "text": [
            "Scheduled model update and upload...\n",
            "Scheduled model update and upload time: 127.8159453868866 sec\n",
            "Centralized model update...\n",
            "Collecting weights...\n",
            "Aggregating global model...\n",
            "Server: Test acc: 0.4861, test loss: 2.2745, round time: 166.37157583236694\n",
            "\n",
            "Running round: 129 - Time elapsed: 22298.419807434082 seconds\n",
            "Server requesting clients resources...\n",
            "Server selecting clients to train locally...\n",
            "Previous T round: 183.13962147870146\n",
            "Current T round: 181.57579655988317\n",
            "Max T round: 187.4495023134522\n",
            "Min T round: 175.73009547305446\n",
            "Selected clients (S): 5 out of 100\n",
            "Server selecting data to train centralized...\n",
            "Number of clients in U: 1\n",
            "Time upload: 0\n",
            "Time upload: 0.16623836416605542\n",
            "Time upload: 0.3324767283321107\n",
            "Time upload: 0.49871509249816603\n",
            "Time upload: 0.6317057838310107\n",
            "Time upload: 0.7148249659140387\n",
            "Time upload: 0.7646964751638554\n",
            "Time upload: 0.7979441479970666\n",
            "Time upload: 0.8145679844136722\n",
            "Selected data length (|D_UL|): 153600\n",
            "Selected clients for this round: 5\n",
            "Distributing model...\n"
          ]
        },
        {
          "name": "stderr",
          "output_type": "stream",
          "text": [
            "Distributing model...: 100%|█████████▉| 32.800000000000196/32.894707642976336 [00:33<00:00,  1.01s/it] \n"
          ]
        },
        {
          "name": "stdout",
          "output_type": "stream",
          "text": [
            "Scheduled model update and upload...\n",
            "Scheduled model update and upload time: 147.00105094909668 sec\n",
            "Centralized model update...\n",
            "Collecting weights...\n",
            "Aggregating global model...\n",
            "Server: Test acc: 0.4658, test loss: 2.6358, round time: 183.6002562046051\n",
            "\n",
            "Running round: 130 - Time elapsed: 22482.02146434784 seconds\n",
            "Server requesting clients resources...\n",
            "Server selecting clients to train locally...\n",
            "Previous T round: 181.57579655988317\n",
            "Current T round: 183.03612164361144\n",
            "Max T round: 187.4495023134522\n",
            "Min T round: 175.73009547305446\n",
            "Selected clients (S): 4 out of 100\n",
            "Server selecting data to train centralized...\n",
            "Number of clients in U: 2\n",
            "Time upload: 0\n",
            "Time upload: 0.15868732858238283\n",
            "Time upload: 0.3183111297284449\n",
            "Time upload: 0.4779349308745071\n",
            "Time upload: 0.6394316771479276\n",
            "Time upload: 0.8009284234213481\n",
            "Time upload: 0.966171059949485\n",
            "Time upload: 1.1323501690413011\n",
            "Time upload: 1.2649188672892824\n",
            "Time upload: 1.3480084218351904\n",
            "Time upload: 1.3984240381009427\n",
            "Time upload: 1.448839654366695\n",
            "Time upload: 1.4992552706324473\n",
            "Time upload: 1.5496708868981997\n",
            "Time upload: 1.600086503163952\n",
            "Time upload: 1.6168917085858694\n",
            "Selected data length (|D_UL|): 307200\n",
            "Selected clients for this round: 4\n",
            "Distributing model...\n"
          ]
        },
        {
          "name": "stderr",
          "output_type": "stream",
          "text": [
            "Distributing model...: 100%|█████████▉| 35.500000000000234/35.55343066472728 [00:36<00:00,  1.02s/it] \n"
          ]
        },
        {
          "name": "stdout",
          "output_type": "stream",
          "text": [
            "Scheduled model update and upload...\n",
            "Scheduled model update and upload time: 129.85116839408875 sec\n",
            "Centralized model update...\n",
            "Collecting weights...\n",
            "Aggregating global model...\n",
            "Server: Test acc: 0.4794, test loss: 2.4994, round time: 170.02576303482056\n",
            "\n",
            "Running round: 131 - Time elapsed: 22652.048637151718 seconds\n",
            "Server requesting clients resources...\n",
            "Server selecting clients to train locally...\n",
            "Previous T round: 183.03612164361144\n",
            "Current T round: 179.08665426802406\n",
            "Max T round: 187.4495023134522\n",
            "Min T round: 175.73009547305446\n",
            "Selected clients (S): 4 out of 100\n",
            "Server selecting data to train centralized...\n",
            "Number of clients in U: 1\n",
            "Time upload: 0\n",
            "Time upload: 0.18913540718201363\n",
            "Time upload: 0.3782708143640271\n",
            "Time upload: 0.5484926808278393\n",
            "Time upload: 0.6998010065734505\n",
            "Time upload: 0.7943687101644574\n",
            "Time upload: 0.870022873037263\n",
            "Time upload: 0.9078499544736658\n",
            "Time upload: 0.9267634951918672\n",
            "Selected data length (|D_UL|): 153600\n",
            "Selected clients for this round: 4\n",
            "Distributing model...\n"
          ]
        },
        {
          "name": "stderr",
          "output_type": "stream",
          "text": [
            "Distributing model...: 100%|█████████▉| 34.800000000000225/34.81973785948212 [00:35<00:00,  1.02s/it] \n"
          ]
        },
        {
          "name": "stdout",
          "output_type": "stream",
          "text": [
            "Scheduled model update and upload...\n",
            "Scheduled model update and upload time: 130.51913237571716 sec\n",
            "Centralized model update...\n",
            "Collecting weights...\n",
            "Aggregating global model...\n",
            "Server: Test acc: 0.4532, test loss: 2.4607, round time: 169.20459079742432\n",
            "\n",
            "Running round: 132 - Time elapsed: 22821.25452566147 seconds\n",
            "Server requesting clients resources...\n",
            "Server selecting clients to train locally...\n",
            "Previous T round: 179.08665426802406\n",
            "Current T round: 184.95961039010297\n",
            "Max T round: 187.4495023134522\n",
            "Min T round: 175.73009547305446\n",
            "Selected clients (S): 4 out of 100\n",
            "Server selecting data to train centralized...\n",
            "Number of clients in U: 0\n",
            "Time upload: 0\n",
            "Selected data length (|D_UL|): 0\n",
            "Selected clients for this round: 4\n",
            "Distributing model...\n"
          ]
        },
        {
          "name": "stderr",
          "output_type": "stream",
          "text": [
            "Distributing model...: 100%|█████████▉| 32.800000000000196/32.811848378922285 [00:33<00:00,  1.01s/it] \n"
          ]
        },
        {
          "name": "stdout",
          "output_type": "stream",
          "text": [
            "Scheduled model update and upload...\n",
            "Scheduled model update and upload time: 126.12544894218445 sec\n",
            "Centralized model update...\n",
            "Collecting weights...\n",
            "Aggregating global model...\n",
            "Server: Test acc: 0.4753, test loss: 2.1678, round time: 162.2924084663391\n",
            "\n",
            "Running round: 133 - Time elapsed: 22983.5484521389 seconds\n",
            "Server requesting clients resources...\n",
            "Server selecting clients to train locally...\n",
            "Previous T round: 184.95961039010297\n",
            "Current T round: 181.50175707443648\n",
            "Max T round: 187.4495023134522\n",
            "Min T round: 175.73009547305446\n",
            "Selected clients (S): 4 out of 100\n",
            "Server selecting data to train centralized...\n",
            "Number of clients in U: 1\n",
            "Time upload: 0\n",
            "Time upload: 0.18601024284359752\n",
            "Time upload: 0.3720204856871949\n",
            "Time upload: 0.5394297042464324\n",
            "Time upload: 0.6696368742369505\n",
            "Time upload: 0.7626419956587491\n",
            "Time upload: 0.8556471170805477\n",
            "Time upload: 0.8928491656492672\n",
            "Time upload: 0.9114501899336269\n",
            "Selected data length (|D_UL|): 153600\n",
            "Selected clients for this round: 4\n",
            "Distributing model...\n"
          ]
        },
        {
          "name": "stderr",
          "output_type": "stream",
          "text": [
            "Distributing model...: 100%|█████████▉| 34.200000000000216/34.2621650041488 [00:34<00:00,  1.01s/it] \n"
          ]
        },
        {
          "name": "stdout",
          "output_type": "stream",
          "text": [
            "Scheduled model update and upload...\n",
            "Scheduled model update and upload time: 123.30443930625916 sec\n",
            "Centralized model update...\n",
            "Collecting weights...\n",
            "Aggregating global model...\n",
            "Server: Test acc: 0.5377, test loss: 2.2320, round time: 161.43839573860168\n",
            "\n",
            "Running round: 134 - Time elapsed: 23144.988152980804 seconds\n",
            "Server requesting clients resources...\n",
            "Server selecting clients to train locally...\n",
            "Previous T round: 181.50175707443648\n",
            "Current T round: 182.29001699036013\n",
            "Max T round: 187.4495023134522\n",
            "Min T round: 175.73009547305446\n",
            "Selected clients (S): 5 out of 100\n",
            "Server selecting data to train centralized...\n",
            "Number of clients in U: 0\n",
            "Time upload: 0\n",
            "Selected data length (|D_UL|): 0\n",
            "Selected clients for this round: 5\n",
            "Distributing model...\n"
          ]
        },
        {
          "name": "stderr",
          "output_type": "stream",
          "text": [
            "Distributing model...: 100%|█████████▉| 31.70000000000018/31.766644188538013 [00:32<00:00,  1.01s/it]  \n"
          ]
        },
        {
          "name": "stdout",
          "output_type": "stream",
          "text": [
            "Scheduled model update and upload...\n",
            "Scheduled model update and upload time: 151.0492458343506 sec\n",
            "Centralized model update...\n",
            "Collecting weights...\n",
            "Aggregating global model...\n",
            "Server: Test acc: 0.4193, test loss: 2.4506, round time: 186.17778992652893\n",
            "\n",
            "Running round: 135 - Time elapsed: 23331.16732788086 seconds\n",
            "Server requesting clients resources...\n",
            "Server selecting clients to train locally...\n",
            "Previous T round: 182.29001699036013\n",
            "Current T round: 185.08109444466598\n",
            "Max T round: 187.4495023134522\n",
            "Min T round: 175.73009547305446\n",
            "Selected clients (S): 5 out of 100\n",
            "Server selecting data to train centralized...\n",
            "Number of clients in U: 1\n",
            "Time upload: 0\n",
            "Time upload: 0.17144767144094353\n",
            "Time upload: 0.3257505757377927\n",
            "Time upload: 0.4629087128905475\n",
            "Time upload: 0.6000668500433022\n",
            "Time upload: 0.702935452907868\n",
            "Time upload: 0.7715145214842452\n",
            "Time upload: 0.822948822916528\n",
            "Time upload: 0.8400935900606223\n",
            "Selected data length (|D_UL|): 153600\n",
            "Selected clients for this round: 5\n",
            "Distributing model...\n"
          ]
        },
        {
          "name": "stderr",
          "output_type": "stream",
          "text": [
            "Distributing model...: 100%|█████████▉| 32.000000000000185/32.07887812735716 [00:32<00:00,  1.01s/it] \n"
          ]
        },
        {
          "name": "stdout",
          "output_type": "stream",
          "text": [
            "Scheduled model update and upload...\n",
            "Scheduled model update and upload time: 153.97955060005188 sec\n",
            "Centralized model update...\n",
            "Collecting weights...\n",
            "Aggregating global model...\n",
            "Server: Test acc: 0.5007, test loss: 2.1413, round time: 189.92624163627625\n",
            "\n",
            "Running round: 136 - Time elapsed: 23521.09490585327 seconds\n",
            "Server requesting clients resources...\n",
            "Server selecting clients to train locally...\n",
            "Previous T round: 185.08109444466598\n",
            "Current T round: 180.71803222511969\n",
            "Max T round: 187.4495023134522\n",
            "Min T round: 175.73009547305446\n",
            "Selected clients (S): 5 out of 100\n",
            "Server selecting data to train centralized...\n",
            "Number of clients in U: 0\n",
            "Time upload: 0\n",
            "Selected data length (|D_UL|): 0\n",
            "Selected clients for this round: 5\n",
            "Distributing model...\n"
          ]
        },
        {
          "name": "stderr",
          "output_type": "stream",
          "text": [
            "Distributing model...: 100%|█████████▉| 29.900000000000155/29.940459161155285 [00:30<00:00,  1.01s/it] \n"
          ]
        },
        {
          "name": "stdout",
          "output_type": "stream",
          "text": [
            "Scheduled model update and upload...\n",
            "Scheduled model update and upload time: 146.3507902622223 sec\n",
            "Centralized model update...\n",
            "Collecting weights...\n",
            "Aggregating global model...\n",
            "Server: Test acc: 0.4749, test loss: 2.6804, round time: 179.5132257938385\n",
            "\n",
            "Running round: 137 - Time elapsed: 23700.609783411026 seconds\n",
            "Server requesting clients resources...\n",
            "Server selecting clients to train locally...\n",
            "Previous T round: 180.71803222511969\n",
            "Current T round: 186.35175449067785\n",
            "Max T round: 187.4495023134522\n",
            "Min T round: 175.73009547305446\n",
            "Selected clients (S): 5 out of 100\n",
            "Server selecting data to train centralized...\n",
            "Number of clients in U: 0\n",
            "Time upload: 0\n",
            "Selected data length (|D_UL|): 0\n",
            "Selected clients for this round: 5\n",
            "Distributing model...\n"
          ]
        },
        {
          "name": "stderr",
          "output_type": "stream",
          "text": [
            "Distributing model...: 100%|█████████▉| 30.800000000000168/30.86632885526375 [00:31<00:00,  1.01s/it] \n"
          ]
        },
        {
          "name": "stdout",
          "output_type": "stream",
          "text": [
            "Scheduled model update and upload...\n",
            "Scheduled model update and upload time: 149.31235146522522 sec\n",
            "Centralized model update...\n",
            "Collecting weights...\n",
            "Aggregating global model...\n",
            "Server: Test acc: 0.5028, test loss: 2.8237, round time: 183.44528818130493\n",
            "\n",
            "Running round: 138 - Time elapsed: 23884.05645918846 seconds\n",
            "Server requesting clients resources...\n",
            "Server selecting clients to train locally...\n",
            "Previous T round: 186.35175449067785\n",
            "Current T round: 182.21192835593476\n",
            "Max T round: 187.4495023134522\n",
            "Min T round: 175.73009547305446\n",
            "Selected clients (S): 4 out of 100\n",
            "Server selecting data to train centralized...\n",
            "Number of clients in U: 1\n",
            "Time upload: 0\n",
            "Time upload: 0.167075162511347\n",
            "Time upload: 0.3174428087715593\n",
            "Time upload: 0.4678104550317716\n",
            "Time upload: 0.5847630687897142\n",
            "Time upload: 0.7017156825476567\n",
            "Time upload: 0.7518382313010606\n",
            "Time upload: 0.7852532638033299\n",
            "Time upload: 0.8186682963055992\n",
            "Selected data length (|D_UL|): 153600\n",
            "Selected clients for this round: 4\n",
            "Distributing model...\n"
          ]
        },
        {
          "name": "stderr",
          "output_type": "stream",
          "text": [
            "Distributing model...: 100%|█████████▉| 35.80000000000024/35.80596465732124 [00:36<00:00,  1.01s/it]  \n"
          ]
        },
        {
          "name": "stdout",
          "output_type": "stream",
          "text": [
            "Scheduled model update and upload...\n",
            "Scheduled model update and upload time: 146.29656100273132 sec\n",
            "Centralized model update...\n",
            "Collecting weights...\n",
            "Aggregating global model...\n",
            "Server: Test acc: 0.3982, test loss: 4.1314, round time: 185.98225378990173\n",
            "Total clients selected: 602\n"
          ]
        },
        {
          "data": {
            "text/html": [
              "<div>\n",
              "<style scoped>\n",
              "    .dataframe tbody tr th:only-of-type {\n",
              "        vertical-align: middle;\n",
              "    }\n",
              "\n",
              "    .dataframe tbody tr th {\n",
              "        vertical-align: top;\n",
              "    }\n",
              "\n",
              "    .dataframe thead th {\n",
              "        text-align: right;\n",
              "    }\n",
              "</style>\n",
              "<table border=\"1\" class=\"dataframe\">\n",
              "  <thead>\n",
              "    <tr style=\"text-align: right;\">\n",
              "      <th></th>\n",
              "      <th>loss</th>\n",
              "      <th>accuracy</th>\n",
              "      <th>elapsed_time</th>\n",
              "    </tr>\n",
              "  </thead>\n",
              "  <tbody>\n",
              "    <tr>\n",
              "      <th>0</th>\n",
              "      <td>2.421705</td>\n",
              "      <td>0.1000</td>\n",
              "      <td>162.299700</td>\n",
              "    </tr>\n",
              "    <tr>\n",
              "      <th>1</th>\n",
              "      <td>3.865916</td>\n",
              "      <td>0.1000</td>\n",
              "      <td>184.187963</td>\n",
              "    </tr>\n",
              "    <tr>\n",
              "      <th>2</th>\n",
              "      <td>2.850129</td>\n",
              "      <td>0.1393</td>\n",
              "      <td>170.547474</td>\n",
              "    </tr>\n",
              "    <tr>\n",
              "      <th>3</th>\n",
              "      <td>4.047596</td>\n",
              "      <td>0.1295</td>\n",
              "      <td>173.816508</td>\n",
              "    </tr>\n",
              "    <tr>\n",
              "      <th>4</th>\n",
              "      <td>3.427638</td>\n",
              "      <td>0.1257</td>\n",
              "      <td>172.242985</td>\n",
              "    </tr>\n",
              "    <tr>\n",
              "      <th>...</th>\n",
              "      <td>...</td>\n",
              "      <td>...</td>\n",
              "      <td>...</td>\n",
              "    </tr>\n",
              "    <tr>\n",
              "      <th>133</th>\n",
              "      <td>2.450592</td>\n",
              "      <td>0.4193</td>\n",
              "      <td>186.177790</td>\n",
              "    </tr>\n",
              "    <tr>\n",
              "      <th>134</th>\n",
              "      <td>2.141252</td>\n",
              "      <td>0.5007</td>\n",
              "      <td>189.926242</td>\n",
              "    </tr>\n",
              "    <tr>\n",
              "      <th>135</th>\n",
              "      <td>2.680382</td>\n",
              "      <td>0.4749</td>\n",
              "      <td>179.513226</td>\n",
              "    </tr>\n",
              "    <tr>\n",
              "      <th>136</th>\n",
              "      <td>2.823653</td>\n",
              "      <td>0.5028</td>\n",
              "      <td>183.445288</td>\n",
              "    </tr>\n",
              "    <tr>\n",
              "      <th>137</th>\n",
              "      <td>4.131439</td>\n",
              "      <td>0.3982</td>\n",
              "      <td>185.982254</td>\n",
              "    </tr>\n",
              "  </tbody>\n",
              "</table>\n",
              "<p>138 rows × 3 columns</p>\n",
              "</div>"
            ],
            "text/plain": [
              "         loss  accuracy  elapsed_time\n",
              "0    2.421705    0.1000    162.299700\n",
              "1    3.865916    0.1000    184.187963\n",
              "2    2.850129    0.1393    170.547474\n",
              "3    4.047596    0.1295    173.816508\n",
              "4    3.427638    0.1257    172.242985\n",
              "..        ...       ...           ...\n",
              "133  2.450592    0.4193    186.177790\n",
              "134  2.141252    0.5007    189.926242\n",
              "135  2.680382    0.4749    179.513226\n",
              "136  2.823653    0.5028    183.445288\n",
              "137  4.131439    0.3982    185.982254\n",
              "\n",
              "[138 rows x 3 columns]"
            ]
          },
          "metadata": {},
          "output_type": "display_data"
        },
        {
          "name": "stderr",
          "output_type": "stream",
          "text": [
            "/opt/conda/lib/python3.10/site-packages/flex/data/lazy_indexable.py:115: RuntimeWarning: Pickling an LazyIndexable fully loads its into memory\n",
            "  warnings.warn(  # noqa: B028\n"
          ]
        },
        {
          "data": {
            "image/png": "[encoded data removed]",
            "text/plain": [
              "<Figure size 1200x500 with 2 Axes>"
            ]
          },
          "metadata": {},
          "output_type": "display_data"
        }
      ],
      "source": [
        "gc.collect()\n",
        "\n",
        "losses, accuracies, elapsed = train_n_rounds_hybrid(\n",
        "    pool_cifar,\n",
        "    T_final=T_FINAL_MIN * 60,\n",
        "    clients_per_round=math.ceil(len(pool_cifar.clients) * C),\n",
        "    problem=\"cifar\"\n",
        ")\n",
        "\n",
        "# save data\n",
        "save_data(pool_cifar, losses, accuracies, elapsed, \"dynhybrid_400_cifar\")\n",
        "\n",
        "plot_loss_accuracy(losses, accuracies, title=\"Learning curves on CIFAR-10\")"
      ]
    },
    {
      "cell_type": "code",
      "execution_count": null,
      "metadata": {
        "colab": {
          "background_save": true
        },
        "id": "UwGxIeRpdJd0"
      },
      "outputs": [],
      "source": []
    }
  ],
  "metadata": {
    "colab": {
      "provenance": [],
      "toc_visible": true
    },
    "kaggle": {
      "accelerator": "nvidiaTeslaT4",
      "dataSources": [],
      "dockerImageVersionId": 30762,
      "isGpuEnabled": true,
      "isInternetEnabled": true,
      "language": "python",
      "sourceType": "notebook"
    },
    "kernelspec": {
      "display_name": "Python 3",
      "language": "python",
      "name": "python3"
    },
    "language_info": {
      "codemirror_mode": {
        "name": "ipython",
        "version": 3
      },
      "file_extension": ".py",
      "mimetype": "text/x-python",
      "name": "python",
      "nbconvert_exporter": "python",
      "pygments_lexer": "ipython3",
      "version": "3.10.14"
    }
  },
  "nbformat": 4,
  "nbformat_minor": 0
}
