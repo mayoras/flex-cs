{
  "nbformat": 4,
  "nbformat_minor": 0,
  "metadata": {
    "colab": {
      "provenance": []
    },
    "kernelspec": {
      "name": "python3",
      "display_name": "Python 3"
    },
    "language_info": {
      "name": "python"
    }
  },
  "cells": [
    {
      "cell_type": "markdown",
      "source": [
        "# Selección de clientes con Active Federated Learning - MNIST\n",
        "\n",
        "En este notebook vamos a utilizar nuestro modelo de entrenamiento en Aprendizaje Federado utilizando AFL como algoritmo de selección de clientes [1] sobre el dataset de MNIST, que es un conjunto de imágenes de dígitos manuscritos del 0 al 9 [2]. Se trata de un problema de visión por computador al que usaremos para comparar el rendimiento del método de selección AFL frente al convencional.\n",
        "\n",
        "> [1] https://arxiv.org/abs/1909.12641.\n",
        ">\n",
        "> [2] http://yann.lecun.com/exdb/mnist."
      ],
      "metadata": {
        "id": "QzFVvanFrrwe"
      }
    },
    {
      "cell_type": "code",
      "execution_count": null,
      "metadata": {
        "colab": {
          "base_uri": "https://localhost:8080/"
        },
        "id": "O4BfI6bDrg3o",
        "outputId": "63774b55-b47f-4586-e520-824c6ad2aac8"
      },
      "outputs": [
        {
          "output_type": "stream",
          "name": "stdout",
          "text": [
            "FLEXible is not installed.\n",
            "Installing dependency flexible-fl...\n",
            "Collecting flexible-fl\n",
            "  Downloading flexible_fl-0.6.1-py3-none-any.whl (85 kB)\n",
            "\u001b[2K     \u001b[90m━━━━━━━━━━━━━━━━━━━━━━━━━━━━━━━━━━━━━━━━\u001b[0m \u001b[32m85.8/85.8 kB\u001b[0m \u001b[31m651.0 kB/s\u001b[0m eta \u001b[36m0:00:00\u001b[0m\n",
            "\u001b[?25hRequirement already satisfied: numpy in /usr/local/lib/python3.10/dist-packages (from flexible-fl) (1.25.2)\n",
            "Collecting multiprocess (from flexible-fl)\n",
            "  Downloading multiprocess-0.70.16-py310-none-any.whl (134 kB)\n",
            "\u001b[2K     \u001b[90m━━━━━━━━━━━━━━━━━━━━━━━━━━━━━━━━━━━━━━━━\u001b[0m \u001b[32m134.8/134.8 kB\u001b[0m \u001b[31m4.2 MB/s\u001b[0m eta \u001b[36m0:00:00\u001b[0m\n",
            "\u001b[?25hRequirement already satisfied: scikit-learn in /usr/local/lib/python3.10/dist-packages (from flexible-fl) (1.2.2)\n",
            "Collecting cardinality (from flexible-fl)\n",
            "  Downloading cardinality-0.1.1.tar.gz (2.3 kB)\n",
            "  Preparing metadata (setup.py) ... \u001b[?25l\u001b[?25hdone\n",
            "Collecting sultan (from flexible-fl)\n",
            "  Downloading sultan-0.9.1-py3-none-any.whl (16 kB)\n",
            "Requirement already satisfied: tqdm in /usr/local/lib/python3.10/dist-packages (from flexible-fl) (4.66.4)\n",
            "Requirement already satisfied: scipy in /usr/local/lib/python3.10/dist-packages (from flexible-fl) (1.11.4)\n",
            "Requirement already satisfied: gdown in /usr/local/lib/python3.10/dist-packages (from flexible-fl) (5.1.0)\n",
            "Collecting tensorly (from flexible-fl)\n",
            "  Downloading tensorly-0.8.1-py3-none-any.whl (229 kB)\n",
            "\u001b[2K     \u001b[90m━━━━━━━━━━━━━━━━━━━━━━━━━━━━━━━━━━━━━━━━\u001b[0m \u001b[32m229.7/229.7 kB\u001b[0m \u001b[31m19.7 MB/s\u001b[0m eta \u001b[36m0:00:00\u001b[0m\n",
            "\u001b[?25hRequirement already satisfied: beautifulsoup4 in /usr/local/lib/python3.10/dist-packages (from gdown->flexible-fl) (4.12.3)\n",
            "Requirement already satisfied: filelock in /usr/local/lib/python3.10/dist-packages (from gdown->flexible-fl) (3.15.4)\n",
            "Requirement already satisfied: requests[socks] in /usr/local/lib/python3.10/dist-packages (from gdown->flexible-fl) (2.31.0)\n",
            "Collecting dill>=0.3.8 (from multiprocess->flexible-fl)\n",
            "  Downloading dill-0.3.8-py3-none-any.whl (116 kB)\n",
            "\u001b[2K     \u001b[90m━━━━━━━━━━━━━━━━━━━━━━━━━━━━━━━━━━━━━━━━\u001b[0m \u001b[32m116.3/116.3 kB\u001b[0m \u001b[31m5.7 MB/s\u001b[0m eta \u001b[36m0:00:00\u001b[0m\n",
            "\u001b[?25hRequirement already satisfied: joblib>=1.1.1 in /usr/local/lib/python3.10/dist-packages (from scikit-learn->flexible-fl) (1.4.2)\n",
            "Requirement already satisfied: threadpoolctl>=2.0.0 in /usr/local/lib/python3.10/dist-packages (from scikit-learn->flexible-fl) (3.5.0)\n",
            "Requirement already satisfied: soupsieve>1.2 in /usr/local/lib/python3.10/dist-packages (from beautifulsoup4->gdown->flexible-fl) (2.5)\n",
            "Requirement already satisfied: charset-normalizer<4,>=2 in /usr/local/lib/python3.10/dist-packages (from requests[socks]->gdown->flexible-fl) (3.3.2)\n",
            "Requirement already satisfied: idna<4,>=2.5 in /usr/local/lib/python3.10/dist-packages (from requests[socks]->gdown->flexible-fl) (3.7)\n",
            "Requirement already satisfied: urllib3<3,>=1.21.1 in /usr/local/lib/python3.10/dist-packages (from requests[socks]->gdown->flexible-fl) (2.0.7)\n",
            "Requirement already satisfied: certifi>=2017.4.17 in /usr/local/lib/python3.10/dist-packages (from requests[socks]->gdown->flexible-fl) (2024.6.2)\n",
            "Requirement already satisfied: PySocks!=1.5.7,>=1.5.6 in /usr/local/lib/python3.10/dist-packages (from requests[socks]->gdown->flexible-fl) (1.7.1)\n",
            "Building wheels for collected packages: cardinality\n",
            "  Building wheel for cardinality (setup.py) ... \u001b[?25l\u001b[?25hdone\n",
            "  Created wheel for cardinality: filename=cardinality-0.1.1-py3-none-any.whl size=2587 sha256=2b61541a58e58efbb5765a241e949fe871b68eea0d3292b7b87280ede9d42417\n",
            "  Stored in directory: /root/.cache/pip/wheels/b8/19/d1/2665c004b583a7d1880fa59055a3e462d6e35841a01b57010b\n",
            "Successfully built cardinality\n",
            "Installing collected packages: sultan, cardinality, dill, tensorly, multiprocess, flexible-fl\n",
            "Successfully installed cardinality-0.1.1 dill-0.3.8 flexible-fl-0.6.1 multiprocess-0.70.16 sultan-0.9.1 tensorly-0.8.1\n"
          ]
        }
      ],
      "source": [
        "# install FLEXible framework if not installed\n",
        "try:\n",
        "    import flex\n",
        "    print(\"FLEXible is installed.\")\n",
        "except:\n",
        "    print(\"FLEXible is not installed.\\nInstalling dependency flexible-fl...\")\n",
        "    !pip install flexible-fl"
      ]
    },
    {
      "cell_type": "code",
      "source": [
        "# import libraries\n",
        "import numpy as np\n",
        "import matplotlib.pyplot as plt"
      ],
      "metadata": {
        "id": "MeoCal6m3CE4"
      },
      "execution_count": null,
      "outputs": []
    },
    {
      "cell_type": "code",
      "source": [
        "def plot_loss_accuracy(loss, accuracy):\n",
        "    # Example data\n",
        "    epochs = range(1, len(loss) + 1)\n",
        "\n",
        "    # Plot loss\n",
        "    plt.figure(figsize=(12, 5))\n",
        "\n",
        "    plt.subplot(1, 2, 1)\n",
        "    plt.plot(epochs, loss, 'b', label='Loss')\n",
        "    plt.title('Loss over Epochs')\n",
        "    plt.xlabel('Epochs')\n",
        "    plt.ylabel('Loss')\n",
        "    plt.legend()\n",
        "\n",
        "    # Plot accuracy\n",
        "    plt.subplot(1, 2, 2)\n",
        "    plt.plot(epochs, accuracy, 'g', label='Accuracy')\n",
        "    plt.title('Accuracy over Epochs')\n",
        "    plt.xlabel('Epochs')\n",
        "    plt.ylabel('Accuracy')\n",
        "    plt.legend()\n",
        "\n",
        "    # Show the plots\n",
        "    plt.tight_layout()\n",
        "    plt.show()"
      ],
      "metadata": {
        "id": "-31n0URu8tVs"
      },
      "execution_count": null,
      "outputs": []
    },
    {
      "cell_type": "code",
      "source": [
        "import torch\n",
        "\n",
        "# select device\n",
        "device = (\n",
        "    \"cuda\"\n",
        "    if torch.cuda.is_available()\n",
        "    else \"mps\" if torch.backends.mps.is_available() else \"cpu\"\n",
        ")\n",
        "device"
      ],
      "metadata": {
        "colab": {
          "base_uri": "https://localhost:8080/",
          "height": 55
        },
        "id": "5jdIu00Ftc1u",
        "outputId": "829c4233-eea6-4e3f-fec5-9ca84b5139ca"
      },
      "execution_count": null,
      "outputs": [
        {
          "output_type": "execute_result",
          "data": {
            "text/plain": [
              "'cpu'"
            ],
            "application/vnd.google.colaboratory.intrinsic+json": {
              "type": "string"
            }
          },
          "metadata": {},
          "execution_count": 4
        }
      ]
    },
    {
      "cell_type": "code",
      "source": [
        "from flex.datasets import load\n",
        "from torchvision import transforms\n",
        "\n",
        "flex_dataset, test_data = load(\"federated_emnist\", return_test=True, split=\"digits\")\n",
        "\n",
        "# Assign test data to server_id\n",
        "server_id = \"server\"\n",
        "flex_dataset[server_id] = test_data\n",
        "\n",
        "mnist_transforms = transforms.Compose(\n",
        "    [transforms.ToTensor(), transforms.Normalize((0.5,), (0.5,))]\n",
        ")"
      ],
      "metadata": {
        "colab": {
          "base_uri": "https://localhost:8080/"
        },
        "collapsed": true,
        "id": "CYOy-Bmsu0_J",
        "outputId": "3a57425c-5516-4a59-facf-acc3e5e6ce51"
      },
      "execution_count": null,
      "outputs": [
        {
          "output_type": "stream",
          "name": "stderr",
          "text": [
            "Downloading...\n",
            "From (original): https://drive.google.com/uc?id=1fl9fRPPxTUxnC56ACzZ8JiLiew0SMFwt\n",
            "From (redirected): https://drive.google.com/uc?id=1fl9fRPPxTUxnC56ACzZ8JiLiew0SMFwt&confirm=t&uuid=1cedd691-edd9-4caa-a265-b247aeac5a37\n",
            "To: /content/emnist-digits.mat\n",
            "100%|██████████| 90.7M/90.7M [00:03<00:00, 29.0MB/s]\n",
            "\u001b[36m[sultan]: md5 -q ./emnist-digits.mat;\u001b[0m\n",
            "DEBUG:sultan:md5 -q ./emnist-digits.mat;\n",
            "\u001b[01;31m[sultan]: Unable to run 'md5 -q ./emnist-digits.mat;'\u001b[0m\n",
            "CRITICAL:sultan:Unable to run 'md5 -q ./emnist-digits.mat;'\n",
            "\u001b[01;31m[sultan]: --{ TRACEBACK }----------------------------------------------------------------------------------------------------\u001b[0m\n",
            "CRITICAL:sultan:--{ TRACEBACK }----------------------------------------------------------------------------------------------------\n",
            "\u001b[01;31m[sultan]: | NoneType: None\u001b[0m\n",
            "CRITICAL:sultan:| NoneType: None\n",
            "\u001b[01;31m[sultan]: | \u001b[0m\n",
            "CRITICAL:sultan:| \n",
            "\u001b[01;31m[sultan]: -------------------------------------------------------------------------------------------------------------------\u001b[0m\n",
            "CRITICAL:sultan:-------------------------------------------------------------------------------------------------------------------\n",
            "\u001b[01;31m[sultan]: --{ STDERR }-------------------------------------------------------------------------------------------------------\u001b[0m\n",
            "CRITICAL:sultan:--{ STDERR }-------------------------------------------------------------------------------------------------------\n",
            "\u001b[01;31m[sultan]: | /bin/sh: 1: md5: not found\u001b[0m\n",
            "CRITICAL:sultan:| /bin/sh: 1: md5: not found\n",
            "\u001b[01;31m[sultan]: -------------------------------------------------------------------------------------------------------------------\u001b[0m\n",
            "CRITICAL:sultan:-------------------------------------------------------------------------------------------------------------------\n",
            "\u001b[33m[sultan]: The following are additional information that can be used to debug this exception.\u001b[0m\n",
            "WARNING:sultan:The following are additional information that can be used to debug this exception.\n",
            "\u001b[33m[sultan]: The following is the context used to run:\u001b[0m\n",
            "WARNING:sultan:The following is the context used to run:\n",
            "\u001b[33m[sultan]: \t - cwd: None\u001b[0m\n",
            "WARNING:sultan:\t - cwd: None\n",
            "\u001b[33m[sultan]: \t - sudo: False\u001b[0m\n",
            "WARNING:sultan:\t - sudo: False\n",
            "\u001b[33m[sultan]: \t - user: root\u001b[0m\n",
            "WARNING:sultan:\t - user: root\n",
            "\u001b[33m[sultan]: \t - hostname: None\u001b[0m\n",
            "WARNING:sultan:\t - hostname: None\n",
            "\u001b[33m[sultan]: \t - env: None\u001b[0m\n",
            "WARNING:sultan:\t - env: None\n",
            "\u001b[33m[sultan]: \t - logging: True\u001b[0m\n",
            "WARNING:sultan:\t - logging: True\n",
            "\u001b[33m[sultan]: \t - executable: None\u001b[0m\n",
            "WARNING:sultan:\t - executable: None\n",
            "\u001b[33m[sultan]: \t - ssh_config: \u001b[0m\n",
            "WARNING:sultan:\t - ssh_config: \n",
            "\u001b[33m[sultan]: \t - src: None\u001b[0m\n",
            "WARNING:sultan:\t - src: None\n",
            "\u001b[01;31m[sultan]: Unable to run 'md5 -q ./emnist-digits.mat;'\u001b[0m\n",
            "CRITICAL:sultan:Unable to run 'md5 -q ./emnist-digits.mat;'\n",
            "\u001b[01;31m[sultan]: --{ TRACEBACK }----------------------------------------------------------------------------------------------------\u001b[0m\n",
            "CRITICAL:sultan:--{ TRACEBACK }----------------------------------------------------------------------------------------------------\n",
            "\u001b[01;31m[sultan]: | Traceback (most recent call last):\u001b[0m\n",
            "CRITICAL:sultan:| Traceback (most recent call last):\n",
            "\u001b[01;31m[sultan]: |   File \"/usr/local/lib/python3.10/dist-packages/sultan/api.py\", line 212, in run\u001b[0m\n",
            "CRITICAL:sultan:|   File \"/usr/local/lib/python3.10/dist-packages/sultan/api.py\", line 212, in run\n",
            "\u001b[01;31m[sultan]: |     result = Result(process, commands, self._context, streaming, halt_on_nonzero=halt_on_nonzero)\u001b[0m\n",
            "CRITICAL:sultan:|     result = Result(process, commands, self._context, streaming, halt_on_nonzero=halt_on_nonzero)\n",
            "\u001b[01;31m[sultan]: |   File \"/usr/local/lib/python3.10/dist-packages/sultan/result.py\", line 59, in __init__\u001b[0m\n",
            "CRITICAL:sultan:|   File \"/usr/local/lib/python3.10/dist-packages/sultan/result.py\", line 59, in __init__\n",
            "\u001b[01;31m[sultan]: |     self.dump_exception()\u001b[0m\n",
            "CRITICAL:sultan:|     self.dump_exception()\n",
            "\u001b[01;31m[sultan]: |   File \"/usr/local/lib/python3.10/dist-packages/sultan/result.py\", line 114, in dump_exception\u001b[0m\n",
            "CRITICAL:sultan:|   File \"/usr/local/lib/python3.10/dist-packages/sultan/result.py\", line 114, in dump_exception\n",
            "\u001b[01;31m[sultan]: |     raise self._exception\u001b[0m\n",
            "CRITICAL:sultan:|     raise self._exception\n",
            "\u001b[01;31m[sultan]: |   File \"/usr/local/lib/python3.10/dist-packages/sultan/result.py\", line 95, in dump_exception\u001b[0m\n",
            "CRITICAL:sultan:|   File \"/usr/local/lib/python3.10/dist-packages/sultan/result.py\", line 95, in dump_exception\n",
            "\u001b[01;31m[sultan]: |     raise subprocess.CalledProcessError(self.rc, ''.join(self._commands), self.stderr)\u001b[0m\n",
            "CRITICAL:sultan:|     raise subprocess.CalledProcessError(self.rc, ''.join(self._commands), self.stderr)\n",
            "\u001b[01;31m[sultan]: | subprocess.CalledProcessError: Command 'md5 -q ./emnist-digits.mat;' returned non-zero exit status 127.\u001b[0m\n",
            "CRITICAL:sultan:| subprocess.CalledProcessError: Command 'md5 -q ./emnist-digits.mat;' returned non-zero exit status 127.\n",
            "\u001b[01;31m[sultan]: | \u001b[0m\n",
            "CRITICAL:sultan:| \n",
            "\u001b[01;31m[sultan]: -------------------------------------------------------------------------------------------------------------------\u001b[0m\n",
            "CRITICAL:sultan:-------------------------------------------------------------------------------------------------------------------\n",
            "\u001b[33m[sultan]: The following are additional information that can be used to debug this exception.\u001b[0m\n",
            "WARNING:sultan:The following are additional information that can be used to debug this exception.\n",
            "\u001b[33m[sultan]: The following is the context used to run:\u001b[0m\n",
            "WARNING:sultan:The following is the context used to run:\n",
            "\u001b[33m[sultan]: \t - cwd: None\u001b[0m\n",
            "WARNING:sultan:\t - cwd: None\n",
            "\u001b[33m[sultan]: \t - sudo: False\u001b[0m\n",
            "WARNING:sultan:\t - sudo: False\n",
            "\u001b[33m[sultan]: \t - user: root\u001b[0m\n",
            "WARNING:sultan:\t - user: root\n",
            "\u001b[33m[sultan]: \t - hostname: None\u001b[0m\n",
            "WARNING:sultan:\t - hostname: None\n",
            "\u001b[33m[sultan]: \t - env: None\u001b[0m\n",
            "WARNING:sultan:\t - env: None\n",
            "\u001b[33m[sultan]: \t - logging: True\u001b[0m\n",
            "WARNING:sultan:\t - logging: True\n",
            "\u001b[33m[sultan]: \t - executable: None\u001b[0m\n",
            "WARNING:sultan:\t - executable: None\n",
            "\u001b[33m[sultan]: \t - ssh_config: \u001b[0m\n",
            "WARNING:sultan:\t - ssh_config: \n",
            "\u001b[33m[sultan]: \t - src: None\u001b[0m\n",
            "WARNING:sultan:\t - src: None\n",
            "\u001b[36m[sultan]: md5sum ./emnist-digits.mat | cut -f 1 -d \" \";\u001b[0m\n",
            "DEBUG:sultan:md5sum ./emnist-digits.mat | cut -f 1 -d \" \";\n",
            "\u001b[36m[sultan]: md5 -q ./emnist-digits.mat;\u001b[0m\n",
            "DEBUG:sultan:md5 -q ./emnist-digits.mat;\n",
            "\u001b[01;31m[sultan]: Unable to run 'md5 -q ./emnist-digits.mat;'\u001b[0m\n",
            "CRITICAL:sultan:Unable to run 'md5 -q ./emnist-digits.mat;'\n",
            "\u001b[01;31m[sultan]: --{ TRACEBACK }----------------------------------------------------------------------------------------------------\u001b[0m\n",
            "CRITICAL:sultan:--{ TRACEBACK }----------------------------------------------------------------------------------------------------\n",
            "\u001b[01;31m[sultan]: | NoneType: None\u001b[0m\n",
            "CRITICAL:sultan:| NoneType: None\n",
            "\u001b[01;31m[sultan]: | \u001b[0m\n",
            "CRITICAL:sultan:| \n",
            "\u001b[01;31m[sultan]: -------------------------------------------------------------------------------------------------------------------\u001b[0m\n",
            "CRITICAL:sultan:-------------------------------------------------------------------------------------------------------------------\n",
            "\u001b[01;31m[sultan]: --{ STDERR }-------------------------------------------------------------------------------------------------------\u001b[0m\n",
            "CRITICAL:sultan:--{ STDERR }-------------------------------------------------------------------------------------------------------\n",
            "\u001b[01;31m[sultan]: | /bin/sh: 1: md5: not found\u001b[0m\n",
            "CRITICAL:sultan:| /bin/sh: 1: md5: not found\n",
            "\u001b[01;31m[sultan]: -------------------------------------------------------------------------------------------------------------------\u001b[0m\n",
            "CRITICAL:sultan:-------------------------------------------------------------------------------------------------------------------\n",
            "\u001b[33m[sultan]: The following are additional information that can be used to debug this exception.\u001b[0m\n",
            "WARNING:sultan:The following are additional information that can be used to debug this exception.\n",
            "\u001b[33m[sultan]: The following is the context used to run:\u001b[0m\n",
            "WARNING:sultan:The following is the context used to run:\n",
            "\u001b[33m[sultan]: \t - cwd: None\u001b[0m\n",
            "WARNING:sultan:\t - cwd: None\n",
            "\u001b[33m[sultan]: \t - sudo: False\u001b[0m\n",
            "WARNING:sultan:\t - sudo: False\n",
            "\u001b[33m[sultan]: \t - user: root\u001b[0m\n",
            "WARNING:sultan:\t - user: root\n",
            "\u001b[33m[sultan]: \t - hostname: None\u001b[0m\n",
            "WARNING:sultan:\t - hostname: None\n",
            "\u001b[33m[sultan]: \t - env: None\u001b[0m\n",
            "WARNING:sultan:\t - env: None\n",
            "\u001b[33m[sultan]: \t - logging: True\u001b[0m\n",
            "WARNING:sultan:\t - logging: True\n",
            "\u001b[33m[sultan]: \t - executable: None\u001b[0m\n",
            "WARNING:sultan:\t - executable: None\n",
            "\u001b[33m[sultan]: \t - ssh_config: \u001b[0m\n",
            "WARNING:sultan:\t - ssh_config: \n",
            "\u001b[33m[sultan]: \t - src: None\u001b[0m\n",
            "WARNING:sultan:\t - src: None\n",
            "\u001b[01;31m[sultan]: Unable to run 'md5 -q ./emnist-digits.mat;'\u001b[0m\n",
            "CRITICAL:sultan:Unable to run 'md5 -q ./emnist-digits.mat;'\n",
            "\u001b[01;31m[sultan]: --{ TRACEBACK }----------------------------------------------------------------------------------------------------\u001b[0m\n",
            "CRITICAL:sultan:--{ TRACEBACK }----------------------------------------------------------------------------------------------------\n",
            "\u001b[01;31m[sultan]: | Traceback (most recent call last):\u001b[0m\n",
            "CRITICAL:sultan:| Traceback (most recent call last):\n",
            "\u001b[01;31m[sultan]: |   File \"/usr/local/lib/python3.10/dist-packages/sultan/api.py\", line 212, in run\u001b[0m\n",
            "CRITICAL:sultan:|   File \"/usr/local/lib/python3.10/dist-packages/sultan/api.py\", line 212, in run\n",
            "\u001b[01;31m[sultan]: |     result = Result(process, commands, self._context, streaming, halt_on_nonzero=halt_on_nonzero)\u001b[0m\n",
            "CRITICAL:sultan:|     result = Result(process, commands, self._context, streaming, halt_on_nonzero=halt_on_nonzero)\n",
            "\u001b[01;31m[sultan]: |   File \"/usr/local/lib/python3.10/dist-packages/sultan/result.py\", line 59, in __init__\u001b[0m\n",
            "CRITICAL:sultan:|   File \"/usr/local/lib/python3.10/dist-packages/sultan/result.py\", line 59, in __init__\n",
            "\u001b[01;31m[sultan]: |     self.dump_exception()\u001b[0m\n",
            "CRITICAL:sultan:|     self.dump_exception()\n",
            "\u001b[01;31m[sultan]: |   File \"/usr/local/lib/python3.10/dist-packages/sultan/result.py\", line 114, in dump_exception\u001b[0m\n",
            "CRITICAL:sultan:|   File \"/usr/local/lib/python3.10/dist-packages/sultan/result.py\", line 114, in dump_exception\n",
            "\u001b[01;31m[sultan]: |     raise self._exception\u001b[0m\n",
            "CRITICAL:sultan:|     raise self._exception\n",
            "\u001b[01;31m[sultan]: |   File \"/usr/local/lib/python3.10/dist-packages/sultan/result.py\", line 95, in dump_exception\u001b[0m\n",
            "CRITICAL:sultan:|   File \"/usr/local/lib/python3.10/dist-packages/sultan/result.py\", line 95, in dump_exception\n",
            "\u001b[01;31m[sultan]: |     raise subprocess.CalledProcessError(self.rc, ''.join(self._commands), self.stderr)\u001b[0m\n",
            "CRITICAL:sultan:|     raise subprocess.CalledProcessError(self.rc, ''.join(self._commands), self.stderr)\n",
            "\u001b[01;31m[sultan]: | subprocess.CalledProcessError: Command 'md5 -q ./emnist-digits.mat;' returned non-zero exit status 127.\u001b[0m\n",
            "CRITICAL:sultan:| subprocess.CalledProcessError: Command 'md5 -q ./emnist-digits.mat;' returned non-zero exit status 127.\n",
            "\u001b[01;31m[sultan]: | \u001b[0m\n",
            "CRITICAL:sultan:| \n",
            "\u001b[01;31m[sultan]: -------------------------------------------------------------------------------------------------------------------\u001b[0m\n",
            "CRITICAL:sultan:-------------------------------------------------------------------------------------------------------------------\n",
            "\u001b[33m[sultan]: The following are additional information that can be used to debug this exception.\u001b[0m\n",
            "WARNING:sultan:The following are additional information that can be used to debug this exception.\n",
            "\u001b[33m[sultan]: The following is the context used to run:\u001b[0m\n",
            "WARNING:sultan:The following is the context used to run:\n",
            "\u001b[33m[sultan]: \t - cwd: None\u001b[0m\n",
            "WARNING:sultan:\t - cwd: None\n",
            "\u001b[33m[sultan]: \t - sudo: False\u001b[0m\n",
            "WARNING:sultan:\t - sudo: False\n",
            "\u001b[33m[sultan]: \t - user: root\u001b[0m\n",
            "WARNING:sultan:\t - user: root\n",
            "\u001b[33m[sultan]: \t - hostname: None\u001b[0m\n",
            "WARNING:sultan:\t - hostname: None\n",
            "\u001b[33m[sultan]: \t - env: None\u001b[0m\n",
            "WARNING:sultan:\t - env: None\n",
            "\u001b[33m[sultan]: \t - logging: True\u001b[0m\n",
            "WARNING:sultan:\t - logging: True\n",
            "\u001b[33m[sultan]: \t - executable: None\u001b[0m\n",
            "WARNING:sultan:\t - executable: None\n",
            "\u001b[33m[sultan]: \t - ssh_config: \u001b[0m\n",
            "WARNING:sultan:\t - ssh_config: \n",
            "\u001b[33m[sultan]: \t - src: None\u001b[0m\n",
            "WARNING:sultan:\t - src: None\n",
            "\u001b[36m[sultan]: md5sum ./emnist-digits.mat | cut -f 1 -d \" \";\u001b[0m\n",
            "DEBUG:sultan:md5sum ./emnist-digits.mat | cut -f 1 -d \" \";\n"
          ]
        }
      ]
    },
    {
      "cell_type": "markdown",
      "source": [
        "Usamos el decorador `@init_model_server` para inicializar el modelo en el servidor. Aprovechamos esta fase para simplemente definir nuestra arquitectura de red así como el optimizador y la función de pérdida."
      ],
      "metadata": {
        "id": "WB9yluACv2rm"
      }
    },
    {
      "cell_type": "code",
      "source": [
        "import torch.nn as nn\n",
        "import torch.nn.functional as F\n",
        "\n",
        "from flex.pool import init_server_model\n",
        "from flex.pool import FlexPool\n",
        "from flex.model import FlexModel\n",
        "\n",
        "\n",
        "# Simple two Fully-Connected layer net\n",
        "class SimpleNet(nn.Module):\n",
        "    def __init__(self, num_classes=10):\n",
        "        super().__init__()\n",
        "        self.flatten = nn.Flatten()\n",
        "        self.fc1 = nn.Linear(28 * 28, 128)\n",
        "        self.fc2 = nn.Linear(128, num_classes)\n",
        "\n",
        "    def forward(self, x):\n",
        "        x = self.flatten(x)\n",
        "        x = self.fc1(x)\n",
        "        x = F.relu(x)\n",
        "        x = self.fc2(x)\n",
        "\n",
        "        # return logits\n",
        "        return x\n",
        "\n",
        "\n",
        "@init_server_model\n",
        "def build_server_model():\n",
        "    server_flex_model = FlexModel()\n",
        "\n",
        "    server_flex_model[\"model\"] = SimpleNet()\n",
        "    # Required to store this for later stages of the FL training process\n",
        "    server_flex_model[\"criterion\"] = torch.nn.CrossEntropyLoss()\n",
        "    server_flex_model[\"optimizer_func\"] = torch.optim.Adam\n",
        "    server_flex_model[\"optimizer_kwargs\"] = {}\n",
        "    return server_flex_model\n",
        "\n",
        "\n",
        "flex_pool = FlexPool.client_server_pool(\n",
        "    flex_dataset, server_id=server_id, init_func=build_server_model\n",
        ")\n",
        "\n",
        "clients = flex_pool.clients\n",
        "servers = flex_pool.servers\n",
        "aggregators = flex_pool.aggregators\n",
        "\n",
        "print(\n",
        "    f\"Number of nodes in the pool {len(flex_pool)}: {len(servers)} server plus {len(clients)} clients. The server is also an aggregator\"\n",
        ")"
      ],
      "metadata": {
        "colab": {
          "base_uri": "https://localhost:8080/"
        },
        "id": "3zAxWjwavQJ0",
        "outputId": "b9160926-4028-4ace-f4f4-627fbd3c1b1f"
      },
      "execution_count": null,
      "outputs": [
        {
          "output_type": "stream",
          "name": "stdout",
          "text": [
            "Number of nodes in the pool 3580: 1 server plus 3579 clients. The server is also an aggregator\n"
          ]
        }
      ]
    },
    {
      "cell_type": "markdown",
      "source": [
        "Para comparar nuestro modelo con selección AFL, vamos a primero construir un método de selección de clientes aleatorio uniforme, por ejemplo, de $20$ clientes por ronda. Más adelante, implementaremos la selección con AFL con $m=20$ clientes por ronda."
      ],
      "metadata": {
        "id": "C3LoDmezyvud"
      }
    },
    {
      "cell_type": "code",
      "source": [
        "# Select clients\n",
        "clients_per_round = 20\n",
        "selected_clients_pool = clients.select(clients_per_round)\n",
        "selected_clients = selected_clients_pool.clients\n",
        "\n",
        "print(f'Server node is indentified by key \"{servers.actor_ids[0]}\"')\n",
        "print(\n",
        "    f\"Selected {len(selected_clients.actor_ids)} client nodes of a total of {len(clients.actor_ids)}\"\n",
        ")"
      ],
      "metadata": {
        "colab": {
          "base_uri": "https://localhost:8080/"
        },
        "id": "gFaDpYaWxbWm",
        "outputId": "0881543b-a376-45fb-ae7a-ed48bb915a93"
      },
      "execution_count": null,
      "outputs": [
        {
          "output_type": "stream",
          "name": "stdout",
          "text": [
            "Server node is indentified by key \"server\"\n",
            "Selected 20 client nodes of a total of 3579\n"
          ]
        }
      ]
    },
    {
      "cell_type": "markdown",
      "source": [
        "Utilizamos el decorador `@deploy_server_model` para distribuir el modelo del servidor a los clientes. Usamos `map` sobre los clientes seleccionados: `selected_clients`."
      ],
      "metadata": {
        "id": "R5LzYqxUzIaU"
      }
    },
    {
      "cell_type": "code",
      "source": [
        "from flex.pool import deploy_server_model\n",
        "import copy\n",
        "\n",
        "\n",
        "@deploy_server_model\n",
        "def copy_server_model_to_clients(server_flex_model: FlexModel):\n",
        "    return copy.deepcopy(server_flex_model)\n",
        "\n",
        "\n",
        "servers.map(copy_server_model_to_clients, selected_clients)"
      ],
      "metadata": {
        "id": "UwxXBCoCytZh"
      },
      "execution_count": null,
      "outputs": []
    },
    {
      "cell_type": "markdown",
      "source": [
        "Implementamos la función de training para el que cada cliente avanza un número $n$ de pasos del optimizador (En este caso SGD-Adam [1]) sobre un _batch_ de $b$ imágenes. En nuestro caso, utilizaremos los mismo parámetros que en el ejemplo de FLEX [2]: $n=5, b=20$.\n",
        "\n",
        "> [1] https://arxiv.org/abs/1412.6980.\n",
        ">\n",
        "> [2] [Federated MNIST PT Example](https://github.com/FLEXible-FL/FLEXible/blob/main/notebooks/Federated%20MNIST%20PT%20example%20with%20flexible%20decorators.ipynb)"
      ],
      "metadata": {
        "id": "U1S01aEFzevA"
      }
    },
    {
      "cell_type": "code",
      "source": [
        "from flex.data import Dataset\n",
        "from torch.utils.data import DataLoader\n",
        "\n",
        "EPOCHS = 5\n",
        "\n",
        "def train(client_flex_model: FlexModel, client_data: Dataset):\n",
        "    train_dataset = client_data.to_torchvision_dataset(transform=mnist_transforms)\n",
        "    client_dataloader = DataLoader(train_dataset, batch_size=20)\n",
        "    model = client_flex_model[\"model\"]\n",
        "    optimizer = client_flex_model[\"optimizer_func\"](\n",
        "        model.parameters(), **client_flex_model[\"optimizer_kwargs\"]\n",
        "    )\n",
        "    model = model.train()\n",
        "    model = model.to(device)\n",
        "    criterion = client_flex_model[\"criterion\"]\n",
        "    for _ in range(EPOCHS):\n",
        "        for imgs, labels in client_dataloader:\n",
        "            imgs, labels = imgs.to(device), labels.to(device)\n",
        "            optimizer.zero_grad()\n",
        "            pred = model(imgs)\n",
        "            loss = criterion(pred, labels)\n",
        "            loss.backward()\n",
        "            optimizer.step()\n",
        "\n",
        "\n",
        "selected_clients.map(train)"
      ],
      "metadata": {
        "id": "UvjgKEJ7zdzd"
      },
      "execution_count": null,
      "outputs": []
    },
    {
      "cell_type": "markdown",
      "source": [
        "Con el decorador `@collect_clients_weights` recuperamos los pesos de PyTorch de cada cliente seleccionado para esa ronda. En el caso de PyTorch, el modelo devuelve los pesos en forma de un diccionario con `state_dict` para el que cada nombre representa una capa de la red y sus parámetros, lo que hacemos será devolver una lista con los valores de ese diccionario correspondientes a los pesos de la red entera."
      ],
      "metadata": {
        "id": "dMSabAvG0u2J"
      }
    },
    {
      "cell_type": "code",
      "source": [
        "from flex.pool import collect_clients_weights\n",
        "\n",
        "\n",
        "@collect_clients_weights\n",
        "def get_clients_weights(client_flex_model: FlexModel):\n",
        "    weight_dict = client_flex_model[\"model\"].state_dict()\n",
        "    return [weight_dict[name] for name in weight_dict]\n",
        "\n",
        "\n",
        "aggregators.map(get_clients_weights, selected_clients)"
      ],
      "metadata": {
        "id": "ggbUniMr0oGy"
      },
      "execution_count": null,
      "outputs": []
    },
    {
      "cell_type": "markdown",
      "source": [
        "Utilizamos el decorador `@aggregate_weights` para poder agregar los pesos que hemos recuperado de los clientes en la fase anterior computando la media de los pesos, conocido como agregador FedAvg, donde realizamos la media por columnas para cada capa de pesos."
      ],
      "metadata": {
        "id": "1DT76cJ41uFY"
      }
    },
    {
      "cell_type": "code",
      "source": [
        "from flex.pool import aggregate_weights\n",
        "import tensorly as tl\n",
        "\n",
        "tl.set_backend(\"pytorch\")\n",
        "\n",
        "\n",
        "@aggregate_weights\n",
        "def aggregate_with_fedavg(list_of_weights: list):\n",
        "    agg_weights = []\n",
        "    for layer_index in range(len(list_of_weights[0])):\n",
        "        weights_per_layer = [weights[layer_index] for weights in list_of_weights]\n",
        "        weights_per_layer = tl.stack(weights_per_layer)\n",
        "        agg_layer = tl.mean(weights_per_layer, axis=0)\n",
        "        agg_weights.append(agg_layer)\n",
        "    return agg_weights\n",
        "\n",
        "\n",
        "# Aggregate weights\n",
        "aggregators.map(aggregate_with_fedavg)"
      ],
      "metadata": {
        "id": "YR27tyd51cfq"
      },
      "execution_count": null,
      "outputs": []
    },
    {
      "cell_type": "markdown",
      "source": [
        "Finalmente, agregamos los pesos al modelo de nuestro servidor/agregador. Sencillamente, para cada capa de nuestro modelo, realizamo una copia del nuevo que hemos agregado en la fase anterior."
      ],
      "metadata": {
        "id": "YQtCzF0K2i92"
      }
    },
    {
      "cell_type": "code",
      "source": [
        "from flex.pool import set_aggregated_weights\n",
        "\n",
        "\n",
        "@set_aggregated_weights\n",
        "def set_agreggated_weights_to_server(server_flex_model: FlexModel, aggregated_weights):\n",
        "    with torch.no_grad():\n",
        "        weight_dict = server_flex_model[\"model\"].state_dict()\n",
        "        for layer_key, new in zip(weight_dict, aggregated_weights):\n",
        "            weight_dict[layer_key].copy_(new)\n",
        "\n",
        "\n",
        "aggregators.map(set_agreggated_weights_to_server, servers)"
      ],
      "metadata": {
        "id": "6Fk-VxE52ZNH"
      },
      "execution_count": null,
      "outputs": []
    },
    {
      "cell_type": "markdown",
      "source": [
        "Podemos evaluar el modelo del servidor sobre el dataset de test que hemos definido anteriormente que residía en el mismo servidor. Para ello, definimos una función `evaluate_global_model` que obtenga las predicciones del modelo con el dataset de test y devuelva las metricas resultantes, que en este caso son simplemente la pérdida y la _accuracy_."
      ],
      "metadata": {
        "id": "NB5N8y2a27JU"
      }
    },
    {
      "cell_type": "code",
      "source": [
        "def evaluate_global_model(server_flex_model: FlexModel, test_data: Dataset):\n",
        "    model = server_flex_model[\"model\"]\n",
        "    model.eval()\n",
        "    test_loss = 0\n",
        "    test_acc = 0\n",
        "    total_count = 0\n",
        "    model = model.to(device)\n",
        "    criterion = server_flex_model[\"criterion\"]\n",
        "    # get test data as a torchvision object\n",
        "    test_dataset = test_data.to_torchvision_dataset(transform=mnist_transforms)\n",
        "    test_dataloader = DataLoader(\n",
        "        test_dataset, batch_size=256, shuffle=True, pin_memory=False\n",
        "    )\n",
        "    losses = []\n",
        "    with torch.no_grad():\n",
        "        for data, target in test_dataloader:\n",
        "            total_count += target.size(0)\n",
        "            data, target = data.to(device), target.to(device)\n",
        "            output = model(data)\n",
        "            losses.append(criterion(output, target).item())\n",
        "            pred = output.data.max(1, keepdim=True)[1]\n",
        "            test_acc += pred.eq(target.data.view_as(pred)).long().cpu().sum().item()\n",
        "\n",
        "    test_loss = sum(losses) / len(losses)\n",
        "    test_acc /= total_count\n",
        "    return test_loss, test_acc\n",
        "\n",
        "\n",
        "metrics = servers.map(evaluate_global_model)\n",
        "print(\"Loss (test):\", metrics[0][0])\n",
        "print(\"Accuracy (test):\", metrics[0][1])"
      ],
      "metadata": {
        "colab": {
          "base_uri": "https://localhost:8080/"
        },
        "id": "AFZA3_Sn20tn",
        "outputId": "1c3e8a30-a1a4-43db-ea45-be52bfe58631"
      },
      "execution_count": null,
      "outputs": [
        {
          "output_type": "stream",
          "name": "stdout",
          "text": [
            "Loss (test): 1.4450136028277647\n",
            "Accuracy (test): 0.689175\n"
          ]
        }
      ]
    },
    {
      "cell_type": "markdown",
      "source": [
        "Para poder repetir esto en diferentes rondas, definimos la función `train_n_rounds` que aplica las funciones vistas de forma iterativa."
      ],
      "metadata": {
        "id": "4p233PYL9Lum"
      }
    },
    {
      "cell_type": "code",
      "source": [
        "def train_n_rounds(n_rounds, clients_per_round=20):\n",
        "    pool = FlexPool.client_server_pool(\n",
        "        fed_dataset=flex_dataset, server_id=server_id, init_func=build_server_model\n",
        "    )\n",
        "    losses = []\n",
        "    accuracies = []\n",
        "    for i in range(n_rounds):\n",
        "        print(f\"\\nRunning round: {i+1} of {n_rounds}\")\n",
        "        selected_clients_pool = pool.clients.select(clients_per_round)\n",
        "        selected_clients = selected_clients_pool.clients\n",
        "        print(f\"Selected clients for this round: {len(selected_clients)}\")\n",
        "        # Deploy the server model to the selected clients\n",
        "        pool.servers.map(copy_server_model_to_clients, selected_clients)\n",
        "        # Each selected client trains her model\n",
        "        selected_clients.map(train)\n",
        "        # The aggregador collects weights from the selected clients and aggregates them\n",
        "        pool.aggregators.map(get_clients_weights, selected_clients)\n",
        "        pool.aggregators.map(aggregate_with_fedavg)\n",
        "        # The aggregator send its aggregated weights to the server\n",
        "        pool.aggregators.map(set_agreggated_weights_to_server, pool.servers)\n",
        "        metrics = pool.servers.map(evaluate_global_model)\n",
        "        loss, acc = metrics[0]\n",
        "        losses.append(loss)\n",
        "        accuracies.append(acc)\n",
        "        print(f\"Server: Test acc: {acc:.4f}, test loss: {loss:.4f}\")\n",
        "\n",
        "    return losses, accuracies"
      ],
      "metadata": {
        "id": "OK5TLa219FLP"
      },
      "execution_count": null,
      "outputs": []
    },
    {
      "cell_type": "code",
      "source": [
        "losses, accuracies = train_n_rounds(15)\n",
        "plot_loss_accuracy(losses, accuracies)"
      ],
      "metadata": {
        "colab": {
          "base_uri": "https://localhost:8080/",
          "height": 1000
        },
        "id": "AzJNwpca9rbm",
        "outputId": "80c83102-02c4-4141-8a5c-709b274838f4"
      },
      "execution_count": null,
      "outputs": [
        {
          "output_type": "stream",
          "name": "stdout",
          "text": [
            "\n",
            "Running round: 1 of 15\n",
            "Selected clients for this round: 20\n",
            "Server: Test acc: 0.6808, test loss: 1.4931\n",
            "\n",
            "Running round: 2 of 15\n",
            "Selected clients for this round: 20\n",
            "Server: Test acc: 0.7907, test loss: 0.8066\n",
            "\n",
            "Running round: 3 of 15\n",
            "Selected clients for this round: 20\n",
            "Server: Test acc: 0.8272, test loss: 0.6096\n",
            "\n",
            "Running round: 4 of 15\n",
            "Selected clients for this round: 20\n",
            "Server: Test acc: 0.8415, test loss: 0.5131\n",
            "\n",
            "Running round: 5 of 15\n",
            "Selected clients for this round: 20\n",
            "Server: Test acc: 0.8557, test loss: 0.4615\n",
            "\n",
            "Running round: 6 of 15\n",
            "Selected clients for this round: 20\n",
            "Server: Test acc: 0.8649, test loss: 0.4252\n",
            "\n",
            "Running round: 7 of 15\n",
            "Selected clients for this round: 20\n",
            "Server: Test acc: 0.8731, test loss: 0.3969\n",
            "\n",
            "Running round: 8 of 15\n",
            "Selected clients for this round: 20\n",
            "Server: Test acc: 0.8673, test loss: 0.4158\n",
            "\n",
            "Running round: 9 of 15\n",
            "Selected clients for this round: 20\n",
            "Server: Test acc: 0.8752, test loss: 0.3904\n",
            "\n",
            "Running round: 10 of 15\n",
            "Selected clients for this round: 20\n",
            "Server: Test acc: 0.8829, test loss: 0.3730\n",
            "\n",
            "Running round: 11 of 15\n",
            "Selected clients for this round: 20\n",
            "Server: Test acc: 0.8819, test loss: 0.3787\n",
            "\n",
            "Running round: 12 of 15\n",
            "Selected clients for this round: 20\n",
            "Server: Test acc: 0.8806, test loss: 0.3852\n",
            "\n",
            "Running round: 13 of 15\n",
            "Selected clients for this round: 20\n",
            "Server: Test acc: 0.8883, test loss: 0.3665\n",
            "\n",
            "Running round: 14 of 15\n",
            "Selected clients for this round: 20\n",
            "Server: Test acc: 0.8906, test loss: 0.3609\n",
            "\n",
            "Running round: 15 of 15\n",
            "Selected clients for this round: 20\n",
            "Server: Test acc: 0.8938, test loss: 0.3555\n"
          ]
        },
        {
          "output_type": "display_data",
          "data": {
            "text/plain": [
              "<Figure size 1200x500 with 2 Axes>"
            ],
            "image/png": "[encoded data removed]"
          },
          "metadata": {}
        }
      ]
    },
    {
      "cell_type": "markdown",
      "source": [
        "# Federar MNIST manualmente"
      ],
      "metadata": {
        "id": "ORA_sx5p9_cA"
      }
    },
    {
      "cell_type": "markdown",
      "source": [
        "Federamos manualmente, usando las primitivas de FLEX, el dataset de MNIST traído desde la librería PyTorch.\n",
        "\n",
        "Para la distribución de los datos en un escenario de FL, establecemos un número de $K=1000$ nodos sin contar el servidor central."
      ],
      "metadata": {
        "id": "O3bTDP1lYLv0"
      }
    },
    {
      "cell_type": "code",
      "source": [
        "import math\n",
        "\n",
        "from torchvision import datasets, transforms\n",
        "from torch.utils.data import random_split\n",
        "\n",
        "from flex.data import Dataset, FedDatasetConfig, FedDataDistribution\n",
        "\n",
        "mnist_transforms = transforms.Compose(\n",
        "    [transforms.ToTensor(), transforms.Normalize((0.5,), (0.5,))]\n",
        ")\n",
        "\n",
        "train_data = datasets.MNIST(\n",
        "    root='.',\n",
        "    train=True,\n",
        "    download=True,\n",
        "    transform=None  # we apply them later in training process\n",
        ")\n",
        "\n",
        "test_data = datasets.MNIST(\n",
        "    root='.',\n",
        "    train=False,\n",
        "    download=True,\n",
        "    transform=None  # we apply them later in training process\n",
        ")\n",
        "\n",
        "classes = list(train_data.class_to_idx.values())\n",
        "\n",
        "config = FedDatasetConfig(seed=33)\n",
        "config.replacement = False\n",
        "config.n_nodes = 1000\n",
        "\n",
        "flex_dataset = FedDataDistribution.from_config(\n",
        "    centralized_data=Dataset.from_torchvision_dataset(train_data), config=config\n",
        ")\n",
        "\n",
        "# assign test data to server_id\n",
        "server_id = \"server\"\n",
        "flex_dataset[server_id] = Dataset.from_torchvision_dataset(test_data)"
      ],
      "metadata": {
        "colab": {
          "base_uri": "https://localhost:8080/"
        },
        "id": "t6q6w8DyUMJz",
        "outputId": "da520186-5014-4d94-c54b-2bcee2d6df02"
      },
      "execution_count": null,
      "outputs": [
        {
          "output_type": "stream",
          "name": "stdout",
          "text": [
            "Downloading http://yann.lecun.com/exdb/mnist/train-images-idx3-ubyte.gz\n",
            "Failed to download (trying next):\n",
            "HTTP Error 403: Forbidden\n",
            "\n",
            "Downloading https://ossci-datasets.s3.amazonaws.com/mnist/train-images-idx3-ubyte.gz\n",
            "Downloading https://ossci-datasets.s3.amazonaws.com/mnist/train-images-idx3-ubyte.gz to ./MNIST/raw/train-images-idx3-ubyte.gz\n"
          ]
        },
        {
          "output_type": "stream",
          "name": "stderr",
          "text": [
            "100%|██████████| 9912422/9912422 [00:00<00:00, 157621076.11it/s]\n"
          ]
        },
        {
          "output_type": "stream",
          "name": "stdout",
          "text": [
            "Extracting ./MNIST/raw/train-images-idx3-ubyte.gz to ./MNIST/raw\n",
            "\n",
            "Downloading http://yann.lecun.com/exdb/mnist/train-labels-idx1-ubyte.gz\n",
            "Failed to download (trying next):\n",
            "HTTP Error 403: Forbidden\n",
            "\n",
            "Downloading https://ossci-datasets.s3.amazonaws.com/mnist/train-labels-idx1-ubyte.gz\n",
            "Downloading https://ossci-datasets.s3.amazonaws.com/mnist/train-labels-idx1-ubyte.gz to ./MNIST/raw/train-labels-idx1-ubyte.gz\n"
          ]
        },
        {
          "output_type": "stream",
          "name": "stderr",
          "text": [
            "100%|██████████| 28881/28881 [00:00<00:00, 22591513.21it/s]"
          ]
        },
        {
          "output_type": "stream",
          "name": "stdout",
          "text": [
            "Extracting ./MNIST/raw/train-labels-idx1-ubyte.gz to ./MNIST/raw\n",
            "\n",
            "Downloading http://yann.lecun.com/exdb/mnist/t10k-images-idx3-ubyte.gz\n",
            "Failed to download (trying next):\n",
            "HTTP Error 403: Forbidden\n",
            "\n",
            "Downloading https://ossci-datasets.s3.amazonaws.com/mnist/t10k-images-idx3-ubyte.gz\n",
            "Downloading https://ossci-datasets.s3.amazonaws.com/mnist/t10k-images-idx3-ubyte.gz to ./MNIST/raw/t10k-images-idx3-ubyte.gz\n"
          ]
        },
        {
          "output_type": "stream",
          "name": "stderr",
          "text": [
            "\n",
            "100%|██████████| 1648877/1648877 [00:00<00:00, 75136797.58it/s]\n"
          ]
        },
        {
          "output_type": "stream",
          "name": "stdout",
          "text": [
            "Extracting ./MNIST/raw/t10k-images-idx3-ubyte.gz to ./MNIST/raw\n",
            "\n",
            "Downloading http://yann.lecun.com/exdb/mnist/t10k-labels-idx1-ubyte.gz\n",
            "Failed to download (trying next):\n",
            "HTTP Error 403: Forbidden\n",
            "\n",
            "Downloading https://ossci-datasets.s3.amazonaws.com/mnist/t10k-labels-idx1-ubyte.gz\n",
            "Downloading https://ossci-datasets.s3.amazonaws.com/mnist/t10k-labels-idx1-ubyte.gz to ./MNIST/raw/t10k-labels-idx1-ubyte.gz\n"
          ]
        },
        {
          "output_type": "stream",
          "name": "stderr",
          "text": [
            "100%|██████████| 4542/4542 [00:00<00:00, 3406746.92it/s]\n"
          ]
        },
        {
          "output_type": "stream",
          "name": "stdout",
          "text": [
            "Extracting ./MNIST/raw/t10k-labels-idx1-ubyte.gz to ./MNIST/raw\n",
            "\n"
          ]
        }
      ]
    },
    {
      "cell_type": "markdown",
      "source": [
        "Inicializamos el modelo central en el servidor. El modelo de aprendizaje será un MLP (_Multi-Layer Perceptron_) de dos capas ocultas y con una función de activación ReLU para la primera capa y LogSoftmax en la capa de salida (aplicada por la función de pérdida o _criterion_ Cross-Entropy Loss)."
      ],
      "metadata": {
        "id": "DrhjfE-RdQRF"
      }
    },
    {
      "cell_type": "code",
      "source": [
        "import torch.nn as nn\n",
        "import torch.nn.functional as F\n",
        "\n",
        "from flex.pool import init_server_model\n",
        "from flex.pool import FlexPool\n",
        "from flex.model import FlexModel\n",
        "\n",
        "# Simple Multi-Layer Perceptron\n",
        "class SimpleNet(nn.Module):\n",
        "    def __init__(self, num_classes=10):\n",
        "        super().__init__()\n",
        "        self.flatten = nn.Flatten()\n",
        "        self.fc1 = nn.Linear(28 * 28, 128)\n",
        "        self.fc2 = nn.Linear(128, num_classes)\n",
        "\n",
        "    def forward(self, x):\n",
        "        x = self.flatten(x)\n",
        "        x = self.fc1(x)\n",
        "        x = F.relu(x)\n",
        "        x = self.fc2(x)\n",
        "\n",
        "        # return logits\n",
        "        return x\n",
        "\n",
        "\n",
        "@init_server_model\n",
        "def build_server_model():\n",
        "    server_flex_model = FlexModel()\n",
        "\n",
        "    server_flex_model[\"model\"] = SimpleNet()\n",
        "    # Required to store this for later stages of the FL training process\n",
        "    server_flex_model[\"criterion\"] = torch.nn.CrossEntropyLoss()\n",
        "    server_flex_model[\"optimizer_func\"] = torch.optim.Adam\n",
        "    server_flex_model[\"optimizer_kwargs\"] = {}\n",
        "    return server_flex_model\n",
        "\n",
        "\n",
        "flex_pool = FlexPool.client_server_pool(\n",
        "    flex_dataset, server_id=server_id, init_func=build_server_model\n",
        ")\n",
        "\n",
        "clients = flex_pool.clients\n",
        "servers = flex_pool.servers\n",
        "aggregators = flex_pool.aggregators\n",
        "\n",
        "print(\n",
        "    f\"Number of nodes in the pool {len(flex_pool)}: {len(servers)} server plus {len(clients)} clients. The server is also an aggregator\"\n",
        ")"
      ],
      "metadata": {
        "colab": {
          "base_uri": "https://localhost:8080/"
        },
        "id": "WXSKTWcJb9-Q",
        "outputId": "809a2390-cc86-441f-8c00-23d38d668233"
      },
      "execution_count": null,
      "outputs": [
        {
          "output_type": "stream",
          "name": "stdout",
          "text": [
            "Number of nodes in the pool 1001: 1 server plus 1000 clients. The server is also an aggregator\n"
          ]
        }
      ]
    },
    {
      "cell_type": "markdown",
      "source": [
        "# INITIALIZE CLIENT RESOURCES"
      ],
      "metadata": {
        "id": "ey-BQ-S1DhO5"
      }
    },
    {
      "cell_type": "code",
      "source": [
        "from copy import deepcopy\n",
        "from scipy.stats import truncnorm\n",
        "\n",
        "# ratio of clients that permit their data to be uploaded\n",
        "r_upload = 0.01\n",
        "\n",
        "# realistic client average throughput in Mbit/s\n",
        "AVG_THROUGHPUT = 1.4\n",
        "\n",
        "def init_client_resources(client_flex_model: FlexModel, client_data: Dataset):\n",
        "    # parse arguments\n",
        "    data_upload_ratio = r_upload\n",
        "\n",
        "    ## Computation capability - data samples per second\n",
        "    avg_comp = np.random.uniform(10, 100)\n",
        "\n",
        "    ## Communication capability - Mbit per second\n",
        "    avg_thr = AVG_THROUGHPUT\n",
        "\n",
        "    # client permits data upload\n",
        "    data_upload = np.random.rand() < data_upload_ratio\n",
        "\n",
        "    client_flex_model[\"avg_thr\"] = avg_thr\n",
        "    client_flex_model[\"avg_comp\"] = avg_comp\n",
        "    client_flex_model[\"data_upload\"] = data_upload\n",
        "\n",
        "    # save Nk\n",
        "    client_flex_model[\"n_samples\"] = len(client_data)\n",
        "\n",
        "    # save amount of data for each class\n",
        "    labels = client_data.to_numpy()[1]\n",
        "    unique, counts = np.unique(labels, return_counts=True)\n",
        "    client_flex_model[\"n_samples_per_class\"] = dict(zip(unique, counts))\n",
        "\n",
        "    # if client permit data to be uploaded, make their dataset public\n",
        "    client_flex_model[\"public_data\"] = deepcopy(client_data)"
      ],
      "metadata": {
        "id": "3pk-955syZgo"
      },
      "execution_count": null,
      "outputs": []
    },
    {
      "cell_type": "markdown",
      "source": [
        "# RESOURCE REQUEST"
      ],
      "metadata": {
        "id": "G8BShukGDeIS"
      }
    },
    {
      "cell_type": "code",
      "source": [
        "import sys\n",
        "\n",
        "dummy_model = SimpleNet()\n",
        "state = dummy_model.state_dict()\n",
        "\n",
        "# Size of model in bytes\n",
        "GLOBAL_MODEL_SIZE = sum(sys.getsizeof(param.storage()) for param in state.values())"
      ],
      "metadata": {
        "id": "JjxzJOFhbR3N",
        "colab": {
          "base_uri": "https://localhost:8080/"
        },
        "outputId": "6f5f58e3-522a-40d0-a2c9-717cae3ad43f"
      },
      "execution_count": null,
      "outputs": [
        {
          "output_type": "stream",
          "name": "stderr",
          "text": [
            "<ipython-input-19-f33f62dbae0b>:7: UserWarning: TypedStorage is deprecated. It will be removed in the future and UntypedStorage will be the only storage class. This should only matter to you if you are using storages directly.  To access UntypedStorage directly, use tensor.untyped_storage() instead of tensor.storage()\n",
            "  GLOBAL_MODEL_SIZE = sum(sys.getsizeof(param.storage()) for param in state.values())\n"
          ]
        }
      ]
    },
    {
      "cell_type": "code",
      "source": [
        "from typing import List\n",
        "\n",
        "# loose for simulated capabilities\n",
        "r_var = 0.2\n",
        "\n",
        "def resource_request(agg_model: FlexModel, client_flex_models: List[FlexModel]):\n",
        "    \"\"\"\n",
        "    Requests resource capabilities and whether or not they permit their data to\n",
        "    be uploaded for M selected clients randomly.\n",
        "    \"\"\"\n",
        "    # indexed resources for each selected client saved in the aggregator\n",
        "    agg_model[\"comp_resources\"] = {}\n",
        "    agg_model[\"comm_resources\"] = {}\n",
        "    agg_model[\"t_update\"] = {}\n",
        "    agg_model[\"t_upload\"] = {}\n",
        "    agg_model[\"permit_data_upload\"] = {}\n",
        "    agg_model[\"client_data\"] = {}\n",
        "    agg_model[\"n_samples_per_class\"] = {}\n",
        "\n",
        "    for k in client_flex_models:\n",
        "        # get client average computational and communications capabilities\n",
        "        avg_comp_cap = client_flex_models[k][\"avg_comp\"]\n",
        "        avg_thr = client_flex_models[k][\"avg_thr\"]\n",
        "        permit_data_upload = client_flex_models[k][\"data_upload\"]\n",
        "\n",
        "        ## Computational capability - data samples processed per second to train\n",
        "        std_dev_comp = 0.1 * avg_comp_cap\n",
        "\n",
        "        # compute lower and upper bounds\n",
        "        a, b = (1 - r_var) * avg_comp_cap, (1 + r_var) * avg_comp_cap\n",
        "        a = (a - avg_comp_cap) / std_dev_comp\n",
        "        b = (b - avg_comp_cap) / std_dev_comp\n",
        "\n",
        "        comp_cap = truncnorm.rvs(a, b, loc=avg_comp_cap, scale=std_dev_comp, size=1)[0]\n",
        "\n",
        "        # compute estimated update time\n",
        "        n_samples = client_flex_models[k][\"n_samples\"]\n",
        "        t_update = (EPOCHS * n_samples) / comp_cap\n",
        "\n",
        "        ## Communication capability - Mbit per second\n",
        "        std_dev_thr = 0.1 * avg_thr\n",
        "\n",
        "        # compute lower and upper bounds\n",
        "        a, b = (1 - r_var) * avg_thr, (1 + r_var) * avg_thr\n",
        "        a = (a - avg_thr) / std_dev_thr\n",
        "        b = (b - avg_thr) / std_dev_thr\n",
        "\n",
        "        comm_cap = truncnorm.rvs(a, b, loc=avg_thr, scale=std_dev_thr, size=1)[0]\n",
        "\n",
        "        # compute estimated upload time in seconds\n",
        "        t_upload = (GLOBAL_MODEL_SIZE * 8) / (comm_cap * 1_000_000)\n",
        "\n",
        "        # save resource capabilities for client k in current round\n",
        "        agg_model[\"comp_resources\"][k] = comp_cap\n",
        "        agg_model[\"comm_resources\"][k] = comm_cap\n",
        "\n",
        "        # save estimated update and upload times\n",
        "        agg_model[\"t_update\"][k] = t_update\n",
        "        agg_model[\"t_upload\"][k] = t_upload\n",
        "\n",
        "        # also save estimated times in clients to simulate scheduled training\n",
        "        client_flex_models[k][\"t_update\"] = t_update\n",
        "        # client_flex_models[k][\"t_upload\"] = t_upload\n",
        "\n",
        "        ## Client Data\n",
        "        if permit_data_upload:\n",
        "            agg_model[\"client_data\"][k] = client_flex_models[k][\"public_data\"].to_numpy()\n",
        "\n",
        "        # set data upload permit\n",
        "        agg_model[\"permit_data_upload\"][k] = permit_data_upload\n",
        "\n",
        "        ## Amount of data for each class\n",
        "        agg_model[\"n_samples_per_class\"][k] = client_flex_models[k][\"n_samples_per_class\"]"
      ],
      "metadata": {
        "id": "9Yr27vPgrsiJ"
      },
      "execution_count": null,
      "outputs": []
    },
    {
      "cell_type": "markdown",
      "source": [
        "# CLIENT SELECTION"
      ],
      "metadata": {
        "id": "ZKsVbN8QDlyI"
      }
    },
    {
      "cell_type": "code",
      "source": [
        "def T_model_dist(throughputs: list):\n",
        "    return GLOBAL_MODEL_SIZE / min(throughputs)"
      ],
      "metadata": {
        "id": "wLr_waY8dtm-"
      },
      "execution_count": null,
      "outputs": []
    },
    {
      "cell_type": "code",
      "source": [
        "def T_inc(agg_model: FlexModel, S: set, k: int, elapsed_time: int):\n",
        "    t_upload = agg_model[\"t_upload\"][k]\n",
        "    t_update = agg_model[\"t_update\"][k]\n",
        "\n",
        "    # throughputs of clients in S\n",
        "    S_thr = [agg_model[\"comm_resources\"][client] for client in agg_model[\"comm_resources\"] if client in S]\n",
        "\n",
        "    # throughputs of clients in S + {k}\n",
        "    S_plus_k_thr = [agg_model[\"comm_resources\"][client] for client in agg_model[\"comm_resources\"] if client in S or client == k]\n",
        "\n",
        "    return T_model_dist(S_plus_k_thr) - T_model_dist(S_thr) + t_upload + max(0, t_update - elapsed_time)"
      ],
      "metadata": {
        "id": "pt_uHGutH0FF"
      },
      "execution_count": null,
      "outputs": []
    },
    {
      "cell_type": "code",
      "source": [
        "def CV(agg_model: FlexModel, S: set, classes: list):\n",
        "    # get total number of data samples per class\n",
        "    Nr = {}\n",
        "    for k in agg_model[\"n_samples_per_class\"]:\n",
        "        if k not in S:\n",
        "            continue\n",
        "\n",
        "        k_counts = agg_model[\"n_samples_per_class\"][k]\n",
        "        Nr = {key: Nr.get(key, 0) + k_counts.get(key, 0) for key in set(Nr) | set(k_counts)}\n",
        "\n",
        "    # fill up for all classes\n",
        "    Nr = {key: Nr.get(key, 0) for key in classes}\n",
        "\n",
        "    L = len(classes)\n",
        "    n_mean = sum(Nr.values()) / L\n",
        "\n",
        "    # compute the variance of the amount of data per class\n",
        "    variance = sum((n_l - n_mean)**2 for n_l in Nr.values()) / L\n",
        "\n",
        "    # return the coefficient of variance\n",
        "    return variance / n_mean"
      ],
      "metadata": {
        "id": "CjbRsXxgjhr3"
      },
      "execution_count": null,
      "outputs": []
    },
    {
      "cell_type": "code",
      "source": [
        "T_round = 5 * 60    # 5 minutes\n",
        "\n",
        "def client_selection(agg_model: FlexModel, agg_data: Dataset):\n",
        "    # get client indices\n",
        "    Kp = set(agg_model[\"comp_resources\"].keys())\n",
        "\n",
        "    # initialize set of selected clients to train locally\n",
        "    S = set()\n",
        "\n",
        "    # initialize time budget\n",
        "    t = 0\n",
        "\n",
        "    # function to minimize\n",
        "    def f(x):\n",
        "        return T_inc(agg_model, S, x, t) * CV(agg_model, S, classes)\n",
        "\n",
        "    while len(Kp) > 0:\n",
        "        x = min(Kp, key=lambda k: f(k))\n",
        "\n",
        "        # remove selected from Kp\n",
        "        Kp.remove(x)\n",
        "\n",
        "        # check time deadline\n",
        "        tp = t + T_inc(agg_model, S, x, t)\n",
        "        if tp < T_round:\n",
        "            # add client if time deadline is met\n",
        "            t = tp\n",
        "            S.add(x)\n",
        "\n",
        "    return S"
      ],
      "metadata": {
        "id": "chBafb6YDncA"
      },
      "execution_count": null,
      "outputs": []
    },
    {
      "cell_type": "markdown",
      "source": [
        "# DATA SELECTION"
      ],
      "metadata": {
        "id": "QrBFzYlg4mKO"
      }
    },
    {
      "cell_type": "code",
      "source": [
        "from flex.data import Dataset\n",
        "\n",
        "def data_selection(agg_model: FlexModel, agg_data: Dataset, **kwargs):\n",
        "    S = kwargs[\"S\"]\n",
        "    U = [u for u in agg_model[\"permit_data_upload\"] if agg_model[\"permit_data_upload\"][u] and u not in S]\n",
        "    t_upload_deadline = min(agg_model[\"t_update\"].values())\n",
        "\n",
        "    def client_has_class(k: int, label: int):\n",
        "        classes = agg_model[\"client_data\"][k][1]\n",
        "\n",
        "        return classes[classes == label].size > 0\n",
        "\n",
        "    def empty_client_data():\n",
        "        return all(\n",
        "            [len(agg_model[\"client_data\"][u][1]) == 0 for u in agg_model[\"client_data\"]]\n",
        "        )\n",
        "\n",
        "    D_ul_X = []\n",
        "    D_ul_y = []\n",
        "    flag = True\n",
        "    t_data_upload = 0\n",
        "\n",
        "    while flag:\n",
        "        for l in classes:\n",
        "            # get client with maximum throughput with class l samples\n",
        "            x = max([u for u in U if client_has_class(u, l)], key=lambda k: agg_model[\"comm_resources\"][k])\n",
        "            d_x, d_y = agg_model[\"client_data\"][x]\n",
        "\n",
        "            # filter data with label and take the first sample\n",
        "            mask = np.where(d_y == l)\n",
        "            d = d_x[mask][0]\n",
        "\n",
        "            # compute data upload time\n",
        "            u_thr = agg_model[\"comm_resources\"][x]\n",
        "            D_sample = d.nbytes + np.array(l).nbytes   # size of sample\n",
        "\n",
        "            t_u = (D_sample * 8) / (u_thr * 1_000_000)\n",
        "\n",
        "            if (t_data_upload + t_u) <= t_upload_deadline:\n",
        "                # add d to D_ul\n",
        "                D_ul_X.append(d)\n",
        "                D_ul_y.append(l)\n",
        "\n",
        "                # remove d from D_ul\n",
        "                agg_model[\"client_data\"][x] = np.delete(agg_model[\"client_data\"][x], mask[0], axis=0)\n",
        "\n",
        "            # check deadline and clients data\n",
        "            if (t_data_upload + t_u) > t_upload_deadline or empty_client_data():\n",
        "                flag = False\n",
        "\n",
        "                # there's no point in continuing with the rest of the classes\n",
        "                break\n",
        "\n",
        "    return np.array(D_ul_X), np.array(D_ul_y)"
      ],
      "metadata": {
        "id": "kLj7YqUTqz8q"
      },
      "execution_count": null,
      "outputs": []
    },
    {
      "cell_type": "markdown",
      "source": [
        "# MODEL UPDATE"
      ],
      "metadata": {
        "id": "p8SipPqqEl8e"
      }
    },
    {
      "cell_type": "code",
      "source": [
        "import time\n",
        "\n",
        "def scheduled_train(client_flex_model: FlexModel, client_data: Dataset):\n",
        "    # get scheduled update time\n",
        "    t_update = client_flex_model[\"t_update\"]\n",
        "\n",
        "    # start timer\n",
        "    start = time.time()\n",
        "\n",
        "    train_dataset = client_data.to_torchvision_dataset(transform=mnist_transforms)\n",
        "    client_dataloader = DataLoader(train_dataset, batch_size=20)\n",
        "    model = client_flex_model[\"model\"]\n",
        "    optimizer = client_flex_model[\"optimizer_func\"](\n",
        "        model.parameters(), **client_flex_model[\"optimizer_kwargs\"]\n",
        "    )\n",
        "    model = model.train()\n",
        "    model = model.to(device)\n",
        "    criterion = client_flex_model[\"criterion\"]\n",
        "    for _ in range(EPOCHS):\n",
        "        for imgs, labels in client_dataloader:\n",
        "            imgs, labels = imgs.to(device), labels.to(device)\n",
        "            optimizer.zero_grad()\n",
        "            pred = model(imgs)\n",
        "            loss = criterion(pred, labels)\n",
        "            loss.backward()\n",
        "            optimizer.step()\n",
        "\n",
        "    # stop timer and get effective training time\n",
        "    end = time.time()\n",
        "    training_time = end - start\n",
        "\n",
        "    # simulate scheduled updating time by sleeping\n",
        "    time.sleep(max(0, t_update - training_time))"
      ],
      "metadata": {
        "id": "RNKALJ1GFHdo"
      },
      "execution_count": null,
      "outputs": []
    },
    {
      "cell_type": "markdown",
      "source": [
        "# CENTRALIZED TRAINING"
      ],
      "metadata": {
        "id": "DY7sNCX-HOGZ"
      }
    },
    {
      "cell_type": "code",
      "source": [
        "def centralized_train(server_model: FlexModel, _test_data: Dataset, **kwargs):\n",
        "    # get client data\n",
        "    X, y = kwargs[\"client_data\"]\n",
        "\n",
        "    client_data = Dataset.from_array(X, y)\n",
        "\n",
        "    train_dataset = client_data.to_torchvision_dataset(transform=mnist_transforms)\n",
        "    client_dataloader = DataLoader(train_dataset, batch_size=20)\n",
        "    model = server_model[\"model\"]\n",
        "    optimizer = server_model[\"optimizer_func\"](\n",
        "        model.parameters(), **server_model[\"optimizer_kwargs\"]\n",
        "    )\n",
        "    model = model.train()\n",
        "    model = model.to(device)\n",
        "    criterion = server_model[\"criterion\"]\n",
        "    for _ in range(EPOCHS):\n",
        "        for imgs, labels in client_dataloader:\n",
        "            imgs, labels = imgs.to(device), labels.to(device)\n",
        "            optimizer.zero_grad()\n",
        "            pred = model(imgs)\n",
        "            loss = criterion(pred, labels)\n",
        "            loss.backward()\n",
        "            optimizer.step()"
      ],
      "metadata": {
        "id": "3OC4fi-JHQF-"
      },
      "execution_count": null,
      "outputs": []
    },
    {
      "cell_type": "markdown",
      "source": [
        "# COLLECT SERVER AND CLIENT WEIGHTS"
      ],
      "metadata": {
        "id": "tgm2r1WyM6Pd"
      }
    },
    {
      "cell_type": "code",
      "source": [
        "def collect_server_and_clients_weights(aggregator_flex_model: FlexModel, clients_flex_models: List[FlexModel]):\n",
        "\n",
        "    def get_model_weights(client_flex_model: FlexModel):\n",
        "        \"\"\"\n",
        "        Returns the weights of a Flex model per layer.\n",
        "        \"\"\"\n",
        "        weight_dict = client_flex_model[\"model\"].state_dict()\n",
        "        return [weight_dict[name] for name in weight_dict]\n",
        "\n",
        "    if \"weights\" not in aggregator_flex_model:\n",
        "        aggregator_flex_model[\"weights\"] = []\n",
        "\n",
        "    # collect clients weights\n",
        "    for k in clients_flex_models:\n",
        "        client_weights = get_model_weights(clients_flex_models[k])\n",
        "        aggregator_flex_model[\"weights\"].append(client_weights)\n",
        "\n",
        "    # collect server weights\n",
        "    server_weights = get_model_weights(aggregator_flex_model)\n",
        "    aggregator_flex_model[\"weights\"].append(server_weights)"
      ],
      "metadata": {
        "id": "cp5DB6uWM51W"
      },
      "execution_count": null,
      "outputs": []
    },
    {
      "cell_type": "code",
      "source": [
        "import time\n",
        "\n",
        "def train_n_rounds_hybrid(T_final, participants_per_round=100, seed=42):\n",
        "    np.random.seed(seed)\n",
        "\n",
        "    pool = FlexPool.client_server_pool(\n",
        "        fed_dataset=flex_dataset, server_id=server_id, init_func=build_server_model\n",
        "    )\n",
        "\n",
        "    # initialize clients simulated resources\n",
        "    pool.clients.map(init_client_resources)\n",
        "\n",
        "    losses = []\n",
        "    accuracies = []\n",
        "\n",
        "    start = time.time()\n",
        "    end = start\n",
        "    i = 0\n",
        "    while (end - start) < T_final:\n",
        "        print(f\"\\nRunning round: {i+1} - Time elapsed: {end - start} seconds\")\n",
        "\n",
        "        # Resource Request: ask M random clients to participate in the current round\n",
        "        # and clients notify the server about their resources and whether or not the permit\n",
        "        # their data to be uploaded (set U of clients)\n",
        "        random_clients_pool = pool.clients.select(clients_per_round)\n",
        "        random_clients = random_clients_pool.clients\n",
        "\n",
        "        pool.aggregators.map(resource_request, pool.clients)\n",
        "\n",
        "        # Client selection from Kp\n",
        "        S = pool.aggregators.map(client_selection)\n",
        "\n",
        "        # Data selection from U clients\n",
        "        client_data = pool.aggregators.map(data_selection, S=S)\n",
        "\n",
        "        # get selected clients pool\n",
        "        selected_clients_pool = pool.clients.select(lambda actor_id, actor_roles: actor_id in S)\n",
        "        selected_clients = selected_clients_pool.clients\n",
        "        print(f\"Selected clients for this round: {len(selected_clients)}\")\n",
        "\n",
        "        # Deploy the server model to the selected clients\n",
        "        pool.servers.map(copy_server_model_to_clients, selected_clients)\n",
        "\n",
        "        # Each selected client trains their model obeying the time restrictions\n",
        "        selected_clients.map(scheduled_train)\n",
        "\n",
        "        # Server updates model from clients uploaded data\n",
        "        pool.servers.map(centralized_train, client_data=client_data)\n",
        "\n",
        "        # The aggregator collects weights from the selected clients (obeying their time restrictions)\n",
        "        # and aggregates them\n",
        "        pool.aggregators.map(collect_server_and_clients_weights, selected_clients)\n",
        "        pool.aggregators.map(aggregate_with_fedavg)\n",
        "\n",
        "        # The aggregator send its aggregated weights to the server\n",
        "        pool.aggregators.map(set_agreggated_weights_to_server, pool.servers)\n",
        "        metrics = pool.servers.map(evaluate_global_model)\n",
        "        loss, acc = metrics[0]\n",
        "        losses.append(loss)\n",
        "        accuracies.append(acc)\n",
        "        print(f\"Server: Test acc: {acc:.4f}, test loss: {loss:.4f}\")\n",
        "\n",
        "        end = time.time()\n",
        "        i += 1\n",
        "\n",
        "    return losses, accuracies"
      ],
      "metadata": {
        "id": "NVPmE4zGxd-X"
      },
      "execution_count": null,
      "outputs": []
    },
    {
      "cell_type": "code",
      "source": [
        "import math\n",
        "\n",
        "K = config.n_nodes\n",
        "C = 0.1\n",
        "\n",
        "T_final = 60    # in minutes\n",
        "train_n_rounds_hybrid(T_final * 60, participants_per_round=math.ceil(K * C))"
      ],
      "metadata": {
        "id": "6OC_Qdp0xicB"
      },
      "execution_count": null,
      "outputs": []
    }
  ]
}